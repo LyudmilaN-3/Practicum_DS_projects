{
 "cells": [
  {
   "cell_type": "markdown",
   "metadata": {},
   "source": [
    "# Оператор мобильной связи: рекомендация тарифов"
   ]
  },
  {
   "cell_type": "markdown",
   "metadata": {},
   "source": [
    "В вашем распоряжении данные о поведении клиентов, которые уже перешли на эти тарифы (из проекта курса «Статистический анализ данных»). Нужно построить модель для задачи классификации, которая выберет подходящий тариф. Предобработка данных не понадобится — вы её уже сделали.\n",
    "\n",
    "Постройте модель с максимально большим значением *accuracy*. Чтобы сдать проект успешно, нужно довести долю правильных ответов по крайней мере до 0.75. Проверьте *accuracy* на тестовой выборке самостоятельно."
   ]
  },
  {
   "cell_type": "markdown",
   "metadata": {},
   "source": [
    "## Загрузка и изучение файла"
   ]
  },
  {
   "cell_type": "code",
   "execution_count": 1,
   "metadata": {},
   "outputs": [],
   "source": [
    "!pip install jupyter_black -q"
   ]
  },
  {
   "cell_type": "markdown",
   "metadata": {},
   "source": [
    "Импортируем необходимые библиотеки"
   ]
  },
  {
   "cell_type": "code",
   "execution_count": 2,
   "metadata": {},
   "outputs": [],
   "source": [
    "# импорт pandas и необходимых библиотек\n",
    "import jupyter_black\n",
    "import pandas as pd\n",
    "import seaborn as sns\n",
    "import warnings\n",
    "\n",
    "from joblib import dump, load\n",
    "from sklearn.ensemble import RandomForestClassifier\n",
    "from sklearn.linear_model import LogisticRegression\n",
    "from sklearn.metrics import accuracy_score\n",
    "from sklearn.model_selection import train_test_split\n",
    "from sklearn.tree import DecisionTreeClassifier\n",
    "\n",
    "warnings.filterwarnings(\"ignore\")\n",
    "\n",
    "jupyter_black.load()"
   ]
  },
  {
   "cell_type": "markdown",
   "metadata": {},
   "source": [
    "Откроем файл, прочтем и запишем в переменную."
   ]
  },
  {
   "cell_type": "code",
   "execution_count": 3,
   "metadata": {},
   "outputs": [],
   "source": [
    "# чтение csv-файла в датафрейм с сохранением в переменную df\n",
    "df = pd.read_csv(\"dataset.csv\")"
   ]
  },
  {
   "cell_type": "markdown",
   "metadata": {},
   "source": [
    "Изучим общую информацию о полученном датафрейме"
   ]
  },
  {
   "cell_type": "code",
   "execution_count": 4,
   "metadata": {},
   "outputs": [
    {
     "name": "stdout",
     "output_type": "stream",
     "text": [
      "<class 'pandas.core.frame.DataFrame'>\n",
      "RangeIndex: 3214 entries, 0 to 3213\n",
      "Data columns (total 5 columns):\n",
      " #   Column    Non-Null Count  Dtype  \n",
      "---  ------    --------------  -----  \n",
      " 0   calls     3214 non-null   float64\n",
      " 1   minutes   3214 non-null   float64\n",
      " 2   messages  3214 non-null   float64\n",
      " 3   mb_used   3214 non-null   float64\n",
      " 4   is_ultra  3214 non-null   int64  \n",
      "dtypes: float64(4), int64(1)\n",
      "memory usage: 125.7 KB\n"
     ]
    }
   ],
   "source": [
    "# вывод основной информации о датафрейме\n",
    "df.info()"
   ]
  },
  {
   "cell_type": "code",
   "execution_count": 5,
   "metadata": {},
   "outputs": [
    {
     "data": {
      "text/html": [
       "<div>\n",
       "<style scoped>\n",
       "    .dataframe tbody tr th:only-of-type {\n",
       "        vertical-align: middle;\n",
       "    }\n",
       "\n",
       "    .dataframe tbody tr th {\n",
       "        vertical-align: top;\n",
       "    }\n",
       "\n",
       "    .dataframe thead th {\n",
       "        text-align: right;\n",
       "    }\n",
       "</style>\n",
       "<table border=\"1\" class=\"dataframe\">\n",
       "  <thead>\n",
       "    <tr style=\"text-align: right;\">\n",
       "      <th></th>\n",
       "      <th>calls</th>\n",
       "      <th>minutes</th>\n",
       "      <th>messages</th>\n",
       "      <th>mb_used</th>\n",
       "      <th>is_ultra</th>\n",
       "    </tr>\n",
       "  </thead>\n",
       "  <tbody>\n",
       "    <tr>\n",
       "      <th>0</th>\n",
       "      <td>40.0</td>\n",
       "      <td>311.90</td>\n",
       "      <td>83.0</td>\n",
       "      <td>19915.42</td>\n",
       "      <td>0</td>\n",
       "    </tr>\n",
       "    <tr>\n",
       "      <th>1</th>\n",
       "      <td>85.0</td>\n",
       "      <td>516.75</td>\n",
       "      <td>56.0</td>\n",
       "      <td>22696.96</td>\n",
       "      <td>0</td>\n",
       "    </tr>\n",
       "    <tr>\n",
       "      <th>2</th>\n",
       "      <td>77.0</td>\n",
       "      <td>467.66</td>\n",
       "      <td>86.0</td>\n",
       "      <td>21060.45</td>\n",
       "      <td>0</td>\n",
       "    </tr>\n",
       "    <tr>\n",
       "      <th>3</th>\n",
       "      <td>106.0</td>\n",
       "      <td>745.53</td>\n",
       "      <td>81.0</td>\n",
       "      <td>8437.39</td>\n",
       "      <td>1</td>\n",
       "    </tr>\n",
       "    <tr>\n",
       "      <th>4</th>\n",
       "      <td>66.0</td>\n",
       "      <td>418.74</td>\n",
       "      <td>1.0</td>\n",
       "      <td>14502.75</td>\n",
       "      <td>0</td>\n",
       "    </tr>\n",
       "    <tr>\n",
       "      <th>5</th>\n",
       "      <td>58.0</td>\n",
       "      <td>344.56</td>\n",
       "      <td>21.0</td>\n",
       "      <td>15823.37</td>\n",
       "      <td>0</td>\n",
       "    </tr>\n",
       "    <tr>\n",
       "      <th>6</th>\n",
       "      <td>57.0</td>\n",
       "      <td>431.64</td>\n",
       "      <td>20.0</td>\n",
       "      <td>3738.90</td>\n",
       "      <td>1</td>\n",
       "    </tr>\n",
       "    <tr>\n",
       "      <th>7</th>\n",
       "      <td>15.0</td>\n",
       "      <td>132.40</td>\n",
       "      <td>6.0</td>\n",
       "      <td>21911.60</td>\n",
       "      <td>0</td>\n",
       "    </tr>\n",
       "    <tr>\n",
       "      <th>8</th>\n",
       "      <td>7.0</td>\n",
       "      <td>43.39</td>\n",
       "      <td>3.0</td>\n",
       "      <td>2538.67</td>\n",
       "      <td>1</td>\n",
       "    </tr>\n",
       "    <tr>\n",
       "      <th>9</th>\n",
       "      <td>90.0</td>\n",
       "      <td>665.41</td>\n",
       "      <td>38.0</td>\n",
       "      <td>17358.61</td>\n",
       "      <td>0</td>\n",
       "    </tr>\n",
       "  </tbody>\n",
       "</table>\n",
       "</div>"
      ],
      "text/plain": [
       "   calls  minutes  messages   mb_used  is_ultra\n",
       "0   40.0   311.90      83.0  19915.42         0\n",
       "1   85.0   516.75      56.0  22696.96         0\n",
       "2   77.0   467.66      86.0  21060.45         0\n",
       "3  106.0   745.53      81.0   8437.39         1\n",
       "4   66.0   418.74       1.0  14502.75         0\n",
       "5   58.0   344.56      21.0  15823.37         0\n",
       "6   57.0   431.64      20.0   3738.90         1\n",
       "7   15.0   132.40       6.0  21911.60         0\n",
       "8    7.0    43.39       3.0   2538.67         1\n",
       "9   90.0   665.41      38.0  17358.61         0"
      ]
     },
     "execution_count": 5,
     "metadata": {},
     "output_type": "execute_result"
    }
   ],
   "source": [
    "# вывод первых 10-ти строчек датафрейма\n",
    "df.head(10)"
   ]
  },
  {
   "cell_type": "code",
   "execution_count": 6,
   "metadata": {},
   "outputs": [
    {
     "data": {
      "text/plain": [
       "calls       float64\n",
       "minutes     float64\n",
       "messages    float64\n",
       "mb_used     float64\n",
       "is_ultra      int64\n",
       "dtype: object"
      ]
     },
     "execution_count": 6,
     "metadata": {},
     "output_type": "execute_result"
    }
   ],
   "source": [
    "# вывод информации о типах данных в датафрейме\n",
    "df.dtypes"
   ]
  },
  {
   "cell_type": "markdown",
   "metadata": {},
   "source": [
    "Исправим тип данных в столбцах `'calls'` и `'messages'` на целочисленный"
   ]
  },
  {
   "cell_type": "code",
   "execution_count": 7,
   "metadata": {},
   "outputs": [],
   "source": [
    "# преобразование типа данных в целочисленный\n",
    "df[[\"calls\", \"messages\"]] = df[[\"calls\", \"messages\"]].astype(int)"
   ]
  },
  {
   "cell_type": "markdown",
   "metadata": {},
   "source": [
    "Проверим преобразование типа данных"
   ]
  },
  {
   "cell_type": "code",
   "execution_count": 8,
   "metadata": {},
   "outputs": [
    {
     "data": {
      "text/plain": [
       "calls         int64\n",
       "minutes     float64\n",
       "messages      int64\n",
       "mb_used     float64\n",
       "is_ultra      int64\n",
       "dtype: object"
      ]
     },
     "execution_count": 8,
     "metadata": {},
     "output_type": "execute_result"
    }
   ],
   "source": [
    "# вывод информации о типах данных в датафрейме\n",
    "df.dtypes"
   ]
  },
  {
   "cell_type": "markdown",
   "metadata": {},
   "source": [
    "Попробуем изучить закономерности, корреляции и распределения между целевым признаком и остальными,\\\n",
    "используя парный график."
   ]
  },
  {
   "cell_type": "code",
   "execution_count": 9,
   "metadata": {},
   "outputs": [
    {
     "data": {
      "text/plain": [
       "Text(0.5, 1.02, 'Парный график по видам тарифа')"
      ]
     },
     "execution_count": 9,
     "metadata": {},
     "output_type": "execute_result"
    },
    {
     "data": {
      "image/png": "[encoded data removed]",
      "text/plain": [
       "<Figure size 764.5x720 with 14 Axes>"
      ]
     },
     "metadata": {
      "needs_background": "light"
     },
     "output_type": "display_data"
    }
   ],
   "source": [
    "# вывод парного графика\n",
    "pp = sns.pairplot(df, hue=\"is_ultra\", corner=True)\n",
    "pp.fig.suptitle(\"Парный график по видам тарифа\", y=1.02, weight=\"bold\")"
   ]
  },
  {
   "cell_type": "markdown",
   "metadata": {},
   "source": [
    "На графике видно, целевой признак \"is_ultra\" имеет больший разброс значений \"1\", чем значений \"0\" для всех признаков."
   ]
  },
  {
   "cell_type": "markdown",
   "metadata": {},
   "source": [
    "***"
   ]
  },
  {
   "cell_type": "markdown",
   "metadata": {},
   "source": [
    "**Вывод:**\n",
    "\n",
    "1. В датафрейме 5 столбцов, 3214 строк\n",
    "2. Тип данных в столбцах `'calls'` и `'messages'` был преобразован на целочисленный"
   ]
  },
  {
   "cell_type": "markdown",
   "metadata": {},
   "source": [
    "## Разбиение данных на выборки"
   ]
  },
  {
   "cell_type": "markdown",
   "metadata": {},
   "source": [
    "В бизнес-задаче с подбором подходящего тарифа целевым признаком является значение столбца `'is_ultra'`\\\n",
    "Остальные столбцы датафрейма: `'calls'`, `'minutes'`, `'messages'`, `'mb_used'` -  являются признаками."
   ]
  },
  {
   "cell_type": "markdown",
   "metadata": {},
   "source": [
    "Разделим данные на выборки:\n",
    "- обучающую - 60% данных\n",
    "- валидационную - 20% данных\n",
    "- тестовую - 20% данных."
   ]
  },
  {
   "cell_type": "code",
   "execution_count": 10,
   "metadata": {},
   "outputs": [],
   "source": [
    "# извлечение признаков\n",
    "features = df.drop([\"is_ultra\"], axis=1)\n",
    "# извлечение целевого признака\n",
    "target = df[\"is_ultra\"]\n",
    "\n",
    "# отделение 40 % данных для вадидационной выборки\n",
    "features_train, features_valid, target_train, target_valid = train_test_split(\n",
    "    features, target, test_size=0.4, random_state=12345\n",
    ")\n",
    "# разделение вадидационной выборки на валидационную и тестовую часть\n",
    "features_valid, features_test, target_valid, target_test = train_test_split(\n",
    "    features_valid, target_valid, test_size=0.5, random_state=12345\n",
    ")"
   ]
  },
  {
   "cell_type": "markdown",
   "metadata": {},
   "source": [
    "Проверим разбиение на выборки"
   ]
  },
  {
   "cell_type": "code",
   "execution_count": 11,
   "metadata": {},
   "outputs": [
    {
     "name": "stdout",
     "output_type": "stream",
     "text": [
      "Размеры:\n",
      " - обучающей выборки features_train: (1928, 4)\n",
      " - обучающей выборки target_train: 1928\n",
      " - валидационной выборки features_valid: (643, 4)\n",
      " - валидационной выборки target_valid: 643\n",
      " - тестовой выборки features_test: (643, 4)\n",
      " - тестовой выборки target_test: 643\n"
     ]
    }
   ],
   "source": [
    "print(\"Размеры:\")\n",
    "print(f\" - обучающей выборки features_train: {features_train.shape}\")\n",
    "print(f\" - обучающей выборки target_train: {target_train.shape[0]}\")\n",
    "print(f\" - валидационной выборки features_valid: {features_valid.shape}\")\n",
    "print(f\" - валидационной выборки target_valid: {target_valid.shape[0]}\")\n",
    "print(f\" - тестовой выборки features_test: {features_test.shape}\")\n",
    "print(f\" - тестовой выборки target_test: {target_test.shape[0]}\")"
   ]
  },
  {
   "cell_type": "markdown",
   "metadata": {},
   "source": [
    "***"
   ]
  },
  {
   "cell_type": "markdown",
   "metadata": {},
   "source": [
    "**Вывод:**\n",
    "\n",
    "Датафрейм был поделен на выборки:\n",
    "- обучающую - 60% данных\n",
    "- валидационную - 20% данных\n",
    "- тестовую - 20% данных."
   ]
  },
  {
   "cell_type": "markdown",
   "metadata": {},
   "source": [
    "## Исследование моделей"
   ]
  },
  {
   "cell_type": "markdown",
   "metadata": {},
   "source": [
    "Так как целевой признак категориальный, будем решать задачи классификации."
   ]
  },
  {
   "cell_type": "markdown",
   "metadata": {},
   "source": [
    "Создадим и исследуем модели:\n",
    "- модель дерева решений - *DecisionTreeClassifier*\n",
    "- модель случайного леса - *RandomForestClassifier*\n",
    "- модель логистической регрессии - *LogisticRegression*"
   ]
  },
  {
   "cell_type": "markdown",
   "metadata": {},
   "source": [
    "### Модель дерева решений"
   ]
  },
  {
   "cell_type": "markdown",
   "metadata": {},
   "source": [
    "Создадим модель дерева решений,\\\n",
    "оценим правильность предсказаний модели для различных значений набора гиперпараметров:\n",
    "- максимальная глубина дерева (***max_depth***) - от 1 до 10;\n",
    "- минимальное количество примеров для разделения (***min_samples_split***) - от 10 до 100 с шагом 10"
   ]
  },
  {
   "cell_type": "code",
   "execution_count": 12,
   "metadata": {},
   "outputs": [
    {
     "name": "stdout",
     "output_type": "stream",
     "text": [
      "Лучшая модель дерева решений имеет гиперпараметры:\n",
      " - максимальная глубина дерева - 6\n",
      " - минимальное количество примеров для разделения - 20\n",
      "Качество модели - 0.788\n"
     ]
    }
   ],
   "source": [
    "# объявление переменных\n",
    "best_model = None\n",
    "best_result_decision_tree = 0.5\n",
    "best_depth = 0\n",
    "best_min_samples_split = 0\n",
    "\n",
    "# цикл для применения набора гиперпараметров\n",
    "for depth in range(1, 11):\n",
    "    for samples in range(10, 101, 10):\n",
    "\n",
    "        model = DecisionTreeClassifier(\n",
    "            max_depth=depth, min_samples_split=samples, random_state=12345\n",
    "        )  # создание объекта класса DecisionTreeClassifier\n",
    "\n",
    "        model.fit(features_train, target_train)  # обучение модели\n",
    "\n",
    "        predictions_valid = model.predict(\n",
    "            features_valid\n",
    "        )  # получение предсказания для признаков в валидационной выборке\n",
    "\n",
    "        result = accuracy_score(\n",
    "            target_valid, predictions_valid\n",
    "        )  # вычисление доли правильных ответов в валидационной выборке\n",
    "\n",
    "        if (\n",
    "            result > best_result_decision_tree\n",
    "        ):  # сохранение лучших результатов в переменные\n",
    "            best_model = model\n",
    "            best_result_decision_tree = result\n",
    "            best_depth = depth\n",
    "            best_min_samples_split = samples\n",
    "\n",
    "# вывод информации по модели с лучшим качеством\n",
    "print(\"Лучшая модель дерева решений имеет гиперпараметры:\")\n",
    "print(f\" - максимальная глубина дерева - {best_depth}\")\n",
    "print(f\" - минимальное количество примеров для разделения - {best_min_samples_split}\")\n",
    "print(f\"Качество модели - {round(best_result_decision_tree, 3)}\")"
   ]
  },
  {
   "cell_type": "markdown",
   "metadata": {},
   "source": [
    "Проверим скорость обучения созданной модели дерева решений с заданными гиперпараметрами"
   ]
  },
  {
   "cell_type": "code",
   "execution_count": 13,
   "metadata": {},
   "outputs": [
    {
     "name": "stdout",
     "output_type": "stream",
     "text": [
      "5.45 ms ± 488 µs per loop (mean ± std. dev. of 7 runs, 10 loops each)\n"
     ]
    }
   ],
   "source": [
    "%%timeit -n 10\n",
    "best_model.fit(features_train, target_train)"
   ]
  },
  {
   "cell_type": "markdown",
   "metadata": {},
   "source": [
    "Проверим скорость работы созданной модели дерева решений с заданными гиперпараметрами"
   ]
  },
  {
   "cell_type": "code",
   "execution_count": 14,
   "metadata": {},
   "outputs": [
    {
     "name": "stdout",
     "output_type": "stream",
     "text": [
      "1.38 ms ± 197 µs per loop (mean ± std. dev. of 7 runs, 10 loops each)\n"
     ]
    }
   ],
   "source": [
    "%%timeit -n 10\n",
    "best_model.predict(features_valid)"
   ]
  },
  {
   "cell_type": "markdown",
   "metadata": {},
   "source": [
    "Сохраним модель"
   ]
  },
  {
   "cell_type": "code",
   "execution_count": 15,
   "metadata": {},
   "outputs": [],
   "source": [
    "# сохранение модели\n",
    "dump(best_model, \"model_decision_tree.joblib\");"
   ]
  },
  {
   "cell_type": "markdown",
   "metadata": {},
   "source": [
    "### Модель случайного леса"
   ]
  },
  {
   "cell_type": "markdown",
   "metadata": {},
   "source": [
    "Создадим модель случайного леса,\\\n",
    "оценим правильность предсказаний модели для различных значений набора гиперпараметров:\n",
    "- максимальная глубина дерева (***max_depth***) - от 1 до 10;\n",
    "- количество деревьев (***n_estimators***) - от 10 до 50 с шагом 10"
   ]
  },
  {
   "cell_type": "code",
   "execution_count": 16,
   "metadata": {},
   "outputs": [
    {
     "name": "stdout",
     "output_type": "stream",
     "text": [
      "Лучшая модель случайного леса имеет гиперпараметры:\n",
      " - максимальная глубина дерева - 8\n",
      " - количество деревьев - 40\n",
      "Качество модели - 0.809\n"
     ]
    }
   ],
   "source": [
    "# объявление переменных\n",
    "best_model = None\n",
    "best_result_random_forest = 0.5\n",
    "best_depth = 0\n",
    "best_est = 10\n",
    "\n",
    "# цикл для применения набора гиперпараметров\n",
    "for est in range(10, 51, 10):\n",
    "    for depth in range(1, 11):\n",
    "\n",
    "        model = RandomForestClassifier(\n",
    "            random_state=12345, n_estimators=est, max_depth=depth\n",
    "        )  # создание объекта класса RandomForestClassifier\n",
    "\n",
    "        model.fit(features_train, target_train)  # обучение модели\n",
    "\n",
    "        predictions_valid = model.predict(\n",
    "            features_valid\n",
    "        )  # получение предсказания для признаков в валидационной выборке\n",
    "\n",
    "        result = accuracy_score(\n",
    "            target_valid, predictions_valid\n",
    "        )  # вычисление доли правильных ответов в валидационной выборке\n",
    "\n",
    "        if (\n",
    "            result > best_result_random_forest\n",
    "        ):  # сохранение лучших результатов в переменные\n",
    "            best_model = model\n",
    "            best_result_random_forest = result\n",
    "            best_depth = depth\n",
    "            best_est = est\n",
    "\n",
    "# вывод информации по модели с лучшим качеством\n",
    "print(\"Лучшая модель случайного леса имеет гиперпараметры:\")\n",
    "print(f\" - максимальная глубина дерева - {best_depth}\")\n",
    "print(f\" - количество деревьев - {best_est}\")\n",
    "print(f\"Качество модели - {round(best_result_random_forest, 3)}\")"
   ]
  },
  {
   "cell_type": "markdown",
   "metadata": {},
   "source": [
    "Проверим скорость обучения созданной модели случайного леса с заданными гиперпараметрами"
   ]
  },
  {
   "cell_type": "code",
   "execution_count": 17,
   "metadata": {},
   "outputs": [
    {
     "name": "stdout",
     "output_type": "stream",
     "text": [
      "121 ms ± 3.14 ms per loop (mean ± std. dev. of 7 runs, 10 loops each)\n"
     ]
    }
   ],
   "source": [
    "%%timeit -n 10\n",
    "best_model.fit(features_train, target_train)"
   ]
  },
  {
   "cell_type": "markdown",
   "metadata": {},
   "source": [
    "Проверим скорость работы созданной модели случайного леса с заданными гиперпараметрами"
   ]
  },
  {
   "cell_type": "code",
   "execution_count": 18,
   "metadata": {},
   "outputs": [
    {
     "name": "stdout",
     "output_type": "stream",
     "text": [
      "8.17 ms ± 199 µs per loop (mean ± std. dev. of 7 runs, 10 loops each)\n"
     ]
    }
   ],
   "source": [
    "%%timeit -n 10\n",
    "best_model.predict(features_valid)"
   ]
  },
  {
   "cell_type": "markdown",
   "metadata": {},
   "source": [
    "Сохраним модель"
   ]
  },
  {
   "cell_type": "code",
   "execution_count": 19,
   "metadata": {},
   "outputs": [],
   "source": [
    "# сохранение модели\n",
    "dump(best_model, \"model_random_forest.joblib\");"
   ]
  },
  {
   "cell_type": "markdown",
   "metadata": {},
   "source": [
    "### Модель логистической регрессии"
   ]
  },
  {
   "cell_type": "markdown",
   "metadata": {},
   "source": [
    "Создадим модель логистической регрессии,\\\n",
    "оценим правильность предсказаний модели для различных значений набора гиперпараметров:\n",
    "- выбор алгоритма (***solver***) - \"*lbfgs*\", \"*liblinear*\" или \"*newton-cg*\";\n",
    "- максимальное количество итераций (***max_iter***) - от 10 до 50 с шагом 10"
   ]
  },
  {
   "cell_type": "code",
   "execution_count": 20,
   "metadata": {},
   "outputs": [
    {
     "name": "stdout",
     "output_type": "stream",
     "text": [
      "Лучшая модель логистической регрессии имеет гиперпараметры:\n",
      " - алгоритм - 'newton-cg'\n",
      " - количество итераций - 40\n",
      "Качество модели - 0.757\n"
     ]
    }
   ],
   "source": [
    "# объявление переменных\n",
    "best_model = None\n",
    "best_result_logistic_regression = 0.5\n",
    "best_iter = 0\n",
    "best_solver = \"\"\n",
    "solvers = [\"lbfgs\", \"liblinear\", \"newton-cg\"]\n",
    "\n",
    "# цикл для применения набора гиперпараметров\n",
    "for iters in range(10, 101, 10):\n",
    "    for solver in solvers:\n",
    "\n",
    "        model = LogisticRegression(\n",
    "            random_state=12345, solver=solver, max_iter=iters\n",
    "        )  # создание объекта класса LogisticRegression\n",
    "\n",
    "        model.fit(features_train, target_train)  # обучение модели\n",
    "\n",
    "        predictions_valid = model.predict(\n",
    "            features_valid\n",
    "        )  # получение предсказания для признаков в валидационной выборке\n",
    "\n",
    "        result = accuracy_score(\n",
    "            target_valid, predictions_valid\n",
    "        )  # вычисление доли правильных ответов в валидационной выборке\n",
    "\n",
    "        if (\n",
    "            result > best_result_logistic_regression\n",
    "        ):  # сохранение лучших результатов в переменные\n",
    "            best_model = model\n",
    "            best_result_logistic_regression = result\n",
    "            best_iter = iters\n",
    "            best_solver = solver\n",
    "\n",
    "# вывод информации по модели с лучшим качеством\n",
    "print(\"Лучшая модель логистической регрессии имеет гиперпараметры:\")\n",
    "print(f\" - алгоритм - '{best_solver}'\")\n",
    "print(f\" - количество итераций - {best_iter}\")\n",
    "print(f\"Качество модели - {round(best_result_logistic_regression, 3)}\")"
   ]
  },
  {
   "cell_type": "markdown",
   "metadata": {},
   "source": [
    "Проверим скорость обучения созданной модели логистической регрессии с заданными гиперпараметрами"
   ]
  },
  {
   "cell_type": "code",
   "execution_count": 21,
   "metadata": {},
   "outputs": [
    {
     "name": "stdout",
     "output_type": "stream",
     "text": [
      "88.2 ms ± 3.56 ms per loop (mean ± std. dev. of 7 runs, 10 loops each)\n"
     ]
    }
   ],
   "source": [
    "%%timeit -n 10\n",
    "best_model.fit(features_train, target_train)"
   ]
  },
  {
   "cell_type": "markdown",
   "metadata": {},
   "source": [
    "Проверим скорость работы созданной модели логистической регрессии с заданными гиперпараметрами"
   ]
  },
  {
   "cell_type": "code",
   "execution_count": 22,
   "metadata": {},
   "outputs": [
    {
     "name": "stdout",
     "output_type": "stream",
     "text": [
      "1.26 ms ± 88.2 µs per loop (mean ± std. dev. of 7 runs, 10 loops each)\n"
     ]
    }
   ],
   "source": [
    "%%timeit -n 10\n",
    "best_model.predict(features_valid)"
   ]
  },
  {
   "cell_type": "markdown",
   "metadata": {},
   "source": [
    "Сохраним модель"
   ]
  },
  {
   "cell_type": "code",
   "execution_count": 23,
   "metadata": {},
   "outputs": [],
   "source": [
    "# сохранение модели\n",
    "dump(best_model, \"model_logistic_regression.joblib\");"
   ]
  },
  {
   "cell_type": "markdown",
   "metadata": {},
   "source": [
    "***"
   ]
  },
  {
   "cell_type": "markdown",
   "metadata": {},
   "source": [
    "***Вывод:***\n",
    "\n",
    "1. Были созданы и исследованы модели:\n",
    "   - модель дерева решений - DecisionTreeClassifier\n",
    "   - модель случайного леса - RandomForestClassifier\n",
    "   - модель логистической регрессии - LogisticRegression\n",
    "2. Лучшая модель дерева решений имеет гиперпараметры:\n",
    "   - максимальная глубина дерева - 6\n",
    "   - минимальное количество примеров для разделения - 20\\\n",
    "   Качество модели - 0.788\\\n",
    "   Скорость работы - ~ 1.3 ms\\\n",
    "   Скорость обучения - ~ 6.0 ms\n",
    "3. Лучшая модель случайного леса имеет гиперпараметры:\n",
    "   - максимальная глубина дерева - 8\n",
    "   - количество деревьев - 40\\\n",
    "   Качество модели - 0.809\\\n",
    "   Скорость работы - ~ 8.2 ms\\\n",
    "   Скорость обучения - ~ 120 ms\n",
    "4. Лучшая модель логистической регрессии имеет гиперпараметры:\n",
    "   - алгоритм - \"newton-cg\"\n",
    "   - количество итераций - 40\\\n",
    "   Качество модели - 0.757\\\n",
    "   Скорость работы - ~ 1.2 ms\\\n",
    "   Скорость обучения - ~ 85.0 ms\n",
    "5. Лучшая модель по качеству - модель случайного леса\n",
    "6. Лучшая модель по скорости работы - модель логистической регрессии\n",
    "7. Лучшая модель по скорости обучения - модель дерева решений\n",
    "\n",
    "|Модель|Качество|Скорость работы|Скорость обучения|\n",
    "|:-|-:|:-:|:-:|\n",
    "|Модель дерева решений|0.788|~ 1.3 ms|~ 6.0 ms|\n",
    "|Модель случайного леса|0.809|~ 8.2 ms|~ 120.0 ms|\n",
    "|Модель логистической регрессии|0.757|~ 1.2 ms|~ 85.0 ms|\n",
    "\n",
    "7. Для небольших датафреймов скорость обработки данных не критична,\\\n",
    "   поэтому лучшая модель - модель случайного леса с самым высоким качеством.\n",
    "8. Для больших объемов данных скорость обработки и обучения модели критична,\\\n",
    "   поэтому лучшая модель - модель дерева решений.\\\n",
    "   Скорость работы моделей дерева решений и логистической регрессии практически одинакова,\\\n",
    "   а качество модели дерева решений выше."
   ]
  },
  {
   "cell_type": "markdown",
   "metadata": {},
   "source": [
    "## Проверьте модель на тестовой выборке"
   ]
  },
  {
   "cell_type": "markdown",
   "metadata": {},
   "source": [
    "Так как критерии выбора моделей не известны (качество, скорость работы или скорость обучения),\\\n",
    "отберем для проверки модели, лучшие по качеству или по скорости, а именно:\n",
    "- модель случайного леса с самым высоким качеством;\n",
    "- модель дерева решений с высокой скоростью обучения и работы."
   ]
  },
  {
   "cell_type": "markdown",
   "metadata": {},
   "source": [
    "### Проверка работы модели дерева решений"
   ]
  },
  {
   "cell_type": "markdown",
   "metadata": {},
   "source": [
    "Загрузим модель дерева решений и проверим её работу на тестовой выборке"
   ]
  },
  {
   "cell_type": "code",
   "execution_count": 24,
   "metadata": {},
   "outputs": [],
   "source": [
    "# загрузка модели\n",
    "model_decision_tree = load(\"model_decision_tree.joblib\")"
   ]
  },
  {
   "cell_type": "code",
   "execution_count": 25,
   "metadata": {},
   "outputs": [
    {
     "name": "stdout",
     "output_type": "stream",
     "text": [
      "Доля правильных ответов в тестовой выборке: 0.779\n",
      "Доля правильных ответов в валидационной выборке: 0.788\n",
      "Доля правильных ответов снизилась на 0.009\n"
     ]
    }
   ],
   "source": [
    "# получение предсказания для признаков в тестовой выборке\n",
    "dt_predictions_test = model_decision_tree.predict(features_test)\n",
    "# вычисление доли правильных ответов в тестовой выборке\n",
    "dt_accuracy_test = accuracy_score(target_test, dt_predictions_test)\n",
    "\n",
    "# вывод информации\n",
    "print(f\"Доля правильных ответов в тестовой выборке: {round(dt_accuracy_test, 3)}\")\n",
    "print(\n",
    "    f\"Доля правильных ответов в валидационной выборке: {round(best_result_decision_tree, 3)}\"\n",
    ")\n",
    "print(\n",
    "    f\"Доля правильных ответов снизилась на {round(best_result_decision_tree-dt_accuracy_test, 3)}\"\n",
    ")"
   ]
  },
  {
   "cell_type": "markdown",
   "metadata": {},
   "source": [
    "Замерим скорость работы модели"
   ]
  },
  {
   "cell_type": "code",
   "execution_count": 26,
   "metadata": {},
   "outputs": [
    {
     "name": "stdout",
     "output_type": "stream",
     "text": [
      "1.36 ms ± 285 µs per loop (mean ± std. dev. of 7 runs, 10 loops each)\n"
     ]
    }
   ],
   "source": [
    "%%timeit -n 10\n",
    "model_decision_tree.predict(features_test)"
   ]
  },
  {
   "cell_type": "markdown",
   "metadata": {},
   "source": [
    "### Проверка работы модели случайного леса"
   ]
  },
  {
   "cell_type": "markdown",
   "metadata": {},
   "source": [
    "Загрузим модель случайного леса и проверим её работу на тестовой выборке"
   ]
  },
  {
   "cell_type": "code",
   "execution_count": 27,
   "metadata": {},
   "outputs": [],
   "source": [
    "# загрузка модели\n",
    "model_random_forest = load(\"model_random_forest.joblib\")"
   ]
  },
  {
   "cell_type": "code",
   "execution_count": 28,
   "metadata": {},
   "outputs": [
    {
     "name": "stdout",
     "output_type": "stream",
     "text": [
      "Доля правильных ответов в тестовой выборке: 0.796\n",
      "Доля правильных ответов в валидационной выборке: 0.809\n",
      "Доля правильных ответов снизилась на 0.012\n"
     ]
    }
   ],
   "source": [
    "# получение предсказания для признаков в тестовой выборке\n",
    "rf_predictions_test = model_random_forest.predict(features_test)\n",
    "# вычисление доли правильных ответов в тестовой выборке\n",
    "rf_accuracy_test = accuracy_score(target_test, rf_predictions_test)\n",
    "\n",
    "# вывод информации\n",
    "print(f\"Доля правильных ответов в тестовой выборке: {round(rf_accuracy_test, 3)}\")\n",
    "print(\n",
    "    f\"Доля правильных ответов в валидационной выборке: {round(best_result_random_forest, 3)}\"\n",
    ")\n",
    "print(\n",
    "    f\"Доля правильных ответов снизилась на {round(best_result_random_forest-rf_accuracy_test, 3)}\"\n",
    ")"
   ]
  },
  {
   "cell_type": "markdown",
   "metadata": {},
   "source": [
    "Замерим скорость работы модели"
   ]
  },
  {
   "cell_type": "code",
   "execution_count": 29,
   "metadata": {},
   "outputs": [
    {
     "name": "stdout",
     "output_type": "stream",
     "text": [
      "8.78 ms ± 334 µs per loop (mean ± std. dev. of 7 runs, 10 loops each)\n"
     ]
    }
   ],
   "source": [
    "%%timeit -n 10\n",
    "model_random_forest.predict(features_test)"
   ]
  },
  {
   "cell_type": "markdown",
   "metadata": {},
   "source": [
    "**Вывод:**\n",
    "\n",
    "1. Качество работы всех моделей на тестовой выборке снизилось,\\\n",
    "   а скорость осталась прежней.\n",
    "\n",
    "|<br> Модель|Качество на тестовой выборке <br> снизилось на|<br> и составляет|Скорость <br> на тестовой выборке|\n",
    "|:-|:-:|:-:|:-:|\n",
    "|Модель дерева решений|0.009|0.779|~1.3 ms|\n",
    "|Модель случайного леса|0.012|0.796|~8.5 ms|\n",
    "\n",
    "2. Выводы по выбору модели остались прежними:\n",
    "   - Для небольших датафреймов скорость обработки данных не критична,\\\n",
    "     поэтому лучшая модель - модель случайного леса с самым высоким качеством.\n",
    "   - Для больших объемов данных скорость обработки критична,\\\n",
    "     поэтому лучшая модель - модель дерева решений.\\"
   ]
  },
  {
   "cell_type": "code",
   "execution_count": null,
   "metadata": {},
   "outputs": [],
   "source": []
  }
 ],
 "metadata": {
  "ExecuteTimeLog": [
   {
    "duration": 49,
    "start_time": "2024-09-09T09:00:04.077Z"
   },
   {
    "duration": 5586,
    "start_time": "2024-09-09T09:00:39.643Z"
   },
   {
    "duration": 605,
    "start_time": "2024-09-09T09:00:49.267Z"
   },
   {
    "duration": 70,
    "start_time": "2024-09-09T09:01:32.795Z"
   },
   {
    "duration": 42,
    "start_time": "2024-09-09T09:01:36.214Z"
   },
   {
    "duration": 42,
    "start_time": "2024-09-09T09:02:17.248Z"
   },
   {
    "duration": 134,
    "start_time": "2024-09-09T09:03:47.975Z"
   },
   {
    "duration": 13,
    "start_time": "2024-09-09T09:04:24.569Z"
   },
   {
    "duration": 19,
    "start_time": "2024-09-09T09:11:10.457Z"
   },
   {
    "duration": 62,
    "start_time": "2024-09-09T12:11:00.674Z"
   },
   {
    "duration": 6,
    "start_time": "2024-09-09T12:11:07.705Z"
   },
   {
    "duration": 5618,
    "start_time": "2024-09-09T12:11:16.617Z"
   },
   {
    "duration": 537,
    "start_time": "2024-09-09T12:11:26.526Z"
   },
   {
    "duration": 131,
    "start_time": "2024-09-09T12:11:30.589Z"
   },
   {
    "duration": 11,
    "start_time": "2024-09-09T12:11:32.815Z"
   },
   {
    "duration": 17,
    "start_time": "2024-09-09T12:11:35.046Z"
   },
   {
    "duration": 5,
    "start_time": "2024-09-09T12:11:39.124Z"
   },
   {
    "duration": 7,
    "start_time": "2024-09-09T12:13:12.518Z"
   },
   {
    "duration": 7,
    "start_time": "2024-09-09T12:13:55.010Z"
   },
   {
    "duration": 5,
    "start_time": "2024-09-09T12:14:25.424Z"
   },
   {
    "duration": 594,
    "start_time": "2024-09-09T12:26:54.692Z"
   },
   {
    "duration": 49,
    "start_time": "2024-09-09T12:45:20.462Z"
   },
   {
    "duration": 13,
    "start_time": "2024-09-09T12:45:25.227Z"
   },
   {
    "duration": 10,
    "start_time": "2024-09-09T12:45:58.021Z"
   },
   {
    "duration": 9,
    "start_time": "2024-09-09T12:59:47.325Z"
   },
   {
    "duration": 62,
    "start_time": "2024-09-09T12:59:56.420Z"
   },
   {
    "duration": 11,
    "start_time": "2024-09-09T13:00:09.274Z"
   },
   {
    "duration": 38,
    "start_time": "2024-09-09T13:02:51.588Z"
   },
   {
    "duration": 8,
    "start_time": "2024-09-09T13:06:37.689Z"
   },
   {
    "duration": 19,
    "start_time": "2024-09-09T13:08:19.917Z"
   },
   {
    "duration": 18,
    "start_time": "2024-09-09T14:32:24.688Z"
   },
   {
    "duration": 8,
    "start_time": "2024-09-09T14:34:57.625Z"
   },
   {
    "duration": 34,
    "start_time": "2024-09-09T14:46:20.961Z"
   },
   {
    "duration": 44,
    "start_time": "2024-09-09T14:53:34.827Z"
   },
   {
    "duration": 44,
    "start_time": "2024-09-09T14:53:38.057Z"
   },
   {
    "duration": 43,
    "start_time": "2024-09-09T14:53:56.486Z"
   },
   {
    "duration": 44,
    "start_time": "2024-09-09T14:56:43.119Z"
   },
   {
    "duration": 2558,
    "start_time": "2024-09-09T14:56:55.117Z"
   },
   {
    "duration": 13,
    "start_time": "2024-09-09T14:56:57.678Z"
   },
   {
    "duration": 33,
    "start_time": "2024-09-09T14:56:57.692Z"
   },
   {
    "duration": 11,
    "start_time": "2024-09-09T14:56:57.727Z"
   },
   {
    "duration": 11,
    "start_time": "2024-09-09T14:56:57.739Z"
   },
   {
    "duration": 5,
    "start_time": "2024-09-09T14:56:57.751Z"
   },
   {
    "duration": 7,
    "start_time": "2024-09-09T14:56:57.758Z"
   },
   {
    "duration": 5,
    "start_time": "2024-09-09T14:56:57.766Z"
   },
   {
    "duration": 15,
    "start_time": "2024-09-09T14:56:57.772Z"
   },
   {
    "duration": 11,
    "start_time": "2024-09-09T14:56:57.789Z"
   },
   {
    "duration": 54,
    "start_time": "2024-09-09T14:57:04.894Z"
   },
   {
    "duration": 2543,
    "start_time": "2024-09-09T14:57:54.415Z"
   },
   {
    "duration": 1202,
    "start_time": "2024-09-09T14:57:56.960Z"
   },
   {
    "duration": 36,
    "start_time": "2024-09-09T14:57:58.163Z"
   },
   {
    "duration": 14,
    "start_time": "2024-09-09T14:57:58.202Z"
   },
   {
    "duration": 22,
    "start_time": "2024-09-09T14:57:58.218Z"
   },
   {
    "duration": 6,
    "start_time": "2024-09-09T14:57:58.241Z"
   },
   {
    "duration": 7,
    "start_time": "2024-09-09T14:57:58.248Z"
   },
   {
    "duration": 6,
    "start_time": "2024-09-09T14:57:58.256Z"
   },
   {
    "duration": 15,
    "start_time": "2024-09-09T14:57:58.263Z"
   },
   {
    "duration": 10,
    "start_time": "2024-09-09T14:57:58.280Z"
   },
   {
    "duration": 123,
    "start_time": "2024-09-09T14:57:58.291Z"
   },
   {
    "duration": 54,
    "start_time": "2024-09-09T14:58:16.177Z"
   },
   {
    "duration": 2563,
    "start_time": "2024-09-09T14:58:47.328Z"
   },
   {
    "duration": 1161,
    "start_time": "2024-09-09T14:58:49.894Z"
   },
   {
    "duration": 32,
    "start_time": "2024-09-09T14:58:51.056Z"
   },
   {
    "duration": 10,
    "start_time": "2024-09-09T14:58:51.090Z"
   },
   {
    "duration": 19,
    "start_time": "2024-09-09T14:58:51.102Z"
   },
   {
    "duration": 5,
    "start_time": "2024-09-09T14:58:51.122Z"
   },
   {
    "duration": 7,
    "start_time": "2024-09-09T14:58:51.129Z"
   },
   {
    "duration": 22,
    "start_time": "2024-09-09T14:58:51.137Z"
   },
   {
    "duration": 15,
    "start_time": "2024-09-09T14:58:51.160Z"
   },
   {
    "duration": 10,
    "start_time": "2024-09-09T14:58:51.176Z"
   },
   {
    "duration": 38,
    "start_time": "2024-09-09T14:58:54.412Z"
   },
   {
    "duration": 7,
    "start_time": "2024-09-09T15:59:49.352Z"
   },
   {
    "duration": 7,
    "start_time": "2024-09-09T16:00:44.055Z"
   },
   {
    "duration": 141,
    "start_time": "2024-09-09T16:01:39.968Z"
   },
   {
    "duration": 16,
    "start_time": "2024-09-09T16:04:18.622Z"
   },
   {
    "duration": 2492,
    "start_time": "2024-09-09T16:05:16.702Z"
   },
   {
    "duration": 1163,
    "start_time": "2024-09-09T16:05:19.196Z"
   },
   {
    "duration": 32,
    "start_time": "2024-09-09T16:05:20.360Z"
   },
   {
    "duration": 10,
    "start_time": "2024-09-09T16:05:20.393Z"
   },
   {
    "duration": 16,
    "start_time": "2024-09-09T16:05:20.405Z"
   },
   {
    "duration": 6,
    "start_time": "2024-09-09T16:05:20.423Z"
   },
   {
    "duration": 6,
    "start_time": "2024-09-09T16:05:20.431Z"
   },
   {
    "duration": 4,
    "start_time": "2024-09-09T16:05:20.438Z"
   },
   {
    "duration": 12,
    "start_time": "2024-09-09T16:05:20.443Z"
   },
   {
    "duration": 13,
    "start_time": "2024-09-09T16:05:20.457Z"
   },
   {
    "duration": 85,
    "start_time": "2024-09-09T16:05:23.523Z"
   },
   {
    "duration": 256,
    "start_time": "2024-09-09T16:14:40.463Z"
   },
   {
    "duration": 100,
    "start_time": "2024-09-09T16:14:48.973Z"
   },
   {
    "duration": 3433,
    "start_time": "2024-09-09T16:14:58.883Z"
   },
   {
    "duration": 45,
    "start_time": "2024-09-10T08:03:03.879Z"
   },
   {
    "duration": 7,
    "start_time": "2024-09-10T08:03:20.255Z"
   },
   {
    "duration": 5030,
    "start_time": "2024-09-10T08:03:25.814Z"
   },
   {
    "duration": 2679,
    "start_time": "2024-09-10T08:03:36.209Z"
   },
   {
    "duration": 127,
    "start_time": "2024-09-10T08:03:41.157Z"
   },
   {
    "duration": 11,
    "start_time": "2024-09-10T08:03:45.058Z"
   },
   {
    "duration": 17,
    "start_time": "2024-09-10T08:03:47.381Z"
   },
   {
    "duration": 7,
    "start_time": "2024-09-10T08:03:49.332Z"
   },
   {
    "duration": 7,
    "start_time": "2024-09-10T08:03:52.026Z"
   },
   {
    "duration": 5,
    "start_time": "2024-09-10T08:03:54.426Z"
   },
   {
    "duration": 15,
    "start_time": "2024-09-10T08:03:58.088Z"
   },
   {
    "duration": 10,
    "start_time": "2024-09-10T08:04:04.108Z"
   },
   {
    "duration": 107,
    "start_time": "2024-09-10T08:04:07.788Z"
   },
   {
    "duration": 9,
    "start_time": "2024-09-10T08:05:11.874Z"
   },
   {
    "duration": 11,
    "start_time": "2024-09-10T08:05:29.708Z"
   },
   {
    "duration": 3474,
    "start_time": "2024-09-10T08:06:14.626Z"
   },
   {
    "duration": 3622,
    "start_time": "2024-09-10T08:06:47.788Z"
   },
   {
    "duration": 31,
    "start_time": "2024-09-10T08:10:32.330Z"
   },
   {
    "duration": 23,
    "start_time": "2024-09-10T08:10:35.524Z"
   },
   {
    "duration": 14,
    "start_time": "2024-09-10T08:21:17.542Z"
   },
   {
    "duration": 2595,
    "start_time": "2024-09-10T08:51:28.157Z"
   },
   {
    "duration": 1339,
    "start_time": "2024-09-10T08:51:30.754Z"
   },
   {
    "duration": 33,
    "start_time": "2024-09-10T08:51:32.094Z"
   },
   {
    "duration": 11,
    "start_time": "2024-09-10T08:51:32.129Z"
   },
   {
    "duration": 25,
    "start_time": "2024-09-10T08:51:32.141Z"
   },
   {
    "duration": 6,
    "start_time": "2024-09-10T08:51:32.168Z"
   },
   {
    "duration": 15,
    "start_time": "2024-09-10T08:51:32.176Z"
   },
   {
    "duration": 9,
    "start_time": "2024-09-10T08:51:32.193Z"
   },
   {
    "duration": 15,
    "start_time": "2024-09-10T08:51:32.204Z"
   },
   {
    "duration": 217,
    "start_time": "2024-09-10T08:54:15.580Z"
   },
   {
    "duration": 732,
    "start_time": "2024-09-10T08:54:39.770Z"
   },
   {
    "duration": 727,
    "start_time": "2024-09-10T08:54:48.901Z"
   },
   {
    "duration": 254,
    "start_time": "2024-09-10T09:04:42.716Z"
   },
   {
    "duration": 269,
    "start_time": "2024-09-10T09:05:49.203Z"
   },
   {
    "duration": 573,
    "start_time": "2024-09-10T09:06:42.536Z"
   },
   {
    "duration": 672,
    "start_time": "2024-09-10T09:07:52.230Z"
   },
   {
    "duration": 648,
    "start_time": "2024-09-10T09:07:58.454Z"
   },
   {
    "duration": 238,
    "start_time": "2024-09-10T09:20:42.883Z"
   },
   {
    "duration": 594,
    "start_time": "2024-09-10T09:20:58.557Z"
   },
   {
    "duration": 593,
    "start_time": "2024-09-10T09:21:07.433Z"
   },
   {
    "duration": 716,
    "start_time": "2024-09-10T09:22:00.588Z"
   },
   {
    "duration": 399,
    "start_time": "2024-09-10T10:02:22.147Z"
   },
   {
    "duration": 397,
    "start_time": "2024-09-10T10:02:27.655Z"
   },
   {
    "duration": 206,
    "start_time": "2024-09-10T10:03:12.947Z"
   },
   {
    "duration": 214,
    "start_time": "2024-09-10T10:03:54.159Z"
   },
   {
    "duration": 129,
    "start_time": "2024-09-10T10:04:59.162Z"
   },
   {
    "duration": 40,
    "start_time": "2024-09-10T10:05:03.102Z"
   },
   {
    "duration": 974,
    "start_time": "2024-09-10T10:05:40.359Z"
   },
   {
    "duration": 1298,
    "start_time": "2024-09-10T10:06:29.633Z"
   },
   {
    "duration": 1245,
    "start_time": "2024-09-10T10:06:35.753Z"
   },
   {
    "duration": 652,
    "start_time": "2024-09-10T10:13:55.475Z"
   },
   {
    "duration": 3666,
    "start_time": "2024-09-10T10:14:55.438Z"
   },
   {
    "duration": 3594,
    "start_time": "2024-09-10T10:15:02.553Z"
   },
   {
    "duration": 3555,
    "start_time": "2024-09-10T10:15:28.122Z"
   },
   {
    "duration": 1050,
    "start_time": "2024-09-10T10:16:15.300Z"
   },
   {
    "duration": 987,
    "start_time": "2024-09-10T10:18:02.071Z"
   },
   {
    "duration": 1014,
    "start_time": "2024-09-10T10:18:12.699Z"
   },
   {
    "duration": 709,
    "start_time": "2024-09-10T10:25:19.251Z"
   },
   {
    "duration": 3621,
    "start_time": "2024-09-10T10:25:41.792Z"
   },
   {
    "duration": 1047,
    "start_time": "2024-09-10T10:26:05.533Z"
   },
   {
    "duration": 40,
    "start_time": "2024-09-10T10:51:08.501Z"
   },
   {
    "duration": 34,
    "start_time": "2024-09-10T10:51:14.593Z"
   },
   {
    "duration": 2581,
    "start_time": "2024-09-10T10:51:39.497Z"
   },
   {
    "duration": 1247,
    "start_time": "2024-09-10T10:51:42.080Z"
   },
   {
    "duration": 34,
    "start_time": "2024-09-10T10:51:43.328Z"
   },
   {
    "duration": 11,
    "start_time": "2024-09-10T10:51:43.363Z"
   },
   {
    "duration": 16,
    "start_time": "2024-09-10T10:51:43.376Z"
   },
   {
    "duration": 5,
    "start_time": "2024-09-10T10:51:43.393Z"
   },
   {
    "duration": 6,
    "start_time": "2024-09-10T10:51:43.400Z"
   },
   {
    "duration": 6,
    "start_time": "2024-09-10T10:51:43.407Z"
   },
   {
    "duration": 14,
    "start_time": "2024-09-10T10:51:43.414Z"
   },
   {
    "duration": 679,
    "start_time": "2024-09-10T10:51:43.429Z"
   },
   {
    "duration": 35,
    "start_time": "2024-09-10T10:51:55.614Z"
   },
   {
    "duration": 35,
    "start_time": "2024-09-10T12:14:31.025Z"
   },
   {
    "duration": 2560,
    "start_time": "2024-09-10T12:15:07.397Z"
   },
   {
    "duration": 1210,
    "start_time": "2024-09-10T12:15:09.959Z"
   },
   {
    "duration": 33,
    "start_time": "2024-09-10T12:15:11.170Z"
   },
   {
    "duration": 10,
    "start_time": "2024-09-10T12:15:11.205Z"
   },
   {
    "duration": 21,
    "start_time": "2024-09-10T12:15:11.216Z"
   },
   {
    "duration": 6,
    "start_time": "2024-09-10T12:15:11.238Z"
   },
   {
    "duration": 8,
    "start_time": "2024-09-10T12:15:11.245Z"
   },
   {
    "duration": 6,
    "start_time": "2024-09-10T12:15:11.254Z"
   },
   {
    "duration": 14,
    "start_time": "2024-09-10T12:15:11.261Z"
   },
   {
    "duration": 694,
    "start_time": "2024-09-10T12:15:11.277Z"
   },
   {
    "duration": 31,
    "start_time": "2024-09-10T12:15:24.025Z"
   },
   {
    "duration": 30,
    "start_time": "2024-09-10T12:16:58.489Z"
   },
   {
    "duration": 36,
    "start_time": "2024-09-10T12:17:01.067Z"
   },
   {
    "duration": 40,
    "start_time": "2024-09-10T12:17:32.540Z"
   },
   {
    "duration": 156,
    "start_time": "2024-09-10T12:17:51.030Z"
   },
   {
    "duration": 40,
    "start_time": "2024-09-10T12:18:00.398Z"
   },
   {
    "duration": 34,
    "start_time": "2024-09-10T12:18:05.813Z"
   },
   {
    "duration": 3734,
    "start_time": "2024-09-10T12:20:06.836Z"
   },
   {
    "duration": 3654,
    "start_time": "2024-09-10T12:20:17.074Z"
   },
   {
    "duration": 41,
    "start_time": "2024-09-10T12:20:34.665Z"
   },
   {
    "duration": 1026,
    "start_time": "2024-09-10T12:20:46.694Z"
   },
   {
    "duration": 1038,
    "start_time": "2024-09-10T12:21:22.444Z"
   },
   {
    "duration": 34,
    "start_time": "2024-09-10T12:21:26.449Z"
   },
   {
    "duration": 86,
    "start_time": "2024-09-10T12:47:00.916Z"
   },
   {
    "duration": 56,
    "start_time": "2024-09-10T12:47:03.766Z"
   },
   {
    "duration": 43,
    "start_time": "2024-09-10T12:47:55.037Z"
   },
   {
    "duration": 23,
    "start_time": "2024-09-10T12:48:25.862Z"
   },
   {
    "duration": 29,
    "start_time": "2024-09-10T12:48:27.980Z"
   },
   {
    "duration": 6,
    "start_time": "2024-09-10T12:48:31.490Z"
   },
   {
    "duration": 63,
    "start_time": "2024-09-10T12:55:16.296Z"
   },
   {
    "duration": 86,
    "start_time": "2024-09-10T13:07:09.994Z"
   },
   {
    "duration": 30,
    "start_time": "2024-09-10T13:07:15.756Z"
   },
   {
    "duration": 33,
    "start_time": "2024-09-10T13:07:18.924Z"
   },
   {
    "duration": 32,
    "start_time": "2024-09-10T13:07:23.796Z"
   },
   {
    "duration": 34,
    "start_time": "2024-09-10T13:07:26.656Z"
   },
   {
    "duration": 39,
    "start_time": "2024-09-10T13:07:35.775Z"
   },
   {
    "duration": 38,
    "start_time": "2024-09-10T13:07:38.384Z"
   },
   {
    "duration": 43,
    "start_time": "2024-09-10T13:07:40.572Z"
   },
   {
    "duration": 40,
    "start_time": "2024-09-10T13:07:48.223Z"
   },
   {
    "duration": 32,
    "start_time": "2024-09-10T13:07:52.272Z"
   },
   {
    "duration": 100,
    "start_time": "2024-09-10T13:09:43.984Z"
   },
   {
    "duration": 2548,
    "start_time": "2024-09-10T13:10:01.843Z"
   },
   {
    "duration": 1173,
    "start_time": "2024-09-10T13:10:04.393Z"
   },
   {
    "duration": 34,
    "start_time": "2024-09-10T13:10:05.568Z"
   },
   {
    "duration": 11,
    "start_time": "2024-09-10T13:10:05.603Z"
   },
   {
    "duration": 25,
    "start_time": "2024-09-10T13:10:05.616Z"
   },
   {
    "duration": 5,
    "start_time": "2024-09-10T13:10:05.642Z"
   },
   {
    "duration": 8,
    "start_time": "2024-09-10T13:10:05.648Z"
   },
   {
    "duration": 17,
    "start_time": "2024-09-10T13:10:05.657Z"
   },
   {
    "duration": 15,
    "start_time": "2024-09-10T13:10:05.675Z"
   },
   {
    "duration": 127,
    "start_time": "2024-09-10T13:10:05.692Z"
   },
   {
    "duration": 0,
    "start_time": "2024-09-10T13:10:05.820Z"
   },
   {
    "duration": 0,
    "start_time": "2024-09-10T13:10:05.821Z"
   },
   {
    "duration": 0,
    "start_time": "2024-09-10T13:10:05.823Z"
   },
   {
    "duration": 0,
    "start_time": "2024-09-10T13:10:05.823Z"
   },
   {
    "duration": 0,
    "start_time": "2024-09-10T13:10:05.824Z"
   },
   {
    "duration": 0,
    "start_time": "2024-09-10T13:10:05.825Z"
   },
   {
    "duration": 0,
    "start_time": "2024-09-10T13:10:05.826Z"
   },
   {
    "duration": 0,
    "start_time": "2024-09-10T13:10:05.827Z"
   },
   {
    "duration": 2552,
    "start_time": "2024-09-10T13:11:24.350Z"
   },
   {
    "duration": 11,
    "start_time": "2024-09-10T13:11:26.905Z"
   },
   {
    "duration": 33,
    "start_time": "2024-09-10T13:11:26.918Z"
   },
   {
    "duration": 12,
    "start_time": "2024-09-10T13:11:26.953Z"
   },
   {
    "duration": 11,
    "start_time": "2024-09-10T13:11:26.966Z"
   },
   {
    "duration": 7,
    "start_time": "2024-09-10T13:11:26.979Z"
   },
   {
    "duration": 10,
    "start_time": "2024-09-10T13:11:26.987Z"
   },
   {
    "duration": 5,
    "start_time": "2024-09-10T13:11:26.998Z"
   },
   {
    "duration": 13,
    "start_time": "2024-09-10T13:11:27.004Z"
   },
   {
    "duration": 638,
    "start_time": "2024-09-10T13:11:27.019Z"
   },
   {
    "duration": 34,
    "start_time": "2024-09-10T13:11:27.659Z"
   },
   {
    "duration": 51,
    "start_time": "2024-09-10T13:11:27.695Z"
   },
   {
    "duration": 3490,
    "start_time": "2024-09-10T13:11:27.747Z"
   },
   {
    "duration": 36,
    "start_time": "2024-09-10T13:11:31.238Z"
   },
   {
    "duration": 71,
    "start_time": "2024-09-10T13:11:31.275Z"
   },
   {
    "duration": 953,
    "start_time": "2024-09-10T13:11:31.347Z"
   },
   {
    "duration": 38,
    "start_time": "2024-09-10T13:11:32.302Z"
   },
   {
    "duration": 57,
    "start_time": "2024-09-10T13:11:32.341Z"
   },
   {
    "duration": 378,
    "start_time": "2024-09-10T13:14:08.991Z"
   },
   {
    "duration": 47,
    "start_time": "2024-09-10T13:14:23.785Z"
   },
   {
    "duration": 41,
    "start_time": "2024-09-10T13:20:07.671Z"
   },
   {
    "duration": 35,
    "start_time": "2024-09-10T13:20:34.731Z"
   },
   {
    "duration": 7132,
    "start_time": "2024-09-10T13:20:51.715Z"
   },
   {
    "duration": 107,
    "start_time": "2024-09-10T13:21:56.038Z"
   },
   {
    "duration": 105,
    "start_time": "2024-09-10T13:23:42.664Z"
   },
   {
    "duration": 2560,
    "start_time": "2024-09-10T13:32:09.317Z"
   },
   {
    "duration": 1183,
    "start_time": "2024-09-10T13:32:11.879Z"
   },
   {
    "duration": 34,
    "start_time": "2024-09-10T13:32:13.064Z"
   },
   {
    "duration": 9,
    "start_time": "2024-09-10T13:32:13.100Z"
   },
   {
    "duration": 16,
    "start_time": "2024-09-10T13:32:13.111Z"
   },
   {
    "duration": 4,
    "start_time": "2024-09-10T13:32:13.128Z"
   },
   {
    "duration": 9,
    "start_time": "2024-09-10T13:32:13.133Z"
   },
   {
    "duration": 5,
    "start_time": "2024-09-10T13:32:13.143Z"
   },
   {
    "duration": 14,
    "start_time": "2024-09-10T13:32:13.149Z"
   },
   {
    "duration": 615,
    "start_time": "2024-09-10T13:32:13.164Z"
   },
   {
    "duration": 99,
    "start_time": "2024-09-10T13:32:13.780Z"
   },
   {
    "duration": 49,
    "start_time": "2024-09-10T13:32:13.881Z"
   },
   {
    "duration": 3452,
    "start_time": "2024-09-10T13:32:13.931Z"
   },
   {
    "duration": 423,
    "start_time": "2024-09-10T13:32:17.385Z"
   },
   {
    "duration": 69,
    "start_time": "2024-09-10T13:32:17.810Z"
   },
   {
    "duration": 962,
    "start_time": "2024-09-10T13:32:17.880Z"
   },
   {
    "duration": 97,
    "start_time": "2024-09-10T13:32:18.843Z"
   },
   {
    "duration": 48,
    "start_time": "2024-09-10T13:32:18.942Z"
   },
   {
    "duration": 72,
    "start_time": "2024-09-10T13:43:38.265Z"
   },
   {
    "duration": 104,
    "start_time": "2024-09-10T13:43:39.514Z"
   },
   {
    "duration": 98,
    "start_time": "2024-09-10T13:44:37.954Z"
   },
   {
    "duration": 98,
    "start_time": "2024-09-10T13:45:04.729Z"
   },
   {
    "duration": 12,
    "start_time": "2024-09-10T13:45:06.105Z"
   },
   {
    "duration": 11,
    "start_time": "2024-09-10T13:45:23.944Z"
   },
   {
    "duration": 103,
    "start_time": "2024-09-10T13:45:42.551Z"
   },
   {
    "duration": 118,
    "start_time": "2024-09-10T13:47:18.111Z"
   },
   {
    "duration": 2577,
    "start_time": "2024-09-10T13:53:22.378Z"
   },
   {
    "duration": 1205,
    "start_time": "2024-09-10T13:53:24.957Z"
   },
   {
    "duration": 34,
    "start_time": "2024-09-10T13:53:26.164Z"
   },
   {
    "duration": 10,
    "start_time": "2024-09-10T13:53:26.200Z"
   },
   {
    "duration": 17,
    "start_time": "2024-09-10T13:53:26.211Z"
   },
   {
    "duration": 5,
    "start_time": "2024-09-10T13:53:26.229Z"
   },
   {
    "duration": 6,
    "start_time": "2024-09-10T13:53:26.235Z"
   },
   {
    "duration": 5,
    "start_time": "2024-09-10T13:53:26.242Z"
   },
   {
    "duration": 17,
    "start_time": "2024-09-10T13:53:26.248Z"
   },
   {
    "duration": 612,
    "start_time": "2024-09-10T13:53:26.267Z"
   },
   {
    "duration": 101,
    "start_time": "2024-09-10T13:53:26.880Z"
   },
   {
    "duration": 45,
    "start_time": "2024-09-10T13:53:26.982Z"
   },
   {
    "duration": 3457,
    "start_time": "2024-09-10T13:53:27.028Z"
   },
   {
    "duration": 423,
    "start_time": "2024-09-10T13:53:30.487Z"
   },
   {
    "duration": 79,
    "start_time": "2024-09-10T13:53:30.911Z"
   },
   {
    "duration": 963,
    "start_time": "2024-09-10T13:53:30.991Z"
   },
   {
    "duration": 111,
    "start_time": "2024-09-10T13:53:31.955Z"
   },
   {
    "duration": 80,
    "start_time": "2024-09-10T13:53:32.068Z"
   },
   {
    "duration": 57,
    "start_time": "2024-09-10T13:53:32.149Z"
   },
   {
    "duration": 12,
    "start_time": "2024-09-10T13:53:32.207Z"
   },
   {
    "duration": 100,
    "start_time": "2024-09-10T13:53:32.220Z"
   },
   {
    "duration": 45,
    "start_time": "2024-09-10T13:53:32.321Z"
   },
   {
    "duration": 15,
    "start_time": "2024-09-10T13:53:32.368Z"
   },
   {
    "duration": 435,
    "start_time": "2024-09-10T13:53:32.384Z"
   },
   {
    "duration": 15,
    "start_time": "2024-09-10T13:53:32.821Z"
   },
   {
    "duration": 11,
    "start_time": "2024-09-10T13:53:32.837Z"
   },
   {
    "duration": 91,
    "start_time": "2024-09-10T13:53:32.849Z"
   },
   {
    "duration": 96,
    "start_time": "2024-09-10T13:55:33.679Z"
   },
   {
    "duration": 95,
    "start_time": "2024-09-10T13:55:36.966Z"
   },
   {
    "duration": 3442,
    "start_time": "2024-09-10T13:55:52.443Z"
   },
   {
    "duration": 434,
    "start_time": "2024-09-10T13:55:55.886Z"
   },
   {
    "duration": 424,
    "start_time": "2024-09-10T13:56:00.427Z"
   },
   {
    "duration": 490,
    "start_time": "2024-09-10T13:56:05.397Z"
   },
   {
    "duration": 425,
    "start_time": "2024-09-10T13:56:12.371Z"
   },
   {
    "duration": 423,
    "start_time": "2024-09-10T13:56:16.360Z"
   },
   {
    "duration": 434,
    "start_time": "2024-09-10T13:56:20.206Z"
   },
   {
    "duration": 455,
    "start_time": "2024-09-10T13:56:25.617Z"
   },
   {
    "duration": 429,
    "start_time": "2024-09-10T13:56:31.087Z"
   },
   {
    "duration": 22,
    "start_time": "2024-09-10T14:01:29.572Z"
   },
   {
    "duration": 14,
    "start_time": "2024-09-10T14:01:30.532Z"
   },
   {
    "duration": 12,
    "start_time": "2024-09-10T14:01:36.301Z"
   },
   {
    "duration": 101,
    "start_time": "2024-09-10T14:01:40.856Z"
   },
   {
    "duration": 41,
    "start_time": "2024-09-10T14:01:57.770Z"
   },
   {
    "duration": 17,
    "start_time": "2024-09-10T14:01:58.505Z"
   },
   {
    "duration": 26,
    "start_time": "2024-09-10T14:02:01.481Z"
   },
   {
    "duration": 484,
    "start_time": "2024-09-10T14:02:08.397Z"
   },
   {
    "duration": 64,
    "start_time": "2024-09-10T14:03:44.522Z"
   },
   {
    "duration": 13,
    "start_time": "2024-09-10T14:03:45.739Z"
   },
   {
    "duration": 102,
    "start_time": "2024-09-10T14:03:55.538Z"
   },
   {
    "duration": 2592,
    "start_time": "2024-09-10T14:11:16.252Z"
   },
   {
    "duration": 1268,
    "start_time": "2024-09-10T14:11:18.847Z"
   },
   {
    "duration": 34,
    "start_time": "2024-09-10T14:11:20.117Z"
   },
   {
    "duration": 12,
    "start_time": "2024-09-10T14:11:20.152Z"
   },
   {
    "duration": 17,
    "start_time": "2024-09-10T14:11:20.165Z"
   },
   {
    "duration": 5,
    "start_time": "2024-09-10T14:11:20.183Z"
   },
   {
    "duration": 11,
    "start_time": "2024-09-10T14:11:20.189Z"
   },
   {
    "duration": 5,
    "start_time": "2024-09-10T14:11:20.202Z"
   },
   {
    "duration": 12,
    "start_time": "2024-09-10T14:11:20.209Z"
   },
   {
    "duration": 612,
    "start_time": "2024-09-10T14:11:20.224Z"
   },
   {
    "duration": 96,
    "start_time": "2024-09-10T14:11:20.837Z"
   },
   {
    "duration": 48,
    "start_time": "2024-09-10T14:11:20.934Z"
   },
   {
    "duration": 3427,
    "start_time": "2024-09-10T14:11:20.984Z"
   },
   {
    "duration": 416,
    "start_time": "2024-09-10T14:11:24.412Z"
   },
   {
    "duration": 61,
    "start_time": "2024-09-10T14:11:24.829Z"
   },
   {
    "duration": 920,
    "start_time": "2024-09-10T14:11:24.892Z"
   },
   {
    "duration": 93,
    "start_time": "2024-09-10T14:11:25.814Z"
   },
   {
    "duration": 51,
    "start_time": "2024-09-10T14:11:25.908Z"
   },
   {
    "duration": 42,
    "start_time": "2024-09-10T14:11:25.960Z"
   },
   {
    "duration": 13,
    "start_time": "2024-09-10T14:11:26.004Z"
   },
   {
    "duration": 94,
    "start_time": "2024-09-10T14:11:26.018Z"
   },
   {
    "duration": 77,
    "start_time": "2024-09-10T14:11:26.113Z"
   },
   {
    "duration": 17,
    "start_time": "2024-09-10T14:11:26.191Z"
   },
   {
    "duration": 425,
    "start_time": "2024-09-10T14:11:26.209Z"
   },
   {
    "duration": 17,
    "start_time": "2024-09-10T14:11:26.635Z"
   },
   {
    "duration": 12,
    "start_time": "2024-09-10T14:11:26.653Z"
   },
   {
    "duration": 93,
    "start_time": "2024-09-10T14:11:26.666Z"
   },
   {
    "duration": 95,
    "start_time": "2024-09-10T14:17:47.646Z"
   },
   {
    "duration": 97,
    "start_time": "2024-09-10T14:17:50.175Z"
   },
   {
    "duration": 97,
    "start_time": "2024-09-10T14:17:52.246Z"
   },
   {
    "duration": 92,
    "start_time": "2024-09-10T14:17:56.877Z"
   },
   {
    "duration": 2507,
    "start_time": "2024-09-10T15:47:03.930Z"
   },
   {
    "duration": 1106,
    "start_time": "2024-09-10T15:47:06.439Z"
   },
   {
    "duration": 34,
    "start_time": "2024-09-10T15:47:07.546Z"
   },
   {
    "duration": 11,
    "start_time": "2024-09-10T15:47:07.581Z"
   },
   {
    "duration": 18,
    "start_time": "2024-09-10T15:47:07.593Z"
   },
   {
    "duration": 5,
    "start_time": "2024-09-10T15:47:07.612Z"
   },
   {
    "duration": 12,
    "start_time": "2024-09-10T15:47:07.618Z"
   },
   {
    "duration": 6,
    "start_time": "2024-09-10T15:47:07.631Z"
   },
   {
    "duration": 14,
    "start_time": "2024-09-10T15:47:07.638Z"
   },
   {
    "duration": 605,
    "start_time": "2024-09-10T15:47:07.654Z"
   },
   {
    "duration": 111,
    "start_time": "2024-09-10T15:47:08.260Z"
   },
   {
    "duration": 44,
    "start_time": "2024-09-10T15:47:08.373Z"
   },
   {
    "duration": 3402,
    "start_time": "2024-09-10T15:47:08.418Z"
   },
   {
    "duration": 433,
    "start_time": "2024-09-10T15:47:11.821Z"
   },
   {
    "duration": 66,
    "start_time": "2024-09-10T15:47:12.255Z"
   },
   {
    "duration": 920,
    "start_time": "2024-09-10T15:47:12.322Z"
   },
   {
    "duration": 91,
    "start_time": "2024-09-10T15:47:13.243Z"
   },
   {
    "duration": 50,
    "start_time": "2024-09-10T15:47:13.335Z"
   },
   {
    "duration": 35,
    "start_time": "2024-09-10T15:47:13.386Z"
   },
   {
    "duration": 13,
    "start_time": "2024-09-10T15:47:13.422Z"
   },
   {
    "duration": 91,
    "start_time": "2024-09-10T15:47:13.437Z"
   },
   {
    "duration": 40,
    "start_time": "2024-09-10T15:47:13.529Z"
   },
   {
    "duration": 17,
    "start_time": "2024-09-10T15:47:13.571Z"
   },
   {
    "duration": 424,
    "start_time": "2024-09-10T15:47:13.589Z"
   },
   {
    "duration": 15,
    "start_time": "2024-09-10T15:47:14.015Z"
   },
   {
    "duration": 13,
    "start_time": "2024-09-10T15:47:14.031Z"
   },
   {
    "duration": 95,
    "start_time": "2024-09-10T15:47:14.045Z"
   },
   {
    "duration": 51,
    "start_time": "2024-09-11T07:56:47.318Z"
   },
   {
    "duration": 5784,
    "start_time": "2024-09-11T07:56:52.545Z"
   },
   {
    "duration": 1802,
    "start_time": "2024-09-11T07:57:02.397Z"
   },
   {
    "duration": 89,
    "start_time": "2024-09-11T07:57:13.599Z"
   },
   {
    "duration": 144,
    "start_time": "2024-09-11T07:57:20.713Z"
   },
   {
    "duration": 9,
    "start_time": "2024-09-11T07:57:24.278Z"
   },
   {
    "duration": 4138,
    "start_time": "2024-09-11T07:57:36.140Z"
   },
   {
    "duration": 22,
    "start_time": "2024-09-11T08:03:02.888Z"
   },
   {
    "duration": 19,
    "start_time": "2024-09-11T08:03:08.336Z"
   },
   {
    "duration": 2026,
    "start_time": "2024-09-11T08:03:19.014Z"
   },
   {
    "duration": 2097,
    "start_time": "2024-09-11T08:03:25.377Z"
   },
   {
    "duration": 5010,
    "start_time": "2024-09-11T08:05:21.819Z"
   },
   {
    "duration": 4766,
    "start_time": "2024-09-11T08:05:28.835Z"
   },
   {
    "duration": 5135,
    "start_time": "2024-09-11T08:10:46.929Z"
   },
   {
    "duration": 5048,
    "start_time": "2024-09-11T08:11:41.715Z"
   },
   {
    "duration": 5452,
    "start_time": "2024-09-11T08:11:50.188Z"
   },
   {
    "duration": 15,
    "start_time": "2024-09-11T08:17:51.107Z"
   },
   {
    "duration": 29,
    "start_time": "2024-09-11T08:17:53.941Z"
   },
   {
    "duration": 11,
    "start_time": "2024-09-11T08:18:08.593Z"
   },
   {
    "duration": 11,
    "start_time": "2024-09-11T08:20:49.389Z"
   },
   {
    "duration": 8,
    "start_time": "2024-09-11T08:20:52.592Z"
   },
   {
    "duration": 8,
    "start_time": "2024-09-11T08:21:28.571Z"
   },
   {
    "duration": 13,
    "start_time": "2024-09-11T08:21:39.720Z"
   },
   {
    "duration": 11,
    "start_time": "2024-09-11T08:24:00.756Z"
   },
   {
    "duration": 14,
    "start_time": "2024-09-11T08:26:33.796Z"
   },
   {
    "duration": 5819,
    "start_time": "2024-09-11T14:39:06.607Z"
   },
   {
    "duration": 1900,
    "start_time": "2024-09-11T14:39:12.429Z"
   },
   {
    "duration": 83,
    "start_time": "2024-09-11T14:39:14.331Z"
   },
   {
    "duration": 15,
    "start_time": "2024-09-11T14:39:14.416Z"
   },
   {
    "duration": 26,
    "start_time": "2024-09-11T14:39:14.432Z"
   },
   {
    "duration": 15,
    "start_time": "2024-09-11T14:39:14.460Z"
   },
   {
    "duration": 13,
    "start_time": "2024-09-11T14:39:14.478Z"
   },
   {
    "duration": 9,
    "start_time": "2024-09-11T14:39:14.493Z"
   },
   {
    "duration": 5428,
    "start_time": "2024-09-11T14:39:14.504Z"
   },
   {
    "duration": 1692,
    "start_time": "2024-09-11T14:39:30.338Z"
   },
   {
    "duration": 1625,
    "start_time": "2024-09-11T14:39:35.457Z"
   },
   {
    "duration": 3386,
    "start_time": "2024-09-11T14:42:54.087Z"
   },
   {
    "duration": 248,
    "start_time": "2024-09-11T14:47:43.195Z"
   },
   {
    "duration": 2741,
    "start_time": "2024-09-11T15:00:01.276Z"
   },
   {
    "duration": 11,
    "start_time": "2024-09-11T15:00:04.019Z"
   },
   {
    "duration": 66,
    "start_time": "2024-09-11T15:00:04.031Z"
   },
   {
    "duration": 17,
    "start_time": "2024-09-11T15:00:04.099Z"
   },
   {
    "duration": 17,
    "start_time": "2024-09-11T15:00:04.119Z"
   },
   {
    "duration": 14,
    "start_time": "2024-09-11T15:00:04.138Z"
   },
   {
    "duration": 28,
    "start_time": "2024-09-11T15:00:04.154Z"
   },
   {
    "duration": 22,
    "start_time": "2024-09-11T15:00:04.184Z"
   },
   {
    "duration": 3625,
    "start_time": "2024-09-11T15:00:04.207Z"
   },
   {
    "duration": 17,
    "start_time": "2024-09-11T15:00:07.834Z"
   },
   {
    "duration": 28,
    "start_time": "2024-09-11T15:00:07.868Z"
   },
   {
    "duration": 699,
    "start_time": "2024-09-11T15:00:07.898Z"
   },
   {
    "duration": 219,
    "start_time": "2024-09-11T15:00:08.599Z"
   },
   {
    "duration": 55,
    "start_time": "2024-09-11T15:00:08.821Z"
   },
   {
    "duration": 4201,
    "start_time": "2024-09-11T15:00:08.877Z"
   },
   {
    "duration": 619,
    "start_time": "2024-09-11T15:00:13.080Z"
   },
   {
    "duration": 141,
    "start_time": "2024-09-11T15:00:13.701Z"
   },
   {
    "duration": 1464,
    "start_time": "2024-09-11T15:00:13.844Z"
   },
   {
    "duration": 6020,
    "start_time": "2024-09-11T15:00:32.606Z"
   },
   {
    "duration": 135,
    "start_time": "2024-09-11T15:01:23.403Z"
   },
   {
    "duration": 674,
    "start_time": "2024-09-11T15:02:15.386Z"
   },
   {
    "duration": 439,
    "start_time": "2024-09-11T15:02:21.660Z"
   },
   {
    "duration": 124,
    "start_time": "2024-09-11T15:02:26.613Z"
   },
   {
    "duration": 47,
    "start_time": "2024-09-11T15:02:37.078Z"
   },
   {
    "duration": 4273,
    "start_time": "2024-09-11T15:03:08.945Z"
   },
   {
    "duration": 8505,
    "start_time": "2024-09-11T15:03:16.832Z"
   },
   {
    "duration": 619,
    "start_time": "2024-09-11T15:03:28.576Z"
   },
   {
    "duration": 2697,
    "start_time": "2024-09-11T15:04:45.015Z"
   },
   {
    "duration": 11,
    "start_time": "2024-09-11T15:04:47.714Z"
   },
   {
    "duration": 84,
    "start_time": "2024-09-11T15:04:47.727Z"
   },
   {
    "duration": 18,
    "start_time": "2024-09-11T15:04:47.814Z"
   },
   {
    "duration": 51,
    "start_time": "2024-09-11T15:04:47.834Z"
   },
   {
    "duration": 6,
    "start_time": "2024-09-11T15:04:47.887Z"
   },
   {
    "duration": 8,
    "start_time": "2024-09-11T15:04:47.894Z"
   },
   {
    "duration": 9,
    "start_time": "2024-09-11T15:04:47.903Z"
   },
   {
    "duration": 3471,
    "start_time": "2024-09-11T15:04:47.914Z"
   },
   {
    "duration": 17,
    "start_time": "2024-09-11T15:04:51.388Z"
   },
   {
    "duration": 40,
    "start_time": "2024-09-11T15:04:51.406Z"
   },
   {
    "duration": 715,
    "start_time": "2024-09-11T15:04:51.448Z"
   },
   {
    "duration": 452,
    "start_time": "2024-09-11T15:04:52.164Z"
   },
   {
    "duration": 131,
    "start_time": "2024-09-11T15:04:52.617Z"
   },
   {
    "duration": 51,
    "start_time": "2024-09-11T15:04:52.750Z"
   },
   {
    "duration": 4121,
    "start_time": "2024-09-11T15:04:52.803Z"
   },
   {
    "duration": 8387,
    "start_time": "2024-09-11T15:04:56.925Z"
   },
   {
    "duration": 721,
    "start_time": "2024-09-11T15:05:05.314Z"
   },
   {
    "duration": 119,
    "start_time": "2024-09-11T15:05:06.037Z"
   },
   {
    "duration": 1433,
    "start_time": "2024-09-11T15:05:06.158Z"
   },
   {
    "duration": 6091,
    "start_time": "2024-09-11T15:05:07.593Z"
   },
   {
    "duration": 289,
    "start_time": "2024-09-11T15:05:13.685Z"
   },
   {
    "duration": 81,
    "start_time": "2024-09-11T15:05:13.976Z"
   },
   {
    "duration": 143,
    "start_time": "2024-09-11T15:07:38.000Z"
   },
   {
    "duration": 137,
    "start_time": "2024-09-11T15:07:42.527Z"
   },
   {
    "duration": 133,
    "start_time": "2024-09-11T15:07:45.541Z"
   },
   {
    "duration": 6275,
    "start_time": "2024-09-11T15:07:50.125Z"
   },
   {
    "duration": 6053,
    "start_time": "2024-09-11T15:08:03.547Z"
   },
   {
    "duration": 2702,
    "start_time": "2024-09-11T15:18:48.927Z"
   },
   {
    "duration": 12,
    "start_time": "2024-09-11T15:18:51.632Z"
   },
   {
    "duration": 50,
    "start_time": "2024-09-11T15:18:51.646Z"
   },
   {
    "duration": 14,
    "start_time": "2024-09-11T15:18:51.699Z"
   },
   {
    "duration": 16,
    "start_time": "2024-09-11T15:18:51.714Z"
   },
   {
    "duration": 16,
    "start_time": "2024-09-11T15:18:51.732Z"
   },
   {
    "duration": 10,
    "start_time": "2024-09-11T15:18:51.749Z"
   },
   {
    "duration": 19,
    "start_time": "2024-09-11T15:18:51.762Z"
   },
   {
    "duration": 3611,
    "start_time": "2024-09-11T15:18:51.784Z"
   },
   {
    "duration": 16,
    "start_time": "2024-09-11T15:18:55.398Z"
   },
   {
    "duration": 13,
    "start_time": "2024-09-11T15:18:55.416Z"
   },
   {
    "duration": 721,
    "start_time": "2024-09-11T15:18:55.431Z"
   },
   {
    "duration": 406,
    "start_time": "2024-09-11T15:18:56.153Z"
   },
   {
    "duration": 127,
    "start_time": "2024-09-11T15:18:56.561Z"
   },
   {
    "duration": 45,
    "start_time": "2024-09-11T15:18:56.690Z"
   },
   {
    "duration": 4144,
    "start_time": "2024-09-11T15:18:56.736Z"
   },
   {
    "duration": 8370,
    "start_time": "2024-09-11T15:19:00.881Z"
   },
   {
    "duration": 627,
    "start_time": "2024-09-11T15:19:09.254Z"
   },
   {
    "duration": 92,
    "start_time": "2024-09-11T15:19:09.883Z"
   },
   {
    "duration": 1446,
    "start_time": "2024-09-11T15:19:09.977Z"
   },
   {
    "duration": 5834,
    "start_time": "2024-09-11T15:19:11.425Z"
   },
   {
    "duration": 124,
    "start_time": "2024-09-11T15:19:17.261Z"
   },
   {
    "duration": 67,
    "start_time": "2024-09-11T15:19:17.386Z"
   },
   {
    "duration": 80,
    "start_time": "2024-09-11T15:19:17.455Z"
   },
   {
    "duration": 17,
    "start_time": "2024-09-11T15:19:17.537Z"
   },
   {
    "duration": 251,
    "start_time": "2024-09-11T15:19:17.556Z"
   },
   {
    "duration": 144,
    "start_time": "2024-09-11T15:19:17.809Z"
   },
   {
    "duration": 28,
    "start_time": "2024-09-11T15:19:17.956Z"
   },
   {
    "duration": 647,
    "start_time": "2024-09-11T15:19:17.986Z"
   },
   {
    "duration": 9,
    "start_time": "2024-09-11T15:23:18.284Z"
   },
   {
    "duration": 12,
    "start_time": "2024-09-11T15:23:31.827Z"
   },
   {
    "duration": 10,
    "start_time": "2024-09-11T15:24:42.854Z"
   },
   {
    "duration": 21,
    "start_time": "2024-09-11T15:24:43.759Z"
   },
   {
    "duration": 10,
    "start_time": "2024-09-11T15:26:03.457Z"
   },
   {
    "duration": 134,
    "start_time": "2024-09-11T15:29:56.173Z"
   },
   {
    "duration": 36,
    "start_time": "2024-09-11T15:30:27.794Z"
   },
   {
    "duration": 10,
    "start_time": "2024-09-11T15:31:18.056Z"
   },
   {
    "duration": 7,
    "start_time": "2024-09-11T15:31:23.549Z"
   },
   {
    "duration": 21,
    "start_time": "2024-09-11T15:31:24.858Z"
   },
   {
    "duration": 26,
    "start_time": "2024-09-11T15:31:32.999Z"
   },
   {
    "duration": 12,
    "start_time": "2024-09-11T15:32:40.188Z"
   },
   {
    "duration": 11,
    "start_time": "2024-09-11T15:32:52.887Z"
   },
   {
    "duration": 7,
    "start_time": "2024-09-11T15:33:05.879Z"
   },
   {
    "duration": 6,
    "start_time": "2024-09-11T15:33:19.304Z"
   },
   {
    "duration": 7,
    "start_time": "2024-09-11T15:33:32.220Z"
   },
   {
    "duration": 7,
    "start_time": "2024-09-11T15:34:04.580Z"
   },
   {
    "duration": 9,
    "start_time": "2024-09-11T15:34:14.488Z"
   },
   {
    "duration": 16,
    "start_time": "2024-09-11T15:34:17.732Z"
   },
   {
    "duration": 7,
    "start_time": "2024-09-11T15:34:35.482Z"
   },
   {
    "duration": 22,
    "start_time": "2024-09-11T15:38:47.634Z"
   },
   {
    "duration": 12,
    "start_time": "2024-09-11T15:38:57.309Z"
   },
   {
    "duration": 19,
    "start_time": "2024-09-11T15:44:46.261Z"
   },
   {
    "duration": 20,
    "start_time": "2024-09-11T15:45:12.763Z"
   },
   {
    "duration": 11,
    "start_time": "2024-09-11T15:47:13.575Z"
   },
   {
    "duration": 13,
    "start_time": "2024-09-11T15:47:22.802Z"
   },
   {
    "duration": 11,
    "start_time": "2024-09-11T15:47:40.985Z"
   },
   {
    "duration": 14,
    "start_time": "2024-09-11T15:48:16.590Z"
   },
   {
    "duration": 16,
    "start_time": "2024-09-11T15:48:23.763Z"
   },
   {
    "duration": 2627,
    "start_time": "2024-09-11T15:53:22.972Z"
   },
   {
    "duration": 1603,
    "start_time": "2024-09-11T15:53:25.601Z"
   },
   {
    "duration": 33,
    "start_time": "2024-09-11T15:53:27.206Z"
   },
   {
    "duration": 15,
    "start_time": "2024-09-11T15:53:27.242Z"
   },
   {
    "duration": 24,
    "start_time": "2024-09-11T15:53:27.258Z"
   },
   {
    "duration": 6,
    "start_time": "2024-09-11T15:53:27.283Z"
   },
   {
    "duration": 13,
    "start_time": "2024-09-11T15:53:27.291Z"
   },
   {
    "duration": 7,
    "start_time": "2024-09-11T15:53:27.306Z"
   },
   {
    "duration": 3405,
    "start_time": "2024-09-11T15:53:27.315Z"
   },
   {
    "duration": 15,
    "start_time": "2024-09-11T15:53:30.722Z"
   },
   {
    "duration": 19,
    "start_time": "2024-09-11T15:53:30.739Z"
   },
   {
    "duration": 687,
    "start_time": "2024-09-11T15:53:30.759Z"
   },
   {
    "duration": 438,
    "start_time": "2024-09-11T15:53:31.448Z"
   },
   {
    "duration": 132,
    "start_time": "2024-09-11T15:53:31.888Z"
   },
   {
    "duration": 35,
    "start_time": "2024-09-11T15:53:32.021Z"
   },
   {
    "duration": 4139,
    "start_time": "2024-09-11T15:53:32.057Z"
   },
   {
    "duration": 8484,
    "start_time": "2024-09-11T15:53:36.198Z"
   },
   {
    "duration": 614,
    "start_time": "2024-09-11T15:53:44.683Z"
   },
   {
    "duration": 147,
    "start_time": "2024-09-11T15:53:45.299Z"
   },
   {
    "duration": 1480,
    "start_time": "2024-09-11T15:53:45.448Z"
   },
   {
    "duration": 6207,
    "start_time": "2024-09-11T15:53:46.929Z"
   },
   {
    "duration": 134,
    "start_time": "2024-09-11T15:53:53.138Z"
   },
   {
    "duration": 55,
    "start_time": "2024-09-11T15:53:53.273Z"
   },
   {
    "duration": 28,
    "start_time": "2024-09-11T15:53:53.330Z"
   },
   {
    "duration": 28,
    "start_time": "2024-09-11T15:53:53.360Z"
   },
   {
    "duration": 136,
    "start_time": "2024-09-11T15:53:53.390Z"
   },
   {
    "duration": 74,
    "start_time": "2024-09-11T15:53:53.528Z"
   },
   {
    "duration": 33,
    "start_time": "2024-09-11T15:53:53.607Z"
   },
   {
    "duration": 654,
    "start_time": "2024-09-11T15:53:53.642Z"
   }
  ],
  "kernelspec": {
   "display_name": "Python 3 (ipykernel)",
   "language": "python",
   "name": "python3"
  },
  "language_info": {
   "codemirror_mode": {
    "name": "ipython",
    "version": 3
   },
   "file_extension": ".py",
   "mimetype": "text/x-python",
   "name": "python",
   "nbconvert_exporter": "python",
   "pygments_lexer": "ipython3",
   "version": "3.13.1"
  },
  "toc": {
   "base_numbering": 1,
   "nav_menu": {},
   "number_sections": true,
   "sideBar": true,
   "skip_h1_title": true,
   "title_cell": "Table of Contents",
   "title_sidebar": "Contents",
   "toc_cell": false,
   "toc_position": {},
   "toc_section_display": true,
   "toc_window_display": true
  }
 },
 "nbformat": 4,
 "nbformat_minor": 4
}
