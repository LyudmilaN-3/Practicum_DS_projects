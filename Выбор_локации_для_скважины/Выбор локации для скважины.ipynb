{
 "cells": [
  {
   "cell_type": "markdown",
   "id": "ae57d8f8-decf-4e97-abdf-2c3e494cb4ae",
   "metadata": {},
   "source": [
    "## ПРОЕКТ: ВЫБОР ЛОКАЦИИ ДЛЯ СКВАЖИНЫ"
   ]
  },
  {
   "cell_type": "markdown",
   "id": "16920c9a-b269-45b4-9e3d-c0b4fcc6c376",
   "metadata": {},
   "source": [
    "### ОПИСАНИЕ ПРОЕКТА"
   ]
  },
  {
   "cell_type": "markdown",
   "id": "b310d43f-e831-4fcc-b908-8cbb21ca06f6",
   "metadata": {},
   "source": [
    "Заказчик проекта - добывающая компания \"ГлавРосГосНефть\". Нужно решить, где бурить новую скважину.\\\n",
    "Заказчиком предоставлены пробы нефти в трёх регионах. Характеристики для каждой скважины в регионе уже известны."
   ]
  },
  {
   "cell_type": "markdown",
   "id": "dd0bca53-317a-46a5-ace5-bf6475b5d524",
   "metadata": {},
   "source": [
    "### ЗАДАЧА ПРОЕКТА"
   ]
  },
  {
   "cell_type": "markdown",
   "id": "dbbd0390-fbae-4a6f-a17c-207a51243fb5",
   "metadata": {},
   "source": [
    "Нужно построить модель для определения региона, где добыча принесёт наибольшую прибыль.\\\n",
    "Также нужно проанализировать возможную прибыль и риски техникой Bootstrap."
   ]
  },
  {
   "cell_type": "markdown",
   "id": "73ff0704-c210-46cf-b010-36c59bda3e40",
   "metadata": {},
   "source": [
    "### ПЛАН ПРОЕКТА"
   ]
  },
  {
   "cell_type": "markdown",
   "id": "bb53d229-d214-4c90-a544-4fa54037451f",
   "metadata": {},
   "source": [
    "1. [Загрузка и подготовка данных](#1)\n",
    "2. [Обучение и проверка модели для каждого региона](#2)\n",
    "3. [Подготовка к расчёту прибыли](#3)\n",
    "4. [Функция для расчёта прибыли по выбранным скважинам и предсказаниям модели](#4)\n",
    "5. [Расчёт рисков и прибыли для каждого региона](#5)"
   ]
  },
  {
   "cell_type": "markdown",
   "id": "83981f74-c2e4-463c-8017-72ad11d9f39d",
   "metadata": {},
   "source": [
    "<a id='1'></a>\n",
    "# Загрузка и подготовка данных"
   ]
  },
  {
   "cell_type": "markdown",
   "id": "da8dc4f2-cc94-4e54-9855-e40373abd7a2",
   "metadata": {},
   "source": [
    "## Загрузка и изучение данных"
   ]
  },
  {
   "cell_type": "markdown",
   "id": "b8be4e70-bdb3-4209-a19a-3215ac48fc2a",
   "metadata": {},
   "source": [
    "### Получение данных из файлов, запись в датафреймы"
   ]
  },
  {
   "cell_type": "code",
   "execution_count": 1,
   "id": "a329b15e-cb6b-40c1-a32f-104d452ea148",
   "metadata": {},
   "outputs": [],
   "source": [
    "!pip install jupyter_black -q"
   ]
  },
  {
   "cell_type": "code",
   "execution_count": 2,
   "id": "2efa3b3e",
   "metadata": {},
   "outputs": [],
   "source": [
    "!pip install phik -q"
   ]
  },
  {
   "cell_type": "code",
   "execution_count": 3,
   "id": "70c1d7f0-cae0-4b03-9695-5cd446dae9f3",
   "metadata": {},
   "outputs": [],
   "source": [
    "!pip install -Uq scikit-learn"
   ]
  },
  {
   "cell_type": "markdown",
   "id": "9486e682-fbbc-4c6f-8c22-961a83bf8a65",
   "metadata": {},
   "source": [
    "Импортируем необходимые библиотеки"
   ]
  },
  {
   "cell_type": "code",
   "execution_count": 4,
   "id": "79f806e6-c0ab-40cb-8795-8919e1f9f2a2",
   "metadata": {},
   "outputs": [],
   "source": [
    "# импорт pandas и необходимых библиотек\n",
    "import jupyter_black\n",
    "import numpy as np\n",
    "import matplotlib\n",
    "import matplotlib.pyplot as plt\n",
    "import os\n",
    "import pandas as pd\n",
    "\n",
    "import warnings\n",
    "\n",
    "from joblib import dump, load\n",
    "\n",
    "from matplotlib.colors import LinearSegmentedColormap\n",
    "\n",
    "from sklearn.linear_model import LinearRegression\n",
    "from sklearn.metrics import root_mean_squared_error\n",
    "from sklearn.model_selection import train_test_split\n",
    "from sklearn.pipeline import Pipeline\n",
    "from phik.report import plot_correlation_matrix\n",
    "\n",
    "warnings.filterwarnings(\"ignore\")\n",
    "\n",
    "jupyter_black.load()\n",
    "\n",
    "RANDOM_STATE = 42"
   ]
  },
  {
   "cell_type": "markdown",
   "id": "f70b769e-86bb-453e-b7db-1f566009bfa8",
   "metadata": {},
   "source": [
    "Откроем файлы, прочтем и запишем в переменные."
   ]
  },
  {
   "cell_type": "code",
   "execution_count": 5,
   "id": "510bca9b-ac8d-4993-988c-0f1745a173a8",
   "metadata": {},
   "outputs": [],
   "source": [
    "# объявление переменных\n",
    "geo_data_0 = \"dataset_0.csv\"\n",
    "geo_data_1 = \"dataset_1.csv\"\n",
    "geo_data_2 = \"data_set_2.csv\"\n",
    "user_path = \"...\"\n",
    "general_path = \"...\"\n",
    "\n",
    "\n",
    "# функция для чтения файлов\n",
    "def get_read_file(general_path, user_path, file, delimiter):\n",
    "    path1 = os.path.join(general_path, file)\n",
    "    path2 = os.path.join(user_path, file)\n",
    "\n",
    "    try:\n",
    "        if os.path.exists(os.path.join(path1)):\n",
    "            return pd.read_csv(path1, sep=delimiter, skipinitialspace=True)\n",
    "        elif os.path.exists(os.path.join(path2)):\n",
    "            return pd.read_csv(path2, sep=delimiter, skipinitialspace=True)\n",
    "    except Exception as err:\n",
    "        print(\"Путь к файлу не найден!\", err)\n",
    "\n",
    "\n",
    "# чтение csv-файла в датафрейм с сохранением в переменную geo_1_df\n",
    "geo_1_df = get_read_file(general_path, user_path, geo_data_0, \",\")\n",
    "geo_1_df.name = \"geo_1_df\"\n",
    "# чтение csv-файла в датафрейм с сохранением в переменную geo_2_df\n",
    "geo_2_df = get_read_file(general_path, user_path, geo_data_1, \",\")\n",
    "geo_2_df.name = \"geo_2_df\"\n",
    "# чтение csv-файла в датафрейм с сохранением в переменную geo_3_df\n",
    "geo_3_df = get_read_file(general_path, user_path, geo_data_2, \",\")\n",
    "geo_3_df.name = \"geo_3_df\""
   ]
  },
  {
   "cell_type": "markdown",
   "id": "1fb0669e-7f3d-4427-93e2-f2e45cd9e247",
   "metadata": {},
   "source": [
    "### Изучение данных"
   ]
  },
  {
   "cell_type": "markdown",
   "id": "594afc72-ad99-4675-92a8-cc3a34cd2bf7",
   "metadata": {},
   "source": [
    "Изучим общую информацию о полученных датафреймах"
   ]
  },
  {
   "cell_type": "code",
   "execution_count": 6,
   "id": "6ec13c78-a24b-4fd0-b13c-0cc3a0de6a06",
   "metadata": {},
   "outputs": [
    {
     "name": "stdout",
     "output_type": "stream",
     "text": [
      "Датафрейм - geo_1_df\n",
      "---------\n"
     ]
    },
    {
     "data": {
      "text/html": [
       "<div>\n",
       "<style scoped>\n",
       "    .dataframe tbody tr th:only-of-type {\n",
       "        vertical-align: middle;\n",
       "    }\n",
       "\n",
       "    .dataframe tbody tr th {\n",
       "        vertical-align: top;\n",
       "    }\n",
       "\n",
       "    .dataframe thead th {\n",
       "        text-align: right;\n",
       "    }\n",
       "</style>\n",
       "<table border=\"1\" class=\"dataframe\">\n",
       "  <thead>\n",
       "    <tr style=\"text-align: right;\">\n",
       "      <th></th>\n",
       "      <th>id</th>\n",
       "      <th>f0</th>\n",
       "      <th>f1</th>\n",
       "      <th>f2</th>\n",
       "      <th>product</th>\n",
       "    </tr>\n",
       "  </thead>\n",
       "  <tbody>\n",
       "    <tr>\n",
       "      <th>0</th>\n",
       "      <td>txEyH</td>\n",
       "      <td>0.705745</td>\n",
       "      <td>-0.497823</td>\n",
       "      <td>1.221170</td>\n",
       "      <td>105.280062</td>\n",
       "    </tr>\n",
       "    <tr>\n",
       "      <th>1</th>\n",
       "      <td>2acmU</td>\n",
       "      <td>1.334711</td>\n",
       "      <td>-0.340164</td>\n",
       "      <td>4.365080</td>\n",
       "      <td>73.037750</td>\n",
       "    </tr>\n",
       "    <tr>\n",
       "      <th>2</th>\n",
       "      <td>409Wp</td>\n",
       "      <td>1.022732</td>\n",
       "      <td>0.151990</td>\n",
       "      <td>1.419926</td>\n",
       "      <td>85.265647</td>\n",
       "    </tr>\n",
       "    <tr>\n",
       "      <th>3</th>\n",
       "      <td>iJLyR</td>\n",
       "      <td>-0.032172</td>\n",
       "      <td>0.139033</td>\n",
       "      <td>2.978566</td>\n",
       "      <td>168.620776</td>\n",
       "    </tr>\n",
       "    <tr>\n",
       "      <th>4</th>\n",
       "      <td>Xdl7t</td>\n",
       "      <td>1.988431</td>\n",
       "      <td>0.155413</td>\n",
       "      <td>4.751769</td>\n",
       "      <td>154.036647</td>\n",
       "    </tr>\n",
       "  </tbody>\n",
       "</table>\n",
       "</div>"
      ],
      "text/plain": [
       "      id        f0        f1        f2     product\n",
       "0  txEyH  0.705745 -0.497823  1.221170  105.280062\n",
       "1  2acmU  1.334711 -0.340164  4.365080   73.037750\n",
       "2  409Wp  1.022732  0.151990  1.419926   85.265647\n",
       "3  iJLyR -0.032172  0.139033  2.978566  168.620776\n",
       "4  Xdl7t  1.988431  0.155413  4.751769  154.036647"
      ]
     },
     "metadata": {},
     "output_type": "display_data"
    },
    {
     "name": "stdout",
     "output_type": "stream",
     "text": [
      "\n",
      "Датафрейм - geo_2_df\n",
      "---------\n"
     ]
    },
    {
     "data": {
      "text/html": [
       "<div>\n",
       "<style scoped>\n",
       "    .dataframe tbody tr th:only-of-type {\n",
       "        vertical-align: middle;\n",
       "    }\n",
       "\n",
       "    .dataframe tbody tr th {\n",
       "        vertical-align: top;\n",
       "    }\n",
       "\n",
       "    .dataframe thead th {\n",
       "        text-align: right;\n",
       "    }\n",
       "</style>\n",
       "<table border=\"1\" class=\"dataframe\">\n",
       "  <thead>\n",
       "    <tr style=\"text-align: right;\">\n",
       "      <th></th>\n",
       "      <th>id</th>\n",
       "      <th>f0</th>\n",
       "      <th>f1</th>\n",
       "      <th>f2</th>\n",
       "      <th>product</th>\n",
       "    </tr>\n",
       "  </thead>\n",
       "  <tbody>\n",
       "    <tr>\n",
       "      <th>0</th>\n",
       "      <td>kBEdx</td>\n",
       "      <td>-15.001348</td>\n",
       "      <td>-8.276000</td>\n",
       "      <td>-0.005876</td>\n",
       "      <td>3.179103</td>\n",
       "    </tr>\n",
       "    <tr>\n",
       "      <th>1</th>\n",
       "      <td>62mP7</td>\n",
       "      <td>14.272088</td>\n",
       "      <td>-3.475083</td>\n",
       "      <td>0.999183</td>\n",
       "      <td>26.953261</td>\n",
       "    </tr>\n",
       "    <tr>\n",
       "      <th>2</th>\n",
       "      <td>vyE1P</td>\n",
       "      <td>6.263187</td>\n",
       "      <td>-5.948386</td>\n",
       "      <td>5.001160</td>\n",
       "      <td>134.766305</td>\n",
       "    </tr>\n",
       "    <tr>\n",
       "      <th>3</th>\n",
       "      <td>KcrkZ</td>\n",
       "      <td>-13.081196</td>\n",
       "      <td>-11.506057</td>\n",
       "      <td>4.999415</td>\n",
       "      <td>137.945408</td>\n",
       "    </tr>\n",
       "    <tr>\n",
       "      <th>4</th>\n",
       "      <td>AHL4O</td>\n",
       "      <td>12.702195</td>\n",
       "      <td>-8.147433</td>\n",
       "      <td>5.004363</td>\n",
       "      <td>134.766305</td>\n",
       "    </tr>\n",
       "  </tbody>\n",
       "</table>\n",
       "</div>"
      ],
      "text/plain": [
       "      id         f0         f1        f2     product\n",
       "0  kBEdx -15.001348  -8.276000 -0.005876    3.179103\n",
       "1  62mP7  14.272088  -3.475083  0.999183   26.953261\n",
       "2  vyE1P   6.263187  -5.948386  5.001160  134.766305\n",
       "3  KcrkZ -13.081196 -11.506057  4.999415  137.945408\n",
       "4  AHL4O  12.702195  -8.147433  5.004363  134.766305"
      ]
     },
     "metadata": {},
     "output_type": "display_data"
    },
    {
     "name": "stdout",
     "output_type": "stream",
     "text": [
      "\n",
      "Датафрейм - geo_3_df\n",
      "---------\n"
     ]
    },
    {
     "data": {
      "text/html": [
       "<div>\n",
       "<style scoped>\n",
       "    .dataframe tbody tr th:only-of-type {\n",
       "        vertical-align: middle;\n",
       "    }\n",
       "\n",
       "    .dataframe tbody tr th {\n",
       "        vertical-align: top;\n",
       "    }\n",
       "\n",
       "    .dataframe thead th {\n",
       "        text-align: right;\n",
       "    }\n",
       "</style>\n",
       "<table border=\"1\" class=\"dataframe\">\n",
       "  <thead>\n",
       "    <tr style=\"text-align: right;\">\n",
       "      <th></th>\n",
       "      <th>id</th>\n",
       "      <th>f0</th>\n",
       "      <th>f1</th>\n",
       "      <th>f2</th>\n",
       "      <th>product</th>\n",
       "    </tr>\n",
       "  </thead>\n",
       "  <tbody>\n",
       "    <tr>\n",
       "      <th>0</th>\n",
       "      <td>fwXo0</td>\n",
       "      <td>-1.146987</td>\n",
       "      <td>0.963328</td>\n",
       "      <td>-0.828965</td>\n",
       "      <td>27.758673</td>\n",
       "    </tr>\n",
       "    <tr>\n",
       "      <th>1</th>\n",
       "      <td>WJtFt</td>\n",
       "      <td>0.262778</td>\n",
       "      <td>0.269839</td>\n",
       "      <td>-2.530187</td>\n",
       "      <td>56.069697</td>\n",
       "    </tr>\n",
       "    <tr>\n",
       "      <th>2</th>\n",
       "      <td>ovLUW</td>\n",
       "      <td>0.194587</td>\n",
       "      <td>0.289035</td>\n",
       "      <td>-5.586433</td>\n",
       "      <td>62.871910</td>\n",
       "    </tr>\n",
       "    <tr>\n",
       "      <th>3</th>\n",
       "      <td>q6cA6</td>\n",
       "      <td>2.236060</td>\n",
       "      <td>-0.553760</td>\n",
       "      <td>0.930038</td>\n",
       "      <td>114.572842</td>\n",
       "    </tr>\n",
       "    <tr>\n",
       "      <th>4</th>\n",
       "      <td>WPMUX</td>\n",
       "      <td>-0.515993</td>\n",
       "      <td>1.716266</td>\n",
       "      <td>5.899011</td>\n",
       "      <td>149.600746</td>\n",
       "    </tr>\n",
       "  </tbody>\n",
       "</table>\n",
       "</div>"
      ],
      "text/plain": [
       "      id        f0        f1        f2     product\n",
       "0  fwXo0 -1.146987  0.963328 -0.828965   27.758673\n",
       "1  WJtFt  0.262778  0.269839 -2.530187   56.069697\n",
       "2  ovLUW  0.194587  0.289035 -5.586433   62.871910\n",
       "3  q6cA6  2.236060 -0.553760  0.930038  114.572842\n",
       "4  WPMUX -0.515993  1.716266  5.899011  149.600746"
      ]
     },
     "metadata": {},
     "output_type": "display_data"
    },
    {
     "name": "stdout",
     "output_type": "stream",
     "text": [
      "\n"
     ]
    }
   ],
   "source": [
    "# объявление списка датафреймов\n",
    "df_lst = [geo_1_df, geo_2_df, geo_3_df]\n",
    "\n",
    "\n",
    "# функции для вывода информации о датафреймах\n",
    "def get_method(method):\n",
    "    return [getattr(df, method) for df in df_lst]\n",
    "\n",
    "\n",
    "def get_info(lst, get_method, flag=True):\n",
    "    i = 0\n",
    "    for df in df_lst:\n",
    "        print(f\"Датафрейм - {df.name}\")\n",
    "        print(\"---------\")\n",
    "        if flag:\n",
    "            display(get_method[i]())\n",
    "        else:\n",
    "            get_method[i]()\n",
    "        print(\"\")\n",
    "        i += 1\n",
    "\n",
    "\n",
    "# вывод первых 5-ти строчек датафреймов\n",
    "get_info(df_lst, get_method(\"head\"))"
   ]
  },
  {
   "cell_type": "code",
   "execution_count": 7,
   "id": "b5cac809-501b-4413-b63c-4232aad76a05",
   "metadata": {},
   "outputs": [
    {
     "name": "stdout",
     "output_type": "stream",
     "text": [
      "Датафрейм - geo_1_df\n",
      "---------\n",
      "<class 'pandas.core.frame.DataFrame'>\n",
      "RangeIndex: 100000 entries, 0 to 99999\n",
      "Data columns (total 5 columns):\n",
      " #   Column   Non-Null Count   Dtype  \n",
      "---  ------   --------------   -----  \n",
      " 0   id       100000 non-null  object \n",
      " 1   f0       100000 non-null  float64\n",
      " 2   f1       100000 non-null  float64\n",
      " 3   f2       100000 non-null  float64\n",
      " 4   product  100000 non-null  float64\n",
      "dtypes: float64(4), object(1)\n",
      "memory usage: 3.8+ MB\n",
      "\n",
      "Датафрейм - geo_2_df\n",
      "---------\n",
      "<class 'pandas.core.frame.DataFrame'>\n",
      "RangeIndex: 100000 entries, 0 to 99999\n",
      "Data columns (total 5 columns):\n",
      " #   Column   Non-Null Count   Dtype  \n",
      "---  ------   --------------   -----  \n",
      " 0   id       100000 non-null  object \n",
      " 1   f0       100000 non-null  float64\n",
      " 2   f1       100000 non-null  float64\n",
      " 3   f2       100000 non-null  float64\n",
      " 4   product  100000 non-null  float64\n",
      "dtypes: float64(4), object(1)\n",
      "memory usage: 3.8+ MB\n",
      "\n",
      "Датафрейм - geo_3_df\n",
      "---------\n",
      "<class 'pandas.core.frame.DataFrame'>\n",
      "RangeIndex: 100000 entries, 0 to 99999\n",
      "Data columns (total 5 columns):\n",
      " #   Column   Non-Null Count   Dtype  \n",
      "---  ------   --------------   -----  \n",
      " 0   id       100000 non-null  object \n",
      " 1   f0       100000 non-null  float64\n",
      " 2   f1       100000 non-null  float64\n",
      " 3   f2       100000 non-null  float64\n",
      " 4   product  100000 non-null  float64\n",
      "dtypes: float64(4), object(1)\n",
      "memory usage: 3.8+ MB\n",
      "\n"
     ]
    }
   ],
   "source": [
    "# вывод основной информации о датафреймах\n",
    "get_info(df_lst, get_method(\"info\"), flag=False)"
   ]
  },
  {
   "cell_type": "markdown",
   "id": "c7ccee16-2371-42e2-b283-06776e2f2daa",
   "metadata": {},
   "source": [
    "Обратим внимание на наименования столбцов в датафреймах"
   ]
  },
  {
   "cell_type": "code",
   "execution_count": 8,
   "id": "63b1b459-0e5d-4398-8b0e-aa7f44f8ff84",
   "metadata": {},
   "outputs": [
    {
     "name": "stdout",
     "output_type": "stream",
     "text": [
      "\n",
      "Датафрейм - geo_1_df\n",
      "---------\n",
      "id\n",
      "f0\n",
      "f1\n",
      "f2\n",
      "product\n",
      "\n",
      "Датафрейм - geo_2_df\n",
      "---------\n",
      "id\n",
      "f0\n",
      "f1\n",
      "f2\n",
      "product\n",
      "\n",
      "Датафрейм - geo_3_df\n",
      "---------\n",
      "id\n",
      "f0\n",
      "f1\n",
      "f2\n",
      "product\n"
     ]
    }
   ],
   "source": [
    "# вывод наименований столбцов в датафреймах\n",
    "for df in df_lst:\n",
    "    print(\"\")\n",
    "    print(f\"Датафрейм - {df.name}\")\n",
    "    print(\"---------\")\n",
    "    print(*df.columns.tolist(), sep=\"\\n\")"
   ]
  },
  {
   "cell_type": "markdown",
   "id": "73e7865d-1caa-44d0-a24d-ca3716422015",
   "metadata": {},
   "source": [
    "***"
   ]
  },
  {
   "cell_type": "markdown",
   "id": "c06ae664-f5e3-4741-ac0d-34ad217ab71d",
   "metadata": {},
   "source": [
    "***ВЫВОД:***\n",
    "\n",
    "1. Данные загружены в датафреймы.\n",
    "2. Пропуски в данных отсутствуют.\n",
    "3. Наименования столбцов во всех датафреймах имеют стандартный вид."
   ]
  },
  {
   "cell_type": "markdown",
   "id": "eb466f55-be5c-46ea-86de-3ff883fb08c2",
   "metadata": {},
   "source": [
    "## Предобработка данных"
   ]
  },
  {
   "cell_type": "markdown",
   "id": "e51b1ce7-4526-4624-99fa-f341d75053ac",
   "metadata": {},
   "source": [
    "Выведем количество явных дубликатов"
   ]
  },
  {
   "cell_type": "code",
   "execution_count": 21,
   "id": "e6662d0f-a05d-47d1-a0e0-f1fdb803b2be",
   "metadata": {},
   "outputs": [
    {
     "name": "stdout",
     "output_type": "stream",
     "text": [
      "geo_1_df - 0\n",
      "geo_2_df - 0\n",
      "geo_3_df - 0\n"
     ]
    }
   ],
   "source": [
    "# вывод количества явных дубликатов датафреймов\n",
    "for df in df_lst:\n",
    "    print(f\"{df.name} - {df.duplicated().sum()}\")"
   ]
  },
  {
   "cell_type": "markdown",
   "id": "874885f0",
   "metadata": {},
   "source": [
    "Так как id - это уникальный идентификатор скважины, установим id как индекс."
   ]
  },
  {
   "cell_type": "code",
   "execution_count": 22,
   "id": "cee36135",
   "metadata": {},
   "outputs": [],
   "source": [
    "# установление индексов в датафреймах\n",
    "geo_1_df.set_index(\"id\", drop=True, inplace=True)\n",
    "geo_2_df.set_index(\"id\", drop=True, inplace=True)\n",
    "geo_3_df.set_index(\"id\", drop=True, inplace=True)"
   ]
  },
  {
   "cell_type": "markdown",
   "id": "56b42163",
   "metadata": {},
   "source": [
    "Ещё раз проверим датафреймы на наличие дубликатов после установления id как индекса"
   ]
  },
  {
   "cell_type": "code",
   "execution_count": 24,
   "id": "62804cc7",
   "metadata": {},
   "outputs": [
    {
     "name": "stdout",
     "output_type": "stream",
     "text": [
      "geo_1_df - 0\n",
      "geo_2_df - 0\n",
      "geo_3_df - 0\n"
     ]
    }
   ],
   "source": [
    "# вывод количества явных дубликатов датафреймов\n",
    "for df in df_lst:\n",
    "    print(f\"{df.name} - {df.duplicated().sum()}\")"
   ]
  },
  {
   "cell_type": "markdown",
   "id": "01001f9b-62de-4285-b8e1-e1bb404600e5",
   "metadata": {},
   "source": [
    "***"
   ]
  },
  {
   "cell_type": "markdown",
   "id": "a816ce95-43af-4695-883c-c4d5e2c54648",
   "metadata": {},
   "source": [
    "**Вывод:**\n",
    "\n",
    "1. Явные дубликаты в датафреймах отсутствуют\n",
    "2. Во всех датафреймах были установлены ID как индексы."
   ]
  },
  {
   "cell_type": "markdown",
   "id": "67222783-0cf6-402d-968d-4d80b4f20835",
   "metadata": {},
   "source": [
    "## Исследовательский анализ данных"
   ]
  },
  {
   "cell_type": "markdown",
   "id": "ecade114-87d0-431b-8cc8-181422140d28",
   "metadata": {},
   "source": [
    "Проведём статистический анализ признаков в датафреймах"
   ]
  },
  {
   "cell_type": "markdown",
   "id": "58ef9cf2-408e-4afc-a04d-c9681d199d89",
   "metadata": {},
   "source": [
    "Выведем описательную статистику для количественных признаков датафреймов"
   ]
  },
  {
   "cell_type": "code",
   "execution_count": 25,
   "id": "11b4dfa5-e6bb-4a8e-9b62-4f6253ff1181",
   "metadata": {
    "jp-MarkdownHeadingCollapsed": true
   },
   "outputs": [
    {
     "data": {
      "text/html": [
       "<div>\n",
       "<style scoped>\n",
       "    .dataframe tbody tr th:only-of-type {\n",
       "        vertical-align: middle;\n",
       "    }\n",
       "\n",
       "    .dataframe tbody tr th {\n",
       "        vertical-align: top;\n",
       "    }\n",
       "\n",
       "    .dataframe thead th {\n",
       "        text-align: right;\n",
       "    }\n",
       "</style>\n",
       "<table border=\"1\" class=\"dataframe\">\n",
       "  <thead>\n",
       "    <tr style=\"text-align: right;\">\n",
       "      <th></th>\n",
       "      <th>f0</th>\n",
       "      <th>f1</th>\n",
       "      <th>f2</th>\n",
       "      <th>product</th>\n",
       "    </tr>\n",
       "  </thead>\n",
       "  <tbody>\n",
       "    <tr>\n",
       "      <th>count</th>\n",
       "      <td>100000.000</td>\n",
       "      <td>100000.000</td>\n",
       "      <td>100000.000</td>\n",
       "      <td>100000.000</td>\n",
       "    </tr>\n",
       "    <tr>\n",
       "      <th>mean</th>\n",
       "      <td>0.500</td>\n",
       "      <td>0.250</td>\n",
       "      <td>2.503</td>\n",
       "      <td>92.500</td>\n",
       "    </tr>\n",
       "    <tr>\n",
       "      <th>std</th>\n",
       "      <td>0.872</td>\n",
       "      <td>0.504</td>\n",
       "      <td>3.248</td>\n",
       "      <td>44.289</td>\n",
       "    </tr>\n",
       "    <tr>\n",
       "      <th>min</th>\n",
       "      <td>-1.409</td>\n",
       "      <td>-0.848</td>\n",
       "      <td>-12.088</td>\n",
       "      <td>0.000</td>\n",
       "    </tr>\n",
       "    <tr>\n",
       "      <th>25%</th>\n",
       "      <td>-0.073</td>\n",
       "      <td>-0.201</td>\n",
       "      <td>0.288</td>\n",
       "      <td>56.498</td>\n",
       "    </tr>\n",
       "    <tr>\n",
       "      <th>50%</th>\n",
       "      <td>0.502</td>\n",
       "      <td>0.250</td>\n",
       "      <td>2.516</td>\n",
       "      <td>91.850</td>\n",
       "    </tr>\n",
       "    <tr>\n",
       "      <th>75%</th>\n",
       "      <td>1.074</td>\n",
       "      <td>0.701</td>\n",
       "      <td>4.715</td>\n",
       "      <td>128.564</td>\n",
       "    </tr>\n",
       "    <tr>\n",
       "      <th>max</th>\n",
       "      <td>2.362</td>\n",
       "      <td>1.344</td>\n",
       "      <td>16.004</td>\n",
       "      <td>185.364</td>\n",
       "    </tr>\n",
       "  </tbody>\n",
       "</table>\n",
       "</div>"
      ],
      "text/plain": [
       "               f0          f1          f2     product\n",
       "count  100000.000  100000.000  100000.000  100000.000\n",
       "mean        0.500       0.250       2.503      92.500\n",
       "std         0.872       0.504       3.248      44.289\n",
       "min        -1.409      -0.848     -12.088       0.000\n",
       "25%        -0.073      -0.201       0.288      56.498\n",
       "50%         0.502       0.250       2.516      91.850\n",
       "75%         1.074       0.701       4.715     128.564\n",
       "max         2.362       1.344      16.004     185.364"
      ]
     },
     "execution_count": 25,
     "metadata": {},
     "output_type": "execute_result"
    }
   ],
   "source": [
    "# вывод описательной статистики для количественных признаков датасета\n",
    "geo_1_df.describe().round(3)"
   ]
  },
  {
   "cell_type": "markdown",
   "id": "84ad7243-2c42-4580-a8e7-84310e185f5f",
   "metadata": {},
   "source": [
    "В датафрейме **geo_1_df** 4 количественных признака: 3 входящих и 1 целевой.\\\n",
    "По входящим признакам среднее и медиана отличаются несущественно,\\\n",
    "хотя стандартное отклонение по всем признакам достаточно велико, особенно по признаку `'f2'` (3,248).\\\n",
    "По целевому признаку `'product'` среднее и медиана имеют существенное отличие (92,5 и 91,85).\\\n",
    "И стандартное отклонение тоже велико (44,289)."
   ]
  },
  {
   "cell_type": "code",
   "execution_count": 26,
   "id": "760fe61b",
   "metadata": {
    "jp-MarkdownHeadingCollapsed": true
   },
   "outputs": [
    {
     "data": {
      "text/html": [
       "<div>\n",
       "<style scoped>\n",
       "    .dataframe tbody tr th:only-of-type {\n",
       "        vertical-align: middle;\n",
       "    }\n",
       "\n",
       "    .dataframe tbody tr th {\n",
       "        vertical-align: top;\n",
       "    }\n",
       "\n",
       "    .dataframe thead th {\n",
       "        text-align: right;\n",
       "    }\n",
       "</style>\n",
       "<table border=\"1\" class=\"dataframe\">\n",
       "  <thead>\n",
       "    <tr style=\"text-align: right;\">\n",
       "      <th></th>\n",
       "      <th>f0</th>\n",
       "      <th>f1</th>\n",
       "      <th>f2</th>\n",
       "      <th>product</th>\n",
       "    </tr>\n",
       "  </thead>\n",
       "  <tbody>\n",
       "    <tr>\n",
       "      <th>count</th>\n",
       "      <td>100000.000</td>\n",
       "      <td>100000.000</td>\n",
       "      <td>100000.000</td>\n",
       "      <td>100000.000</td>\n",
       "    </tr>\n",
       "    <tr>\n",
       "      <th>mean</th>\n",
       "      <td>1.141</td>\n",
       "      <td>-4.797</td>\n",
       "      <td>2.495</td>\n",
       "      <td>68.825</td>\n",
       "    </tr>\n",
       "    <tr>\n",
       "      <th>std</th>\n",
       "      <td>8.966</td>\n",
       "      <td>5.120</td>\n",
       "      <td>1.704</td>\n",
       "      <td>45.944</td>\n",
       "    </tr>\n",
       "    <tr>\n",
       "      <th>min</th>\n",
       "      <td>-31.610</td>\n",
       "      <td>-26.359</td>\n",
       "      <td>-0.018</td>\n",
       "      <td>0.000</td>\n",
       "    </tr>\n",
       "    <tr>\n",
       "      <th>25%</th>\n",
       "      <td>-6.299</td>\n",
       "      <td>-8.268</td>\n",
       "      <td>1.000</td>\n",
       "      <td>26.953</td>\n",
       "    </tr>\n",
       "    <tr>\n",
       "      <th>50%</th>\n",
       "      <td>1.153</td>\n",
       "      <td>-4.813</td>\n",
       "      <td>2.011</td>\n",
       "      <td>57.086</td>\n",
       "    </tr>\n",
       "    <tr>\n",
       "      <th>75%</th>\n",
       "      <td>8.621</td>\n",
       "      <td>-1.333</td>\n",
       "      <td>4.000</td>\n",
       "      <td>107.813</td>\n",
       "    </tr>\n",
       "    <tr>\n",
       "      <th>max</th>\n",
       "      <td>29.422</td>\n",
       "      <td>18.734</td>\n",
       "      <td>5.020</td>\n",
       "      <td>137.945</td>\n",
       "    </tr>\n",
       "  </tbody>\n",
       "</table>\n",
       "</div>"
      ],
      "text/plain": [
       "               f0          f1          f2     product\n",
       "count  100000.000  100000.000  100000.000  100000.000\n",
       "mean        1.141      -4.797       2.495      68.825\n",
       "std         8.966       5.120       1.704      45.944\n",
       "min       -31.610     -26.359      -0.018       0.000\n",
       "25%        -6.299      -8.268       1.000      26.953\n",
       "50%         1.153      -4.813       2.011      57.086\n",
       "75%         8.621      -1.333       4.000     107.813\n",
       "max        29.422      18.734       5.020     137.945"
      ]
     },
     "execution_count": 26,
     "metadata": {},
     "output_type": "execute_result"
    }
   ],
   "source": [
    "# вывод описательной статистики для количественных признаков датасета\n",
    "geo_2_df.describe().round(3)"
   ]
  },
  {
   "cell_type": "markdown",
   "id": "8ce460c9",
   "metadata": {},
   "source": [
    "В датафрейме **geo_2_df**  4 количественных признака: 3 входящих и 1 целевой.\\\n",
    "По входящим признакам `'f0'` и `'f1'` среднее и медиана отличаются несущественно,\\\n",
    "хотя стандартное отклонение по этим признакам достаточно велико.\\\n",
    "По признаку `'f2'` среднее (2,495) и медиана (2,011) отличаются существенно,\\\n",
    "хотя стандартное отклонение не такое большое.\\\n",
    "По целевому признаку `'product'` среднее и медиана имеют существенное отличие (68,825 и 57,086).\\\n",
    "И стандартное отклонение тоже велико (45,944)."
   ]
  },
  {
   "cell_type": "code",
   "execution_count": 27,
   "id": "f6ea625c",
   "metadata": {
    "jp-MarkdownHeadingCollapsed": true
   },
   "outputs": [
    {
     "data": {
      "text/html": [
       "<div>\n",
       "<style scoped>\n",
       "    .dataframe tbody tr th:only-of-type {\n",
       "        vertical-align: middle;\n",
       "    }\n",
       "\n",
       "    .dataframe tbody tr th {\n",
       "        vertical-align: top;\n",
       "    }\n",
       "\n",
       "    .dataframe thead th {\n",
       "        text-align: right;\n",
       "    }\n",
       "</style>\n",
       "<table border=\"1\" class=\"dataframe\">\n",
       "  <thead>\n",
       "    <tr style=\"text-align: right;\">\n",
       "      <th></th>\n",
       "      <th>f0</th>\n",
       "      <th>f1</th>\n",
       "      <th>f2</th>\n",
       "      <th>product</th>\n",
       "    </tr>\n",
       "  </thead>\n",
       "  <tbody>\n",
       "    <tr>\n",
       "      <th>count</th>\n",
       "      <td>100000.000</td>\n",
       "      <td>100000.000</td>\n",
       "      <td>100000.000</td>\n",
       "      <td>100000.000</td>\n",
       "    </tr>\n",
       "    <tr>\n",
       "      <th>mean</th>\n",
       "      <td>0.002</td>\n",
       "      <td>-0.002</td>\n",
       "      <td>2.495</td>\n",
       "      <td>95.000</td>\n",
       "    </tr>\n",
       "    <tr>\n",
       "      <th>std</th>\n",
       "      <td>1.732</td>\n",
       "      <td>1.730</td>\n",
       "      <td>3.473</td>\n",
       "      <td>44.750</td>\n",
       "    </tr>\n",
       "    <tr>\n",
       "      <th>min</th>\n",
       "      <td>-8.760</td>\n",
       "      <td>-7.084</td>\n",
       "      <td>-11.970</td>\n",
       "      <td>0.000</td>\n",
       "    </tr>\n",
       "    <tr>\n",
       "      <th>25%</th>\n",
       "      <td>-1.162</td>\n",
       "      <td>-1.175</td>\n",
       "      <td>0.130</td>\n",
       "      <td>59.450</td>\n",
       "    </tr>\n",
       "    <tr>\n",
       "      <th>50%</th>\n",
       "      <td>0.009</td>\n",
       "      <td>-0.009</td>\n",
       "      <td>2.484</td>\n",
       "      <td>94.926</td>\n",
       "    </tr>\n",
       "    <tr>\n",
       "      <th>75%</th>\n",
       "      <td>1.159</td>\n",
       "      <td>1.164</td>\n",
       "      <td>4.859</td>\n",
       "      <td>130.595</td>\n",
       "    </tr>\n",
       "    <tr>\n",
       "      <th>max</th>\n",
       "      <td>7.238</td>\n",
       "      <td>7.845</td>\n",
       "      <td>16.739</td>\n",
       "      <td>190.030</td>\n",
       "    </tr>\n",
       "  </tbody>\n",
       "</table>\n",
       "</div>"
      ],
      "text/plain": [
       "               f0          f1          f2     product\n",
       "count  100000.000  100000.000  100000.000  100000.000\n",
       "mean        0.002      -0.002       2.495      95.000\n",
       "std         1.732       1.730       3.473      44.750\n",
       "min        -8.760      -7.084     -11.970       0.000\n",
       "25%        -1.162      -1.175       0.130      59.450\n",
       "50%         0.009      -0.009       2.484      94.926\n",
       "75%         1.159       1.164       4.859     130.595\n",
       "max         7.238       7.845      16.739     190.030"
      ]
     },
     "execution_count": 27,
     "metadata": {},
     "output_type": "execute_result"
    }
   ],
   "source": [
    "# вывод описательной статистики для количественных признаков датасета\n",
    "geo_3_df.describe().round(3)"
   ]
  },
  {
   "cell_type": "markdown",
   "id": "fc40a0f0",
   "metadata": {},
   "source": [
    "В датафрейме **geo_1_df** 4 количественных признака: 3 входящих и 1 целевой.\\\n",
    "По входящим признакам среднее и медиана отличаются несущественно,\\\n",
    "хотя стандартное отклонение по всем признакам достаточно велико.\\\n",
    "По целевому признаку `'product'` среднее и медиана не имеют существенного отличия (95 и 94,926).\\\n",
    "Хотя стандартное отклонение велико (44,75)"
   ]
  },
  {
   "cell_type": "markdown",
   "id": "564da796-4bad-4205-9d25-155019c08c7b",
   "metadata": {},
   "source": [
    "Для большей наглядности построим диаграммы размаха."
   ]
  },
  {
   "cell_type": "code",
   "execution_count": 28,
   "id": "f6b01500-5950-4f91-85fe-1a12ba137f1d",
   "metadata": {},
   "outputs": [
    {
     "data": {
      "image/png": "[encoded data removed]",
      "text/plain": [
       "<Figure size 900x500 with 3 Axes>"
      ]
     },
     "metadata": {},
     "output_type": "display_data"
    },
    {
     "data": {
      "image/png": "[encoded data removed]",
      "text/plain": [
       "<Figure size 900x500 with 3 Axes>"
      ]
     },
     "metadata": {},
     "output_type": "display_data"
    },
    {
     "data": {
      "image/png": "[encoded data removed]",
      "text/plain": [
       "<Figure size 900x500 with 3 Axes>"
      ]
     },
     "metadata": {},
     "output_type": "display_data"
    },
    {
     "data": {
      "image/png": "[encoded data removed]",
      "text/plain": [
       "<Figure size 900x500 with 3 Axes>"
      ]
     },
     "metadata": {},
     "output_type": "display_data"
    }
   ],
   "source": [
    "# создание списка признаков\n",
    "geo_num_lst = geo_1_df.columns.to_list()\n",
    "\n",
    "\n",
    "# функция для построения диаграммы размаха\n",
    "def get_boxplot(item):\n",
    "    plt.rcParams[\"figure.figsize\"] = (\n",
    "        9,\n",
    "        5,\n",
    "    )\n",
    "\n",
    "    fig, (ax1, ax2, ax3) = plt.subplots(1, 3)\n",
    "\n",
    "    ax1.boxplot(geo_1_df[item])\n",
    "    ax2.boxplot(geo_2_df[item])\n",
    "    ax3.boxplot(geo_3_df[item])\n",
    "    fig.suptitle(\n",
    "        f\"Диаграмма размаха по признаку <{item}>\",\n",
    "        weight=\"bold\",\n",
    "    )\n",
    "    ax1.set_title(\"geo_1_df\")\n",
    "    ax2.set_title(\"geo_2_df\")\n",
    "    ax3.set_title(\"geo_3_df\")\n",
    "\n",
    "    plt.show()\n",
    "\n",
    "\n",
    "# построение графиков\n",
    "def set_plot(item_lst, plot):\n",
    "    for item in item_lst:\n",
    "        plot(item)\n",
    "\n",
    "\n",
    "# построение диаграмм размаха\n",
    "set_plot(geo_num_lst, get_boxplot)"
   ]
  },
  {
   "cell_type": "markdown",
   "id": "098d6470-e2e0-498a-94d7-c5674e6c874c",
   "metadata": {},
   "source": [
    "На диаграммах размаха по датафрейму **geo_1_df**:\n",
    "- по признаку `'f2'` - большое количество выбросов ниже и выше края статистически значимой выборки"
   ]
  },
  {
   "cell_type": "markdown",
   "id": "47e70dd5",
   "metadata": {},
   "source": [
    "На диаграммах размаха по датафрейму **geo_2_df**:\n",
    "- по признаку `'f1'` - большое количество выбросов ниже и выше края статистически значимой выборки"
   ]
  },
  {
   "cell_type": "markdown",
   "id": "8dd9eabe",
   "metadata": {},
   "source": [
    "На диаграммах размаха по датафрейму **geo_3_df**:\n",
    "- по все входящим признакам - большое количество выбросов ниже и выше края статистически значимой выборки"
   ]
  },
  {
   "cell_type": "markdown",
   "id": "d7167258-b795-4a5b-a6ca-74d2fd3bcd3d",
   "metadata": {},
   "source": [
    "Построим гистограммы распределения"
   ]
  },
  {
   "cell_type": "code",
   "execution_count": 29,
   "id": "4be52d6b-281f-4c7c-be32-4620dca8687e",
   "metadata": {},
   "outputs": [
    {
     "data": {
      "image/png": "[encoded data removed]",
      "text/plain": [
       "<Figure size 1200x400 with 3 Axes>"
      ]
     },
     "metadata": {},
     "output_type": "display_data"
    },
    {
     "data": {
      "image/png": "[encoded data removed]",
      "text/plain": [
       "<Figure size 1200x400 with 3 Axes>"
      ]
     },
     "metadata": {},
     "output_type": "display_data"
    },
    {
     "data": {
      "image/png": "[encoded data removed]",
      "text/plain": [
       "<Figure size 1200x400 with 3 Axes>"
      ]
     },
     "metadata": {},
     "output_type": "display_data"
    },
    {
     "data": {
      "image/png": "[encoded data removed]",
      "text/plain": [
       "<Figure size 1200x400 with 3 Axes>"
      ]
     },
     "metadata": {},
     "output_type": "display_data"
    }
   ],
   "source": [
    "# функция для построения гистограммы\n",
    "def get_hist(item):\n",
    "    plt.rcParams[\"figure.figsize\"] = (\n",
    "        12,\n",
    "        4,\n",
    "    )\n",
    "\n",
    "    fig, (ax1, ax2, ax3) = plt.subplots(1, 3)\n",
    "\n",
    "    ax1.hist(geo_1_df[item], bins=30)\n",
    "    ax2.hist(geo_2_df[item], bins=30)\n",
    "    ax3.hist(geo_3_df[item], bins=30)\n",
    "    plt.suptitle(f\"Распределение признака <{item}>\", weight=\"bold\")\n",
    "    ax1.set_title(\"geo_1_df\")\n",
    "    ax2.set_title(\"geo_2_df\")\n",
    "    ax3.set_title(\"geo_3_df\")\n",
    "    plt.show()\n",
    "\n",
    "\n",
    "# построение гистограмм\n",
    "set_plot(geo_num_lst, get_hist)"
   ]
  },
  {
   "cell_type": "markdown",
   "id": "4c2c2c4f-186b-43c5-af67-ef879ad215ff",
   "metadata": {},
   "source": [
    "На диаграммах распределения по датафрейму **geo_1_df**:\n",
    "- по признаку `'f0'` - распределение мультимодальное\n",
    "- по признаку `'f1'` - распределение мультимодальное\n",
    "- по признаку `'f2'` - распределение нормальное\n",
    "- по признаку `'product'` - распределение мультимодальное"
   ]
  },
  {
   "cell_type": "markdown",
   "id": "de304bfe",
   "metadata": {},
   "source": [
    "На диаграммах распределения по датафрейму **geo_2_df**:\n",
    "- по признаку `'f0'` - распределение бимодальное\n",
    "- по признаку `'f1'` - распределение нормальное\n",
    "- по признаку `'f2'` - распределение мультимодальное\n",
    "- по признаку `'product'` - распределение мультимодальное"
   ]
  },
  {
   "cell_type": "markdown",
   "id": "debe3f97",
   "metadata": {},
   "source": [
    "На диаграммах распределения по датафрейму **geo_3_df**:\n",
    "- по признаку `'f0'` - распределение нормальное\n",
    "- по признаку `'f1'` - распределение нормальное\n",
    "- по признаку `'f2'` - распределение нормальное\n",
    "- по признаку `'product'` - распределение мультимодальное"
   ]
  },
  {
   "cell_type": "markdown",
   "id": "675b924e-b3da-4c81-aaee-115fb7cb1695",
   "metadata": {},
   "source": [
    "Проведём корреляционный анализ признаков датафреймов"
   ]
  },
  {
   "cell_type": "code",
   "execution_count": 30,
   "id": "6a5c2de1-74e6-4f05-a100-ad1dfb210ed9",
   "metadata": {},
   "outputs": [
    {
     "name": "stdout",
     "output_type": "stream",
     "text": [
      "interval columns not set, guessing: ['f0', 'f1', 'f2', 'product']\n"
     ]
    },
    {
     "data": {
      "image/png": "[encoded data removed]",
      "text/plain": [
       "<Figure size 900x600 with 2 Axes>"
      ]
     },
     "metadata": {},
     "output_type": "display_data"
    }
   ],
   "source": [
    "# вычисление коэффициентов корреляции phi\n",
    "phik_overview = geo_1_df.phik_matrix()\n",
    "\n",
    "# визуализация тепловой карты коэффициентов корреляции\n",
    "plot_correlation_matrix(\n",
    "    phik_overview.values,\n",
    "    x_labels=phik_overview.columns,\n",
    "    y_labels=phik_overview.index,\n",
    "    title=r\"correlation $\\phi_K$\",\n",
    "    fontsize_factor=1.5,\n",
    "    figsize=(9, 6),\n",
    ")"
   ]
  },
  {
   "cell_type": "markdown",
   "id": "c087d77b-ac7d-4e0d-bf42-7c20e5b0f0d8",
   "metadata": {},
   "source": [
    "Согласно шкале Чеддока между целевым признаком `'product'` и входными признаками\\\n",
    "датафрейма **geo_1_df** наблюдается взаимозависимость:\n",
    "- с входным признаком `'f2'` - умеренная\n",
    "- с входным признаком `'f0'` - слабая\n",
    "- с входным признаком `'f1'` - слабая\n",
    "\n",
    "Также наблюдается высокая взаимосвязь между входными признаками `'f0'` и `'f1'`\n",
    "\n",
    "Мультиколлинеарность между входящими признаками отсутствует."
   ]
  },
  {
   "cell_type": "code",
   "execution_count": 31,
   "id": "a3ec73b9-d448-4b09-97bd-9f18557cf335",
   "metadata": {},
   "outputs": [
    {
     "name": "stdout",
     "output_type": "stream",
     "text": [
      "interval columns not set, guessing: ['f0', 'f1', 'f2', 'product']\n"
     ]
    },
    {
     "data": {
      "image/png": "[encoded data removed]",
      "text/plain": [
       "<Figure size 900x600 with 2 Axes>"
      ]
     },
     "metadata": {},
     "output_type": "display_data"
    }
   ],
   "source": [
    "# вычисление коэффициентов корреляции phi\n",
    "phik_overview = geo_2_df.phik_matrix()\n",
    "\n",
    "# визуализация тепловой карты коэффициентов корреляции\n",
    "plot_correlation_matrix(\n",
    "    phik_overview.values,\n",
    "    x_labels=phik_overview.columns,\n",
    "    y_labels=phik_overview.index,\n",
    "    title=r\"correlation $\\phi_K$\",\n",
    "    fontsize_factor=1.5,\n",
    "    figsize=(9, 6),\n",
    ")"
   ]
  },
  {
   "cell_type": "markdown",
   "id": "5e346005-5bb4-4326-b5c3-7ffd9c85c358",
   "metadata": {},
   "source": [
    "Согласно шкале Чеддока между целевым признаком `'product'` и входными признаками\\\n",
    "датафрейма **geo_2_df** наблюдается взаимозависимость:\n",
    "- с входным признаком `'f2'` - весьма высокая\n",
    "- с входным признаком `'f0'` - заметная\n",
    "- с входным признаком `'f1'` - слабая\n",
    "\n",
    "Мультиколлинеарность между входящими признаками отсутствует."
   ]
  },
  {
   "cell_type": "code",
   "execution_count": 32,
   "id": "9a4228d7-a3f5-4737-ba51-8b0451be02fc",
   "metadata": {},
   "outputs": [
    {
     "name": "stdout",
     "output_type": "stream",
     "text": [
      "interval columns not set, guessing: ['f0', 'f1', 'f2', 'product']\n"
     ]
    },
    {
     "data": {
      "image/png": "[encoded data removed]",
      "text/plain": [
       "<Figure size 900x600 with 2 Axes>"
      ]
     },
     "metadata": {},
     "output_type": "display_data"
    }
   ],
   "source": [
    "# вычисление коэффициентов корреляции phi\n",
    "phik_overview = geo_3_df.phik_matrix()\n",
    "\n",
    "# визуализация тепловой карты коэффициентов корреляции\n",
    "plot_correlation_matrix(\n",
    "    phik_overview.values,\n",
    "    x_labels=phik_overview.columns,\n",
    "    y_labels=phik_overview.index,\n",
    "    title=r\"correlation $\\phi_K$\",\n",
    "    fontsize_factor=1.5,\n",
    "    figsize=(9, 6),\n",
    ")"
   ]
  },
  {
   "cell_type": "markdown",
   "id": "7ef682da-bd20-4b52-97f8-cf9b94cf75d7",
   "metadata": {},
   "source": [
    "Согласно шкале Чеддока между целевым признаком `'product'` и входными признаками\\\n",
    "датафрейма **geo_3_df** наблюдается взаимозависимость:\n",
    "- с входным признаком `'f2'` - умеренная\n",
    "- с входным признаком `'f1'` - слабая\n",
    "- с входным признаком `'f0'` - слабая\n",
    "\n",
    "Мультиколлинеарность между входящими признаками отсутствует."
   ]
  },
  {
   "cell_type": "markdown",
   "id": "1f77b080-4ef1-4cb8-8124-a25f1c42eb78",
   "metadata": {},
   "source": [
    "***"
   ]
  },
  {
   "cell_type": "markdown",
   "id": "b9f3e6e1-d87b-4479-8f0b-8b9316d627c8",
   "metadata": {},
   "source": [
    "**Вывод:**\n",
    "\n",
    "В датафреймах по 4 количественных признака: 3 входящих и 1 целевой.\n",
    "\n",
    "по датафрейму **geo_1_df**\n",
    "\n",
    "1. По входящим признакам среднее и медиана отличаются несущественно,\\\n",
    "    хотя стандартное отклонение по всем признакам достаточно велико, особенно по признаку `'f2'` (3,248).\n",
    "2. По целевому признаку `'product'` среднее и медиана имеют существенное отличие (92,5 и 91,85).\\\n",
    "    И стандартное отклонение тоже велико (44,289).\n",
    "3. На диаграммах размаха:\n",
    "    - по признаку `'f2'` - большое количество выбросов ниже и выше края статистически значимой выборки\n",
    "4. На диаграммах распределения:\n",
    "    - по признаку `'f0'` - распределение мультимодальное\n",
    "    - по признаку `'f1'` - распределение мультимодальное\n",
    "    - по признаку `'f2'` - распределение нормальное\n",
    "    - по признаку `'product'` - распределение мультимодальное\n",
    "5. Согласно шкале Чеддока между целевым признаком `'product'` и входными признаками наблюдается взаимозависимость:\n",
    "    - с входным признаком `'f2'` - умеренная\n",
    "    - с входным признаком `'f0'` - слабая\n",
    "    - с входным признаком `'f1'` - слабая\n",
    "6. Также наблюдается высокая взаимосвязь между входными признаками `'f0'` и `'f1'`\n",
    "7. Мультиколлинеарность между входящими признаками отсутствует.\n",
    "\n",
    "по датафрейму **geo_2_df**\n",
    "\n",
    "1. По входящим признакам `'f0'` и `'f1'` среднее и медиана отличаются несущественно,\\\n",
    "    хотя стандартное отклонение по этим признакам достаточно велико.\n",
    "2. По признаку `'f2'` среднее (2,495) и медиана (2,011) отличаются существенно,\\\n",
    "    хотя стандартное отклонение не такое большое.\n",
    "3. По целевому признаку `'product'` среднее и медиана имеют существенное отличие (68,825 и 57,086).\\\n",
    "    И стандартное отклонение тоже велико (45,944).\n",
    "4. На диаграммах размаха:\n",
    "    - по признаку `'f1'` - большое количество выбросов ниже и выше края статистически значимой выборки.\n",
    "5. На диаграммах распределения:\n",
    "    - по признаку `'f0'` - распределение бимодальное\n",
    "    - по признаку `'f1'` - распределение нормальное\n",
    "    - по признаку `'f2'` - распределение мультимодальное\n",
    "    - по признаку `'product'` - распределение мультимодальное\n",
    "6. Согласно шкале Чеддока между целевым признаком `'product'` и входными признаками наблюдается взаимозависимость:\n",
    "    - с входным признаком `'f2'` - весьма высокая\n",
    "    - с входным признаком `'f0'` - заметная\n",
    "    - с входным признаком `'f1'` - слабая\n",
    "7. Мультиколлинеарность между входящими признаками отсутствует.\n",
    "\n",
    "по датафрейму **geo_3_df**\n",
    "\n",
    "1. По входящим признакам среднее и медиана отличаются несущественно,\\\n",
    "    хотя стандартное отклонение по всем признакам достаточно велико.\n",
    "2. По целевому признаку `'product'` среднее и медиана не имеют существенного отличия (95 и 94,926).\\\n",
    "    Хотя стандартное отклонение велико (44,75)\n",
    "3. На диаграммах размаха:\n",
    "    - по все входящим признакам - большое количество выбросов ниже и выше края статистически значимой выборки\n",
    "4. На диаграммах распределения:\n",
    "    - по признаку `'f0'` - распределение нормальное\n",
    "    - по признаку `'f1'` - распределение нормальное\n",
    "    - по признаку `'f2'` - распределение нормальное\n",
    "    - по признаку `'product'` - распределение мультимодальное\n",
    "5. Согласно шкале Чеддока между целевым признаком `'product'` и входными признаками наблюдается взаимозависимость:\n",
    "    - с входным признаком `'f2'` - умеренная\n",
    "    - с входным признаком `'f1'` - слабая\n",
    "    - с входным признаком `'f0'` - слабая\n",
    "6. Мультиколлинеарность между входящими признаками отсутствует."
   ]
  },
  {
   "cell_type": "markdown",
   "id": "a8768b71-5175-463d-9370-070418edc186",
   "metadata": {},
   "source": [
    "<a id='2'></a>\n",
    "# Обучение и проверка модели для каждого региона"
   ]
  },
  {
   "cell_type": "markdown",
   "id": "1ddd8df3-c64e-450b-86d1-3abe9acef7fa",
   "metadata": {},
   "source": [
    "Так как тагрет - количественный признак, будем решать задачу регрессии.\n",
    "\n",
    "Будем обучать модель LinearRegression()\n",
    "\n",
    "Для оценки качества работы модели применим метрику RMSE"
   ]
  },
  {
   "cell_type": "markdown",
   "id": "1f031b68-e504-4733-8314-8ad7deddd933",
   "metadata": {},
   "source": [
    "Напишем функцию для обучения модели, получения предсказаний и сохранения предсказаний и таргета на валидационной выборке"
   ]
  },
  {
   "cell_type": "code",
   "execution_count": 33,
   "id": "15bd4bbd-7c3f-4253-b024-056faa9f5180",
   "metadata": {},
   "outputs": [],
   "source": [
    "# объявление функции\n",
    "def get_predict(df, print_output=True):\n",
    "    # разделение датафрейма на целевой и входные признаки\n",
    "    X = df.drop(columns=\"product\")\n",
    "    y = df[\"product\"]\n",
    "\n",
    "    # формирование тренировочной и валидационной выборок\n",
    "    X_train, X_valid, y_train, y_valid = train_test_split(\n",
    "        X, y, test_size=0.25, random_state=RANDOM_STATE\n",
    "    )\n",
    "\n",
    "    # инициализация модели, обучение и получение предсказаний\n",
    "    model = LinearRegression()\n",
    "    model.fit(X_train, y_train)\n",
    "    pred = model.predict(X_valid)\n",
    "\n",
    "    # сохранение предсказаний и таргета на валидационной выборке\n",
    "    union_df = X_valid.join(y_valid)\n",
    "    union_df[\"pred\"] = pred\n",
    "\n",
    "    # расчёт метрики rmse\n",
    "    rmse_score = root_mean_squared_error(y_valid, pred)\n",
    "\n",
    "    # расчёт среднего предсказаний\n",
    "    avg_pred = union_df[\"pred\"].mean()\n",
    "\n",
    "    # вывод значений\n",
    "    if print_output == True:\n",
    "        print(\n",
    "            f\"     Средний запас предсказанного сырья - {avg_pred.round(3)} тыс. баррелей\"\n",
    "        )\n",
    "        print(f\"     Оценка качества модели по метрике RMSE- {round(rmse_score, 3)}\")\n",
    "\n",
    "    # возврат рассчитанных значений и нового датафрейма\n",
    "    return avg_pred, union_df"
   ]
  },
  {
   "cell_type": "markdown",
   "id": "e38058ba-6340-46d2-ad77-00c84f8e039e",
   "metadata": {},
   "source": [
    "Выведем средний запас предсказанного сырья и RMSE модели по регионам"
   ]
  },
  {
   "cell_type": "code",
   "execution_count": 34,
   "id": "6b532998-5242-44a1-8649-dc3a7ccc114f",
   "metadata": {},
   "outputs": [
    {
     "name": "stdout",
     "output_type": "stream",
     "text": [
      "Средний запас предсказанного сырья и RMSE модели по регионам:\n",
      " - по региону geo_1:\n",
      "     Средний запас предсказанного сырья - 92.399 тыс. баррелей\n",
      "     Оценка качества модели по метрике RMSE- 37.757\n",
      " - по региону geo_2:\n",
      "     Средний запас предсказанного сырья - 68.713 тыс. баррелей\n",
      "     Оценка качества модели по метрике RMSE- 0.89\n",
      " - по региону geo_3:\n",
      "     Средний запас предсказанного сырья - 94.771 тыс. баррелей\n",
      "     Оценка качества модели по метрике RMSE- 40.146\n"
     ]
    }
   ],
   "source": [
    "print(\"Средний запас предсказанного сырья и RMSE модели по регионам:\")\n",
    "print(f\" - по региону geo_1:\")\n",
    "# вызов функции с выводом значений\n",
    "avg_pred_1, union_df_1 = get_predict(geo_1_df)\n",
    "print(f\" - по региону geo_2:\")\n",
    "avg_pred_2, union_df_2 = get_predict(geo_2_df)\n",
    "print(f\" - по региону geo_3:\")\n",
    "avg_pred_3, union_df_3 = get_predict(geo_3_df)"
   ]
  },
  {
   "cell_type": "markdown",
   "id": "e87a0a72-2093-45f4-b6a0-3ea5e9a56178",
   "metadata": {},
   "source": [
    "***"
   ]
  },
  {
   "cell_type": "markdown",
   "id": "fdb9d83b-5fe1-4dd2-8afd-39fce6ce1a08",
   "metadata": {},
   "source": [
    "**Вывод:**\n",
    "\n",
    "1. Была написана функция для обучения модели и получения предсказаний\n",
    "2. Были получены предсказания на валидационных выборках датафреймов\n",
    "3. Были получены метрики оценки качества моделей\n",
    "\n",
    "|Датафрейм|Средний запас предсказанного сырья, тыс.баррелей|Средняя оценка качества модели RMSE|\n",
    "|:-|:-:|:-:|\n",
    "|geo_1_df|92.399|37.757|\n",
    "|geo_2_df|68.713|0.890|\n",
    "|geo_3_df|94.771|40.146|\n",
    "\n",
    "4. Средний запас предсказанного сырья выше в регионе geo_3,\\\n",
    "    а самый низкий - в регионе geo_2\n",
    "5. Метрика RMSE показывает лучшее качество модели для региона geo_2"
   ]
  },
  {
   "cell_type": "markdown",
   "id": "a1f77442-f6f9-475b-b2e2-83721b1a04f8",
   "metadata": {},
   "source": [
    "<a id='3'></a>\n",
    "# Подготовка к расчёту прибыли"
   ]
  },
  {
   "cell_type": "markdown",
   "id": "7e9bb898-b937-4ebe-89e2-3747d38b104d",
   "metadata": {},
   "source": [
    "Сохраним значения для расчётов в переменных"
   ]
  },
  {
   "cell_type": "code",
   "execution_count": 35,
   "id": "5328315e-4897-444d-a368-38c5f38f1168",
   "metadata": {},
   "outputs": [],
   "source": [
    "# объявление значений констант\n",
    "REG_BUDGET = 10_000_000_000  # бюджет на регион\n",
    "WELL_COUNT = 500  # количество скважин для исследования\n",
    "BEST_WELL_COUNT = 200  # количество лучших скважин\n",
    "UNIT_REVENUE = 450_000  # доход с единицы продукта"
   ]
  },
  {
   "cell_type": "markdown",
   "id": "b9d0b3be-a7f4-4f8b-b532-ff6105c09ced",
   "metadata": {},
   "source": [
    "Рассчитаем достаточный объём сырья для безубыточной разработки новой скважины"
   ]
  },
  {
   "cell_type": "code",
   "execution_count": 36,
   "id": "9ec17b29-0afd-45d8-9eb2-e7d400786a76",
   "metadata": {},
   "outputs": [
    {
     "name": "stdout",
     "output_type": "stream",
     "text": [
      "Достаточный объём сырья составляет 111.111 тыс. баррелей\n"
     ]
    }
   ],
   "source": [
    "# объявление функции для расчёта\n",
    "def get_suff_product():\n",
    "    # расчёт бюджета на скважину\n",
    "    well_budget = REG_BUDGET / BEST_WELL_COUNT\n",
    "\n",
    "    # расчёт достаточного объёма сырья\n",
    "    suff_product = well_budget / UNIT_REVENUE\n",
    "    return suff_product\n",
    "\n",
    "\n",
    "# вывод полученного значения безубыточности\n",
    "print(\n",
    "    f\"Достаточный объём сырья составляет {round(get_suff_product(), 3)} тыс. баррелей\"\n",
    ")"
   ]
  },
  {
   "cell_type": "markdown",
   "id": "0c34d109-e62c-44be-9471-5a62249e3c2d",
   "metadata": {},
   "source": [
    "Сравним полученный объём сырья со средним запасом по каждому региону."
   ]
  },
  {
   "cell_type": "code",
   "execution_count": 37,
   "id": "d4f900f8-6402-403c-a68b-c93f76056ba8",
   "metadata": {},
   "outputs": [
    {
     "name": "stdout",
     "output_type": "stream",
     "text": [
      "Средний запас сырья по региону geo_1 - 92.399 тыс. баррелей\n",
      "   - это меньше достаточного объёма на 18.712 тыс. баррелей\n",
      "Средний запас сырья по региону geo_2 - 68.713 тыс. баррелей\n",
      "   - это меньше достаточного объёма на 42.398 тыс. баррелей\n",
      "Средний запас сырья по региону geo_2 - 94.771 тыс. баррелей\n",
      "   - это меньше достаточного объёма на 16.34 тыс. баррелей\n"
     ]
    }
   ],
   "source": [
    "print(f\"Средний запас сырья по региону geo_1 - {avg_pred_1.round(3)} тыс. баррелей\")\n",
    "print(\n",
    "    f\"   - это меньше достаточного объёма на {round(get_suff_product()- avg_pred_1, 3)} тыс. баррелей\"\n",
    ")\n",
    "print(f\"Средний запас сырья по региону geo_2 - {avg_pred_2.round(3)} тыс. баррелей\")\n",
    "print(\n",
    "    f\"   - это меньше достаточного объёма на {round(get_suff_product()- avg_pred_2, 3)} тыс. баррелей\"\n",
    ")\n",
    "print(f\"Средний запас сырья по региону geo_2 - {avg_pred_3.round(3)} тыс. баррелей\")\n",
    "print(\n",
    "    f\"   - это меньше достаточного объёма на {round(get_suff_product()- avg_pred_3, 3)} тыс. баррелей\"\n",
    ")"
   ]
  },
  {
   "cell_type": "markdown",
   "id": "454c4f20-4e05-4e09-86a1-bd84bdb33523",
   "metadata": {},
   "source": [
    "***"
   ]
  },
  {
   "cell_type": "markdown",
   "id": "e4f4a214-a597-4b7c-9f00-998d9e3466b4",
   "metadata": {},
   "source": [
    "**Вывод:**\n",
    "\n",
    "1. Значения для расчётов были сохранены в константах\n",
    "2. Был рассчитан достаточный объём сырья для безубыточной разработки новой скважины - 111,111 тыс. баррелей\n",
    "3. Средний запас предсказанного сырья по всем регионам меньше, чем достаточный на:\n",
    "    - по региону geo_1 на 18,712 тыс. баррелей\n",
    "    - по региону geo_2 на 42,398 тыс. баррелей\n",
    "    - по региону geo_3 на 16,34 тыс. баррелей"
   ]
  },
  {
   "cell_type": "markdown",
   "id": "e7c75566-7b4e-4bbf-a714-1f7720939203",
   "metadata": {},
   "source": [
    "# Функция для расчёта прибыли по выбранным скважинам и предсказаниям модели"
   ]
  },
  {
   "cell_type": "markdown",
   "id": "f569cbcc-978d-4952-bf65-39a1bc911260",
   "metadata": {},
   "source": [
    "Напишем функцию для расчёта прибыли по выбранным скважинам и предсказаниям модели"
   ]
  },
  {
   "cell_type": "code",
   "execution_count": 38,
   "id": "6f12c71e-7074-4f10-846f-8e07c5902cd3",
   "metadata": {},
   "outputs": [],
   "source": [
    "# объявление функции для расчёта прибыли\n",
    "def get_profit(df, count):\n",
    "    # выбор скважин с максимальными значениями предсказаний\n",
    "    selected_df = df.sort_values(\"pred\", ascending=False)[:count]\n",
    "\n",
    "    # суммирование целевого значения, соответствующего максимальным значениям\n",
    "    product_sum = selected_df[\"product\"].sum()\n",
    "\n",
    "    # расчёт прибыли для полученного объёма сырья\n",
    "    profit = product_sum * UNIT_REVENUE - REG_BUDGET\n",
    "    return profit"
   ]
  },
  {
   "cell_type": "markdown",
   "id": "08bd87cb-8819-46fb-8fc1-f135dcfc3ead",
   "metadata": {},
   "source": [
    "Рассчитаем прибыль для полученного объёма сырья по регионам"
   ]
  },
  {
   "cell_type": "code",
   "execution_count": 39,
   "id": "101cca26-7dc1-4c87-af38-4f4cf81773fc",
   "metadata": {},
   "outputs": [
    {
     "name": "stdout",
     "output_type": "stream",
     "text": [
      "Прибыль для полученного объёма сырья по регионам:\n",
      " - по региону geo_1 - 3,359,141,114.462 руб.\n",
      " - по региону geo_2 - 2,415,086,696.682 руб.\n",
      " - по региону geo_3 - 2,598,571,759.374 руб.\n"
     ]
    }
   ],
   "source": [
    "print(\"Прибыль для полученного объёма сырья по регионам:\")\n",
    "print(f\" - по региону geo_1 - {get_profit(union_df_1, BEST_WELL_COUNT):,.3f} руб.\")\n",
    "print(f\" - по региону geo_2 - {get_profit(union_df_2, BEST_WELL_COUNT):,.3f} руб.\")\n",
    "print(f\" - по региону geo_3 - {get_profit(union_df_3, BEST_WELL_COUNT):,.3f} руб.\")"
   ]
  },
  {
   "cell_type": "markdown",
   "id": "64ec07c7-f090-477b-8792-2bec54cc6d93",
   "metadata": {},
   "source": [
    "***"
   ]
  },
  {
   "cell_type": "markdown",
   "id": "e2b6d764-1314-42b8-98eb-579d44a3c807",
   "metadata": {},
   "source": [
    "**Вывод:**\n",
    "\n",
    "1. Была написана функция для расчёта прибыли по по выбранным скважинам и предсказаниям модели\n",
    "2. Рассчитанная прибыль по регионам составила:\n",
    "   - по региону geo_1  -   3_359_141_114.462 руб.\n",
    "   - по региону geo_2  -   2_415_086_696.682 руб.\n",
    "   - по региону geo_3  -   2_598_571_759.374 руб."
   ]
  },
  {
   "cell_type": "markdown",
   "id": "ba1ddcf4-d0bd-4783-a817-1b7d8371b4ab",
   "metadata": {},
   "source": [
    "# Расчёт рисков и прибыли для каждого региона"
   ]
  },
  {
   "cell_type": "markdown",
   "id": "a5806af9-9580-462f-aef9-479352c9a919",
   "metadata": {},
   "source": [
    "Напишем функцию для рассчёта рисков и прибыли"
   ]
  },
  {
   "cell_type": "code",
   "execution_count": 40,
   "id": "3b286e65-648c-4176-b432-9ac48207c901",
   "metadata": {},
   "outputs": [],
   "source": [
    "# объявление функции с техникой бутстрепа для рассчёта прибыли и рисков\n",
    "def get_statistics(df, count):\n",
    "    # обучение модели\n",
    "    avg_pred, union_df = get_predict(df, print_output=False)\n",
    "\n",
    "    # объявление переменной\n",
    "    profits = []\n",
    "\n",
    "    # применение техники бутстреп с сохранением значения прибыли в список\n",
    "    for i in range(1000):\n",
    "        subsample = union_df.sample(500, replace=True, random_state=i)\n",
    "        profits.append(get_profit(subsample, count))\n",
    "\n",
    "    # нахождение доверительного интервала для прибыли\n",
    "    ci = np.percentile(profits, [2.5, 97.5])\n",
    "\n",
    "    # создание Series из списка\n",
    "    profits = pd.Series(profits)\n",
    "\n",
    "    # средняя прибыль\n",
    "    mean_profit = profits.mean()\n",
    "\n",
    "    # вычисление риска убытков\n",
    "    loss_risk = float((profits < 0).mean()) * 100\n",
    "\n",
    "    # возврат значений\n",
    "    return ci, mean_profit, loss_risk, profits"
   ]
  },
  {
   "cell_type": "markdown",
   "id": "d27a9182-4ae7-474b-8708-6f12881ef524",
   "metadata": {},
   "source": [
    "Рассчитаем показатели для каждого региона"
   ]
  },
  {
   "cell_type": "code",
   "execution_count": 41,
   "id": "7e3a7795-6090-43f3-825b-cf1fbb9c6d56",
   "metadata": {},
   "outputs": [],
   "source": [
    "# рассчёт показателей\n",
    "ci_1, mean_profit_1, loss_risk_1, _ = get_statistics(geo_1_df, BEST_WELL_COUNT)\n",
    "ci_2, mean_profit_2, loss_risk_2, _ = get_statistics(geo_2_df, BEST_WELL_COUNT)\n",
    "ci_3, mean_profit_3, loss_risk_3, _ = get_statistics(geo_3_df, BEST_WELL_COUNT)"
   ]
  },
  {
   "cell_type": "markdown",
   "id": "7369c47e-dd14-469e-a4e2-22c272c1b111",
   "metadata": {},
   "source": [
    "Выведем рассчитанные показатели по регионам"
   ]
  },
  {
   "cell_type": "code",
   "execution_count": 42,
   "id": "e196fae1-f051-457f-8cf2-85fc16e1ba56",
   "metadata": {},
   "outputs": [
    {
     "name": "stdout",
     "output_type": "stream",
     "text": [
      "Средняя прибыль составляет:\n",
      " - по региону geo_1 - 401,429.0 тыс.рублей\n",
      " - по региону geo_2 - 441,099.4 тыс.рублей\n",
      " - по региону geo_3 - 376,818.2 тыс.рублей\n",
      " \n",
      "95% доверительный интервал для средней прибыли:\n",
      " - по региону geo_1 - [-103,041.2 тыс.рублей, 938,618.4 тыс.рублей]\n",
      " - по региону geo_2 - [52,213.0 тыс.рублей, 812,355.6 тыс.рублей]\n",
      " - по региону geo_3 - [-144,751.0 тыс.рублей, 908,999.0 тыс.рублей]\n",
      " \n",
      "Риск убытков составляет:\n",
      " - по региону geo_1 - 6.1%\n",
      " - по региону geo_2 - 1.4%\n",
      " - по региону geo_3 - 8.6%\n"
     ]
    }
   ],
   "source": [
    "print(\"Средняя прибыль составляет:\")\n",
    "print(f\" - по региону geo_1 - {mean_profit_1/1000:,.1f} тыс.рублей\")\n",
    "print(f\" - по региону geo_2 - {mean_profit_2/1000:,.1f} тыс.рублей\")\n",
    "print(f\" - по региону geo_3 - {mean_profit_3/1000:,.1f} тыс.рублей\")\n",
    "print(\" \")\n",
    "print(\"95% доверительный интервал для средней прибыли:\")\n",
    "print(\n",
    "    f\" - по региону geo_1 - [{ci_1[0]/1000:,.1f} тыс.рублей, {ci_1[1]/1000:,.1f} тыс.рублей]\"\n",
    ")\n",
    "print(\n",
    "    f\" - по региону geo_2 - [{ci_2[0]/1000:,.1f} тыс.рублей, {ci_2[1]/1000:,.1f} тыс.рублей]\"\n",
    ")\n",
    "print(\n",
    "    f\" - по региону geo_3 - [{ci_3[0]/1000:,.1f} тыс.рублей, {ci_3[1]/1000:,.1f} тыс.рублей]\"\n",
    ")\n",
    "print(\" \")\n",
    "print(\"Риск убытков составляет:\")\n",
    "print(f\" - по региону geo_1 - {round(loss_risk_1, 1)}%\")\n",
    "print(f\" - по региону geo_2 - {round(loss_risk_2, 1)}%\")\n",
    "print(f\" - по региону geo_3 - {round(loss_risk_3, 1)}%\")"
   ]
  },
  {
   "cell_type": "markdown",
   "id": "24b095f5",
   "metadata": {},
   "source": [
    "Визуализируем распределение средней прибыли по датафреймам"
   ]
  },
  {
   "cell_type": "code",
   "execution_count": 43,
   "id": "5828380c",
   "metadata": {},
   "outputs": [
    {
     "data": {
      "image/png": "[encoded data removed]",
      "text/plain": [
       "<Figure size 1200x400 with 1 Axes>"
      ]
     },
     "metadata": {},
     "output_type": "display_data"
    }
   ],
   "source": [
    "# функция для визуализации распределения средней прибыли\n",
    "def get_hist_profit(df):\n",
    "    ci, mean_profit, _, profits = get_statistics(df, BEST_WELL_COUNT)\n",
    "    plt.hist(profits, bins=30, edgecolor=\"k\", alpha=0.7)\n",
    "    plt.axvline(\n",
    "        mean_profit,\n",
    "        color=\"red\",\n",
    "        linestyle=\"dashed\",\n",
    "        linewidth=2,\n",
    "        label=f\"Средняя прибыль: {mean_profit/1000:,.1f} тыс.руб.\",\n",
    "    )\n",
    "    plt.axvline(\n",
    "        ci[0],\n",
    "        color=\"green\",\n",
    "        linestyle=\"dashed\",\n",
    "        linewidth=2,\n",
    "        label=f\"Нижняя граница: {ci[0]/1000:,.1f} тыс.руб.\",\n",
    "    )\n",
    "    plt.axvline(\n",
    "        ci[1],\n",
    "        color=\"green\",\n",
    "        linestyle=\"dashed\",\n",
    "        linewidth=2,\n",
    "        label=f\"Верхняя граница: {ci[1]/1000:,.1f} тыс.руб.\",\n",
    "    )\n",
    "    plt.legend()\n",
    "    plt.title(\n",
    "        f\"Бутстреп-распределение средней прибыли по региону {df.name}\", weight=\"bold\"\n",
    "    )\n",
    "    plt.xlabel(\"Средняя прибыль\")\n",
    "    plt.ylabel(\"Количество значений\")\n",
    "    plt.show()\n",
    "\n",
    "\n",
    "# вызов функции для датафрейма geo_1_df\n",
    "get_hist_profit(geo_1_df)"
   ]
  },
  {
   "cell_type": "code",
   "execution_count": 44,
   "id": "62f040d0",
   "metadata": {},
   "outputs": [
    {
     "data": {
      "image/png": "[encoded data removed]",
      "text/plain": [
       "<Figure size 1200x400 with 1 Axes>"
      ]
     },
     "metadata": {},
     "output_type": "display_data"
    }
   ],
   "source": [
    "# вызов функции для датафрейма geo_2_df\n",
    "get_hist_profit(geo_2_df)"
   ]
  },
  {
   "cell_type": "code",
   "execution_count": 45,
   "id": "a2213ab5",
   "metadata": {},
   "outputs": [
    {
     "data": {
      "image/png": "[encoded data removed]",
      "text/plain": [
       "<Figure size 1200x400 with 1 Axes>"
      ]
     },
     "metadata": {},
     "output_type": "display_data"
    }
   ],
   "source": [
    "# вызов функции для датафрейма geo_3_df\n",
    "get_hist_profit(geo_3_df)"
   ]
  },
  {
   "cell_type": "markdown",
   "id": "5bbcb9b4-52b0-4430-af77-1b4929e0435b",
   "metadata": {},
   "source": [
    "***"
   ]
  },
  {
   "cell_type": "markdown",
   "id": "b956f3f1-a5b6-4964-b587-723c64fc5b3d",
   "metadata": {},
   "source": [
    "**Вывод:**\n",
    "\n",
    "1. Для расчёта прибыли и рисков была применена техника бутстреп\n",
    "2. Были рассчитаны показатели по регионам:\n",
    "    - средняя прибыль\n",
    "    - 95%-й доверительный интервал для средней прибыли\n",
    "    - риск убытков\n",
    "3. Рассчитанные показатели приведены в таблице:\n",
    "\n",
    "   |Регион|Средняя прибыль, тыс.руб.|95%-й доверительный интервал, тыс.руб.|Риск убытков|\n",
    "   |-|:-:|:-:|:-:|\n",
    "   |geo_1|401,429.0|[-103,041.2, 938,618.4]|6,1%|\n",
    "   |geo_2|441,099.4|[52,213.0, 812,355.6]|1.4%|\n",
    "   |geo_3|376,818.2|[-144,751.0, 908,999.0]|8.6%|\n",
    "\n",
    "4. Так как только регион geo_2 с вероятностью риска убытков ниже 2,5%,\\\n",
    "    то для разработки скважин можно предложить только этот регион."
   ]
  },
  {
   "cell_type": "markdown",
   "id": "66372efc-3bf5-4a4d-88e9-64f8152f5831",
   "metadata": {},
   "source": [
    "# Общий вывод"
   ]
  },
  {
   "cell_type": "markdown",
   "id": "521ac1fc-692a-40c2-9ce7-b6504740dab5",
   "metadata": {},
   "source": [
    "**ВХОДНЫЕ ДАННЫЕ**\n",
    "\n",
    "1. Исследование проведено на основе данных добывающей компании \"ГлавРосГосНефть\"\n",
    "2. Данные представлены файлами:\n",
    "    - geo_data_0.csv\n",
    "    - geo_data_1.csv\n",
    "    - geo_data_2.csv\n",
    "3. Данные загружены в датафреймы.\n",
    "4. Пропуски в данных отсутствуют.\n",
    "5. Наименования столбцов во всех датафреймах имеют стандартный вид.\n",
    "\n",
    "**НА ЭТАПЕ ПРЕОБРАБОТКИ ДАННЫХ**\n",
    "\n",
    "1. Явные дубликаты в датафреймах отсутствуют\n",
    "2. Во всех датафреймах были установлены ID как индексы.\n",
    "\n",
    "**НА ЭТАПЕ ИССЛЕДОВАТЕЛЬСКОГО АНАЛИЗА ДАННЫХ**\n",
    "\n",
    "По датафреймам было выявлено:\n",
    "\n",
    "В датафреймах по 4 количественных признака: 3 входящих и 1 целевой.\n",
    "\n",
    "по датафрейму **geo_1_df**\n",
    "\n",
    "1. По входящим признакам среднее и медиана отличаются несущественно,\\\n",
    "    хотя стандартное отклонение по всем признакам достаточно велико, особенно по признаку `'f2'` (3,248).\n",
    "2. По целевому признаку `'product'` среднее и медиана имеют существенное отличие (92,5 и 91,85).\\\n",
    "    И стандартное отклонение тоже велико (44,289).\n",
    "3. На диаграммах размаха:\n",
    "    - по признаку `'f2'` - большое количество выбросов ниже и выше края статистически значимой выборки\n",
    "4. На диаграммах распределения:\n",
    "    - по признаку `'f0'` - распределение мультимодальное\n",
    "    - по признаку `'f1'` - распределение мультимодальное\n",
    "    - по признаку `'f2'` - распределение нормальное\n",
    "    - по признаку `'product'` - распределение мультимодальное\n",
    "5. Согласно шкале Чеддока между целевым признаком `'product'` и входными признаками наблюдается взаимозависимость:\n",
    "   - с входным признаком `'f2'` - умеренная\n",
    "   - с входным признаком `'f0'` - слабая\n",
    "   - с входным признаком `'f1'` - слабая\n",
    "6. Мультиколлинеарность между входящими признаками отсутствует.\n",
    "\n",
    "по датафрейму **geo_2_df**\n",
    "\n",
    "1. По входящим признакам `'f0'` и `'f1'` среднее и медиана отличаются несущественно,\\\n",
    "    хотя стандартное отклонение по этим признакам достаточно велико.\n",
    "2. По признаку `'f2'` среднее (2,495) и медиана (2,011) отличаются существенно,\\\n",
    "    хотя стандартное отклонение не такое большое.\n",
    "3. По целевому признаку `'product'` среднее и медиана имеют существенное отличие (68,825 и 57,086).\\\n",
    "    И стандартное отклонение тоже велико (45,944).\n",
    "4. На диаграммах размаха:\n",
    "    - по признаку `'f1'` - большое количество выбросов ниже и выше края статистически значимой выборки.\n",
    "5. На диаграммах распределения:\n",
    "    - по признаку `'f0'` - распределение бимодальное\n",
    "    - по признаку `'f1'` - распределение нормальное\n",
    "    - по признаку `'f2'` - распределение мультимодальное\n",
    "    - по признаку `'product'` - распределение мультимодальное\n",
    "6. Согласно шкале Чеддока между целевым признаком `'product'` и входными признаками наблюдается взаимозависимость:\n",
    "    - с входным признаком `'f2'` - весьма высокая\n",
    "    - с входным признаком `'f0'` - заметная\n",
    "    - с входным признаком `'f1'` - слабая\n",
    "7. Мультиколлинеарность между входящими признаками отсутствует.\n",
    "\n",
    "по датафрейму **geo_3_df**\n",
    "\n",
    "1. По входящим признакам среднее и медиана отличаются несущественно,\\\n",
    "    хотя стандартное отклонение по всем признакам достаточно велико.\n",
    "2. По целевому признаку `'product'` среднее и медиана не имеют существенного отличия (95 и 94,926).\\\n",
    "    Хотя стандартное отклонение велико (44,75)\n",
    "3. На диаграммах размаха:\n",
    "    - по все входящим признакам - большое количество выбросов ниже и выше края статистически значимой выборки\n",
    "4. На диаграммах распределения:\n",
    "    - по признаку `'f0'` - распределение нормальное\n",
    "    - по признаку `'f1'` - распределение нормальное\n",
    "    - по признаку `'f2'` - распределение нормальное\n",
    "    - по признаку `'product'` - распределение мультимодальное\n",
    "5. Согласно шкале Чеддока между целевым признаком `'product'` и входными признаками наблюдается взаимозависимость:\n",
    "    - с входным признаком `'f2'` - умеренная\n",
    "    - с входным признаком `'f1'` - слабая\n",
    "    - с входным признаком `'f0'` - слабая\n",
    "6. Мультиколлинеарность между входящими признаками отсутствует.\n",
    "\n",
    "\n",
    "**НА ЭТАПЕ ОБУЧЕНИЯ МОДЕЛЕЙ**\n",
    "\n",
    "1. Была написана функция для обучения модели и получения предсказаний\n",
    "2. Были получены предсказания на валидационных выборках датафреймов\n",
    "3. Были получены метрики оценки качества моделей\n",
    "\n",
    "|Датафрейм|Средний запас предсказанного сырья, тыс.баррелей|Средняя оценка качества модели RMSE|\n",
    "|:-|:-:|:-:|\n",
    "|geo_1_df|92.399|37.757|\n",
    "|geo_2_df|68.713|0.890|\n",
    "|geo_3_df|94.771|40.146|\n",
    "\n",
    "4. Средний запас предсказанного сырья выше в регионе geo_3,\\\n",
    "    а самый низкий - в регионе geo_2\n",
    "5. Метрика RMSE показывает лучшее качество модели для региона geo_2\n",
    "\n",
    "**НА ЭТАПЕ ПОДГОТОВКИ К РАСЧЁТУ ПРИБЫЛИ**\n",
    "\n",
    "1. Значения для расчётов были сохранены в константах\n",
    "2. Был рассчитан достаточный объём сырья для безубыточной разработки новой скважины - 111,111 тыс. баррелей\n",
    "3. Средний запас предсказанного сырья по всем регионам меньше, чем достаточный на:\n",
    "    - по региону geo_1 на 18,712 тыс. баррелей\n",
    "    - по региону geo_2 на 42,398 тыс. баррелей\n",
    "    - по региону geo_3 на 16,34 тыс. баррелей\n",
    "\n",
    "**НА ЭТАПЕ ФУНКЦИИ ДЛЯ РАСЧЁТА ПРИБЫЛИ ПО ВЫБРАННЫМ СКВАЖИНАМ И ПРЕДСКАЗАНИЯМ МОДЕЛИ**\n",
    "\n",
    "1. Была написана функция для расчёта прибыли по по выбранным скважинам и предсказаниям модели\n",
    "2. Рассчитанная прибыль по регионам составила:\n",
    "   - по региону geo_1  -   3_359_141_114.462 руб.\n",
    "   - по региону geo_2  -   2_415_086_696.682 руб.\n",
    "   - по региону geo_3  -   2_598_571_759.374 руб.\n",
    "\n",
    "**НА ЭТАПЕ РАСЧЁТА РИСКОВ И ПРИБЫЛИ ДЛЯ КАЖДОГО РЕГИОНА**\n",
    "\n",
    "1. Для расчёта прибыли и рисков была применена техника бутстреп\n",
    "2. Были рассчитаны показатели по регионам:\n",
    "    - средняя прибыль\n",
    "    - 95%-й доверительный интервал для средней прибыли\n",
    "    - риск убытков\n",
    "3. Рассчитанные показатели приведены в таблице:\n",
    "\n",
    "   |Регион|Средняя прибыль, тыс.руб.|95%-й доверительный интервал, тыс.руб.|Риск убытков|\n",
    "   |-|:-:|:-:|:-:|\n",
    "   |geo_1|401,429.0|[-103,041.2, 938,618.4]|6,1%|\n",
    "   |geo_2|441,099.4|[52,213.0, 812,355.6]|1.4%|\n",
    "   |geo_3|376,818.2|[-144,751.0, 908,999.0]|8.6%|\n",
    "\n",
    "**ВЫВОД**\n",
    "\n",
    "1. Так как только регион geo_2 с вероятностью риска убытков ниже 2,5%,\\\n",
    "    то для разработки скважин можно предложить только этот регион."
   ]
  }
 ],
 "metadata": {
  "ExecuteTimeLog": [
   {
    "duration": 47,
    "start_time": "2025-03-21T05:49:38.011Z"
   },
   {
    "duration": 5381,
    "start_time": "2025-03-21T05:49:49.627Z"
   },
   {
    "duration": 6578,
    "start_time": "2025-03-21T05:49:56.962Z"
   },
   {
    "duration": 1667,
    "start_time": "2025-03-21T05:50:11.255Z"
   },
   {
    "duration": 1924,
    "start_time": "2025-03-21T05:50:13.391Z"
   },
   {
    "duration": 39,
    "start_time": "2025-03-21T05:50:22.614Z"
   },
   {
    "duration": 43,
    "start_time": "2025-03-21T05:50:23.890Z"
   },
   {
    "duration": 9,
    "start_time": "2025-03-21T05:50:25.727Z"
   },
   {
    "duration": 140,
    "start_time": "2025-03-21T05:50:29.586Z"
   },
   {
    "duration": 52,
    "start_time": "2025-03-21T05:50:37.103Z"
   },
   {
    "duration": 485,
    "start_time": "2025-03-21T05:50:39.099Z"
   },
   {
    "duration": 1249,
    "start_time": "2025-03-21T05:50:42.198Z"
   },
   {
    "duration": 66,
    "start_time": "2025-03-21T05:50:44.402Z"
   },
   {
    "duration": 43,
    "start_time": "2025-03-21T05:50:48.335Z"
   },
   {
    "duration": 450,
    "start_time": "2025-03-21T05:50:49.614Z"
   },
   {
    "duration": 1222,
    "start_time": "2025-03-21T05:50:50.843Z"
   },
   {
    "duration": 24,
    "start_time": "2025-03-21T05:50:52.110Z"
   },
   {
    "duration": 45,
    "start_time": "2025-03-21T05:50:54.474Z"
   },
   {
    "duration": 371,
    "start_time": "2025-03-21T05:50:56.138Z"
   },
   {
    "duration": 1301,
    "start_time": "2025-03-21T05:50:57.759Z"
   },
   {
    "duration": 25,
    "start_time": "2025-03-21T05:51:02.135Z"
   },
   {
    "duration": 14,
    "start_time": "2025-03-21T05:51:38.754Z"
   },
   {
    "duration": 46,
    "start_time": "2025-03-21T09:07:49.021Z"
   },
   {
    "duration": 6584,
    "start_time": "2025-03-21T09:09:00.732Z"
   },
   {
    "duration": 6746,
    "start_time": "2025-03-21T09:09:07.319Z"
   },
   {
    "duration": 1678,
    "start_time": "2025-03-21T09:09:14.067Z"
   },
   {
    "duration": 422,
    "start_time": "2025-03-21T09:09:15.747Z"
   },
   {
    "duration": 40,
    "start_time": "2025-03-21T09:09:16.171Z"
   },
   {
    "duration": 63,
    "start_time": "2025-03-21T09:09:16.212Z"
   },
   {
    "duration": 10,
    "start_time": "2025-03-21T09:09:16.276Z"
   },
   {
    "duration": 144,
    "start_time": "2025-03-21T09:09:16.288Z"
   },
   {
    "duration": 26,
    "start_time": "2025-03-21T09:09:16.433Z"
   },
   {
    "duration": 73,
    "start_time": "2025-03-21T09:09:21.628Z"
   },
   {
    "duration": 129,
    "start_time": "2025-03-21T09:10:04.433Z"
   },
   {
    "duration": 38,
    "start_time": "2025-03-21T09:10:27.821Z"
   },
   {
    "duration": 21,
    "start_time": "2025-03-21T09:16:57.647Z"
   },
   {
    "duration": 229,
    "start_time": "2025-03-21T09:17:36.639Z"
   },
   {
    "duration": 15,
    "start_time": "2025-03-21T09:18:04.715Z"
   },
   {
    "duration": 97,
    "start_time": "2025-03-21T09:18:10.091Z"
   },
   {
    "duration": 606,
    "start_time": "2025-03-21T09:18:11.763Z"
   },
   {
    "duration": 6,
    "start_time": "2025-03-21T09:22:08.179Z"
   },
   {
    "duration": 6,
    "start_time": "2025-03-21T09:22:28.459Z"
   },
   {
    "duration": 9,
    "start_time": "2025-03-21T09:23:18.291Z"
   },
   {
    "duration": 12,
    "start_time": "2025-03-21T09:23:41.579Z"
   },
   {
    "duration": 12,
    "start_time": "2025-03-21T09:24:55.671Z"
   },
   {
    "duration": 12,
    "start_time": "2025-03-21T09:25:00.899Z"
   },
   {
    "duration": 15,
    "start_time": "2025-03-21T09:25:41.722Z"
   },
   {
    "duration": 15,
    "start_time": "2025-03-21T09:30:44.955Z"
   },
   {
    "duration": 14,
    "start_time": "2025-03-21T09:56:49.740Z"
   },
   {
    "duration": 15,
    "start_time": "2025-03-21T09:56:57.660Z"
   },
   {
    "duration": 16,
    "start_time": "2025-03-21T09:57:12.840Z"
   },
   {
    "duration": 13,
    "start_time": "2025-03-21T09:57:34.359Z"
   },
   {
    "duration": 26,
    "start_time": "2025-03-21T09:57:41.623Z"
   },
   {
    "duration": 15,
    "start_time": "2025-03-21T09:58:13.279Z"
   },
   {
    "duration": 13,
    "start_time": "2025-03-21T09:58:18.975Z"
   },
   {
    "duration": 245,
    "start_time": "2025-03-21T09:58:57.327Z"
   },
   {
    "duration": 8,
    "start_time": "2025-03-21T09:59:32.061Z"
   },
   {
    "duration": 15,
    "start_time": "2025-03-21T09:59:38.787Z"
   },
   {
    "duration": 29,
    "start_time": "2025-03-21T10:01:08.034Z"
   },
   {
    "duration": 10,
    "start_time": "2025-03-21T10:01:47.046Z"
   },
   {
    "duration": 32,
    "start_time": "2025-03-21T10:01:48.343Z"
   },
   {
    "duration": 18,
    "start_time": "2025-03-21T10:01:58.598Z"
   },
   {
    "duration": 4024,
    "start_time": "2025-03-21T10:02:03.775Z"
   },
   {
    "duration": 27,
    "start_time": "2025-03-21T10:02:10.886Z"
   },
   {
    "duration": 4,
    "start_time": "2025-03-21T10:07:10.584Z"
   },
   {
    "duration": 5,
    "start_time": "2025-03-21T10:07:34.336Z"
   },
   {
    "duration": 5,
    "start_time": "2025-03-21T10:08:02.403Z"
   },
   {
    "duration": 6,
    "start_time": "2025-03-21T10:08:06.164Z"
   },
   {
    "duration": 6,
    "start_time": "2025-03-21T10:08:10.816Z"
   },
   {
    "duration": 21,
    "start_time": "2025-03-21T10:16:49.102Z"
   },
   {
    "duration": 633,
    "start_time": "2025-03-21T10:16:51.930Z"
   },
   {
    "duration": 15,
    "start_time": "2025-03-21T10:17:31.606Z"
   },
   {
    "duration": 3790,
    "start_time": "2025-03-21T10:17:35.727Z"
   },
   {
    "duration": 20,
    "start_time": "2025-03-21T10:17:41.846Z"
   },
   {
    "duration": 190,
    "start_time": "2025-03-21T10:19:20.389Z"
   },
   {
    "duration": 175,
    "start_time": "2025-03-21T10:20:10.505Z"
   },
   {
    "duration": 171,
    "start_time": "2025-03-21T10:23:00.658Z"
   },
   {
    "duration": 184,
    "start_time": "2025-03-21T10:28:33.805Z"
   },
   {
    "duration": 33,
    "start_time": "2025-03-21T10:29:07.437Z"
   },
   {
    "duration": 47,
    "start_time": "2025-03-21T15:43:08.851Z"
   },
   {
    "duration": 6044,
    "start_time": "2025-03-21T15:45:00.016Z"
   },
   {
    "duration": 6824,
    "start_time": "2025-03-21T15:45:07.283Z"
   },
   {
    "duration": 1588,
    "start_time": "2025-03-21T15:46:18.719Z"
   },
   {
    "duration": 14,
    "start_time": "2025-03-21T15:46:42.907Z"
   },
   {
    "duration": 484,
    "start_time": "2025-03-21T15:46:48.099Z"
   },
   {
    "duration": 40,
    "start_time": "2025-03-21T15:46:53.031Z"
   },
   {
    "duration": 45,
    "start_time": "2025-03-21T15:46:56.699Z"
   },
   {
    "duration": 11,
    "start_time": "2025-03-21T15:47:00.103Z"
   },
   {
    "duration": 132,
    "start_time": "2025-03-21T15:47:06.615Z"
   },
   {
    "duration": 14,
    "start_time": "2025-03-21T15:47:08.595Z"
   },
   {
    "duration": 79,
    "start_time": "2025-03-21T15:47:10.259Z"
   },
   {
    "duration": 60,
    "start_time": "2025-03-21T15:47:21.451Z"
   },
   {
    "duration": 38,
    "start_time": "2025-03-21T15:47:44.571Z"
   },
   {
    "duration": 38,
    "start_time": "2025-03-21T15:49:05.307Z"
   },
   {
    "duration": 129,
    "start_time": "2025-03-21T15:51:01.015Z"
   },
   {
    "duration": 25,
    "start_time": "2025-03-21T15:51:07.103Z"
   },
   {
    "duration": 1076,
    "start_time": "2025-03-21T15:51:57.899Z"
   },
   {
    "duration": 1113,
    "start_time": "2025-03-21T15:52:04.287Z"
   },
   {
    "duration": 1609,
    "start_time": "2025-03-21T15:55:30.123Z"
   },
   {
    "duration": 1586,
    "start_time": "2025-03-21T15:55:57.111Z"
   },
   {
    "duration": 1612,
    "start_time": "2025-03-21T15:56:01.666Z"
   },
   {
    "duration": 996,
    "start_time": "2025-03-21T15:56:28.775Z"
   },
   {
    "duration": 1121,
    "start_time": "2025-03-21T15:56:32.963Z"
   },
   {
    "duration": 3319,
    "start_time": "2025-03-21T16:02:36.571Z"
   },
   {
    "duration": 50,
    "start_time": "2025-03-21T16:03:27.164Z"
   },
   {
    "duration": 23,
    "start_time": "2025-03-21T16:03:59.480Z"
   },
   {
    "duration": 847,
    "start_time": "2025-03-21T16:04:14.336Z"
   },
   {
    "duration": 653,
    "start_time": "2025-03-21T16:04:42.792Z"
   },
   {
    "duration": 687,
    "start_time": "2025-03-21T16:08:22.732Z"
   },
   {
    "duration": 737,
    "start_time": "2025-03-21T16:11:19.028Z"
   },
   {
    "duration": 19,
    "start_time": "2025-03-21T16:15:09.134Z"
   },
   {
    "duration": 730,
    "start_time": "2025-03-21T16:15:12.409Z"
   },
   {
    "duration": 23,
    "start_time": "2025-03-21T16:16:03.897Z"
   },
   {
    "duration": 582,
    "start_time": "2025-03-21T16:16:05.449Z"
   },
   {
    "duration": 20,
    "start_time": "2025-03-21T16:16:38.346Z"
   },
   {
    "duration": 627,
    "start_time": "2025-03-21T16:16:39.513Z"
   },
   {
    "duration": 19,
    "start_time": "2025-03-21T16:17:39.569Z"
   },
   {
    "duration": 6,
    "start_time": "2025-03-21T16:17:48.589Z"
   },
   {
    "duration": 10,
    "start_time": "2025-03-21T16:17:51.517Z"
   },
   {
    "duration": 14,
    "start_time": "2025-03-21T16:17:54.930Z"
   },
   {
    "duration": 20,
    "start_time": "2025-03-21T16:18:48.565Z"
   },
   {
    "duration": 660,
    "start_time": "2025-03-21T16:18:53.381Z"
   },
   {
    "duration": 9,
    "start_time": "2025-03-21T16:19:02.838Z"
   },
   {
    "duration": 15,
    "start_time": "2025-03-21T16:19:07.741Z"
   },
   {
    "duration": 14,
    "start_time": "2025-03-21T16:20:14.609Z"
   },
   {
    "duration": 16,
    "start_time": "2025-03-21T16:20:21.229Z"
   },
   {
    "duration": 16,
    "start_time": "2025-03-21T16:21:36.765Z"
   },
   {
    "duration": 15,
    "start_time": "2025-03-21T16:21:50.645Z"
   },
   {
    "duration": 9,
    "start_time": "2025-03-21T16:22:09.854Z"
   },
   {
    "duration": 32,
    "start_time": "2025-03-21T16:22:12.741Z"
   },
   {
    "duration": 32,
    "start_time": "2025-03-21T16:22:24.233Z"
   },
   {
    "duration": 25,
    "start_time": "2025-03-21T16:22:37.757Z"
   },
   {
    "duration": 23,
    "start_time": "2025-03-21T16:22:51.044Z"
   },
   {
    "duration": 32,
    "start_time": "2025-03-21T16:22:59.353Z"
   },
   {
    "duration": 12,
    "start_time": "2025-03-21T16:24:39.253Z"
   },
   {
    "duration": 27,
    "start_time": "2025-03-21T16:24:49.297Z"
   },
   {
    "duration": 33,
    "start_time": "2025-03-21T16:24:55.844Z"
   },
   {
    "duration": 32,
    "start_time": "2025-03-21T16:26:20.141Z"
   },
   {
    "duration": 33,
    "start_time": "2025-03-21T16:26:35.557Z"
   },
   {
    "duration": 179,
    "start_time": "2025-03-21T16:28:12.305Z"
   },
   {
    "duration": 33,
    "start_time": "2025-03-21T16:28:44.845Z"
   },
   {
    "duration": 35,
    "start_time": "2025-03-21T16:28:48.912Z"
   },
   {
    "duration": 15,
    "start_time": "2025-03-21T16:31:46.557Z"
   },
   {
    "duration": 3658,
    "start_time": "2025-03-21T16:32:27.029Z"
   },
   {
    "duration": 21,
    "start_time": "2025-03-21T16:32:30.688Z"
   },
   {
    "duration": 21,
    "start_time": "2025-03-21T16:34:04.738Z"
   },
   {
    "duration": 21,
    "start_time": "2025-03-21T16:34:14.482Z"
   },
   {
    "duration": 22,
    "start_time": "2025-03-21T16:34:35.741Z"
   },
   {
    "duration": 4,
    "start_time": "2025-03-21T16:34:51.834Z"
   },
   {
    "duration": 23,
    "start_time": "2025-03-21T16:35:08.521Z"
   },
   {
    "duration": 21,
    "start_time": "2025-03-21T16:36:46.105Z"
   },
   {
    "duration": 20,
    "start_time": "2025-03-21T16:36:48.558Z"
   },
   {
    "duration": 28,
    "start_time": "2025-03-21T16:37:26.761Z"
   },
   {
    "duration": 25,
    "start_time": "2025-03-21T16:40:00.092Z"
   },
   {
    "duration": 26,
    "start_time": "2025-03-21T16:40:03.636Z"
   },
   {
    "duration": 25,
    "start_time": "2025-03-21T16:40:50.432Z"
   },
   {
    "duration": 30,
    "start_time": "2025-03-21T16:41:30.336Z"
   },
   {
    "duration": 15,
    "start_time": "2025-03-21T16:44:06.936Z"
   },
   {
    "duration": 3690,
    "start_time": "2025-03-21T16:44:31.853Z"
   },
   {
    "duration": 14,
    "start_time": "2025-03-21T16:44:35.545Z"
   },
   {
    "duration": 3664,
    "start_time": "2025-03-21T16:44:38.904Z"
   },
   {
    "duration": 27,
    "start_time": "2025-03-21T16:44:44.424Z"
   },
   {
    "duration": 367,
    "start_time": "2025-03-21T16:47:03.796Z"
   },
   {
    "duration": 176,
    "start_time": "2025-03-21T16:52:14.024Z"
   },
   {
    "duration": 28,
    "start_time": "2025-03-21T16:52:29.460Z"
   },
   {
    "duration": 25,
    "start_time": "2025-03-21T16:52:32.248Z"
   },
   {
    "duration": 188,
    "start_time": "2025-03-21T16:54:02.512Z"
   },
   {
    "duration": 172,
    "start_time": "2025-03-21T16:54:05.645Z"
   },
   {
    "duration": 344,
    "start_time": "2025-03-21T16:54:42.212Z"
   },
   {
    "duration": 432,
    "start_time": "2025-03-21T16:55:11.944Z"
   },
   {
    "duration": 319,
    "start_time": "2025-03-21T16:56:24.849Z"
   },
   {
    "duration": 366,
    "start_time": "2025-03-21T16:59:08.116Z"
   },
   {
    "duration": 366,
    "start_time": "2025-03-21T16:59:30.968Z"
   },
   {
    "duration": 3613,
    "start_time": "2025-03-21T17:13:56.298Z"
   },
   {
    "duration": 3649,
    "start_time": "2025-03-21T17:14:02.202Z"
   },
   {
    "duration": 29,
    "start_time": "2025-03-21T17:14:10.238Z"
   },
   {
    "duration": 37,
    "start_time": "2025-03-21T17:16:11.418Z"
   },
   {
    "duration": 1694,
    "start_time": "2025-03-21T17:16:28.167Z"
   },
   {
    "duration": 1607,
    "start_time": "2025-03-21T17:16:46.106Z"
   },
   {
    "duration": 1655,
    "start_time": "2025-03-21T17:16:49.678Z"
   },
   {
    "duration": 1643,
    "start_time": "2025-03-21T17:18:35.616Z"
   },
   {
    "duration": 1633,
    "start_time": "2025-03-21T17:18:40.734Z"
   },
   {
    "duration": 1629,
    "start_time": "2025-03-21T17:19:24.682Z"
   },
   {
    "duration": 1586,
    "start_time": "2025-03-21T17:20:14.890Z"
   },
   {
    "duration": 1587,
    "start_time": "2025-03-21T17:20:23.326Z"
   },
   {
    "duration": 1545,
    "start_time": "2025-03-21T17:20:46.141Z"
   },
   {
    "duration": 32,
    "start_time": "2025-03-21T17:21:44.718Z"
   },
   {
    "duration": 29,
    "start_time": "2025-03-21T17:22:05.930Z"
   },
   {
    "duration": 25,
    "start_time": "2025-03-21T17:23:40.229Z"
   },
   {
    "duration": 25,
    "start_time": "2025-03-21T17:23:45.782Z"
   },
   {
    "duration": 36,
    "start_time": "2025-03-21T17:24:36.062Z"
   },
   {
    "duration": 32,
    "start_time": "2025-03-21T17:25:47.985Z"
   },
   {
    "duration": 32,
    "start_time": "2025-03-21T17:25:50.970Z"
   },
   {
    "duration": 31,
    "start_time": "2025-03-21T17:26:52.253Z"
   },
   {
    "duration": 2344,
    "start_time": "2025-03-21T17:39:11.753Z"
   },
   {
    "duration": 2312,
    "start_time": "2025-03-21T17:39:22.101Z"
   },
   {
    "duration": 2883,
    "start_time": "2025-03-21T17:39:25.589Z"
   },
   {
    "duration": 1309,
    "start_time": "2025-03-21T17:39:34.001Z"
   },
   {
    "duration": 430,
    "start_time": "2025-03-21T17:39:39.761Z"
   },
   {
    "duration": 37,
    "start_time": "2025-03-21T17:39:44.285Z"
   },
   {
    "duration": 40,
    "start_time": "2025-03-21T17:39:45.408Z"
   },
   {
    "duration": 10,
    "start_time": "2025-03-21T17:39:48.365Z"
   },
   {
    "duration": 117,
    "start_time": "2025-03-21T17:39:53.357Z"
   },
   {
    "duration": 14,
    "start_time": "2025-03-21T17:39:55.361Z"
   },
   {
    "duration": 73,
    "start_time": "2025-03-21T17:39:57.021Z"
   },
   {
    "duration": 39,
    "start_time": "2025-03-21T17:40:04.253Z"
   },
   {
    "duration": 37,
    "start_time": "2025-03-21T17:40:07.680Z"
   },
   {
    "duration": 36,
    "start_time": "2025-03-21T17:40:09.877Z"
   },
   {
    "duration": 1011,
    "start_time": "2025-03-21T17:40:13.648Z"
   },
   {
    "duration": 1496,
    "start_time": "2025-03-21T17:40:30.260Z"
   },
   {
    "duration": 714,
    "start_time": "2025-03-21T17:40:38.416Z"
   },
   {
    "duration": 614,
    "start_time": "2025-03-21T17:40:44.297Z"
   },
   {
    "duration": 615,
    "start_time": "2025-03-21T17:40:51.645Z"
   },
   {
    "duration": 117,
    "start_time": "2025-03-21T17:41:05.845Z"
   },
   {
    "duration": 610,
    "start_time": "2025-03-21T17:41:10.720Z"
   },
   {
    "duration": 6,
    "start_time": "2025-03-21T17:41:21.377Z"
   },
   {
    "duration": 8,
    "start_time": "2025-03-21T17:41:26.333Z"
   },
   {
    "duration": 16,
    "start_time": "2025-03-21T17:41:28.837Z"
   },
   {
    "duration": 8,
    "start_time": "2025-03-21T17:41:35.889Z"
   },
   {
    "duration": 31,
    "start_time": "2025-03-21T17:41:37.680Z"
   },
   {
    "duration": 15,
    "start_time": "2025-03-21T17:41:42.705Z"
   },
   {
    "duration": 3765,
    "start_time": "2025-03-21T17:41:50.609Z"
   },
   {
    "duration": 21,
    "start_time": "2025-03-21T17:41:54.376Z"
   },
   {
    "duration": 1534,
    "start_time": "2025-03-21T17:41:58.328Z"
   },
   {
    "duration": 1601,
    "start_time": "2025-03-21T17:41:59.864Z"
   },
   {
    "duration": 1511,
    "start_time": "2025-03-21T17:42:07.165Z"
   }
  ],
  "kernelspec": {
   "display_name": "Python 3 (ipykernel)",
   "language": "python",
   "name": "python3"
  },
  "language_info": {
   "codemirror_mode": {
    "name": "ipython",
    "version": 3
   },
   "file_extension": ".py",
   "mimetype": "text/x-python",
   "name": "python",
   "nbconvert_exporter": "python",
   "pygments_lexer": "ipython3",
   "version": "3.13.1"
  },
  "toc": {
   "base_numbering": 1,
   "nav_menu": {},
   "number_sections": true,
   "sideBar": true,
   "skip_h1_title": false,
   "title_cell": "Table of Contents",
   "title_sidebar": "Contents",
   "toc_cell": false,
   "toc_position": {
    "height": "calc(100% - 180px)",
    "left": "10px",
    "top": "150px",
    "width": "371.188px"
   },
   "toc_section_display": true,
   "toc_window_display": true
  }
 },
 "nbformat": 4,
 "nbformat_minor": 5
}
