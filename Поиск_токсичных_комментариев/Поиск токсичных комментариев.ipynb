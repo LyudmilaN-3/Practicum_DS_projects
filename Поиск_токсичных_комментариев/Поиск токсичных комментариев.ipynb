{
 "cells": [
  {
   "cell_type": "markdown",
   "id": "8fd6259c-e375-4856-a2aa-47a2a017492a",
   "metadata": {},
   "source": [
    "## ПРОЕКТ ДЛЯ «ВИКИШОП»"
   ]
  },
  {
   "cell_type": "markdown",
   "id": "39ef3ef3-e143-4d9c-8779-9fc128f0bea2",
   "metadata": {},
   "source": [
    "Интернет-магазин «Викишоп» запускает новый сервис. Теперь пользователи могут редактировать и дополнять описания товаров, как в вики-сообществах. То есть клиенты предлагают свои правки и комментируют изменения других. Магазину нужен инструмент, который будет искать токсичные комментарии и отправлять их на модерацию. В нашем распоряжении набор данных с разметкой о токсичности правок."
   ]
  },
  {
   "cell_type": "markdown",
   "id": "28a1b7f7-6aa8-4e1c-a829-a7754ec83e2a",
   "metadata": {},
   "source": [
    "### ЗАДАЧА ПРОЕКТА"
   ]
  },
  {
   "cell_type": "markdown",
   "id": "55da557a-ddac-4d60-bcbb-10806d6ce172",
   "metadata": {},
   "source": [
    "Задача проекта - обучить модель классифицировать комментарии на позитивные и негативные.\\\n",
    "Нужно построить модель со значением метрики качества F1 не меньше 0.75. "
   ]
  },
  {
   "cell_type": "markdown",
   "id": "f84845f2-17b9-41dd-9ce5-8b69be5fdfff",
   "metadata": {},
   "source": [
    "### ПЛАН ПРОЕКТА"
   ]
  },
  {
   "cell_type": "markdown",
   "id": "3093aa8a-9054-4319-949f-84fa45af54c2",
   "metadata": {},
   "source": [
    "1. [Загрузка и изучение данных](#1)\n",
    "2. [Подготовка данных](#2)\n",
    "3. [Обучение моделей](#3)\n",
    "4. [Общий вывод](#4)"
   ]
  },
  {
   "cell_type": "markdown",
   "id": "39c422e6-0d1a-4c8e-889e-08f13f1ec364",
   "metadata": {},
   "source": [
    "<a id='1'></a>\n",
    "# Загрузка и изучение данных"
   ]
  },
  {
   "cell_type": "markdown",
   "id": "b8f6d422-36f4-4c2e-8097-2e45deda6a65",
   "metadata": {},
   "source": [
    "## Получение данных из файла, запись в датафрейм"
   ]
  },
  {
   "cell_type": "code",
   "execution_count": 1,
   "id": "1633b270-8845-41e2-af8a-aef78eae3e4f",
   "metadata": {},
   "outputs": [],
   "source": [
    "!pip install jupyter_black -q"
   ]
  },
  {
   "cell_type": "code",
   "execution_count": 2,
   "id": "44080d4d-448f-4dc9-a3ac-0c21983202e0",
   "metadata": {},
   "outputs": [],
   "source": [
    "!pip install -Uq scikit-learn"
   ]
  },
  {
   "cell_type": "code",
   "execution_count": 3,
   "id": "1854ebe2",
   "metadata": {},
   "outputs": [],
   "source": [
    "!pip install shap -q"
   ]
  },
  {
   "cell_type": "markdown",
   "id": "854335fc-a49f-4352-9cd0-793a0c924001",
   "metadata": {},
   "source": [
    "Импортируем необходимые библиотеки"
   ]
  },
  {
   "cell_type": "code",
   "execution_count": 4,
   "id": "363a58fc-9021-412a-97d9-ba850802e4a3",
   "metadata": {},
   "outputs": [
    {
     "name": "stderr",
     "output_type": "stream",
     "text": [
      "[nltk_data] Downloading package punkt_tab to\n",
      "[nltk_data]     C:\\Users\\admin\\AppData\\Roaming\\nltk_data...\n",
      "[nltk_data]   Package punkt_tab is already up-to-date!\n",
      "[nltk_data] Downloading package stopwords to\n",
      "[nltk_data]     C:\\Users\\admin\\AppData\\Roaming\\nltk_data...\n",
      "[nltk_data]   Package stopwords is already up-to-date!\n",
      "[nltk_data] Downloading package wordnet to\n",
      "[nltk_data]     C:\\Users\\admin\\AppData\\Roaming\\nltk_data...\n",
      "[nltk_data]   Package wordnet is already up-to-date!\n",
      "[nltk_data] Downloading package vader_lexicon to\n",
      "[nltk_data]     C:\\Users\\admin\\AppData\\Roaming\\nltk_data...\n",
      "[nltk_data]   Package vader_lexicon is already up-to-date!\n",
      "[nltk_data] Downloading package averaged_perceptron_tagger_eng to\n",
      "[nltk_data]     C:\\Users\\admin\\AppData\\Roaming\\nltk_data...\n",
      "[nltk_data]   Package averaged_perceptron_tagger_eng is already up-to-\n",
      "[nltk_data]       date!\n"
     ]
    }
   ],
   "source": [
    "# импорт pandas и необходимых библиотек\n",
    "import jupyter_black\n",
    "import nltk\n",
    "import numpy as np\n",
    "import os\n",
    "import pandas as pd\n",
    "import re\n",
    "import shap\n",
    "\n",
    "import transformers\n",
    "import warnings\n",
    "\n",
    "from nltk import pos_tag\n",
    "from nltk.corpus import stopwords as nltk_stopwords\n",
    "from nltk.sentiment import SentimentIntensityAnalyzer\n",
    "from nltk.stem import WordNetLemmatizer\n",
    "from nltk.tokenize import word_tokenize\n",
    "\n",
    "from sklearn.compose import ColumnTransformer\n",
    "from sklearn.dummy import DummyClassifier\n",
    "from sklearn.ensemble import GradientBoostingClassifier, RandomForestClassifier\n",
    "from sklearn.feature_extraction.text import CountVectorizer, TfidfVectorizer\n",
    "from sklearn.impute import SimpleImputer\n",
    "from sklearn.linear_model import LogisticRegression\n",
    "from sklearn.metrics import f1_score\n",
    "from sklearn.model_selection import train_test_split, RandomizedSearchCV\n",
    "from sklearn.pipeline import Pipeline\n",
    "from sklearn.preprocessing import (\n",
    "    LabelEncoder,\n",
    "    OneHotEncoder,\n",
    "    OrdinalEncoder,\n",
    "    MinMaxScaler,\n",
    "    RobustScaler,\n",
    "    StandardScaler,\n",
    ")\n",
    "from tqdm.notebook import tqdm\n",
    "\n",
    "warnings.filterwarnings(\"ignore\")\n",
    "\n",
    "jupyter_black.load()\n",
    "nltk.download(\"punkt_tab\")\n",
    "nltk.download(\"stopwords\")\n",
    "nltk.download(\"wordnet\")\n",
    "nltk.download(\"vader_lexicon\")\n",
    "nltk.download(\"averaged_perceptron_tagger_eng\")\n",
    "\n",
    "stopwords = set(nltk_stopwords.words(\"english\"))\n",
    "tqdm.pandas()\n",
    "\n",
    "RANDOM_STATE = 42\n",
    "TEST_SIZE = 0.1"
   ]
  },
  {
   "cell_type": "markdown",
   "id": "544f3d89-c2af-4d23-96bc-83127bfd8671",
   "metadata": {},
   "source": [
    "Откроем файл, прочтем и запишем в переменную."
   ]
  },
  {
   "cell_type": "code",
   "execution_count": 5,
   "id": "d5d28bd9-9ce7-41fd-b245-b0f3e126cc46",
   "metadata": {},
   "outputs": [],
   "source": [
    "# объявление переменных\n",
    "toxic = \"datatset.csv\"\n",
    "user_path = \"...\"\n",
    "general_path = \"...\"\n",
    "\n",
    "\n",
    "# функция для чтения файлов\n",
    "def get_read_file(general_path, user_path, file):\n",
    "    path1 = os.path.join(general_path, file)\n",
    "    path2 = os.path.join(user_path, file)\n",
    "\n",
    "    try:\n",
    "        if os.path.exists(os.path.join(path1)):\n",
    "            return pd.read_csv(path1, index_col=[\"Unnamed: 0\"])\n",
    "        elif os.path.exists(os.path.join(path2)):\n",
    "            return pd.read_csv(path2, index_col=[\"Unnamed: 0\"])\n",
    "    except Exception as err:\n",
    "        print(\"Путь к файлу не найден!\", err)\n",
    "\n",
    "\n",
    "# чтение csv-файла в датафрейм с сохранением в переменную autos_df\n",
    "toxic_df = get_read_file(general_path, user_path, toxic)"
   ]
  },
  {
   "cell_type": "markdown",
   "id": "f6cc427f-4d34-4151-b94c-99157714c06e",
   "metadata": {},
   "source": [
    "***"
   ]
  },
  {
   "cell_type": "markdown",
   "id": "70ff38ee-b343-46e2-beaf-461e87a95b65",
   "metadata": {},
   "source": [
    "**ВЫВОД:**\n",
    "\n",
    "1. Данные получены и записаны в датафрейм ***toxic_df***"
   ]
  },
  {
   "cell_type": "markdown",
   "id": "8afd0888-86d9-4b0d-805c-37138cd0abeb",
   "metadata": {},
   "source": [
    "## Изучение данных"
   ]
  },
  {
   "cell_type": "markdown",
   "id": "317f5a9c-53de-4478-a32c-6fbdd7663384",
   "metadata": {},
   "source": [
    "### Изучение общей информации"
   ]
  },
  {
   "cell_type": "markdown",
   "id": "43b65ef2-33bd-4ec3-8575-6c138531a271",
   "metadata": {},
   "source": [
    "Изучим общую информацию о полученном датафрейме"
   ]
  },
  {
   "cell_type": "code",
   "execution_count": 6,
   "id": "fea96525-9b17-463c-9b13-25805fc8fbc0",
   "metadata": {},
   "outputs": [
    {
     "data": {
      "text/html": [
       "<div>\n",
       "<style scoped>\n",
       "    .dataframe tbody tr th:only-of-type {\n",
       "        vertical-align: middle;\n",
       "    }\n",
       "\n",
       "    .dataframe tbody tr th {\n",
       "        vertical-align: top;\n",
       "    }\n",
       "\n",
       "    .dataframe thead th {\n",
       "        text-align: right;\n",
       "    }\n",
       "</style>\n",
       "<table border=\"1\" class=\"dataframe\">\n",
       "  <thead>\n",
       "    <tr style=\"text-align: right;\">\n",
       "      <th></th>\n",
       "      <th>text</th>\n",
       "      <th>toxic</th>\n",
       "    </tr>\n",
       "  </thead>\n",
       "  <tbody>\n",
       "    <tr>\n",
       "      <th>0</th>\n",
       "      <td>Explanation\\nWhy the edits made under my usern...</td>\n",
       "      <td>0</td>\n",
       "    </tr>\n",
       "    <tr>\n",
       "      <th>1</th>\n",
       "      <td>D'aww! He matches this background colour I'm s...</td>\n",
       "      <td>0</td>\n",
       "    </tr>\n",
       "    <tr>\n",
       "      <th>2</th>\n",
       "      <td>Hey man, I'm really not trying to edit war. It...</td>\n",
       "      <td>0</td>\n",
       "    </tr>\n",
       "    <tr>\n",
       "      <th>3</th>\n",
       "      <td>\"\\nMore\\nI can't make any real suggestions on ...</td>\n",
       "      <td>0</td>\n",
       "    </tr>\n",
       "    <tr>\n",
       "      <th>4</th>\n",
       "      <td>You, sir, are my hero. Any chance you remember...</td>\n",
       "      <td>0</td>\n",
       "    </tr>\n",
       "  </tbody>\n",
       "</table>\n",
       "</div>"
      ],
      "text/plain": [
       "                                                text  toxic\n",
       "0  Explanation\\nWhy the edits made under my usern...      0\n",
       "1  D'aww! He matches this background colour I'm s...      0\n",
       "2  Hey man, I'm really not trying to edit war. It...      0\n",
       "3  \"\\nMore\\nI can't make any real suggestions on ...      0\n",
       "4  You, sir, are my hero. Any chance you remember...      0"
      ]
     },
     "execution_count": 6,
     "metadata": {},
     "output_type": "execute_result"
    }
   ],
   "source": [
    "# вывод первых 5-ти строчек датафрейма\n",
    "toxic_df.head()"
   ]
  },
  {
   "cell_type": "code",
   "execution_count": 7,
   "id": "2d825509-d43e-4275-9ca4-d8a8b368a108",
   "metadata": {},
   "outputs": [
    {
     "name": "stdout",
     "output_type": "stream",
     "text": [
      "<class 'pandas.core.frame.DataFrame'>\n",
      "Index: 159292 entries, 0 to 159450\n",
      "Data columns (total 2 columns):\n",
      " #   Column  Non-Null Count   Dtype \n",
      "---  ------  --------------   ----- \n",
      " 0   text    159292 non-null  object\n",
      " 1   toxic   159292 non-null  int64 \n",
      "dtypes: int64(1), object(1)\n",
      "memory usage: 3.6+ MB\n"
     ]
    }
   ],
   "source": [
    "# вывод основной информации о датафрейме\n",
    "toxic_df.info()"
   ]
  },
  {
   "cell_type": "markdown",
   "id": "e1df4491-0170-473a-a380-267d17563e45",
   "metadata": {},
   "source": [
    "Проверим данные на пропущенные значения"
   ]
  },
  {
   "cell_type": "code",
   "execution_count": 8,
   "id": "8c1ccc8c-9568-4f35-8e49-24fe71cf6024",
   "metadata": {},
   "outputs": [
    {
     "data": {
      "text/plain": [
       "text     0\n",
       "toxic    0\n",
       "dtype: int64"
      ]
     },
     "execution_count": 8,
     "metadata": {},
     "output_type": "execute_result"
    }
   ],
   "source": [
    "# вывод пропусков по столбцам\n",
    "toxic_df.isna().sum().sort_values(ascending=False)"
   ]
  },
  {
   "cell_type": "markdown",
   "id": "e790b235-d21e-4234-b535-43d44177de40",
   "metadata": {},
   "source": [
    "Выведем количество явных дубликатов"
   ]
  },
  {
   "cell_type": "code",
   "execution_count": 9,
   "id": "2099f9cc-9719-4aef-8d66-6faa73ee83dd",
   "metadata": {},
   "outputs": [
    {
     "name": "stdout",
     "output_type": "stream",
     "text": [
      "0\n"
     ]
    }
   ],
   "source": [
    "# вывод количества явных дубликатов датафрейма\n",
    "print(toxic_df.duplicated().sum())"
   ]
  },
  {
   "cell_type": "markdown",
   "id": "4c7ff52f",
   "metadata": {},
   "source": [
    "Выведем количество значений таргета"
   ]
  },
  {
   "cell_type": "code",
   "execution_count": 10,
   "id": "68b1df4f",
   "metadata": {},
   "outputs": [
    {
     "data": {
      "text/plain": [
       "toxic\n",
       "0    143106\n",
       "1     16186\n",
       "Name: count, dtype: int64"
      ]
     },
     "execution_count": 10,
     "metadata": {},
     "output_type": "execute_result"
    }
   ],
   "source": [
    "# вывод количества значений\n",
    "toxic_df[\"toxic\"].value_counts()"
   ]
  },
  {
   "cell_type": "markdown",
   "id": "9927dd36-f034-4a63-828b-6e990f9d7df7",
   "metadata": {},
   "source": [
    "***"
   ]
  },
  {
   "cell_type": "markdown",
   "id": "aa3dbc28-2039-4f4c-a02e-c004c65cd1d6",
   "metadata": {},
   "source": [
    "***ВЫВОД:***\n",
    "\n",
    "1. Пропусков в данных нет.\n",
    "2. Явных дубликатов в данных нет.\n",
    "3. В нумерации индексов присутствуют пропущенные значения.\n",
    "4. Наблюдается существенный дисбаланс классов таргета в сторону не токсичных комментариев."
   ]
  },
  {
   "cell_type": "markdown",
   "id": "a51ae7ac-df34-41e5-8a11-b7332b8a5640",
   "metadata": {},
   "source": [
    "### Изучение текстов комментариев"
   ]
  },
  {
   "cell_type": "markdown",
   "id": "5bd53f09-7715-4126-9301-a042be06d87c",
   "metadata": {},
   "source": [
    "Обратим внимание на тексты комментариев."
   ]
  },
  {
   "cell_type": "code",
   "execution_count": 11,
   "id": "19acc9dd-2b09-409c-add3-67b297ee1c41",
   "metadata": {
    "scrolled": true
   },
   "outputs": [
    {
     "name": "stdout",
     "output_type": "stream",
     "text": [
      "Sometime back, I just happened to log on to www.izoom.in with a friend’s reference and I was amazed to see the concept Fresh Ideas Entertainment has come up with. So many deals… all under one roof. This website is very user friendly and easy to use and is fun to be on.\n",
      "You have Gossip, Games, Facts… Another exciting feature to add to it is Face of the Week… Every week, 4 new faces are selected and put up as izoom faces. It’s great to have been selected in four out of a group of millions. \n",
      "This new start up has already got many a deals in its kitty. Few of them being TheFortune Hotel, The Beach… are my personal favorites. izoom.in has a USP of mobile coupons. Coupons are available even when a user cannot access internet. You just need to SMS izoom support to 56767 and you get attended immediately.\n",
      "All I can say is izoom.in is a must visit website for everyone before they go out for shopping or dining or for outing.\n",
      "Cheers!!!\n",
      "--------------------------------\n",
      "\"\n",
      "\n",
      "The latest edit is much better, don't make this article state \"\"super.\"\" at all. 71.237.70.49  \"\n",
      "--------------------------------\n",
      "\" October 2007 (UTC)\n",
      "\n",
      "I would think you'd be able to get your point across, and be immune to any objections, were you to simply embellish the second sentence of the article by changing \"\"he was schooled at Thornleigh Salesian College\"\" to \"\"he was schooled at (the then all-Catholic) Thornleigh Salesian College\"\".   \n",
      "\n",
      "Good suggestion from an Anon - what do you think? Rgds, -  07:53, 5\"\n",
      "--------------------------------\n",
      "Thanks for the tip on the currency translation.  Think it's all done now.\n",
      "--------------------------------\n",
      "I would argue that if content on the Con in comparison to the Arts Music is out of proportion, then it warrants further contribution to the article, not the removal of an indepth piece of content. Also, as I mentioned before, the Arts Music unit has a notable history comparable to that of the Con itself. Because of this, I would further argue that content on the Arts Music Unit is more relevant to this article than the information on the Newcastle Conservatorium.\n",
      "--------------------------------\n",
      "\"=Reliable sources===\n",
      "Cheating:\n",
      "\"\"Barry Bonds:Cheater\"\" from CBS, yea I kinda think that is reliable. \n",
      "\"\"Dear Barry Bonds, You are either an outright cheater or very stupid\"\" from the USA Today \n",
      "\"\"Yes, Barry Bonds is a cheater. He is a cheater of the worst sort\"\" \n",
      "Lying:\n",
      "\"\"It's clear, Barry Bonds' a liar\"\" New York Daily News, another pretty freakin' reliable source. \n",
      "\"\"Barry Lamar Bonds is a bad man\"\" Baseball Digest \n",
      "\"\"but Bonds is a liar, a cheater, a whiner and a bad influence on America's youth\"\"  Mark Barnes\n",
      "\n",
      "==\"\n",
      "--------------------------------\n",
      "WTF=\n",
      "\n",
      "How The Fuck Does This Person Merit A Page On Wikipedia.\n",
      "--------------------------------\n",
      "cajuns, acadians\n",
      "Cajuns, acadians, louisianans, they're so many different names for different americans of french descent because their culture is so rich and somewhat so different but so close at the same time. I'm an acadian but more importantly I'm a french american so I really don't see why there should be a difference. \n",
      "\n",
      "If you say there should be two different list, it doesn't make sense. The people on the french-american list should be in one of wiki-invented list of cajuns or acadians. I understand there are some more recent french-americans who are only 1 or 2 generations-old americans but this distinction isn't made for italian-americans, german-americans. I'm surprised to see Albert Einstein a fairly recent immigrant in American history next to Katherine Heigl, a 10 to 12 generations american. \\\\\n",
      "\n",
      "This is all race-based, biased because french-bashing don't stop at the bush government level.\n",
      "--------------------------------\n",
      "Hi - I dropped a pin in Google Maps at the ceremonial site near Chief Tayak's grave and recorded the lat/long.  Is this not permitted? It maps correctly in other sites, as well, so I believe they're the correct coordinates. I live nearby, so could also visit the site and get the coordinates from GPS.\n",
      "--------------------------------\n",
      "Re removal of accessdate= for urls books \n",
      "\n",
      "This is from Template:Cite book\n",
      "accessdate: Full date when url was accessed. Should be used when url field is used.\n",
      "Someone has claimed the exact opposite & removed the accessdates\n",
      "--------------------------------\n"
     ]
    }
   ],
   "source": [
    "# вывод 10 полных комментов\n",
    "for text in toxic_df.sample(10, random_state=RANDOM_STATE)[\"text\"].tolist():\n",
    "    print(text)\n",
    "    print(\"--------------------------------\")"
   ]
  },
  {
   "cell_type": "markdown",
   "id": "090d690f-f8b4-4855-aa71-d44846ae495e",
   "metadata": {},
   "source": [
    "***"
   ]
  },
  {
   "cell_type": "markdown",
   "id": "7b8f029b-bd55-4311-92a7-e6fbe4500638",
   "metadata": {},
   "source": [
    "***ВЫВОД:***\n",
    "\n",
    "1. В тексте наряду со знаками препинания, спецсимволами и цифрами присутствуют наименования месяцев (в датах),\\\n",
    "   а также ссылки на сайты и email"
   ]
  },
  {
   "cell_type": "markdown",
   "id": "b0f0cdda-fd5f-41be-b2fa-984951ce492f",
   "metadata": {},
   "source": [
    "<a id='2'></a>\n",
    "# Подготовка данных"
   ]
  },
  {
   "cell_type": "markdown",
   "id": "6519b404-6cdb-4ce5-91f2-9d6cd486ff92",
   "metadata": {},
   "source": [
    "Проведём очистку текстов комментариев от лишних  символов и слов.\\\n",
    "Для этого используем токенизацию текстов, регулярные выражения и лемматизацию."
   ]
  },
  {
   "cell_type": "code",
   "execution_count": 12,
   "id": "9d7ab462-6755-40fe-93e7-ea2ae3d3a7e0",
   "metadata": {},
   "outputs": [],
   "source": [
    "# инициализация лемматизатора\n",
    "wnl = WordNetLemmatizer()"
   ]
  },
  {
   "cell_type": "code",
   "execution_count": 13,
   "id": "02a01fe2-abf8-4581-92d6-9442dc332470",
   "metadata": {},
   "outputs": [],
   "source": [
    "# объявление функкции для очистки текста\n",
    "def get_clear_text(text):\n",
    "    text = re.sub(\n",
    "        r\"(January|February|March|April|May|June|July|August|September|October|November|December)\",\n",
    "        \"\",\n",
    "        text,\n",
    "    )  # очистка от слов в списке\n",
    "    text = re.sub(r\"UTC\", \"\", text)  # очистка от слова\n",
    "    text = re.sub(r\"http\\S+|www.\\S+\", \"\", text)  # очистка от ссылок сайтов\n",
    "    text = re.sub(r\"\\S+@\\S+\", \"\", text)  # очистка от email\n",
    "    text = re.sub(r\"[^a-zA-Z]\", \" \", text)  # очистка от символов\n",
    "    clear_text = \" \".join(text.split())  # очистка от лишних пробелов\n",
    "    return clear_text.lower()\n",
    "\n",
    "\n",
    "def penn2morphy(penntag):\n",
    "    morphy_tag = {\"NN\": \"n\", \"JJ\": \"a\", \"VB\": \"v\", \"RB\": \"r\"}\n",
    "    try:\n",
    "        return morphy_tag[penntag[:2]]\n",
    "    except:\n",
    "        return \"n\"\n",
    "\n",
    "\n",
    "# объявление фнкции для лемматизации текста\n",
    "def get_lemm_text(text):\n",
    "    return [\n",
    "        wnl.lemmatize(word, pos=penn2morphy(tag))\n",
    "        for word, tag in pos_tag(word_tokenize(text))\n",
    "    ]"
   ]
  },
  {
   "cell_type": "markdown",
   "id": "6bf3c46b-0af5-4797-ac3d-38b14442c908",
   "metadata": {},
   "source": [
    "Запишем очищенный текст в признак `'clear_text'`"
   ]
  },
  {
   "cell_type": "code",
   "execution_count": 14,
   "id": "9833afc4-8952-4d98-aafe-331164962188",
   "metadata": {},
   "outputs": [
    {
     "data": {
      "application/vnd.jupyter.widget-view+json": {
       "model_id": "05b718ff3b2e4491b94474c60d694e01",
       "version_major": 2,
       "version_minor": 0
      },
      "text/plain": [
       "  0%|          | 0/159292 [00:00<?, ?it/s]"
      ]
     },
     "metadata": {},
     "output_type": "display_data"
    }
   ],
   "source": [
    "# запись в новый столбец\n",
    "toxic_df[\"clear_text\"] = toxic_df.text.progress_apply(lambda x: get_clear_text(x))"
   ]
  },
  {
   "cell_type": "markdown",
   "id": "e5105ab4",
   "metadata": {},
   "source": [
    "Запишем лемматизированный текст в признак `'lemm_text'`"
   ]
  },
  {
   "cell_type": "code",
   "execution_count": 15,
   "id": "6268e3cb",
   "metadata": {},
   "outputs": [
    {
     "data": {
      "application/vnd.jupyter.widget-view+json": {
       "model_id": "470c3dd03b004466960d73149be25229",
       "version_major": 2,
       "version_minor": 0
      },
      "text/plain": [
       "  0%|          | 0/159292 [00:00<?, ?it/s]"
      ]
     },
     "metadata": {},
     "output_type": "display_data"
    }
   ],
   "source": [
    "toxic_df[\"lemm_text\"] = toxic_df.clear_text.progress_apply(lambda x: get_lemm_text(x))"
   ]
  },
  {
   "cell_type": "markdown",
   "id": "2e2c7f02-8fdf-4cd8-8d81-cd10158a82be",
   "metadata": {},
   "source": [
    "Проведём очистку текстов от стоп-слов с записью в новый признак `'lemm_text_no_stop'`"
   ]
  },
  {
   "cell_type": "code",
   "execution_count": 16,
   "id": "89d67c0d-f969-4b1c-8357-8ef4baf311f0",
   "metadata": {},
   "outputs": [
    {
     "data": {
      "application/vnd.jupyter.widget-view+json": {
       "model_id": "1133af919a064918b5d91270e22e82f2",
       "version_major": 2,
       "version_minor": 0
      },
      "text/plain": [
       "  0%|          | 0/159292 [00:00<?, ?it/s]"
      ]
     },
     "metadata": {},
     "output_type": "display_data"
    }
   ],
   "source": [
    "# запись в новый столбец\n",
    "toxic_df[\"lemm_text_no_stop\"] = toxic_df[\"lemm_text\"].progress_apply(\n",
    "    lambda x: \" \".join(\n",
    "        [word for word in x if word not in (stopwords) and word.isalpha()]\n",
    "    )\n",
    ")"
   ]
  },
  {
   "cell_type": "markdown",
   "id": "a5c0c493-74e6-4e54-8dbc-c0ff1eab524f",
   "metadata": {},
   "source": [
    "Создадим новый признак `'count_simbols'`, посчитав количество символов в тексте"
   ]
  },
  {
   "cell_type": "code",
   "execution_count": 17,
   "id": "a4a321e3-a907-4076-b7e9-bfd1b019d6aa",
   "metadata": {},
   "outputs": [],
   "source": [
    "# запись в новый столбец\n",
    "toxic_df[\"count_simbols\"] = toxic_df[\"lemm_text_no_stop\"].str.len()"
   ]
  },
  {
   "cell_type": "markdown",
   "id": "2768afef-7b69-4634-92bd-4a93ade83501",
   "metadata": {},
   "source": [
    "Создадим новый признак `'count_words'`, посчитав количество слов в тексте"
   ]
  },
  {
   "cell_type": "code",
   "execution_count": 18,
   "id": "eaae0575-b2b5-47ff-a25c-7401fe7a9b36",
   "metadata": {},
   "outputs": [],
   "source": [
    "# запись в новый столбец\n",
    "toxic_df[\"count_words\"] = toxic_df[\"lemm_text_no_stop\"].apply(lambda x: len(x.split()))"
   ]
  },
  {
   "cell_type": "markdown",
   "id": "d0572b22-dc1a-49e2-b7fc-84fd84c8c753",
   "metadata": {},
   "source": [
    "Проанализируем тональность текстов комментариев."
   ]
  },
  {
   "cell_type": "code",
   "execution_count": 19,
   "id": "e29793df-6dd4-449c-8ec5-a9aeb8d4e429",
   "metadata": {},
   "outputs": [],
   "source": [
    "# инициализация анализатора\n",
    "sia = SentimentIntensityAnalyzer()"
   ]
  },
  {
   "cell_type": "code",
   "execution_count": 20,
   "id": "9b0c1a44-3224-4673-86d3-7bb42e9b15b3",
   "metadata": {},
   "outputs": [],
   "source": [
    "# объявление функции для определения тональности текста\n",
    "def get_ton(x):\n",
    "    if sia.polarity_scores(x)[\"compound\"] > 0:\n",
    "        return \"positive\"\n",
    "    elif sia.polarity_scores(x)[\"compound\"] < 0:\n",
    "        return \"negative\"\n",
    "    else:\n",
    "        return \"neutral\""
   ]
  },
  {
   "cell_type": "markdown",
   "id": "4586912a-c7eb-487b-9f1f-827df1beb784",
   "metadata": {},
   "source": [
    "Запишем тональность текстов в новый признак `'ton'`"
   ]
  },
  {
   "cell_type": "code",
   "execution_count": 21,
   "id": "7c3cd68e-a0c9-4f36-9c4f-7e727452227d",
   "metadata": {},
   "outputs": [
    {
     "data": {
      "application/vnd.jupyter.widget-view+json": {
       "model_id": "9fd281be6ef7430496eb7706d909147f",
       "version_major": 2,
       "version_minor": 0
      },
      "text/plain": [
       "  0%|          | 0/159292 [00:00<?, ?it/s]"
      ]
     },
     "metadata": {},
     "output_type": "display_data"
    }
   ],
   "source": [
    "# запись в новый столбец\n",
    "toxic_df[\"ton\"] = toxic_df[\"lemm_text_no_stop\"].progress_apply(lambda x: get_ton(x))"
   ]
  },
  {
   "cell_type": "markdown",
   "id": "9f880ce1-532a-465a-881f-6aef8d405748",
   "metadata": {},
   "source": [
    "Проверим создание новых признаков"
   ]
  },
  {
   "cell_type": "code",
   "execution_count": 22,
   "id": "3c5c1ccd-d3bf-4781-8266-a3e2aad7e9a0",
   "metadata": {},
   "outputs": [
    {
     "data": {
      "text/html": [
       "<div>\n",
       "<style scoped>\n",
       "    .dataframe tbody tr th:only-of-type {\n",
       "        vertical-align: middle;\n",
       "    }\n",
       "\n",
       "    .dataframe tbody tr th {\n",
       "        vertical-align: top;\n",
       "    }\n",
       "\n",
       "    .dataframe thead th {\n",
       "        text-align: right;\n",
       "    }\n",
       "</style>\n",
       "<table border=\"1\" class=\"dataframe\">\n",
       "  <thead>\n",
       "    <tr style=\"text-align: right;\">\n",
       "      <th></th>\n",
       "      <th>text</th>\n",
       "      <th>toxic</th>\n",
       "      <th>clear_text</th>\n",
       "      <th>lemm_text</th>\n",
       "      <th>lemm_text_no_stop</th>\n",
       "      <th>count_simbols</th>\n",
       "      <th>count_words</th>\n",
       "      <th>ton</th>\n",
       "    </tr>\n",
       "  </thead>\n",
       "  <tbody>\n",
       "    <tr>\n",
       "      <th>0</th>\n",
       "      <td>Explanation\\nWhy the edits made under my usern...</td>\n",
       "      <td>0</td>\n",
       "      <td>explanation why the edits made under my userna...</td>\n",
       "      <td>[explanation, why, the, edits, make, under, my...</td>\n",
       "      <td>explanation edits make username hardcore metal...</td>\n",
       "      <td>152</td>\n",
       "      <td>23</td>\n",
       "      <td>positive</td>\n",
       "    </tr>\n",
       "    <tr>\n",
       "      <th>1</th>\n",
       "      <td>D'aww! He matches this background colour I'm s...</td>\n",
       "      <td>0</td>\n",
       "      <td>d aww he matches this background colour i m se...</td>\n",
       "      <td>[d, aww, he, match, this, background, colour, ...</td>\n",
       "      <td>aww match background colour seemingly stick th...</td>\n",
       "      <td>55</td>\n",
       "      <td>8</td>\n",
       "      <td>positive</td>\n",
       "    </tr>\n",
       "    <tr>\n",
       "      <th>2</th>\n",
       "      <td>Hey man, I'm really not trying to edit war. It...</td>\n",
       "      <td>0</td>\n",
       "      <td>hey man i m really not trying to edit war it s...</td>\n",
       "      <td>[hey, man, i, m, really, not, try, to, edit, w...</td>\n",
       "      <td>hey man really try edit war guy constantly rem...</td>\n",
       "      <td>132</td>\n",
       "      <td>21</td>\n",
       "      <td>negative</td>\n",
       "    </tr>\n",
       "    <tr>\n",
       "      <th>3</th>\n",
       "      <td>\"\\nMore\\nI can't make any real suggestions on ...</td>\n",
       "      <td>0</td>\n",
       "      <td>more i can t make any real suggestions on impr...</td>\n",
       "      <td>[more, i, can, t, make, any, real, suggestion,...</td>\n",
       "      <td>make real suggestion improvement wonder sectio...</td>\n",
       "      <td>352</td>\n",
       "      <td>52</td>\n",
       "      <td>positive</td>\n",
       "    </tr>\n",
       "    <tr>\n",
       "      <th>4</th>\n",
       "      <td>You, sir, are my hero. Any chance you remember...</td>\n",
       "      <td>0</td>\n",
       "      <td>you sir are my hero any chance you remember wh...</td>\n",
       "      <td>[you, sir, be, my, hero, any, chance, you, rem...</td>\n",
       "      <td>sir hero chance remember page</td>\n",
       "      <td>29</td>\n",
       "      <td>5</td>\n",
       "      <td>positive</td>\n",
       "    </tr>\n",
       "  </tbody>\n",
       "</table>\n",
       "</div>"
      ],
      "text/plain": [
       "                                                text  toxic  \\\n",
       "0  Explanation\\nWhy the edits made under my usern...      0   \n",
       "1  D'aww! He matches this background colour I'm s...      0   \n",
       "2  Hey man, I'm really not trying to edit war. It...      0   \n",
       "3  \"\\nMore\\nI can't make any real suggestions on ...      0   \n",
       "4  You, sir, are my hero. Any chance you remember...      0   \n",
       "\n",
       "                                          clear_text  \\\n",
       "0  explanation why the edits made under my userna...   \n",
       "1  d aww he matches this background colour i m se...   \n",
       "2  hey man i m really not trying to edit war it s...   \n",
       "3  more i can t make any real suggestions on impr...   \n",
       "4  you sir are my hero any chance you remember wh...   \n",
       "\n",
       "                                           lemm_text  \\\n",
       "0  [explanation, why, the, edits, make, under, my...   \n",
       "1  [d, aww, he, match, this, background, colour, ...   \n",
       "2  [hey, man, i, m, really, not, try, to, edit, w...   \n",
       "3  [more, i, can, t, make, any, real, suggestion,...   \n",
       "4  [you, sir, be, my, hero, any, chance, you, rem...   \n",
       "\n",
       "                                   lemm_text_no_stop  count_simbols  \\\n",
       "0  explanation edits make username hardcore metal...            152   \n",
       "1  aww match background colour seemingly stick th...             55   \n",
       "2  hey man really try edit war guy constantly rem...            132   \n",
       "3  make real suggestion improvement wonder sectio...            352   \n",
       "4                      sir hero chance remember page             29   \n",
       "\n",
       "   count_words       ton  \n",
       "0           23  positive  \n",
       "1            8  positive  \n",
       "2           21  negative  \n",
       "3           52  positive  \n",
       "4            5  positive  "
      ]
     },
     "execution_count": 22,
     "metadata": {},
     "output_type": "execute_result"
    }
   ],
   "source": [
    "# вывод первых 5-ти строчек датафрейма\n",
    "toxic_df.head()"
   ]
  },
  {
   "cell_type": "markdown",
   "id": "c0b3aa78-9ea7-4c90-bbd3-1e693e6eb048",
   "metadata": {},
   "source": [
    "***"
   ]
  },
  {
   "cell_type": "markdown",
   "id": "09ba5551-f9c4-4c13-93d9-cf3fad88bd1c",
   "metadata": {},
   "source": [
    "***ВЫВОД:***\n",
    "\n",
    "1. Предварительно тексты комментариев были очищены от:\n",
    "    - названий месяцев в датах\n",
    "    - указания UTC\n",
    "    - ссылок на сайты\n",
    "    - email\n",
    "    - символов кроме букв английского языка\n",
    "2. Текст комментариев был приведён к нижнему регистру и лемматизирован.\n",
    "3. Были созданы новые количественные признаки:\n",
    "    - `'count_simbols'`\n",
    "    - `'count_words'`\n",
    "4. Была определена тональность текстов и записана в новый признак `'ton'`"
   ]
  },
  {
   "cell_type": "markdown",
   "id": "47a66b69-3350-4a32-87f7-10cc0b9fcfe4",
   "metadata": {},
   "source": [
    "<a id='3'></a>\n",
    "# Обучение моделей"
   ]
  },
  {
   "cell_type": "markdown",
   "id": "cdca78ee-7979-44d3-852e-6148c4595b31",
   "metadata": {},
   "source": [
    "## Подготовка датафрейма"
   ]
  },
  {
   "cell_type": "markdown",
   "id": "ed62dea9-1897-46ea-9547-3766cdca7988",
   "metadata": {},
   "source": [
    "В датафрейме выделим входные и целевой признаки"
   ]
  },
  {
   "cell_type": "code",
   "execution_count": 23,
   "id": "8ade32df-b9e1-4d90-a1d0-75e4c1f559dd",
   "metadata": {},
   "outputs": [],
   "source": [
    "# выделение признаков\n",
    "X = toxic_df.drop(columns=[\"toxic\", \"text\", \"lemm_text\", \"clear_text\"])\n",
    "y = toxic_df[\"toxic\"]"
   ]
  },
  {
   "cell_type": "markdown",
   "id": "36a26af4-6168-4817-a41a-55b7e42d34af",
   "metadata": {},
   "source": [
    "Разделим датафрейм на тренировочную и тестовую части"
   ]
  },
  {
   "cell_type": "code",
   "execution_count": 24,
   "id": "c05e036c-a6bc-4364-8fc7-cbd4ce88fa2d",
   "metadata": {},
   "outputs": [],
   "source": [
    "# разделение на тренировочную и тестовую выборки\n",
    "X_train, X_test, y_train, y_test = train_test_split(\n",
    "    X, y, test_size=TEST_SIZE, stratify=y\n",
    ")"
   ]
  },
  {
   "cell_type": "markdown",
   "id": "a2f4afca-6be9-4f0d-85f1-cffeb4fbca07",
   "metadata": {},
   "source": [
    "Проверим разделение"
   ]
  },
  {
   "cell_type": "code",
   "execution_count": 25,
   "id": "10bba5da-3d88-4e28-ade9-f4cf3871ad5f",
   "metadata": {},
   "outputs": [
    {
     "data": {
      "text/plain": [
       "((143362, 4), (15930, 4), (143362,), (15930,))"
      ]
     },
     "execution_count": 25,
     "metadata": {},
     "output_type": "execute_result"
    }
   ],
   "source": [
    "# вывод размеров датафреймов\n",
    "X_train.shape, X_test.shape, y_train.shape, y_test.shape"
   ]
  },
  {
   "cell_type": "markdown",
   "id": "66671c51-2c58-4014-88b9-d58934806897",
   "metadata": {},
   "source": [
    "Преобразуем таргет тренировочной и тестовой частей в массивы numpy"
   ]
  },
  {
   "cell_type": "code",
   "execution_count": 26,
   "id": "1f761f6d-33aa-444b-b5b1-43ad73ec4c80",
   "metadata": {},
   "outputs": [],
   "source": [
    "# преобразование в массивы NumPy\n",
    "y_train = y_train.to_numpy()\n",
    "y_test = y_test.to_numpy()"
   ]
  },
  {
   "cell_type": "markdown",
   "id": "d2836114-6c0b-435f-b1cd-123ee05d1425",
   "metadata": {},
   "source": [
    "## Создание pipeline"
   ]
  },
  {
   "cell_type": "markdown",
   "id": "d88936b9-b378-47f1-bdc3-c9f24d11eb82",
   "metadata": {},
   "source": [
    "Так как тагрет - категориальный признак, будем решать задачу классификации."
   ]
  },
  {
   "cell_type": "markdown",
   "id": "de0be349-06d1-400b-bfd2-07fef8cef883",
   "metadata": {},
   "source": [
    "Для построения модели используем пайплайны.\\\n",
    "Для подготовки данных будем использовать ColumnTransformer.\\\n",
    "Для кодирования категориальных признаков будем использовать кодировщики:\n",
    " - OrdinalEncoder()\n",
    "\n",
    "Для масштабирования количественных признаков будем использовать скейлеры:\n",
    " - MinMaxScaler()\n",
    " - StandardScaler()\n",
    " - RobustScaler()\n",
    " - и аргумент \"passthrough\" - вариант без масштабирования.\n",
    "\n",
    "Для векторизации текстов комментариев будем использовать векторизатор:\n",
    " - TfidfVectorizer()"
   ]
  },
  {
   "cell_type": "markdown",
   "id": "113a1efa-838c-4179-b528-34ca2e6e482c",
   "metadata": {},
   "source": [
    "Для оценки адекватности модели будем использовать DummyClassifier()"
   ]
  },
  {
   "cell_type": "markdown",
   "id": "214c88e2-c4bb-498f-858e-51bdd02061ce",
   "metadata": {},
   "source": [
    "Создадим общий pipeline для подготовки данных и итоговый pipeline"
   ]
  },
  {
   "cell_type": "code",
   "execution_count": 27,
   "id": "f2887a6f-1f30-4939-8339-22bec46d4edf",
   "metadata": {},
   "outputs": [],
   "source": [
    "# создание общего pipeline для подготовки данных\n",
    "data_preprocessor = ColumnTransformer(\n",
    "    transformers=[\n",
    "        (\"tfidf\", TfidfVectorizer(), \"lemm_text_no_stop\"),\n",
    "        (\n",
    "            \"ord\",\n",
    "            OrdinalEncoder(\n",
    "                categories=[\n",
    "                    [\"negative\", \"neutral\", \"positive\"],\n",
    "                ]\n",
    "            ),\n",
    "            [\"ton\"],\n",
    "        ),\n",
    "        (\"num\", StandardScaler(), [\"count_simbols\", \"count_words\"]),\n",
    "    ],\n",
    "    remainder=\"passthrough\",\n",
    ")"
   ]
  },
  {
   "cell_type": "code",
   "execution_count": 28,
   "id": "2e92a03b-3fac-425d-892b-35f5829e4a36",
   "metadata": {},
   "outputs": [],
   "source": [
    "# создание итогового pipeline с инициализацией модели\n",
    "pipe_final = Pipeline(\n",
    "    [\n",
    "        (\"preprocessor\", data_preprocessor),\n",
    "        (\"models\", DummyClassifier(strategy=\"uniform\", random_state=RANDOM_STATE)),\n",
    "    ]\n",
    ")"
   ]
  },
  {
   "cell_type": "markdown",
   "id": "b1f30f5b-5820-469f-a01d-65636a7b2266",
   "metadata": {},
   "source": [
    "Опишем модели с гиперпараметрами"
   ]
  },
  {
   "cell_type": "code",
   "execution_count": 29,
   "id": "c321a5f8-8d64-4e3a-bf59-655ada0ef3cf",
   "metadata": {},
   "outputs": [],
   "source": [
    "param_grid = [\n",
    "    # словарь для модели LogisticRegression()\n",
    "    {\n",
    "        \"models\": [LogisticRegression(random_state=RANDOM_STATE)],\n",
    "        \"models__C\": range(5, 18, 3),\n",
    "    },\n",
    "    # словарь для модели RandomForestClassifier()\n",
    "    {\n",
    "        \"models\": [RandomForestClassifier(random_state=RANDOM_STATE)],\n",
    "        \"models__max_depth\": range(2, 20, 2),\n",
    "        \"models__n_estimators\": range(3, 20, 2),\n",
    "    },\n",
    "    # словарь для модели GradientBoostingClassifier()\n",
    "    {\n",
    "        \"models\": [GradientBoostingClassifier()],\n",
    "        \"models__max_depth\": range(3, 7, 3),\n",
    "        \"models__min_samples_split\": range(4, 11, 2),\n",
    "        \"models__n_estimators\": range(11, 20, 2),\n",
    "    },\n",
    "]"
   ]
  },
  {
   "cell_type": "markdown",
   "id": "36d5337c-3052-4211-ac1c-7020c047c54d",
   "metadata": {},
   "source": [
    "## Подбор модели и получение метрики качества"
   ]
  },
  {
   "cell_type": "markdown",
   "id": "c451e16e-dc4d-4494-9a82-9c4d0f3c6ad2",
   "metadata": {},
   "source": [
    "Выполним подбор гиперпараметров к модели LogisticRegression()\\\n",
    "и оценим качество модели метрикой F1"
   ]
  },
  {
   "cell_type": "code",
   "execution_count": 30,
   "id": "31270631-0f4c-49ca-a6d4-431f0431faa5",
   "metadata": {},
   "outputs": [
    {
     "name": "stdout",
     "output_type": "stream",
     "text": [
      "Лучшая модель и её параметры:\n",
      "\n",
      " Pipeline(steps=[('preprocessor',\n",
      "                 ColumnTransformer(remainder='passthrough',\n",
      "                                   transformers=[('tfidf', TfidfVectorizer(),\n",
      "                                                  'lemm_text_no_stop'),\n",
      "                                                 ('ord',\n",
      "                                                  OrdinalEncoder(categories=[['negative',\n",
      "                                                                              'neutral',\n",
      "                                                                              'positive']]),\n",
      "                                                  ['ton']),\n",
      "                                                 ('num', StandardScaler(),\n",
      "                                                  ['count_simbols',\n",
      "                                                   'count_words'])])),\n",
      "                ('models', LogisticRegression(C=14, random_state=42))])\n",
      "Качество модели по метрике F1 - 0.774\n"
     ]
    }
   ],
   "source": [
    "# подбор лучшей модели с гиперпараметрами\n",
    "model_lr = RandomizedSearchCV(\n",
    "    pipe_final,\n",
    "    param_grid[0],\n",
    "    scoring=\"f1\",\n",
    "    n_iter=20,\n",
    "    random_state=RANDOM_STATE,\n",
    "    n_jobs=-1,\n",
    ")\n",
    "model_lr.fit(X_train, y_train)\n",
    "\n",
    "print(\"Лучшая модель и её параметры:\\n\\n\", model_lr.best_estimator_)\n",
    "print(f\"Качество модели по метрике F1 - {round(model_lr.best_score_, 3)}\")"
   ]
  },
  {
   "cell_type": "markdown",
   "id": "83fb4950-eab3-475c-b9d9-cc66238dd803",
   "metadata": {},
   "source": [
    "Проверим модель на адекватность dummy-моделью"
   ]
  },
  {
   "cell_type": "code",
   "execution_count": 31,
   "id": "28012d2d-a313-4a2d-986f-1714e717efb8",
   "metadata": {},
   "outputs": [
    {
     "name": "stdout",
     "output_type": "stream",
     "text": [
      "Модель dummy и её параметры:\n",
      "\n",
      " DummyClassifier(random_state=42, strategy='uniform')\n",
      "Качество модели по метрике F1 - 0.171\n"
     ]
    }
   ],
   "source": [
    "# проверка на адекватность\n",
    "model = DummyClassifier(strategy=\"uniform\", random_state=RANDOM_STATE)\n",
    "distributions = dict(strategy=[\"uniform\"])\n",
    "\n",
    "model_dummy = RandomizedSearchCV(\n",
    "    model,\n",
    "    distributions,\n",
    "    scoring=\"f1\",\n",
    "    n_iter=20,\n",
    "    random_state=RANDOM_STATE,\n",
    "    n_jobs=-1,\n",
    ")\n",
    "model_dummy.fit(X_train, y_train)\n",
    "\n",
    "print(\"Модель dummy и её параметры:\\n\\n\", model_dummy.best_estimator_)\n",
    "print(f\"Качество модели по метрике F1 - {round(model_dummy.best_score_, 3)}\")"
   ]
  },
  {
   "cell_type": "markdown",
   "id": "31a6e49a-59b7-4f1a-8471-b11200cebb5a",
   "metadata": {},
   "source": [
    "Оценим качество обученной модели на тестовой выборке"
   ]
  },
  {
   "cell_type": "code",
   "execution_count": 32,
   "id": "d2629541-5244-41a0-9361-214ebd31a3ff",
   "metadata": {},
   "outputs": [
    {
     "name": "stdout",
     "output_type": "stream",
     "text": [
      "Качество модели по метрике F1 на тестовой выборке - 0.777\n"
     ]
    }
   ],
   "source": [
    "# получение предсказаний на тестовой выборке\n",
    "y_pred = model_lr.predict(X_test)\n",
    "score = f1_score(y_test, y_pred)\n",
    "print(f\"Качество модели по метрике F1 на тестовой выборке - {round(score, 3)}\")"
   ]
  },
  {
   "cell_type": "markdown",
   "id": "6286dd15-56f1-41d6-bd9d-7b163d11891b",
   "metadata": {},
   "source": [
    "Подбор гиперпараметров других описанных моделей занимает много времени.\\\n",
    "Кроме того, метрика качества при этом низкая."
   ]
  },
  {
   "cell_type": "markdown",
   "id": "82d931b3",
   "metadata": {},
   "source": [
    "Оценим общую значимость значимость признаков.\\\n",
    "Для этого воспользуемся обученной лучшей моделью."
   ]
  },
  {
   "cell_type": "code",
   "execution_count": 33,
   "id": "8d8dece7",
   "metadata": {},
   "outputs": [],
   "source": [
    "# переформирование предсказания лучшей модели в DataFrame\n",
    "pred_df = lambda x: model_lr.best_estimator_.predict(\n",
    "    pd.DataFrame(x, columns=X_train.columns)\n",
    ")"
   ]
  },
  {
   "cell_type": "code",
   "execution_count": 34,
   "id": "98cd60f7",
   "metadata": {},
   "outputs": [
    {
     "name": "stderr",
     "output_type": "stream",
     "text": [
      "WARNING:shap:Using 15930 background data samples could cause slower run times. Consider using shap.sample(data, K) or shap.kmeans(data, K) to summarize the background as K samples.\n"
     ]
    },
    {
     "data": {
      "application/vnd.jupyter.widget-view+json": {
       "model_id": "e80ff524f2174b08934bd7dad7c39eda",
       "version_major": 2,
       "version_minor": 0
      },
      "text/plain": [
       "  0%|          | 0/100 [00:00<?, ?it/s]"
      ]
     },
     "metadata": {},
     "output_type": "display_data"
    }
   ],
   "source": [
    "# создаем объект explainer для модели\n",
    "explainer = shap.KernelExplainer(pred_df, X_test)\n",
    "shap_values = explainer.shap_values(X_test[:100], nsamples=50)"
   ]
  },
  {
   "cell_type": "markdown",
   "id": "45bc2c79",
   "metadata": {},
   "source": [
    "Оценим общий вклад признаков в прознозы модели."
   ]
  },
  {
   "cell_type": "code",
   "execution_count": 35,
   "id": "b92f4643",
   "metadata": {},
   "outputs": [
    {
     "data": {
      "image/png": "[encoded data removed]",
      "text/plain": [
       "<Figure size 800x310 with 1 Axes>"
      ]
     },
     "metadata": {},
     "output_type": "display_data"
    }
   ],
   "source": [
    "# получение имён признаков\n",
    "feat_names = list(X.columns)\n",
    "# построение графика\n",
    "shap.plots.violin(shap_values, feature_names=feat_names)"
   ]
  },
  {
   "cell_type": "markdown",
   "id": "5f1fcbb8",
   "metadata": {},
   "source": [
    "Как видно на графике вклад новых признаков минимален.\\\n",
    "Попробуем построить модель без этих новых признаков."
   ]
  },
  {
   "cell_type": "code",
   "execution_count": 36,
   "id": "004f99a5",
   "metadata": {},
   "outputs": [],
   "source": [
    "# создание общего pipeline для подготовки данных\n",
    "data_preprocessor2 = ColumnTransformer(\n",
    "    transformers=[\n",
    "        (\"tfidf\", TfidfVectorizer(), \"lemm_text_no_stop\"),\n",
    "    ]\n",
    ")\n",
    "# создание итогового pipeline с инициализацией модели\n",
    "pipe_final2 = Pipeline(\n",
    "    [\n",
    "        (\"preprocessor\", data_preprocessor2),\n",
    "        (\"models\", DummyClassifier(strategy=\"uniform\", random_state=RANDOM_STATE)),\n",
    "    ]\n",
    ")"
   ]
  },
  {
   "cell_type": "code",
   "execution_count": 37,
   "id": "4a7528d7",
   "metadata": {},
   "outputs": [],
   "source": [
    "# удаление новых признаков\n",
    "X_train2 = X_train.drop(columns=[\"ton\", \"count_words\", \"count_simbols\"])"
   ]
  },
  {
   "cell_type": "code",
   "execution_count": 38,
   "id": "fcdded7a",
   "metadata": {},
   "outputs": [
    {
     "name": "stdout",
     "output_type": "stream",
     "text": [
      "Лучшая модель и её параметры:\n",
      "\n",
      " Pipeline(steps=[('preprocessor',\n",
      "                 ColumnTransformer(transformers=[('tfidf', TfidfVectorizer(),\n",
      "                                                  'lemm_text_no_stop')])),\n",
      "                ('models', LogisticRegression(C=8, random_state=42))])\n",
      "Качество модели по метрике F1 - 0.772\n"
     ]
    }
   ],
   "source": [
    "# подбор лучшей модели с гиперпараметрами\n",
    "model_lr2 = RandomizedSearchCV(\n",
    "    pipe_final2,\n",
    "    param_grid[0],\n",
    "    scoring=\"f1\",\n",
    "    n_iter=20,\n",
    "    random_state=RANDOM_STATE,\n",
    "    n_jobs=-1,\n",
    ")\n",
    "model_lr2.fit(X_train2, y_train)\n",
    "\n",
    "print(\"Лучшая модель и её параметры:\\n\\n\", model_lr2.best_estimator_)\n",
    "print(f\"Качество модели по метрике F1 - {round(model_lr2.best_score_, 3)}\")"
   ]
  },
  {
   "cell_type": "markdown",
   "id": "0456664c",
   "metadata": {},
   "source": [
    "Удаление новых признаков не привело к улучшению качества модели."
   ]
  },
  {
   "cell_type": "markdown",
   "id": "cef0bda8-a95d-49cf-8201-85216caa2da4",
   "metadata": {},
   "source": [
    "***"
   ]
  },
  {
   "cell_type": "markdown",
   "id": "55c0491c-9e9c-4698-bfd2-182a2e139839",
   "metadata": {},
   "source": [
    "***ВЫВОД:***\n",
    "\n",
    "1. Были обучены модели с гиперпараметрами:\n",
    "   - LogisticRegression() с ***C***\n",
    "   - RandomForestClassifier() с ***max_depth***, ***n_estimators***\n",
    "   - GradientBoostingClassifier() с ***max_depth***, ***min_samples_split***, ***n_estimators***\n",
    "2. Для подбора лучшей модели с гиперпараметрами использован\n",
    "   - RandomizedSearchCV()\n",
    "3. Для оценки качества работы модели применили метрику F1\n",
    "4. Лучшая модель по метрике качества **LogisticRegression()** с гиперпараметром **C** = 14\n",
    "5. Метрика качества F1 для лучшей модели составляет при кросс-валидации 0.774\n",
    "6. Модель **LogisticRegression()** была проверена на адекватность dummy-моделью\n",
    "7. Метрика качества F1 для лучшей модели на тестовой выборке составила 0.777\n",
    "8. Модели RandomForestClassifier() и GradientBoostingClassifier() не прошли оценку качеством.\n",
    "9. Были оценены вклады новых признаков в предсказания модели."
   ]
  },
  {
   "cell_type": "markdown",
   "id": "913418e5-7f01-4e32-a90a-9bd0645b17f8",
   "metadata": {},
   "source": [
    "<a id='4'></a>\n",
    "# ОБЩИЙ ВЫВОД"
   ]
  },
  {
   "cell_type": "markdown",
   "id": "bb68f1f3-7cd8-4ed3-bbea-7ce8152758fc",
   "metadata": {},
   "source": [
    "**ВХОДНЫЕ ДАННЫЕ:**\n",
    "1. Исследование проведено на базе данных интернет-магазин «Викишоп»\n",
    "2. Данные представлены файлом toxic_comments.csv\n",
    "3. Данные получены и записаны в датафрейм ***toxic_df***\n",
    "\n",
    "\n",
    "**НА ЭТАПЕ ИЗУЧЕНИЯ ДАННЫХ:**\n",
    "1. Пропусков в данных нет.\n",
    "2. Явных дубликатов в данных нет.\n",
    "3. В нумерации индексов присутствуют пропущенные значения.\n",
    "4. Наблюдается существенный дисбаланс классов таргета в сторону не токсичных комментариев.\n",
    "\n",
    "\n",
    "**НА ЭТАПЕ ПОДГОТОВКИ ДАННЫХ**\n",
    "1. Предварительно тексты комментариев были очищены от:\n",
    "    - названий месяцев в датах\n",
    "    - указания UTC\n",
    "    - ссылок на сайты\n",
    "    - email\n",
    "    - символов кроме букв английского языка\n",
    "2. Текст комментариев был приведён к нижнему регистру и лемматизирован.\n",
    "3. Были созданы новые количественные признаки:\n",
    "    - `'count_simbols'`\n",
    "    - `'count_words'`\n",
    "4. Была определена тональность текстов и записана в новый признак `'ton'`\n",
    "\n",
    "\n",
    "**НА ЭТАПЕ ОБУЧЕНИЯ МОДЕЛЕЙ**\n",
    "1. Были обучены модели с гиперпараметрами:\n",
    "   - LogisticRegression() с ***C***\n",
    "   - RandomForestClassifier() с ***max_depth***, ***n_estimators***\n",
    "   - GradientBoostingClassifier() с ***max_depth***, ***min_samples_split***, ***n_estimators***\n",
    "2. Для подбора лучшей модели с гиперпараметрами использован\n",
    "   - RandomizedSearchCV()\n",
    "3. Для оценки качества работы модели применили метрику F1\n",
    "4. Лучшая модель по метрике качества **LogisticRegression()** с гиперпараметром **C** = 2.5\n",
    "5. Метрика качества F1 для лучшей модели составляет при кросс-валидации 0.774\n",
    "6. Модель **LogisticRegression()** была проверена на адекватность dummy-моделью\n",
    "7. Метрика качества F1 для лучшей модели на тестовой выборке составила 0.777\n",
    "8. Модели RandomForestClassifier() и GradientBoostingClassifier() не прошли оценку качеством.\n",
    "9. Были оценены вклады новых признаков в предсказания модели.\n",
    "\n",
    "\n",
    "**ВЫВОД**\n",
    "\n",
    "Цель проекта - построить модель со значением метрики качества F1 не меньше 0.75 - достигнута."
   ]
  }
 ],
 "metadata": {
  "ExecuteTimeLog": [
   {
    "duration": 2585969,
    "start_time": "2025-05-17T16:45:40.713Z"
   },
   {
    "duration": 152,
    "start_time": "2025-05-17T17:28:46.684Z"
   },
   {
    "duration": 1280,
    "start_time": "2025-05-17T17:28:46.838Z"
   },
   {
    "duration": 49,
    "start_time": "2025-05-18T08:14:53.725Z"
   },
   {
    "duration": 6799,
    "start_time": "2025-05-18T08:15:03.257Z"
   },
   {
    "duration": 7316,
    "start_time": "2025-05-18T08:15:10.059Z"
   },
   {
    "duration": 3415,
    "start_time": "2025-05-18T08:15:17.377Z"
   },
   {
    "duration": 1013,
    "start_time": "2025-05-18T08:15:20.793Z"
   },
   {
    "duration": 32,
    "start_time": "2025-05-18T08:15:21.808Z"
   },
   {
    "duration": 33,
    "start_time": "2025-05-18T08:15:21.841Z"
   },
   {
    "duration": 31,
    "start_time": "2025-05-18T08:15:21.876Z"
   },
   {
    "duration": 263,
    "start_time": "2025-05-18T08:15:21.909Z"
   },
   {
    "duration": 8,
    "start_time": "2025-05-18T08:15:26.173Z"
   },
   {
    "duration": 8,
    "start_time": "2025-05-18T08:16:02.386Z"
   },
   {
    "duration": 36,
    "start_time": "2025-05-18T08:20:54.253Z"
   },
   {
    "duration": 27,
    "start_time": "2025-05-18T08:24:37.161Z"
   },
   {
    "duration": 5,
    "start_time": "2025-05-18T08:27:55.348Z"
   },
   {
    "duration": 9,
    "start_time": "2025-05-18T08:28:01.824Z"
   },
   {
    "duration": 8,
    "start_time": "2025-05-18T08:28:13.881Z"
   },
   {
    "duration": 146,
    "start_time": "2025-05-18T08:28:29.288Z"
   },
   {
    "duration": 17,
    "start_time": "2025-05-18T08:29:53.256Z"
   },
   {
    "duration": 18,
    "start_time": "2025-05-18T08:30:01.633Z"
   },
   {
    "duration": 21,
    "start_time": "2025-05-18T08:30:29.024Z"
   },
   {
    "duration": 93,
    "start_time": "2025-05-18T08:30:43.100Z"
   },
   {
    "duration": 10,
    "start_time": "2025-05-18T08:30:50.156Z"
   },
   {
    "duration": 23,
    "start_time": "2025-05-18T08:32:38.464Z"
   },
   {
    "duration": 337,
    "start_time": "2025-05-18T08:32:40.896Z"
   },
   {
    "duration": 460,
    "start_time": "2025-05-18T08:33:09.949Z"
   },
   {
    "duration": 44,
    "start_time": "2025-05-18T08:33:18.325Z"
   },
   {
    "duration": 438,
    "start_time": "2025-05-18T08:33:53.665Z"
   },
   {
    "duration": 4,
    "start_time": "2025-05-18T08:34:08.251Z"
   },
   {
    "duration": 24,
    "start_time": "2025-05-18T08:34:13.992Z"
   },
   {
    "duration": 1238,
    "start_time": "2025-05-18T08:34:17.965Z"
   },
   {
    "duration": 15,
    "start_time": "2025-05-18T08:34:23.792Z"
   },
   {
    "duration": 27,
    "start_time": "2025-05-18T08:36:58.156Z"
   },
   {
    "duration": 2674,
    "start_time": "2025-05-18T08:39:15.708Z"
   },
   {
    "duration": 3195,
    "start_time": "2025-05-18T08:39:18.385Z"
   },
   {
    "duration": 32,
    "start_time": "2025-05-18T08:39:21.582Z"
   },
   {
    "duration": 940,
    "start_time": "2025-05-18T08:39:21.616Z"
   },
   {
    "duration": 9,
    "start_time": "2025-05-18T08:39:22.558Z"
   },
   {
    "duration": 38,
    "start_time": "2025-05-18T08:39:22.568Z"
   },
   {
    "duration": 44,
    "start_time": "2025-05-18T08:39:22.607Z"
   },
   {
    "duration": 247,
    "start_time": "2025-05-18T08:39:22.652Z"
   },
   {
    "duration": 7,
    "start_time": "2025-05-18T08:39:22.901Z"
   },
   {
    "duration": 29,
    "start_time": "2025-05-18T08:39:22.909Z"
   },
   {
    "duration": 4,
    "start_time": "2025-05-18T08:39:22.939Z"
   },
   {
    "duration": 4,
    "start_time": "2025-05-18T08:39:35.937Z"
   },
   {
    "duration": 4,
    "start_time": "2025-05-18T08:39:37.398Z"
   },
   {
    "duration": 9,
    "start_time": "2025-05-18T08:39:38.268Z"
   },
   {
    "duration": 27,
    "start_time": "2025-05-18T08:39:42.116Z"
   },
   {
    "duration": 35,
    "start_time": "2025-05-18T08:39:44.173Z"
   },
   {
    "duration": 57,
    "start_time": "2025-05-18T08:39:47.125Z"
   },
   {
    "duration": 10585,
    "start_time": "2025-05-18T08:42:26.772Z"
   },
   {
    "duration": 559539,
    "start_time": "2025-05-18T08:44:29.908Z"
   },
   {
    "duration": 347,
    "start_time": "2025-05-18T08:54:16.890Z"
   },
   {
    "duration": 1528,
    "start_time": "2025-05-18T08:54:35.559Z"
   },
   {
    "duration": 105,
    "start_time": "2025-05-18T08:54:59.819Z"
   },
   {
    "duration": 338,
    "start_time": "2025-05-18T08:55:02.635Z"
   },
   {
    "duration": 14,
    "start_time": "2025-05-18T08:55:13.255Z"
   },
   {
    "duration": 15,
    "start_time": "2025-05-18T08:55:16.098Z"
   },
   {
    "duration": 82941,
    "start_time": "2025-05-18T08:55:29.875Z"
   },
   {
    "duration": 14,
    "start_time": "2025-05-18T08:57:21.378Z"
   },
   {
    "duration": 78,
    "start_time": "2025-05-18T08:58:39.082Z"
   },
   {
    "duration": 17,
    "start_time": "2025-05-18T08:58:42.032Z"
   },
   {
    "duration": 68,
    "start_time": "2025-05-18T08:58:43.867Z"
   },
   {
    "duration": 26,
    "start_time": "2025-05-18T08:59:01.010Z"
   },
   {
    "duration": 72,
    "start_time": "2025-05-18T08:59:24.283Z"
   },
   {
    "duration": 6,
    "start_time": "2025-05-18T08:59:26.766Z"
   },
   {
    "duration": 5,
    "start_time": "2025-05-18T08:59:29.551Z"
   },
   {
    "duration": 13,
    "start_time": "2025-05-18T08:59:36.230Z"
   },
   {
    "duration": 8,
    "start_time": "2025-05-18T08:59:39.170Z"
   },
   {
    "duration": 18,
    "start_time": "2025-05-18T09:03:48.110Z"
   },
   {
    "duration": 1435672,
    "start_time": "2025-05-18T09:05:44.546Z"
   },
   {
    "duration": 23,
    "start_time": "2025-05-18T09:31:54.497Z"
   },
   {
    "duration": 562132,
    "start_time": "2025-05-18T09:32:16.450Z"
   },
   {
    "duration": 2699,
    "start_time": "2025-05-18T10:21:33.456Z"
   },
   {
    "duration": 3361,
    "start_time": "2025-05-18T10:21:38.264Z"
   },
   {
    "duration": 2390,
    "start_time": "2025-05-18T10:21:44.252Z"
   },
   {
    "duration": 1035,
    "start_time": "2025-05-18T10:21:49.407Z"
   },
   {
    "duration": 20,
    "start_time": "2025-05-18T10:21:56.696Z"
   },
   {
    "duration": 34,
    "start_time": "2025-05-18T10:21:57.395Z"
   },
   {
    "duration": 31,
    "start_time": "2025-05-18T10:21:58.763Z"
   },
   {
    "duration": 248,
    "start_time": "2025-05-18T10:21:59.603Z"
   },
   {
    "duration": 9,
    "start_time": "2025-05-18T10:22:03.915Z"
   },
   {
    "duration": 14,
    "start_time": "2025-05-18T10:22:10.028Z"
   },
   {
    "duration": 4,
    "start_time": "2025-05-18T10:22:18.387Z"
   },
   {
    "duration": 24,
    "start_time": "2025-05-18T10:22:27.468Z"
   },
   {
    "duration": 166,
    "start_time": "2025-05-18T10:22:28.855Z"
   },
   {
    "duration": 11462,
    "start_time": "2025-05-18T10:22:40.679Z"
   },
   {
    "duration": 583961,
    "start_time": "2025-05-18T10:23:01.556Z"
   },
   {
    "duration": 2370,
    "start_time": "2025-05-18T11:48:13.992Z"
   },
   {
    "duration": 121,
    "start_time": "2025-05-18T11:48:18.651Z"
   },
   {
    "duration": 353,
    "start_time": "2025-05-18T11:48:20.183Z"
   },
   {
    "duration": 14,
    "start_time": "2025-05-18T11:48:24.547Z"
   },
   {
    "duration": 9,
    "start_time": "2025-05-18T11:48:25.711Z"
   },
   {
    "duration": 85346,
    "start_time": "2025-05-18T11:48:29.092Z"
   },
   {
    "duration": 15,
    "start_time": "2025-05-18T11:50:17.687Z"
   },
   {
    "duration": 85,
    "start_time": "2025-05-18T11:50:24.139Z"
   },
   {
    "duration": 70,
    "start_time": "2025-05-18T11:50:25.755Z"
   },
   {
    "duration": 7,
    "start_time": "2025-05-18T11:50:27.874Z"
   },
   {
    "duration": 6,
    "start_time": "2025-05-18T11:50:30.659Z"
   },
   {
    "duration": 14,
    "start_time": "2025-05-18T11:50:34.847Z"
   },
   {
    "duration": 8,
    "start_time": "2025-05-18T11:50:36.463Z"
   },
   {
    "duration": 16,
    "start_time": "2025-05-18T11:50:39.704Z"
   },
   {
    "duration": 1641395,
    "start_time": "2025-05-18T11:50:48.159Z"
   },
   {
    "duration": 4458,
    "start_time": "2025-05-18T12:18:32.246Z"
   },
   {
    "duration": 2758,
    "start_time": "2025-05-18T12:18:45.109Z"
   },
   {
    "duration": 1956,
    "start_time": "2025-05-18T12:19:35.934Z"
   },
   {
    "duration": 174,
    "start_time": "2025-05-18T12:19:54.042Z"
   },
   {
    "duration": 468,
    "start_time": "2025-05-18T12:20:03.880Z"
   },
   {
    "duration": 3095,
    "start_time": "2025-05-18T12:21:39.858Z"
   },
   {
    "duration": 6,
    "start_time": "2025-05-18T12:26:13.722Z"
   },
   {
    "duration": 53862,
    "start_time": "2025-05-18T12:26:44.640Z"
   },
   {
    "duration": 18876,
    "start_time": "2025-05-18T12:27:45.636Z"
   },
   {
    "duration": 64445,
    "start_time": "2025-05-18T12:28:12.052Z"
   },
   {
    "duration": 129915,
    "start_time": "2025-05-18T12:29:23.924Z"
   },
   {
    "duration": 135,
    "start_time": "2025-05-18T12:34:57.080Z"
   },
   {
    "duration": 520,
    "start_time": "2025-05-18T12:37:16.452Z"
   },
   {
    "duration": 464837,
    "start_time": "2025-05-18T12:37:37.402Z"
   },
   {
    "duration": 0,
    "start_time": "2025-05-18T12:45:22.241Z"
   },
   {
    "duration": 38,
    "start_time": "2025-05-18T12:45:26.288Z"
   },
   {
    "duration": 33,
    "start_time": "2025-05-18T12:46:02.247Z"
   },
   {
    "duration": 22,
    "start_time": "2025-05-18T12:46:09.943Z"
   },
   {
    "duration": 465,
    "start_time": "2025-05-18T12:47:33.358Z"
   },
   {
    "duration": 527618,
    "start_time": "2025-05-18T12:48:29.668Z"
   },
   {
    "duration": 22,
    "start_time": "2025-05-18T12:57:40.579Z"
   },
   {
    "duration": 522,
    "start_time": "2025-05-18T12:58:24.295Z"
   },
   {
    "duration": 246,
    "start_time": "2025-05-18T12:59:02.076Z"
   },
   {
    "duration": 9,
    "start_time": "2025-05-18T13:02:59.895Z"
   },
   {
    "duration": 141,
    "start_time": "2025-05-18T13:05:54.370Z"
   },
   {
    "duration": 463,
    "start_time": "2025-05-18T13:06:01.294Z"
   },
   {
    "duration": 499,
    "start_time": "2025-05-18T13:06:10.822Z"
   },
   {
    "duration": 497,
    "start_time": "2025-05-18T13:06:31.414Z"
   },
   {
    "duration": 31,
    "start_time": "2025-05-18T13:07:18.430Z"
   },
   {
    "duration": 69,
    "start_time": "2025-05-18T13:09:03.241Z"
   },
   {
    "duration": 472,
    "start_time": "2025-05-18T13:09:10.230Z"
   },
   {
    "duration": 425,
    "start_time": "2025-05-18T13:09:18.062Z"
   },
   {
    "duration": 471,
    "start_time": "2025-05-18T13:09:28.947Z"
   },
   {
    "duration": 498,
    "start_time": "2025-05-18T13:09:43.218Z"
   },
   {
    "duration": 457,
    "start_time": "2025-05-18T13:10:10.010Z"
   },
   {
    "duration": 268,
    "start_time": "2025-05-18T13:13:14.243Z"
   },
   {
    "duration": 260,
    "start_time": "2025-05-18T13:14:17.049Z"
   },
   {
    "duration": 415,
    "start_time": "2025-05-18T13:14:53.462Z"
   },
   {
    "duration": 459,
    "start_time": "2025-05-18T13:14:57.226Z"
   },
   {
    "duration": 252,
    "start_time": "2025-05-18T13:15:12.998Z"
   },
   {
    "duration": 260,
    "start_time": "2025-05-18T13:16:51.542Z"
   },
   {
    "duration": 272,
    "start_time": "2025-05-18T13:16:54.133Z"
   },
   {
    "duration": 424,
    "start_time": "2025-05-18T13:18:11.186Z"
   },
   {
    "duration": 213,
    "start_time": "2025-05-18T13:18:22.986Z"
   },
   {
    "duration": 249,
    "start_time": "2025-05-18T13:19:30.150Z"
   },
   {
    "duration": 212,
    "start_time": "2025-05-18T13:19:33.873Z"
   },
   {
    "duration": 5867,
    "start_time": "2025-05-18T13:23:45.893Z"
   },
   {
    "duration": 5751,
    "start_time": "2025-05-18T13:23:56.376Z"
   },
   {
    "duration": 21,
    "start_time": "2025-05-18T13:25:01.797Z"
   },
   {
    "duration": 6714,
    "start_time": "2025-05-18T13:25:14.369Z"
   },
   {
    "duration": 5029,
    "start_time": "2025-05-18T13:26:36.369Z"
   },
   {
    "duration": 8,
    "start_time": "2025-05-18T13:27:14.776Z"
   },
   {
    "duration": 9,
    "start_time": "2025-05-18T13:28:16.773Z"
   },
   {
    "duration": 19,
    "start_time": "2025-05-18T13:30:23.001Z"
   },
   {
    "duration": 11,
    "start_time": "2025-05-18T13:30:42.600Z"
   },
   {
    "duration": 826857,
    "start_time": "2025-05-18T13:31:14.781Z"
   },
   {
    "duration": 16,
    "start_time": "2025-05-18T13:46:22.732Z"
   },
   {
    "duration": 12356,
    "start_time": "2025-05-18T13:46:59.211Z"
   },
   {
    "duration": 836114,
    "start_time": "2025-05-18T13:47:25.324Z"
   },
   {
    "duration": 25,
    "start_time": "2025-05-18T14:07:49.818Z"
   },
   {
    "duration": 90,
    "start_time": "2025-05-18T14:07:51.598Z"
   },
   {
    "duration": 7,
    "start_time": "2025-05-18T14:07:53.089Z"
   },
   {
    "duration": 6,
    "start_time": "2025-05-18T14:07:55.314Z"
   },
   {
    "duration": 15,
    "start_time": "2025-05-18T14:08:00.553Z"
   },
   {
    "duration": 9,
    "start_time": "2025-05-18T14:08:04.701Z"
   },
   {
    "duration": 19,
    "start_time": "2025-05-18T14:08:07.353Z"
   },
   {
    "duration": 1372938,
    "start_time": "2025-05-18T14:08:11.502Z"
   },
   {
    "duration": 474,
    "start_time": "2025-05-18T14:31:46.484Z"
   },
   {
    "duration": 12,
    "start_time": "2025-05-18T14:35:03.432Z"
   },
   {
    "duration": 12,
    "start_time": "2025-05-18T14:35:06.091Z"
   },
   {
    "duration": 2664,
    "start_time": "2025-05-18T14:36:02.183Z"
   },
   {
    "duration": 3145,
    "start_time": "2025-05-18T14:36:04.850Z"
   },
   {
    "duration": 2682,
    "start_time": "2025-05-18T14:36:07.997Z"
   },
   {
    "duration": 3111,
    "start_time": "2025-05-18T14:36:10.684Z"
   },
   {
    "duration": 1104,
    "start_time": "2025-05-18T14:36:13.797Z"
   },
   {
    "duration": 15,
    "start_time": "2025-05-18T14:36:14.902Z"
   },
   {
    "duration": 53,
    "start_time": "2025-05-18T14:36:14.918Z"
   },
   {
    "duration": 40,
    "start_time": "2025-05-18T14:36:14.973Z"
   },
   {
    "duration": 290,
    "start_time": "2025-05-18T14:36:15.016Z"
   },
   {
    "duration": 8,
    "start_time": "2025-05-18T14:36:15.309Z"
   },
   {
    "duration": 31,
    "start_time": "2025-05-18T14:36:15.318Z"
   },
   {
    "duration": 30,
    "start_time": "2025-05-18T14:36:15.351Z"
   },
   {
    "duration": 27,
    "start_time": "2025-05-18T14:36:15.383Z"
   },
   {
    "duration": 10941,
    "start_time": "2025-05-18T14:36:15.411Z"
   },
   {
    "duration": 591906,
    "start_time": "2025-05-18T14:36:26.354Z"
   },
   {
    "duration": 1701,
    "start_time": "2025-05-18T14:46:18.262Z"
   },
   {
    "duration": 150,
    "start_time": "2025-05-18T14:46:19.965Z"
   },
   {
    "duration": 381,
    "start_time": "2025-05-18T14:46:20.117Z"
   },
   {
    "duration": 14,
    "start_time": "2025-05-18T14:46:20.500Z"
   },
   {
    "duration": 22,
    "start_time": "2025-05-18T14:46:20.516Z"
   },
   {
    "duration": 85619,
    "start_time": "2025-05-18T14:46:20.541Z"
   },
   {
    "duration": 20,
    "start_time": "2025-05-18T14:47:46.162Z"
   },
   {
    "duration": 111,
    "start_time": "2025-05-18T14:47:46.188Z"
   },
   {
    "duration": 83,
    "start_time": "2025-05-18T14:47:46.300Z"
   },
   {
    "duration": 60,
    "start_time": "2025-05-18T14:47:46.385Z"
   },
   {
    "duration": 11,
    "start_time": "2025-05-18T14:47:46.447Z"
   },
   {
    "duration": 25,
    "start_time": "2025-05-18T14:47:46.461Z"
   },
   {
    "duration": 10,
    "start_time": "2025-05-18T14:47:46.490Z"
   },
   {
    "duration": 24,
    "start_time": "2025-05-18T14:47:46.502Z"
   },
   {
    "duration": 1371115,
    "start_time": "2025-05-18T14:47:46.537Z"
   },
   {
    "duration": 185,
    "start_time": "2025-05-18T15:10:37.654Z"
   },
   {
    "duration": 481,
    "start_time": "2025-05-18T15:10:37.841Z"
   },
   {
    "duration": 13,
    "start_time": "2025-05-18T15:10:38.324Z"
   },
   {
    "duration": 559745,
    "start_time": "2025-05-18T15:10:38.339Z"
   },
   {
    "duration": 283,
    "start_time": "2025-05-18T15:19:58.087Z"
   },
   {
    "duration": 11,
    "start_time": "2025-05-18T15:19:58.372Z"
   },
   {
    "duration": 20,
    "start_time": "2025-05-18T15:19:58.385Z"
   },
   {
    "duration": 809733,
    "start_time": "2025-05-18T15:19:58.407Z"
   }
  ],
  "kernelspec": {
   "display_name": "Python 3 (ipykernel)",
   "language": "python",
   "name": "python3"
  },
  "language_info": {
   "codemirror_mode": {
    "name": "ipython",
    "version": 3
   },
   "file_extension": ".py",
   "mimetype": "text/x-python",
   "name": "python",
   "nbconvert_exporter": "python",
   "pygments_lexer": "ipython3",
   "version": "3.13.1"
  },
  "toc": {
   "base_numbering": 1,
   "nav_menu": {},
   "number_sections": true,
   "sideBar": true,
   "skip_h1_title": true,
   "title_cell": "Table of Contents",
   "title_sidebar": "Contents",
   "toc_cell": false,
   "toc_position": {
    "height": "calc(100% - 180px)",
    "left": "10px",
    "top": "150px",
    "width": "371.188px"
   },
   "toc_section_display": true,
   "toc_window_display": true
  }
 },
 "nbformat": 4,
 "nbformat_minor": 5
}
