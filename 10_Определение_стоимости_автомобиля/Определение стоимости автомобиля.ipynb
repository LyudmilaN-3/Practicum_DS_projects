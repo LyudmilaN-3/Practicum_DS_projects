{
 "cells": [
  {
   "cell_type": "markdown",
   "id": "5be56080-0e70-4b72-b02f-50792ab4c118",
   "metadata": {},
   "source": [
    "## ПРОЕКТ: ОПРЕДЕЛЕНИЕ СТОИМОСТИ АВТОМОБИЛЯ"
   ]
  },
  {
   "cell_type": "markdown",
   "id": "edb969af-2f12-4fb1-bbb7-3c4e171f48d7",
   "metadata": {},
   "source": [
    "### ОПИСАНИЕ ПРОЕКТА"
   ]
  },
  {
   "cell_type": "markdown",
   "id": "6f826d15-ac0c-44de-89f3-0429a88152c5",
   "metadata": {},
   "source": [
    "Сервис по продаже автомобилей с пробегом «Не бит, не крашен» разрабатывает приложение, чтобы привлечь новых клиентов.\\\n",
    "В нём можно будет узнать рыночную стоимость своего автомобиля.\\\n",
    "Заказчиком предоставлены данные о технических характеристиках, комплектации и ценах автомобилей."
   ]
  },
  {
   "cell_type": "markdown",
   "id": "38fd5caf-f10d-4ee9-9857-aced805b09cb",
   "metadata": {},
   "source": [
    "### ЗАДАЧА ПРОЕКТА"
   ]
  },
  {
   "cell_type": "markdown",
   "id": "ec2d3246-dc9b-4858-b626-7a444a357498",
   "metadata": {},
   "source": [
    "Задача проекта - построение модели, которая сумеет определить цену автомобиля.\\\n",
    "Критерии, которые важны заказчику:\n",
    "- качество предсказания;\n",
    "- время обучения модели;\n",
    "- время предсказания модели."
   ]
  },
  {
   "cell_type": "markdown",
   "id": "05fe144a-6d6a-4a74-a8a5-fb5174f6c9ee",
   "metadata": {},
   "source": [
    "### ПЛАН ПРОЕКТА"
   ]
  },
  {
   "cell_type": "markdown",
   "id": "cb79d024-188e-4c98-8491-690ef1f0157e",
   "metadata": {},
   "source": [
    "1. [Загрузка и изучение данных](#1)\n",
    "2. [Предобработка данных](#2)\n",
    "3. [Исследовательский анализ данных](#3)\n",
    "4. [Подготовка данных](#4)\n",
    "5. [Обучение моделей](#5)\n",
    "6. [Анализ моделей](#6)\n",
    "7. [Общий вывод](#7)"
   ]
  },
  {
   "cell_type": "markdown",
   "id": "1a0c3dff-8e8e-4c4f-a44a-28eb4ad732b8",
   "metadata": {},
   "source": [
    "<a id=\"1\"></a>\n",
    "# Загрузка и изучение данных"
   ]
  },
  {
   "cell_type": "markdown",
   "id": "1b738898-38ef-496b-9a69-29de60a5945f",
   "metadata": {},
   "source": [
    "## Получение данных из файлов, запись в датафреймы"
   ]
  },
  {
   "cell_type": "code",
   "execution_count": 1,
   "id": "1310f622-4c6c-4da6-adf1-e6a923d8812b",
   "metadata": {},
   "outputs": [],
   "source": [
    "!pip install jupyter_black -q"
   ]
  },
  {
   "cell_type": "code",
   "execution_count": 2,
   "id": "93d6b148-978f-4a41-b058-343ba01b9e89",
   "metadata": {},
   "outputs": [],
   "source": [
    "!pip install -Uq scikit-learn"
   ]
  },
  {
   "cell_type": "code",
   "execution_count": 3,
   "id": "3a954d0e",
   "metadata": {},
   "outputs": [],
   "source": [
    "!pip install phik -q"
   ]
  },
  {
   "cell_type": "code",
   "execution_count": 4,
   "id": "32b92bd1-d7a3-4cb7-945c-405aee8bd8c9",
   "metadata": {},
   "outputs": [],
   "source": [
    "!pip install missingno -q"
   ]
  },
  {
   "cell_type": "markdown",
   "id": "26f37cca-1e87-4dc2-bd8d-fc04b690df24",
   "metadata": {},
   "source": [
    "Импортируем необходимые библиотеки"
   ]
  },
  {
   "cell_type": "code",
   "execution_count": 5,
   "id": "4ad24f69-0b77-4dd4-98b0-a15258238156",
   "metadata": {},
   "outputs": [],
   "source": [
    "# импорт pandas и необходимых библиотек\n",
    "import jupyter_black\n",
    "import numpy as np\n",
    "import matplotlib.pyplot as plt\n",
    "import missingno as msno\n",
    "import seaborn as sns\n",
    "import os\n",
    "import pandas as pd\n",
    "import re\n",
    "import warnings\n",
    "\n",
    "from fuzzywuzzy import fuzz\n",
    "from fuzzywuzzy import process\n",
    "\n",
    "from joblib import dump, load\n",
    "from lightgbm import LGBMRegressor\n",
    "\n",
    "from sklearn.compose import ColumnTransformer\n",
    "from sklearn.ensemble import GradientBoostingRegressor, RandomForestRegressor\n",
    "from sklearn.impute import SimpleImputer\n",
    "from sklearn.linear_model import LinearRegression\n",
    "from sklearn.metrics import root_mean_squared_error\n",
    "from sklearn.model_selection import train_test_split, RandomizedSearchCV\n",
    "from sklearn.pipeline import Pipeline\n",
    "from sklearn.preprocessing import (\n",
    "    LabelEncoder,\n",
    "    OneHotEncoder,\n",
    "    OrdinalEncoder,\n",
    "    MinMaxScaler,\n",
    "    RobustScaler,\n",
    "    StandardScaler,\n",
    ")\n",
    "from phik.report import plot_correlation_matrix\n",
    "\n",
    "warnings.filterwarnings(\"ignore\")\n",
    "\n",
    "jupyter_black.load()\n",
    "\n",
    "RANDOM_STATE = 42"
   ]
  },
  {
   "cell_type": "markdown",
   "id": "d91b470e-2cb5-47ff-b286-e7dd16a2fae0",
   "metadata": {},
   "source": [
    "Откроем файлы, прочтем и запишем в переменные."
   ]
  },
  {
   "cell_type": "code",
   "execution_count": 6,
   "id": "1f7401f8-afd9-4d50-b092-f6aae911904e",
   "metadata": {},
   "outputs": [],
   "source": [
    "# объявление переменных\n",
    "autos = \"dataset.csv\"\n",
    "user_path = \"...\"\n",
    "general_path = \"...\"\n",
    "\n",
    "\n",
    "# функция для чтения файлов\n",
    "def get_read_file(general_path, user_path, file, delimiter):\n",
    "    path1 = os.path.join(general_path, file)\n",
    "    path2 = os.path.join(user_path, file)\n",
    "\n",
    "    try:\n",
    "        if os.path.exists(os.path.join(path1)):\n",
    "            return pd.read_csv(\n",
    "                path1,\n",
    "                sep=delimiter,\n",
    "                parse_dates=[\"DateCrawled\", \"DateCreated\", \"LastSeen\"],\n",
    "                skipinitialspace=True,\n",
    "            )\n",
    "        elif os.path.exists(os.path.join(path2)):\n",
    "            return pd.read_csv(\n",
    "                path2,\n",
    "                sep=delimiter,\n",
    "                parse_dates=[\"DateCrawled\", \"DateCreated\", \"LastSeen\"],\n",
    "                skipinitialspace=True,\n",
    "            )\n",
    "    except Exception as err:\n",
    "        print(\"Путь к файлу не найден!\", err)\n",
    "\n",
    "\n",
    "# чтение csv-файла в датафрейм с сохранением в переменную autos_df\n",
    "autos_df = get_read_file(general_path, user_path, autos, \",\")\n",
    "\n",
    "# сохранение количества строк в переменную\n",
    "autos_rows_before = autos_df.shape[0]"
   ]
  },
  {
   "cell_type": "markdown",
   "id": "2e326c6b-2d1f-4084-92bc-8bd885c3b643",
   "metadata": {},
   "source": [
    "***"
   ]
  },
  {
   "cell_type": "markdown",
   "id": "d2aee2b2-6d85-42e7-8e07-0b03715b2cea",
   "metadata": {},
   "source": [
    "**ВЫВОД:**\n",
    "\n",
    "1. Данные получены и записаны в датафрейм ***autos_df***"
   ]
  },
  {
   "cell_type": "markdown",
   "id": "7557d272-fa59-4368-8852-6e38cdf3cdfe",
   "metadata": {},
   "source": [
    "## Изучение данных"
   ]
  },
  {
   "cell_type": "markdown",
   "id": "6f0ada59-c62f-46c2-b01f-a2bc44c6b8d8",
   "metadata": {},
   "source": [
    "Изучим общую информацию о полученном датафрейме"
   ]
  },
  {
   "cell_type": "code",
   "execution_count": 7,
   "id": "05d6f034-80ba-4dbd-9e5c-118ea9fb7025",
   "metadata": {},
   "outputs": [
    {
     "data": {
      "text/html": [
       "<div>\n",
       "<style scoped>\n",
       "    .dataframe tbody tr th:only-of-type {\n",
       "        vertical-align: middle;\n",
       "    }\n",
       "\n",
       "    .dataframe tbody tr th {\n",
       "        vertical-align: top;\n",
       "    }\n",
       "\n",
       "    .dataframe thead th {\n",
       "        text-align: right;\n",
       "    }\n",
       "</style>\n",
       "<table border=\"1\" class=\"dataframe\">\n",
       "  <thead>\n",
       "    <tr style=\"text-align: right;\">\n",
       "      <th></th>\n",
       "      <th>DateCrawled</th>\n",
       "      <th>Price</th>\n",
       "      <th>VehicleType</th>\n",
       "      <th>RegistrationYear</th>\n",
       "      <th>Gearbox</th>\n",
       "      <th>Power</th>\n",
       "      <th>Model</th>\n",
       "      <th>Kilometer</th>\n",
       "      <th>RegistrationMonth</th>\n",
       "      <th>FuelType</th>\n",
       "      <th>Brand</th>\n",
       "      <th>Repaired</th>\n",
       "      <th>DateCreated</th>\n",
       "      <th>NumberOfPictures</th>\n",
       "      <th>PostalCode</th>\n",
       "      <th>LastSeen</th>\n",
       "    </tr>\n",
       "  </thead>\n",
       "  <tbody>\n",
       "    <tr>\n",
       "      <th>0</th>\n",
       "      <td>2016-03-24 11:52:17</td>\n",
       "      <td>480</td>\n",
       "      <td>NaN</td>\n",
       "      <td>1993</td>\n",
       "      <td>manual</td>\n",
       "      <td>0</td>\n",
       "      <td>golf</td>\n",
       "      <td>150000</td>\n",
       "      <td>0</td>\n",
       "      <td>petrol</td>\n",
       "      <td>volkswagen</td>\n",
       "      <td>NaN</td>\n",
       "      <td>2016-03-24</td>\n",
       "      <td>0</td>\n",
       "      <td>70435</td>\n",
       "      <td>2016-04-07 03:16:57</td>\n",
       "    </tr>\n",
       "    <tr>\n",
       "      <th>1</th>\n",
       "      <td>2016-03-24 10:58:45</td>\n",
       "      <td>18300</td>\n",
       "      <td>coupe</td>\n",
       "      <td>2011</td>\n",
       "      <td>manual</td>\n",
       "      <td>190</td>\n",
       "      <td>NaN</td>\n",
       "      <td>125000</td>\n",
       "      <td>5</td>\n",
       "      <td>gasoline</td>\n",
       "      <td>audi</td>\n",
       "      <td>yes</td>\n",
       "      <td>2016-03-24</td>\n",
       "      <td>0</td>\n",
       "      <td>66954</td>\n",
       "      <td>2016-04-07 01:46:50</td>\n",
       "    </tr>\n",
       "    <tr>\n",
       "      <th>2</th>\n",
       "      <td>2016-03-14 12:52:21</td>\n",
       "      <td>9800</td>\n",
       "      <td>suv</td>\n",
       "      <td>2004</td>\n",
       "      <td>auto</td>\n",
       "      <td>163</td>\n",
       "      <td>grand</td>\n",
       "      <td>125000</td>\n",
       "      <td>8</td>\n",
       "      <td>gasoline</td>\n",
       "      <td>jeep</td>\n",
       "      <td>NaN</td>\n",
       "      <td>2016-03-14</td>\n",
       "      <td>0</td>\n",
       "      <td>90480</td>\n",
       "      <td>2016-04-05 12:47:46</td>\n",
       "    </tr>\n",
       "    <tr>\n",
       "      <th>3</th>\n",
       "      <td>2016-03-17 16:54:04</td>\n",
       "      <td>1500</td>\n",
       "      <td>small</td>\n",
       "      <td>2001</td>\n",
       "      <td>manual</td>\n",
       "      <td>75</td>\n",
       "      <td>golf</td>\n",
       "      <td>150000</td>\n",
       "      <td>6</td>\n",
       "      <td>petrol</td>\n",
       "      <td>volkswagen</td>\n",
       "      <td>no</td>\n",
       "      <td>2016-03-17</td>\n",
       "      <td>0</td>\n",
       "      <td>91074</td>\n",
       "      <td>2016-03-17 17:40:17</td>\n",
       "    </tr>\n",
       "    <tr>\n",
       "      <th>4</th>\n",
       "      <td>2016-03-31 17:25:20</td>\n",
       "      <td>3600</td>\n",
       "      <td>small</td>\n",
       "      <td>2008</td>\n",
       "      <td>manual</td>\n",
       "      <td>69</td>\n",
       "      <td>fabia</td>\n",
       "      <td>90000</td>\n",
       "      <td>7</td>\n",
       "      <td>gasoline</td>\n",
       "      <td>skoda</td>\n",
       "      <td>no</td>\n",
       "      <td>2016-03-31</td>\n",
       "      <td>0</td>\n",
       "      <td>60437</td>\n",
       "      <td>2016-04-06 10:17:21</td>\n",
       "    </tr>\n",
       "  </tbody>\n",
       "</table>\n",
       "</div>"
      ],
      "text/plain": [
       "          DateCrawled  Price VehicleType  RegistrationYear Gearbox  Power  \\\n",
       "0 2016-03-24 11:52:17    480         NaN              1993  manual      0   \n",
       "1 2016-03-24 10:58:45  18300       coupe              2011  manual    190   \n",
       "2 2016-03-14 12:52:21   9800         suv              2004    auto    163   \n",
       "3 2016-03-17 16:54:04   1500       small              2001  manual     75   \n",
       "4 2016-03-31 17:25:20   3600       small              2008  manual     69   \n",
       "\n",
       "   Model  Kilometer  RegistrationMonth  FuelType       Brand Repaired  \\\n",
       "0   golf     150000                  0    petrol  volkswagen      NaN   \n",
       "1    NaN     125000                  5  gasoline        audi      yes   \n",
       "2  grand     125000                  8  gasoline        jeep      NaN   \n",
       "3   golf     150000                  6    petrol  volkswagen       no   \n",
       "4  fabia      90000                  7  gasoline       skoda       no   \n",
       "\n",
       "  DateCreated  NumberOfPictures  PostalCode            LastSeen  \n",
       "0  2016-03-24                 0       70435 2016-04-07 03:16:57  \n",
       "1  2016-03-24                 0       66954 2016-04-07 01:46:50  \n",
       "2  2016-03-14                 0       90480 2016-04-05 12:47:46  \n",
       "3  2016-03-17                 0       91074 2016-03-17 17:40:17  \n",
       "4  2016-03-31                 0       60437 2016-04-06 10:17:21  "
      ]
     },
     "execution_count": 7,
     "metadata": {},
     "output_type": "execute_result"
    }
   ],
   "source": [
    "# вывод первых 5-ти строчек датафрейма\n",
    "autos_df.head()"
   ]
  },
  {
   "cell_type": "code",
   "execution_count": 8,
   "id": "8da3c4ad-fa9b-41fd-9dd6-7919f91758b7",
   "metadata": {},
   "outputs": [
    {
     "name": "stdout",
     "output_type": "stream",
     "text": [
      "<class 'pandas.core.frame.DataFrame'>\n",
      "RangeIndex: 354369 entries, 0 to 354368\n",
      "Data columns (total 16 columns):\n",
      " #   Column             Non-Null Count   Dtype         \n",
      "---  ------             --------------   -----         \n",
      " 0   DateCrawled        354369 non-null  datetime64[ns]\n",
      " 1   Price              354369 non-null  int64         \n",
      " 2   VehicleType        316879 non-null  object        \n",
      " 3   RegistrationYear   354369 non-null  int64         \n",
      " 4   Gearbox            334536 non-null  object        \n",
      " 5   Power              354369 non-null  int64         \n",
      " 6   Model              334664 non-null  object        \n",
      " 7   Kilometer          354369 non-null  int64         \n",
      " 8   RegistrationMonth  354369 non-null  int64         \n",
      " 9   FuelType           321474 non-null  object        \n",
      " 10  Brand              354369 non-null  object        \n",
      " 11  Repaired           283215 non-null  object        \n",
      " 12  DateCreated        354369 non-null  datetime64[ns]\n",
      " 13  NumberOfPictures   354369 non-null  int64         \n",
      " 14  PostalCode         354369 non-null  int64         \n",
      " 15  LastSeen           354369 non-null  datetime64[ns]\n",
      "dtypes: datetime64[ns](3), int64(7), object(6)\n",
      "memory usage: 43.3+ MB\n"
     ]
    }
   ],
   "source": [
    "# вывод основной информации о датафрейме\n",
    "autos_df.info()"
   ]
  },
  {
   "cell_type": "markdown",
   "id": "beb2dfe0-257a-4a67-a02e-11c438a40d39",
   "metadata": {},
   "source": [
    "Обратим внимание на наименование столбцов в датафрейме"
   ]
  },
  {
   "cell_type": "code",
   "execution_count": 9,
   "id": "40b1d47c-bc22-4d4b-bea3-2632529008e9",
   "metadata": {},
   "outputs": [
    {
     "name": "stdout",
     "output_type": "stream",
     "text": [
      "DateCrawled\n",
      "Price\n",
      "VehicleType\n",
      "RegistrationYear\n",
      "Gearbox\n",
      "Power\n",
      "Model\n",
      "Kilometer\n",
      "RegistrationMonth\n",
      "FuelType\n",
      "Brand\n",
      "Repaired\n",
      "DateCreated\n",
      "NumberOfPictures\n",
      "PostalCode\n",
      "LastSeen\n"
     ]
    }
   ],
   "source": [
    "# вывод наименований столбцов в датафреймах\n",
    "print(*autos_df.columns.tolist(), sep=\"\\n\")"
   ]
  },
  {
   "cell_type": "markdown",
   "id": "cfbb4278-6a92-4d1a-b273-f8bd0bad5ab9",
   "metadata": {},
   "source": [
    "Переименуем столбцы:\n",
    "\n",
    " - приведём наименования столбцов к нижнему регистру\n",
    " - слова соединим нижним подчёркиванием"
   ]
  },
  {
   "cell_type": "code",
   "execution_count": 10,
   "id": "2a726c3a-553a-4230-82ee-f07e6eca48d8",
   "metadata": {},
   "outputs": [
    {
     "name": "stdout",
     "output_type": "stream",
     "text": [
      "date_crawled\n",
      "price\n",
      "vehicle_type\n",
      "registration_year\n",
      "gearbox\n",
      "power\n",
      "model\n",
      "kilometer\n",
      "registration_month\n",
      "fuel_type\n",
      "brand\n",
      "repaired\n",
      "date_created\n",
      "number_of_pictures\n",
      "postal_code\n",
      "last_seen\n"
     ]
    }
   ],
   "source": [
    "# функция для переименования столбцов в датафреймах\n",
    "def rename_columns(df):\n",
    "    lst_columns = df.columns.to_list()\n",
    "    new_lst_columns = []\n",
    "    for col in lst_columns:\n",
    "        col = \"_\".join(re.sub(r\"([A-Z])\", r\" \\1\", col).split()).lower()\n",
    "        new_lst_columns.append(col)\n",
    "    df.columns = new_lst_columns\n",
    "\n",
    "\n",
    "# переименование столбцов\n",
    "rename_columns(autos_df)\n",
    "# проверка переименования\n",
    "print(*autos_df.columns.tolist(), sep=\"\\n\")"
   ]
  },
  {
   "cell_type": "markdown",
   "id": "ca142af2-df6c-41dc-8f32-ac5be33439e5",
   "metadata": {},
   "source": [
    "***"
   ]
  },
  {
   "cell_type": "markdown",
   "id": "6613e96e-e1d4-4dda-939f-f27de376bcb5",
   "metadata": {},
   "source": [
    "***ВЫВОД:***\n",
    "\n",
    "1. Пропуски в данных есть в нескольких столбцах.\n",
    "2. В результате изучения общей информации о датафрейме обнаружено некорректное наименование столбцов:\n",
    "    - сочетание прописных и строчных букв\n",
    "    - стиль написания, отличный от \"lower_case_with_underscores\"\n",
    "3. Наименования столбцов приведены к стандартам оформления данных."
   ]
  },
  {
   "cell_type": "markdown",
   "id": "289cc99a-4acd-4e9d-991b-4a6b4fb08cd2",
   "metadata": {},
   "source": [
    "<a id='2'></a>\n",
    "# Предобработка данных"
   ]
  },
  {
   "cell_type": "markdown",
   "id": "4c05b069-a280-4abc-baa5-dd0726ba04f2",
   "metadata": {},
   "source": [
    "## Предобработка пропусков"
   ]
  },
  {
   "cell_type": "markdown",
   "id": "00aa1bd0-59c2-4d4a-8063-fa4e19c7d64e",
   "metadata": {},
   "source": [
    "Проверим данные на пропущенные значения"
   ]
  },
  {
   "cell_type": "code",
   "execution_count": 11,
   "id": "2e65daeb-31f4-47fd-a26b-9b9d658554f0",
   "metadata": {},
   "outputs": [
    {
     "data": {
      "text/plain": [
       "repaired              71154\n",
       "vehicle_type          37490\n",
       "fuel_type             32895\n",
       "gearbox               19833\n",
       "model                 19705\n",
       "date_crawled              0\n",
       "price                     0\n",
       "registration_year         0\n",
       "power                     0\n",
       "kilometer                 0\n",
       "registration_month        0\n",
       "brand                     0\n",
       "date_created              0\n",
       "number_of_pictures        0\n",
       "postal_code               0\n",
       "last_seen                 0\n",
       "dtype: int64"
      ]
     },
     "execution_count": 11,
     "metadata": {},
     "output_type": "execute_result"
    }
   ],
   "source": [
    "# вывод пропусков по столбцам\n",
    "autos_df.isna().sum().sort_values(ascending=False)"
   ]
  },
  {
   "cell_type": "code",
   "execution_count": 12,
   "id": "05c4231b-6388-4cb9-bd1d-9b7267eacc34",
   "metadata": {},
   "outputs": [
    {
     "data": {
      "text/plain": [
       "repaired              20.08\n",
       "vehicle_type          10.58\n",
       "fuel_type              9.28\n",
       "gearbox                5.60\n",
       "model                  5.56\n",
       "date_crawled           0.00\n",
       "price                  0.00\n",
       "registration_year      0.00\n",
       "power                  0.00\n",
       "kilometer              0.00\n",
       "registration_month     0.00\n",
       "brand                  0.00\n",
       "date_created           0.00\n",
       "number_of_pictures     0.00\n",
       "postal_code            0.00\n",
       "last_seen              0.00\n",
       "dtype: float64"
      ]
     },
     "execution_count": 12,
     "metadata": {},
     "output_type": "execute_result"
    }
   ],
   "source": [
    "# вывод доли пропущенных значений для каждого столбца\n",
    "autos_df.isna().mean().sort_values(ascending=False).round(4) * 100"
   ]
  },
  {
   "cell_type": "markdown",
   "id": "e6d85d34-27fc-4648-b8fe-e86666fdadb4",
   "metadata": {},
   "source": [
    "Доля пропусков в датафрейме значительна, поэтому удаление пропусков невозможно без потери репрезентативности данных."
   ]
  },
  {
   "cell_type": "markdown",
   "id": "0291b68f-1b33-477b-aa10-441977c99129",
   "metadata": {},
   "source": [
    "Изучим возможные взаимосвязи в пропущенных значениях"
   ]
  },
  {
   "cell_type": "code",
   "execution_count": 13,
   "id": "22d572ab-9f46-4f67-98c4-93a1168c930a",
   "metadata": {},
   "outputs": [
    {
     "data": {
      "text/plain": [
       "<Axes: >"
      ]
     },
     "execution_count": 13,
     "metadata": {},
     "output_type": "execute_result"
    },
    {
     "data": {
      "image/png": "[encoded data removed]",
      "text/plain": [
       "<Figure size 2500x1000 with 2 Axes>"
      ]
     },
     "metadata": {},
     "output_type": "display_data"
    }
   ],
   "source": [
    "# визуализация пропусков на случайной выборке\n",
    "msno.matrix(\n",
    "    autos_df[[\"repaired\", \"vehicle_type\", \"fuel_type\", \"gearbox\", \"model\"]].sample(500)\n",
    ")"
   ]
  },
  {
   "cell_type": "markdown",
   "id": "9b32ed40-fd9f-4dbc-a4d4-a2f449d472bd",
   "metadata": {},
   "source": [
    "Визуализация показывает наличие некоторой взаимосвязи среди пропущенных значений"
   ]
  },
  {
   "cell_type": "markdown",
   "id": "9a59aeff-c596-4d87-b162-661bf6371778",
   "metadata": {},
   "source": [
    "Изучим корреляцию столбцов с пропусками на тепловой карте"
   ]
  },
  {
   "cell_type": "code",
   "execution_count": 14,
   "id": "a33f89b8-cd17-49df-ae98-238beae4e3f2",
   "metadata": {},
   "outputs": [
    {
     "data": {
      "text/plain": [
       "<Axes: >"
      ]
     },
     "execution_count": 14,
     "metadata": {},
     "output_type": "execute_result"
    },
    {
     "data": {
      "image/png": "[encoded data removed]",
      "text/plain": [
       "<Figure size 800x500 with 2 Axes>"
      ]
     },
     "metadata": {},
     "output_type": "display_data"
    }
   ],
   "source": [
    "# рассчитаем корреляцию\n",
    "msno.heatmap(\n",
    "    autos_df[[\"repaired\", \"vehicle_type\", \"fuel_type\", \"gearbox\", \"model\"]],\n",
    "    figsize=(8, 5),\n",
    ")"
   ]
  },
  {
   "cell_type": "markdown",
   "id": "e911663e-935b-410e-9048-720efa22c08c",
   "metadata": {},
   "source": [
    "Корреляция пропусков между переменными в столбцах низкая."
   ]
  },
  {
   "cell_type": "markdown",
   "id": "51708bb7-129b-4e90-9863-34d5bd8b13da",
   "metadata": {},
   "source": [
    "Заполним пропуски в столбце `'model'` самыми часто встречающимися значениями\\\n",
    "для признака **\"бренд\"** (столбец `'brand'`)."
   ]
  },
  {
   "cell_type": "code",
   "execution_count": 15,
   "id": "318d015c-c35b-4edd-b0ef-8b5df95ac348",
   "metadata": {
    "scrolled": true
   },
   "outputs": [],
   "source": [
    "# группировка по признаку\n",
    "brand_grp = autos_df.groupby([\"brand\"])\n",
    "\n",
    "# заполнение пропусков в столбце 'model'\n",
    "autos_df[\"model\"] = brand_grp.model.transform(\n",
    "    lambda x: x.fillna(x.mode()[0] if not x.mode().empty else x)\n",
    ")"
   ]
  },
  {
   "cell_type": "markdown",
   "id": "997107a9-f7ec-4e51-b49e-608ee9f729d1",
   "metadata": {},
   "source": [
    "Также заполним пропуски в столбцах `'vehicle_type'`, `'fuel_type'` и `'gearbox'`\\\n",
    "самыми часто встречающимися значениями\\\n",
    "для признака **\"модель\"** (столбец `'model'`)."
   ]
  },
  {
   "cell_type": "code",
   "execution_count": 16,
   "id": "790b30a5-5859-43d3-b24c-5c2540d6671a",
   "metadata": {},
   "outputs": [],
   "source": [
    "# группировка по признаку\n",
    "model_grp = autos_df.groupby([\"model\"])\n",
    "\n",
    "# заполнение пропусков в столбце 'vehicle_type'\n",
    "autos_df[\"vehicle_type\"] = model_grp.vehicle_type.transform(\n",
    "    lambda x: x.fillna(x.mode()[0] if not x.mode().empty else x)\n",
    ")"
   ]
  },
  {
   "cell_type": "markdown",
   "id": "9be609ae-9737-4400-8ad1-e66024214617",
   "metadata": {},
   "source": [
    "Заполним пропуски в столце `'fuel_type'`"
   ]
  },
  {
   "cell_type": "code",
   "execution_count": 17,
   "id": "688c1eef-2d26-4ce8-b734-c251a9c53574",
   "metadata": {},
   "outputs": [],
   "source": [
    "# заполнение пропусков в столбце 'fuel_type'\n",
    "autos_df[\"fuel_type\"] = model_grp.fuel_type.transform(\n",
    "    lambda x: x.fillna(x.mode()[0] if not x.mode().empty else x)\n",
    ")"
   ]
  },
  {
   "cell_type": "markdown",
   "id": "ecc6591c-6e3d-40d0-b79c-ff850985513a",
   "metadata": {},
   "source": [
    "Заполним пропуски в столбце `'gearbox'`"
   ]
  },
  {
   "cell_type": "code",
   "execution_count": 18,
   "id": "d7bca537-4eca-45c8-a170-3cc8a2edfbbf",
   "metadata": {},
   "outputs": [],
   "source": [
    "# заполнение пропусков в столбце 'gearbox'\n",
    "autos_df[\"gearbox\"] = model_grp.gearbox.transform(\n",
    "    lambda x: x.fillna(x.mode()[0] if not x.mode().empty else x)\n",
    ")"
   ]
  },
  {
   "cell_type": "markdown",
   "id": "dbc6548b-036e-4e6f-9931-8e5aace4b4b5",
   "metadata": {},
   "source": [
    "Проверим заполнение пропущенных значений"
   ]
  },
  {
   "cell_type": "code",
   "execution_count": 19,
   "id": "c45bf643-230e-445b-a165-246ce0d1b6a5",
   "metadata": {},
   "outputs": [
    {
     "data": {
      "text/plain": [
       "repaired              71154\n",
       "vehicle_type           3374\n",
       "gearbox                3374\n",
       "model                  3374\n",
       "fuel_type              3374\n",
       "date_crawled              0\n",
       "price                     0\n",
       "registration_year         0\n",
       "power                     0\n",
       "kilometer                 0\n",
       "registration_month        0\n",
       "brand                     0\n",
       "date_created              0\n",
       "number_of_pictures        0\n",
       "postal_code               0\n",
       "last_seen                 0\n",
       "dtype: int64"
      ]
     },
     "execution_count": 19,
     "metadata": {},
     "output_type": "execute_result"
    }
   ],
   "source": [
    "# вывод пропусков по столбцам\n",
    "autos_df.isna().sum().sort_values(ascending=False)"
   ]
  },
  {
   "cell_type": "markdown",
   "id": "deebdbb5-854e-4cc8-8f1f-99f9d7cd83e5",
   "metadata": {},
   "source": [
    "Можно предположить, что признак `'repaired'` был не заполнен в случае, если машина не была в ремонте."
   ]
  },
  {
   "cell_type": "markdown",
   "id": "735ab15b-e1ea-4fdf-9c97-a6e8742d878d",
   "metadata": {},
   "source": [
    "Заполним пропуски в `'repaired'` значением *'no'*"
   ]
  },
  {
   "cell_type": "code",
   "execution_count": 20,
   "id": "2e38d110-2719-481a-b239-031b4f6c6663",
   "metadata": {},
   "outputs": [],
   "source": [
    "# заполнение пропусков в столбце\n",
    "autos_df[\"repaired\"] = autos_df[\"repaired\"].fillna(\"no\")"
   ]
  },
  {
   "cell_type": "markdown",
   "id": "79dd65ea-2831-47bd-9484-a8a6f3f86b68",
   "metadata": {},
   "source": [
    "Посмотрим на процентное соотношение пропущенных значений"
   ]
  },
  {
   "cell_type": "code",
   "execution_count": 21,
   "id": "21b4e728-e7cc-4e6b-a6d9-a418018ff611",
   "metadata": {},
   "outputs": [
    {
     "data": {
      "text/plain": [
       "vehicle_type          0.95\n",
       "gearbox               0.95\n",
       "model                 0.95\n",
       "fuel_type             0.95\n",
       "date_crawled          0.00\n",
       "price                 0.00\n",
       "registration_year     0.00\n",
       "power                 0.00\n",
       "kilometer             0.00\n",
       "registration_month    0.00\n",
       "brand                 0.00\n",
       "repaired              0.00\n",
       "date_created          0.00\n",
       "number_of_pictures    0.00\n",
       "postal_code           0.00\n",
       "last_seen             0.00\n",
       "dtype: float64"
      ]
     },
     "execution_count": 21,
     "metadata": {},
     "output_type": "execute_result"
    }
   ],
   "source": [
    "# вывод строк с пропусками\n",
    "autos_df.isna().mean().sort_values(ascending=False).round(4) * 100"
   ]
  },
  {
   "cell_type": "markdown",
   "id": "6175af62-e883-4f57-aa16-7c6acf3bd962",
   "metadata": {},
   "source": [
    "Найдём общее количество строк с пропусками и определим процент этих строк в датафрейме."
   ]
  },
  {
   "cell_type": "code",
   "execution_count": 22,
   "id": "5bfb15eb-2f12-4480-841d-48dffc0e1275",
   "metadata": {},
   "outputs": [
    {
     "name": "stdout",
     "output_type": "stream",
     "text": [
      "0.95%\n"
     ]
    }
   ],
   "source": [
    "# вывод количества строк с пропусками\n",
    "print(\n",
    "    f'{round((autos_df.query(\"gearbox.isna()|model.isna()|vehicle_type.isna()|fuel_type.isna()\").shape[0]/autos_rows_before*100),2)}%'\n",
    ")"
   ]
  },
  {
   "cell_type": "markdown",
   "id": "15294bd4-fd32-4061-b598-f832d18a7465",
   "metadata": {},
   "source": [
    "Такое количество строк можно удалить"
   ]
  },
  {
   "cell_type": "code",
   "execution_count": 23,
   "id": "e58b26f4-ea4e-439d-8050-ce1896197a2b",
   "metadata": {},
   "outputs": [],
   "source": [
    "# удаление строк по условию\n",
    "autos_df = autos_df.drop(\n",
    "    autos_df[\n",
    "        (autos_df[\"model\"].isna())\n",
    "        | (autos_df[\"vehicle_type\"].isna())\n",
    "        | (autos_df[\"fuel_type\"].isna())\n",
    "    ].index\n",
    ").reset_index(drop=True)"
   ]
  },
  {
   "cell_type": "code",
   "execution_count": 24,
   "id": "cf38b496-7962-4339-a0b2-bbd2b6add828",
   "metadata": {},
   "outputs": [
    {
     "name": "stdout",
     "output_type": "stream",
     "text": [
      "<class 'pandas.core.frame.DataFrame'>\n",
      "RangeIndex: 350995 entries, 0 to 350994\n",
      "Data columns (total 16 columns):\n",
      " #   Column              Non-Null Count   Dtype         \n",
      "---  ------              --------------   -----         \n",
      " 0   date_crawled        350995 non-null  datetime64[ns]\n",
      " 1   price               350995 non-null  int64         \n",
      " 2   vehicle_type        350995 non-null  object        \n",
      " 3   registration_year   350995 non-null  int64         \n",
      " 4   gearbox             350995 non-null  object        \n",
      " 5   power               350995 non-null  int64         \n",
      " 6   model               350995 non-null  object        \n",
      " 7   kilometer           350995 non-null  int64         \n",
      " 8   registration_month  350995 non-null  int64         \n",
      " 9   fuel_type           350995 non-null  object        \n",
      " 10  brand               350995 non-null  object        \n",
      " 11  repaired            350995 non-null  object        \n",
      " 12  date_created        350995 non-null  datetime64[ns]\n",
      " 13  number_of_pictures  350995 non-null  int64         \n",
      " 14  postal_code         350995 non-null  int64         \n",
      " 15  last_seen           350995 non-null  datetime64[ns]\n",
      "dtypes: datetime64[ns](3), int64(7), object(6)\n",
      "memory usage: 42.8+ MB\n"
     ]
    }
   ],
   "source": [
    "# вывод общей информации о датафрейме\n",
    "autos_df.info()"
   ]
  },
  {
   "cell_type": "markdown",
   "id": "2a4f263e-1fd4-47e2-8542-e6d6f2516ddc",
   "metadata": {},
   "source": [
    "***"
   ]
  },
  {
   "cell_type": "markdown",
   "id": "8ffd7c76-6770-4b4a-8f68-942eb71f2195",
   "metadata": {},
   "source": [
    "**ВЫВОД:**\n",
    "\n",
    "1. В датафрейме наблюдается большое количество пропусков:\n",
    "\n",
    "   |Пропусков|`'repaired'`|`'vehicle_type'`|`'fuel_type'`|`'gearbox'`|`'model'`|\n",
    "   |-|-:|-:|-:|-:|-:|\n",
    "   |количество|71154|37490|32895|19833|19705|\n",
    "   |процент|20.08|10.58|9.28|5.6|5.56|\n",
    "\n",
    "2. Так как пропусков большое количество, их нельзя просто удалить.\n",
    "3. Пропуски во входном признаке `'model'` были заполнены самыми часто встречающимися значениями для входного признака `'brand'`\n",
    "4. Пропуски во входных признаках:\n",
    "    - `'vehicle_type'`\n",
    "    - `'fuel_type'`\n",
    "    - `'gearbox'`\\\n",
    "были заполнены самыми часто встречающимися значениями для входного признака `'model'`\n",
    "5. Пропуски во входном признаке `'repaired'` были заполнены значением ***'no'***"
   ]
  },
  {
   "cell_type": "markdown",
   "id": "21bbeeb5-1122-4511-afa7-9f7cb75dd32d",
   "metadata": {},
   "source": [
    "## Предобработка явных дубликатов"
   ]
  },
  {
   "cell_type": "markdown",
   "id": "942f928a-5767-462f-8739-df9b977037e2",
   "metadata": {},
   "source": [
    "Выведем количество явных дубликатов"
   ]
  },
  {
   "cell_type": "code",
   "execution_count": 25,
   "id": "0628b77f-5f0b-4b4e-b006-ea3b4804e0da",
   "metadata": {},
   "outputs": [
    {
     "name": "stdout",
     "output_type": "stream",
     "text": [
      "5\n"
     ]
    }
   ],
   "source": [
    "# вывод количества явных дубликатов датафрейма\n",
    "print(autos_df.duplicated().sum())"
   ]
  },
  {
   "cell_type": "markdown",
   "id": "1a22f88b-c8e3-4f8d-b0ac-b5183b38a5c6",
   "metadata": {},
   "source": [
    "Удалим выявленные явные дубликаты в датафрейме"
   ]
  },
  {
   "cell_type": "code",
   "execution_count": 26,
   "id": "9dd23025-6c18-461a-895c-409b22a43fa6",
   "metadata": {},
   "outputs": [],
   "source": [
    "# удаление явных дубликатов\n",
    "autos_df = autos_df.drop_duplicates().reset_index(drop=True)"
   ]
  },
  {
   "cell_type": "markdown",
   "id": "7306631a-25d2-4a33-8d56-a7b7cc2e7b1b",
   "metadata": {},
   "source": [
    "***"
   ]
  },
  {
   "cell_type": "markdown",
   "id": "3ca811f7-1120-41ff-a6c9-5be6b598f42b",
   "metadata": {},
   "source": [
    "**ВЫВОД:**\n",
    "\n",
    "1. В датафрейме обнаружены 5 явных дубликатов.\n",
    "2. Явные дубликаты были удалены."
   ]
  },
  {
   "cell_type": "markdown",
   "id": "eb332d87-8cc4-4263-acff-bad6f9c7ffdd",
   "metadata": {},
   "source": [
    "## Предобработка типов данных"
   ]
  },
  {
   "cell_type": "markdown",
   "id": "0c8ff95d-1851-40ba-968f-068e0d52e5a4",
   "metadata": {},
   "source": [
    "Обратим внимание на типы данных в таблице"
   ]
  },
  {
   "cell_type": "code",
   "execution_count": 27,
   "id": "b5abd1b3-f485-4a8f-8b52-8fed73024fdf",
   "metadata": {},
   "outputs": [
    {
     "name": "stdout",
     "output_type": "stream",
     "text": [
      "date_crawled          datetime64[ns]\n",
      "price                          int64\n",
      "vehicle_type                  object\n",
      "registration_year              int64\n",
      "gearbox                       object\n",
      "power                          int64\n",
      "model                         object\n",
      "kilometer                      int64\n",
      "registration_month             int64\n",
      "fuel_type                     object\n",
      "brand                         object\n",
      "repaired                      object\n",
      "date_created          datetime64[ns]\n",
      "number_of_pictures             int64\n",
      "postal_code                    int64\n",
      "last_seen             datetime64[ns]\n",
      "dtype: object\n"
     ]
    }
   ],
   "source": [
    "# вывод типов данных в столбцах в датафреймах\n",
    "print(autos_df.dtypes)"
   ]
  },
  {
   "cell_type": "markdown",
   "id": "98203245-a3fc-4d03-bb2d-46808ee3e254",
   "metadata": {},
   "source": [
    "Тип данных входного признака `'repaired'` - *object*.\\\n",
    "Этот признак имеет только 2 значения: *yes* и *no*.\\\n",
    "Он должен быть бинарным.\\\n",
    "Преобразуем тип данных признака при кодировании в пайплайне."
   ]
  },
  {
   "cell_type": "markdown",
   "id": "78c3f104-34dd-423d-be1e-eb612fdf713a",
   "metadata": {},
   "source": [
    "***"
   ]
  },
  {
   "cell_type": "markdown",
   "id": "7dc4c180-cd96-4589-801b-ed10151cab62",
   "metadata": {},
   "source": [
    "**ВЫВОД:**\n",
    "\n",
    "1. Тип данных входного признака `'repaired'` не соответствует данным:\n",
    "    тип данных в данный момент - *object*,\n",
    "    нужный тип данных - категориальный бинарный.\n",
    "2. Преобразование типа данных признака `'repaired'` необходимо провести в пайплайне."
   ]
  },
  {
   "cell_type": "markdown",
   "id": "e8bacd72-9ff8-40f0-af64-d27f401f2c88",
   "metadata": {},
   "source": [
    "## Предобработка неявных дубликатов"
   ]
  },
  {
   "cell_type": "markdown",
   "id": "eb118916-131b-42ee-8fab-c2d7e4417fe3",
   "metadata": {},
   "source": [
    "Проверим данные на наличие неявных дубликатов.\\\n",
    "Выведем значения в колонках со строковым типом данных для датафрейма\\\n",
    "кроме колонки `'model'`"
   ]
  },
  {
   "cell_type": "code",
   "execution_count": 28,
   "id": "3c059835-c480-48c8-bbf1-4f7fc264e1d1",
   "metadata": {},
   "outputs": [
    {
     "name": "stdout",
     "output_type": "stream",
     "text": [
      "---------\n",
      "Признак <vehicle_type>\n",
      "['bus', 'convertible', 'coupe', 'other', 'sedan', 'small', 'suv', 'wagon']\n",
      "Уникальных значений признака: 8\n",
      "---------\n",
      "Признак <gearbox>\n",
      "['auto', 'manual']\n",
      "Уникальных значений признака: 2\n",
      "---------\n",
      "Признак <fuel_type>\n",
      "['cng', 'electric', 'gasoline', 'hybrid', 'lpg', 'other', 'petrol']\n",
      "Уникальных значений признака: 7\n",
      "---------\n",
      "Признак <brand>\n",
      "['alfa_romeo', 'audi', 'bmw', 'chevrolet', 'chrysler', 'citroen', 'dacia', 'daewoo', 'daihatsu', 'fiat', 'ford', 'honda', 'hyundai', 'jaguar', 'jeep', 'kia', 'lada', 'lancia', 'land_rover', 'mazda', 'mercedes_benz', 'mini', 'mitsubishi', 'nissan', 'opel', 'peugeot', 'porsche', 'renault', 'rover', 'saab', 'seat', 'skoda', 'smart', 'subaru', 'suzuki', 'toyota', 'trabant', 'volkswagen', 'volvo']\n",
      "Уникальных значений признака: 39\n",
      "---------\n",
      "Признак <repaired>\n",
      "['no', 'yes']\n",
      "Уникальных значений признака: 2\n"
     ]
    }
   ],
   "source": [
    "# объявление функции для вывода уникальных значений столбцов со строковым типом данных\n",
    "def get_str_values(df):\n",
    "    obj_lst = df.select_dtypes(include=\"object\").columns.to_list()\n",
    "    for col in obj_lst:\n",
    "        print(\"---------\")\n",
    "        print(f\"Признак <{col}>\")\n",
    "        print(sorted(list(set(df[col].to_list()))))\n",
    "        print(f\"Уникальных значений признака: {df[col].nunique()}\")\n",
    "\n",
    "\n",
    "# вызов функции для датафрейма\n",
    "get_str_values(autos_df.drop([\"model\"], axis=1))"
   ]
  },
  {
   "cell_type": "markdown",
   "id": "78c274ad-7099-4c8b-b488-09d47c5b1add",
   "metadata": {},
   "source": [
    "Неявных дубликатов в значениях строковых признаков не обнаружено."
   ]
  },
  {
   "cell_type": "markdown",
   "id": "ffa93f42-7da9-46b3-b248-b5c7016b2a89",
   "metadata": {},
   "source": [
    "Выведем неявные дубликаты признака `'model'`"
   ]
  },
  {
   "cell_type": "code",
   "execution_count": 29,
   "id": "a5cfe46c-5967-424f-bbf4-9e5725ee6f8f",
   "metadata": {
    "scrolled": true
   },
   "outputs": [
    {
     "name": "stdout",
     "output_type": "stream",
     "text": [
      "100 [('100', 100), ('500', 67), ('900', 67)]\n",
      "145 [('145', 100), ('156', 67), ('147', 67)]\n",
      "147 [('147', 100), ('145', 67), ('a4', 45)]\n",
      "156 [('156', 100), ('159', 67), ('145', 67)]\n",
      "159 [('159', 100), ('156', 67), ('r19', 67)]\n",
      "1_reihe [('1_reihe', 100), ('2_reihe', 86), ('3_reihe', 86)]\n",
      "1er [('1er', 100), ('3er', 67), ('5er', 67)]\n",
      "200 [('200', 100), ('100', 67), ('500', 67)]\n",
      "2_reihe [('2_reihe', 100), ('3_reihe', 86), ('z_reihe', 86)]\n",
      "300c [('300c', 100), ('c4', 60), ('c1', 60)]\n",
      "3_reihe [('3_reihe', 100), ('2_reihe', 86), ('z_reihe', 86)]\n",
      "3er [('3er', 100), ('5er', 67), ('1er', 67)]\n",
      "4_reihe [('4_reihe', 100), ('2_reihe', 86), ('3_reihe', 86)]\n",
      "500 [('500', 100), ('100', 67), ('v50', 67)]\n",
      "5_reihe [('5_reihe', 100), ('2_reihe', 86), ('3_reihe', 86)]\n",
      "5er [('5er', 100), ('3er', 67), ('1er', 67)]\n",
      "601 [('601', 100), ('s60', 67), ('v60', 67)]\n",
      "6_reihe [('6_reihe', 100), ('2_reihe', 86), ('3_reihe', 86)]\n",
      "6er [('6er', 100), ('3er', 67), ('5er', 67)]\n",
      "7er [('7er', 100), ('3er', 67), ('5er', 67)]\n",
      "80 [('80', 100), ('850', 80), ('a8', 50)]\n",
      "850 [('850', 100), ('80', 80), ('500', 67)]\n",
      "90 [('90', 100), ('900', 90), ('9000', 90)]\n",
      "900 [('900', 100), ('90', 90), ('9000', 86)]\n",
      "9000 [('9000', 100), ('90', 90), ('900', 86)]\n",
      "911 [('911', 100), ('a1', 45), ('c1', 45)]\n",
      "a1 [('a1', 100), ('meriva', 60), ('corsa', 60)]\n",
      "a2 [('a2', 100), ('meriva', 60), ('corsa', 60)]\n",
      "a3 [('a3', 100), ('meriva', 60), ('corsa', 60)]\n",
      "a4 [('a4', 100), ('meriva', 60), ('corsa', 60)]\n",
      "a5 [('a5', 100), ('meriva', 60), ('corsa', 60)]\n",
      "a6 [('a6', 100), ('meriva', 60), ('corsa', 60)]\n",
      "a8 [('a8', 100), ('meriva', 60), ('corsa', 60)]\n",
      "a_klasse [('a_klasse', 100), ('e_klasse', 88), ('b_klasse', 88)]\n",
      "accord [('accord', 100), ('cc', 90), ('cordoba', 62)]\n",
      "agila [('agila', 100), ('fabia', 60), ('insignia', 60)]\n",
      "alhambra [('alhambra', 100), ('bora', 77), ('rav', 72)]\n",
      "almera [('almera', 100), ('altea', 73), ('rav', 72)]\n",
      "altea [('altea', 100), ('almera', 73), ('materia', 67)]\n",
      "amarok [('amarok', 100), ('samara', 67), ('rio', 60)]\n",
      "antara [('antara', 100), ('astra', 73), ('santa', 73)]\n",
      "arosa [('arosa', 100), ('carisma', 67), ('corsa', 60)]\n",
      "astra [('astra', 100), ('antara', 73), ('rav', 72)]\n",
      "auris [('auris', 100), ('yaris', 80), ('carisma', 67)]\n",
      "avensis [('avensis', 100), ('aveo', 68), ('eos', 60)]\n",
      "aveo [('aveo', 100), ('avensis', 68), ('phaeton', 68)]\n",
      "aygo [('aygo', 100), ('kangoo', 68), ('sportage', 51)]\n",
      "b_klasse [('b_klasse', 100), ('a_klasse', 88), ('e_klasse', 88)]\n",
      "b_max [('b_max', 100), ('c_max', 80), ('s_max', 80)]\n",
      "beetle [('beetle', 100), ('toledo', 50), ('freelander', 50)]\n",
      "berlingo [('berlingo', 100), ('3er', 60), ('5er', 60)]\n",
      "bora [('bora', 100), ('alhambra', 77), ('calibra', 77)]\n",
      "boxster [('boxster', 100), ('other', 67), ('forester', 67)]\n",
      "bravo [('bravo', 100), ('rav', 90), ('alhambra', 68)]\n",
      "c1 [('c1', 100), ('300c', 60), ('c4', 50)]\n",
      "c2 [('c2', 100), ('300c', 60), ('c4', 50)]\n",
      "c3 [('c3', 100), ('300c', 60), ('c4', 50)]\n",
      "c4 [('c4', 100), ('300c', 60), ('a4', 50)]\n",
      "c5 [('c5', 100), ('300c', 60), ('c4', 50)]\n",
      "c_klasse [('c_klasse', 100), ('a_klasse', 88), ('e_klasse', 88)]\n",
      "c_max [('c_max', 100), ('s_max', 80), ('b_max', 80)]\n",
      "c_reihe [('c_reihe', 100), ('xc_reihe', 93), ('cr_reihe', 93)]\n",
      "caddy [('caddy', 100), ('cayenne', 50), ('charade', 50)]\n",
      "calibra [('calibra', 100), ('bora', 77), ('rav', 72)]\n",
      "captiva [('captiva', 100), ('niva', 68), ('carnival', 67)]\n",
      "carisma [('carisma', 100), ('arosa', 67), ('corsa', 67)]\n",
      "carnival [('carnival', 100), ('niva', 90), ('carisma', 67)]\n",
      "cayenne [('cayenne', 100), ('one', 60), ('ceed', 55)]\n",
      "cc [('cc', 100), ('accord', 90), ('civic', 57)]\n",
      "ceed [('ceed', 100), ('espace', 60), ('cayenne', 55)]\n",
      "charade [('charade', 100), ('sharan', 62), ('rav', 60)]\n",
      "cherokee [('cherokee', 100), ('3er', 60), ('5er', 60)]\n",
      "citigo [('citigo', 100), ('twingo', 67), ('golf', 60)]\n",
      "civic [('civic', 100), ('mii', 60), ('cc', 57)]\n",
      "cl [('cl', 100), ('clio', 90), ('clk', 90)]\n",
      "clio [('clio', 100), ('cl', 90), ('scirocco', 68)]\n",
      "clk [('clk', 100), ('cl', 90), ('slk', 67)]\n",
      "clubman [('clubman', 100), ('cl', 90), ('clk', 60)]\n",
      "colt [('colt', 100), ('escort', 68), ('cl', 67)]\n",
      "combo [('combo', 100), ('croma', 60), ('doblo', 60)]\n",
      "cooper [('cooper', 100), ('3er', 60), ('5er', 60)]\n",
      "cordoba [('cordoba', 100), ('corolla', 71), ('corsa', 67)]\n",
      "corolla [('corolla', 100), ('cordoba', 71), ('corsa', 67)]\n",
      "corsa [('corsa', 100), ('cordoba', 67), ('carisma', 67)]\n",
      "cr_reihe [('cr_reihe', 100), ('c_reihe', 93), ('xc_reihe', 88)]\n",
      "croma [('croma', 100), ('cordoba', 67), ('carisma', 67)]\n",
      "crossfire [('crossfire', 100), ('eos', 60), ('rio', 60)]\n",
      "cuore [('cuore', 100), ('corsa', 60), ('one', 60)]\n",
      "cx_reihe [('cx_reihe', 100), ('x_reihe', 93), ('c_reihe', 93)]\n",
      "defender [('defender', 100), ('freelander', 67), ('3er', 60)]\n",
      "delta [('delta', 100), ('a4', 60), ('a8', 60)]\n",
      "discovery [('discovery', 100), ('move', 68), ('3er', 60)]\n",
      "doblo [('doblo', 100), ('polo', 67), ('combo', 60)]\n",
      "ducato [('ducato', 100), ('picanto', 62), ('punto', 55)]\n",
      "duster [('duster', 100), ('roadster', 71), ('ptcruiser', 66)]\n",
      "e_klasse [('e_klasse', 100), ('a_klasse', 88), ('b_klasse', 88)]\n",
      "elefantino [('elefantino', 100), ('twingo', 72), ('rio', 60)]\n",
      "eos [('eos', 100), ('mondeo', 72), ('terios', 67)]\n",
      "escort [('escort', 100), ('colt', 68), ('sorento', 62)]\n",
      "espace [('espace', 100), ('eos', 60), ('ceed', 60)]\n",
      "exeo [('exeo', 100), ('eos', 57), ('seicento', 50)]\n",
      "fabia [('fabia', 100), ('ibiza', 60), ('agila', 60)]\n",
      "fiesta [('fiesta', 100), ('a4', 60), ('a8', 60)]\n",
      "focus [('focus', 100), ('modus', 60), ('fox', 60)]\n",
      "forester [('forester', 100), ('boxster', 67), ('other', 62)]\n",
      "forfour [('forfour', 100), ('fortwo', 62), ('fox', 60)]\n",
      "fortwo [('fortwo', 100), ('sorento', 62), ('forfour', 62)]\n",
      "fox [('fox', 100), ('fortwo', 60), ('forester', 60)]\n",
      "freelander [('freelander', 100), ('lancer', 75), ('defender', 67)]\n",
      "fusion [('fusion', 100), ('one', 72), ('sirion', 67)]\n",
      "g_klasse [('g_klasse', 100), ('a_klasse', 88), ('e_klasse', 88)]\n",
      "galant [('galant', 100), ('galaxy', 67), ('note', 60)]\n",
      "galaxy [('galaxy', 100), ('galant', 67), ('glk', 60)]\n",
      "getz [('getz', 100), ('voyager', 51), ('yeti', 50)]\n",
      "gl [('gl', 100), ('wrangler', 90), ('glk', 90)]\n",
      "glk [('glk', 100), ('gl', 90), ('slk', 67)]\n",
      "golf [('golf', 100), ('gl', 67), ('twingo', 60)]\n",
      "grand [('grand', 100), ('panda', 60), ('logan', 60)]\n",
      "i3 [('i3', 100), ('yeti', 60), ('qashqai', 60)]\n",
      "i_reihe [('i_reihe', 100), ('2_reihe', 86), ('3_reihe', 86)]\n",
      "ibiza [('ibiza', 100), ('a4', 60), ('fabia', 60)]\n",
      "impreza [('impreza', 100), ('a4', 60), ('a8', 60)]\n",
      "insignia [('insignia', 100), ('niva', 68), ('a4', 60)]\n",
      "jazz [('jazz', 100), ('a4', 45), ('ka', 45)]\n",
      "jetta [('jetta', 100), ('tt', 90), ('a4', 60)]\n",
      "jimny [('jimny', 100), ('i3', 45), ('viano', 40)]\n",
      "juke [('juke', 100), ('range_rover_evoque', 51), ('ka', 45)]\n",
      "justy [('justy', 100), ('duster', 55), ('s_type', 55)]\n",
      "ka [('ka', 100), ('kadett', 90), ('kangoo', 90)]\n",
      "kadett [('kadett', 100), ('ka', 90), ('tt', 90)]\n",
      "kaefer [('kaefer', 100), ('ka', 90), ('3er', 60)]\n",
      "kalina [('kalina', 100), ('ka', 90), ('calibra', 62)]\n",
      "kalos [('kalos', 100), ('ka', 90), ('arosa', 60)]\n",
      "kangoo [('kangoo', 100), ('ka', 90), ('aygo', 68)]\n",
      "kappa [('kappa', 100), ('ka', 90), ('kalina', 55)]\n",
      "kuga [('kuga', 100), ('ka', 67), ('a4', 60)]\n",
      "laguna [('laguna', 100), ('panda', 55), ('logan', 55)]\n",
      "lancer [('lancer', 100), ('freelander', 75), ('outlander', 75)]\n",
      "lanos [('lanos', 100), ('arosa', 60), ('eos', 60)]\n",
      "legacy [('legacy', 100), ('omega', 55), ('logan', 55)]\n",
      "leon [('leon', 100), ('ypsilon', 77), ('phaeton', 68)]\n",
      "lodgy [('lodgy', 100), ('logan', 60), ('legacy', 55)]\n",
      "logan [('logan', 100), ('leon', 67), ('grand', 60)]\n",
      "lupo [('lupo', 100), ('up', 90), ('polo', 50)]\n",
      "lybra [('lybra', 100), ('rav', 72), ('bora', 67)]\n",
      "m_klasse [('m_klasse', 100), ('a_klasse', 88), ('e_klasse', 88)]\n",
      "m_reihe [('m_reihe', 100), ('mx_reihe', 93), ('2_reihe', 86)]\n",
      "materia [('materia', 100), ('meriva', 77), ('astra', 67)]\n",
      "matiz [('matiz', 100), ('materia', 67), ('elefantino', 54)]\n",
      "megane [('megane', 100), ('omega', 73), ('one', 60)]\n",
      "meriva [('meriva', 100), ('materia', 77), ('niva', 68)]\n",
      "micra [('micra', 100), ('rav', 72), ('a4', 60)]\n",
      "mii [('mii', 100), ('civic', 60), ('micra', 60)]\n",
      "modus [('modus', 100), ('musa', 67), ('focus', 60)]\n",
      "mondeo [('mondeo', 100), ('eos', 72), ('one', 67)]\n",
      "move [('move', 100), ('discovery', 68), ('range_rover', 68)]\n",
      "musa [('musa', 100), ('mustang', 73), ('modus', 67)]\n",
      "mustang [('mustang', 100), ('musa', 73), ('gl', 60)]\n",
      "mx_reihe [('mx_reihe', 100), ('x_reihe', 93), ('m_reihe', 93)]\n",
      "navara [('navara', 100), ('niva', 68), ('antara', 67)]\n",
      "niva [('niva', 100), ('carnival', 90), ('navara', 68)]\n",
      "note [('note', 100), ('transporter', 68), ('sprinter', 68)]\n",
      "nubira [('nubira', 100), ('rav', 72), ('bora', 68)]\n",
      "octavia [('octavia', 100), ('rav', 60), ('carisma', 57)]\n",
      "omega [('omega', 100), ('megane', 73), ('a4', 60)]\n",
      "one [('one', 100), ('phaeton', 72), ('ypsilon', 72)]\n",
      "other [('other', 100), ('transporter', 72), ('boxster', 67)]\n",
      "outlander [('outlander', 100), ('lancer', 75), ('freelander', 63)]\n",
      "pajero [('pajero', 100), ('rio', 72), ('phaeton', 62)]\n",
      "panda [('panda', 100), ('grand', 60), ('santa', 60)]\n",
      "passat [('passat', 100), ('arosa', 55), ('astra', 55)]\n",
      "phaeton [('phaeton', 100), ('one', 72), ('leon', 68)]\n",
      "picanto [('picanto', 100), ('punto', 67), ('seicento', 67)]\n",
      "polo [('polo', 100), ('doblo', 67), ('toledo', 60)]\n",
      "primera [('primera', 100), ('rav', 72), ('sprinter', 67)]\n",
      "ptcruiser [('ptcruiser', 100), ('duster', 66), ('primera', 62)]\n",
      "punto [('punto', 100), ('picanto', 67), ('ducato', 55)]\n",
      "q3 [('q3', 100), ('a3', 50), ('c3', 50)]\n",
      "q5 [('q5', 100), ('a5', 50), ('c5', 50)]\n",
      "q7 [('q7', 100), ('q3', 50), ('q5', 50)]\n",
      "qashqai [('qashqai', 100), ('i3', 60), ('arosa', 50)]\n",
      "r19 [('r19', 100), ('159', 67), ('90', 60)]\n",
      "range_rover [('range_rover', 100), ('rangerover', 95), ('range_rover_sport', 90)]\n",
      "range_rover_evoque [('range_rover_evoque', 100), ('range_rover', 90), ('rangerover', 81)]\n",
      "range_rover_sport [('range_rover_sport', 100), ('range_rover', 90), ('rangerover', 81)]\n",
      "rangerover [('rangerover', 100), ('range_rover', 95), ('range_rover_sport', 81)]\n",
      "rav [('rav', 100), ('bravo', 90), ('astra', 72)]\n",
      "rio [('rio', 100), ('sirion', 90), ('terios', 90)]\n",
      "roadster [('roadster', 100), ('roomster', 75), ('duster', 71)]\n",
      "roomster [('roomster', 100), ('roadster', 75), ('boxster', 67)]\n",
      "rx_reihe [('rx_reihe', 100), ('x_reihe', 93), ('xc_reihe', 88)]\n",
      "s60 [('s60', 100), ('601', 67), ('v60', 67)]\n",
      "s_klasse [('s_klasse', 100), ('a_klasse', 88), ('e_klasse', 88)]\n",
      "s_max [('s_max', 100), ('c_max', 80), ('b_max', 80)]\n",
      "s_type [('s_type', 100), ('x_type', 83), ('justy', 55)]\n",
      "samara [('samara', 100), ('rav', 72), ('navara', 67)]\n",
      "sandero [('sandero', 100), ('rio', 72), ('range_rover', 64)]\n",
      "santa [('santa', 100), ('antara', 73), ('astra', 60)]\n",
      "scenic [('scenic', 100), ('scirocco', 57), ('seicento', 57)]\n",
      "scirocco [('scirocco', 100), ('clio', 68), ('rio', 60)]\n",
      "seicento [('seicento', 100), ('sorento', 67), ('picanto', 67)]\n",
      "serie_1 [('serie_1', 100), ('serie_2', 86), ('serie_3', 86)]\n",
      "serie_2 [('serie_2', 100), ('serie_3', 86), ('serie_1', 86)]\n",
      "serie_3 [('serie_3', 100), ('serie_2', 86), ('serie_1', 86)]\n",
      "sharan [('sharan', 100), ('samara', 67), ('charade', 62)]\n",
      "signum [('signum', 100), ('insignia', 57), ('tiguan', 50)]\n",
      "sirion [('sirion', 100), ('rio', 90), ('one', 72)]\n",
      "sl [('sl', 100), ('slk', 90), ('focus', 60)]\n",
      "slk [('slk', 100), ('sl', 90), ('clk', 67)]\n",
      "sorento [('sorento', 100), ('seicento', 67), ('fortwo', 62)]\n",
      "spark [('spark', 100), ('espace', 55), ('sharan', 55)]\n",
      "spider [('spider', 100), ('sprinter', 71), ('superb', 67)]\n",
      "sportage [('sportage', 100), ('range_rover_sport', 69), ('bora', 68)]\n",
      "sprinter [('sprinter', 100), ('spider', 71), ('note', 68)]\n",
      "stilo [('stilo', 100), ('ypsilon', 67), ('rio', 60)]\n",
      "superb [('superb', 100), ('up', 90), ('spider', 67)]\n",
      "swift [('swift', 100), ('transit', 50), ('sprinter', 46)]\n",
      "terios [('terios', 100), ('rio', 90), ('eos', 67)]\n",
      "tigra [('tigra', 100), ('tiguan', 73), ('rav', 72)]\n",
      "tiguan [('tiguan', 100), ('tigra', 73), ('touran', 67)]\n",
      "toledo [('toledo', 100), ('leon', 68), ('polo', 60)]\n",
      "touareg [('touareg', 100), ('touran', 62), ('gl', 60)]\n",
      "touran [('touran', 100), ('bora', 68), ('tiguan', 67)]\n",
      "transit [('transit', 100), ('transporter', 67), ('touran', 62)]\n",
      "transporter [('transporter', 100), ('other', 72), ('note', 68)]\n",
      "tt [('tt', 100), ('kadett', 90), ('jetta', 90)]\n",
      "tucson [('tucson', 100), ('one', 72), ('fusion', 67)]\n",
      "twingo [('twingo', 100), ('elefantino', 72), ('citigo', 67)]\n",
      "up [('up', 100), ('lupo', 90), ('superb', 90)]\n",
      "v40 [('v40', 100), ('v50', 67), ('v70', 67)]\n",
      "v50 [('v50', 100), ('v40', 67), ('500', 67)]\n",
      "v60 [('v60', 100), ('v40', 67), ('601', 67)]\n",
      "v70 [('v70', 100), ('v40', 67), ('v50', 67)]\n",
      "v_klasse [('v_klasse', 100), ('a_klasse', 88), ('e_klasse', 88)]\n",
      "vectra [('vectra', 100), ('rav', 72), ('a4', 60)]\n",
      "verso [('verso', 100), ('range_rover_sport', 72), ('aveo', 67)]\n",
      "viano [('viano', 100), ('vivaro', 73), ('vito', 67)]\n",
      "vito [('vito', 100), ('viano', 67), ('citigo', 60)]\n",
      "vivaro [('vivaro', 100), ('viano', 73), ('niva', 68)]\n",
      "voyager [('voyager', 100), ('3er', 60), ('5er', 60)]\n",
      "wrangler [('wrangler', 100), ('gl', 90), ('range_rover_sport', 68)]\n",
      "x_reihe [('x_reihe', 100), ('xc_reihe', 93), ('rx_reihe', 93)]\n",
      "x_trail [('x_trail', 100), ('rio', 60), ('rav', 60)]\n",
      "x_type [('x_type', 100), ('s_type', 83), ('x_reihe', 46)]\n",
      "xc_reihe [('xc_reihe', 100), ('x_reihe', 93), ('c_reihe', 93)]\n",
      "yaris [('yaris', 100), ('auris', 80), ('carisma', 67)]\n",
      "yeti [('yeti', 100), ('i3', 60), ('getz', 50)]\n",
      "ypsilon [('ypsilon', 100), ('leon', 77), ('one', 72)]\n",
      "z_reihe [('z_reihe', 100), ('2_reihe', 86), ('3_reihe', 86)]\n",
      "zafira [('zafira', 100), ('rav', 72), ('calibra', 62)]\n"
     ]
    }
   ],
   "source": [
    "# вывод неявных дубликатов признака 'model'\n",
    "for i in sorted(list(set(autos_df[\"model\"].to_list()))):\n",
    "    print(i, process.extract(i, autos_df[\"model\"].unique(), limit=3))"
   ]
  },
  {
   "cell_type": "markdown",
   "id": "1a07e94e-4e56-4e28-aeea-de2377e11c2c",
   "metadata": {},
   "source": [
    "Обнаружены неявные дубликаты в значениях признака `'model'`:\\\n",
    "*\"rangerover\"* и *\"range_rover\"*.\\\n",
    "Приведём значения к единому виду *\"range_rover\"*"
   ]
  },
  {
   "cell_type": "code",
   "execution_count": 30,
   "id": "4c2c7119-8176-49fb-b3ab-01bb68fa6570",
   "metadata": {},
   "outputs": [],
   "source": [
    "# перезапись значения\n",
    "autos_df[autos_df[\"model\"] == \"rangerover\"][\"model\"] = \"range_rover\""
   ]
  },
  {
   "cell_type": "markdown",
   "id": "056ddfa5-85c6-418c-bd13-63bccee1bd37",
   "metadata": {},
   "source": [
    "***"
   ]
  },
  {
   "cell_type": "markdown",
   "id": "94fa6466-87f2-4bae-837c-7aaa84e1f731",
   "metadata": {},
   "source": [
    "**ВЫВОД:**\n",
    "\n",
    "1. Данные были проверены на наличие неявных дубликатов значений.\n",
    "2. В значениях входного признака `'model'` были обнаружены неявные дубликаты в 2-х значениях:\n",
    "    *\"range_rover\"* и *\"rangerover\"*\n",
    "4. Значения приведены к единому виду - *\"range_rover\"*"
   ]
  },
  {
   "cell_type": "markdown",
   "id": "1fb1aba5-e242-4df6-9e69-7024fd061312",
   "metadata": {},
   "source": [
    "## Предобработка признаков"
   ]
  },
  {
   "cell_type": "markdown",
   "id": "4ee957a9-88ff-4f1d-a7f3-97912ff4d85a",
   "metadata": {},
   "source": [
    "Количественные признаки `'postal_code'` ,`'registration_month'` и `'number_of_pictures'` - неинформативны для предсказания цены авто.\\\n",
    "`'postal_code'` - почтовый индекс владельца анкеты (пользователя): территориальное влияние сомнительно.\\\n",
    "`'registration_month'` - месяц регистрации автомобиля: не имеет такого влияния на цену, как год регистрации.\\\n",
    "`'number_of_pictures'` - количество фотографий автомобиля: возможно влияние на цену при наличии фото, но их нет."
   ]
  },
  {
   "cell_type": "markdown",
   "id": "2b88ef50-c462-4f25-b9fa-0afb826ea3d0",
   "metadata": {},
   "source": [
    "Признаки с указанием даты и времени `'date_crawled'`, `'date_created'` и `'last_seen'` - также неинформативны для предсказания цены авто.\\\n",
    "`'date_crawled'` - дата скачивания анкеты из базы: не имеет влияния на цену.\\\n",
    "`'date_created'` - дата создания анкеты: для будущих анкет информация не актуальна.\\\n",
    "`'last_seen'` - дата последней активности пользователя: не имеет к цене отношения."
   ]
  },
  {
   "cell_type": "markdown",
   "id": "05fbe941-9ed5-42a9-b7bd-023235d45c85",
   "metadata": {},
   "source": [
    "Прежде, чем удалять неинформативные признаки, получим диапазон дат по каждому признаку с датой и временем."
   ]
  },
  {
   "cell_type": "code",
   "execution_count": 31,
   "id": "0e64929d-47cc-410b-bbc2-40febd7a1638",
   "metadata": {},
   "outputs": [
    {
     "name": "stdout",
     "output_type": "stream",
     "text": [
      "Признак <date_crawled> имеет значения:\n",
      "- минимальное: 2016-03-05 14:06:22\n",
      "- максимальное: 2016-04-07 14:36:58\n",
      "-----------\n",
      "Признак <date_created> имеет значения:\n",
      "- минимальное: 2014-03-10 00:00:00\n",
      "- максимальное: 2016-04-07 00:00:00\n",
      "-----------\n",
      "Признак <last_seen> имеет значения:\n",
      "- минимальное: 2016-03-05 14:15:08\n",
      "- максимальное: 2016-04-07 14:58:51\n",
      "-----------\n"
     ]
    }
   ],
   "source": [
    "for item in [\"date_crawled\", \"date_created\", \"last_seen\"]:\n",
    "    print(f\"Признак <{item}> имеет значения:\")\n",
    "    print(f\"- минимальное: {autos_df[item].min()}\")\n",
    "    print(f\"- максимальное: {autos_df[item].max()}\")\n",
    "    print(\"-----------\")"
   ]
  },
  {
   "cell_type": "markdown",
   "id": "32936730-0857-4229-8f7a-15aca63d6c2b",
   "metadata": {},
   "source": [
    "Удалим неинформативные признаки."
   ]
  },
  {
   "cell_type": "code",
   "execution_count": 32,
   "id": "3f91ec89-1608-466c-986a-6ff85dd02604",
   "metadata": {},
   "outputs": [],
   "source": [
    "# перезапись датафрейма\n",
    "autos_df = autos_df.drop(\n",
    "    [\n",
    "        \"postal_code\",\n",
    "        \"registration_month\",\n",
    "        \"number_of_pictures\",\n",
    "        \"date_crawled\",\n",
    "        \"date_created\",\n",
    "        \"last_seen\",\n",
    "    ],\n",
    "    axis=1,\n",
    ").reset_index(drop=True)"
   ]
  },
  {
   "cell_type": "markdown",
   "id": "8619fb7b-28ae-415e-b823-c578529cb74c",
   "metadata": {},
   "source": [
    "В значениях признаков присутствует *\"other\"*\\\n",
    "Определим количество таких значений."
   ]
  },
  {
   "cell_type": "code",
   "execution_count": 33,
   "id": "a8518e4f-9195-41ed-ad34-7ad8caf8839e",
   "metadata": {},
   "outputs": [
    {
     "data": {
      "text/plain": [
       "27526"
      ]
     },
     "execution_count": 33,
     "metadata": {},
     "output_type": "execute_result"
    }
   ],
   "source": [
    "# вывод количества строк датафрейма по условию\n",
    "autos_df.query(\n",
    "    '(vehicle_type == \"other\") | (gearbox == \"other\") | (model == \"other\")'\n",
    ").shape[0]"
   ]
  },
  {
   "cell_type": "markdown",
   "id": "0dbf1ca2-3c4a-4ab2-87d1-accea5c08f02",
   "metadata": {},
   "source": [
    "Заменим это значение на *\"unknown\"*"
   ]
  },
  {
   "cell_type": "code",
   "execution_count": 34,
   "id": "63a5eb38-4698-4892-b9e6-c0c36e47d605",
   "metadata": {},
   "outputs": [],
   "source": [
    "# замена значений в признаках\n",
    "autos_df.loc[\n",
    "    (autos_df[\"vehicle_type\"] == \"other\")\n",
    "    | (autos_df[\"gearbox\"] == \"other\")\n",
    "    | (autos_df[\"model\"] == \"other\"),\n",
    "    [\"vehicle_type\", \"gearbox\", \"model\"],\n",
    "] = \"unknown\""
   ]
  },
  {
   "cell_type": "markdown",
   "id": "f9946ad8-03f2-4eb1-9c57-4b07229f4f9f",
   "metadata": {},
   "source": [
    "***"
   ]
  },
  {
   "cell_type": "markdown",
   "id": "da996314-56b9-4e1b-bb47-d3f3ad87bd21",
   "metadata": {},
   "source": [
    "**ВЫВОД:**\n",
    "\n",
    "1. Был получен диапазон дат по каждому признаку с датой и временем.\n",
    "2. Входные признаки были признаны неинформативными:\n",
    "    - `'postal_code'`\n",
    "    - `'registration_month'`\n",
    "    - `'number_of_pictures'`\n",
    "    - `'date_crawled'`\n",
    "    - `'date_created'`\n",
    "    - `'last_seen'`\n",
    "3. Неинформативные признаки были удалены.\n",
    "4. Было определено количество строк датафрейма со значением признаков *\"other\"* - 27526 строк\n",
    "5. Эти значения были заменены на *\"unknown\"*"
   ]
  },
  {
   "cell_type": "markdown",
   "id": "c802285b-d784-4ee9-84b1-b2cb818707f7",
   "metadata": {},
   "source": [
    "<a id='3'></a>\n",
    "# Исследовательский анализ данных"
   ]
  },
  {
   "cell_type": "markdown",
   "id": "7c852e87-e0e8-4431-9988-8a7f61f9017b",
   "metadata": {},
   "source": [
    "## Анализ количественных признаков датафрейма"
   ]
  },
  {
   "cell_type": "markdown",
   "id": "38f0220b-95f4-486a-8600-c16afdd2e4c5",
   "metadata": {},
   "source": [
    "Проведем статистический анализ признаков"
   ]
  },
  {
   "cell_type": "markdown",
   "id": "a7c0fb62-c06b-4d05-8fa4-789bba3f4a00",
   "metadata": {},
   "source": [
    "Выведем описательную статистику для количественных признаков датафрейма"
   ]
  },
  {
   "cell_type": "code",
   "execution_count": 35,
   "id": "d2630284-4d2e-46cd-bc38-7e3bd636aaa0",
   "metadata": {},
   "outputs": [
    {
     "data": {
      "text/html": [
       "<div>\n",
       "<style scoped>\n",
       "    .dataframe tbody tr th:only-of-type {\n",
       "        vertical-align: middle;\n",
       "    }\n",
       "\n",
       "    .dataframe tbody tr th {\n",
       "        vertical-align: top;\n",
       "    }\n",
       "\n",
       "    .dataframe thead th {\n",
       "        text-align: right;\n",
       "    }\n",
       "</style>\n",
       "<table border=\"1\" class=\"dataframe\">\n",
       "  <thead>\n",
       "    <tr style=\"text-align: right;\">\n",
       "      <th></th>\n",
       "      <th>price</th>\n",
       "      <th>registration_year</th>\n",
       "      <th>power</th>\n",
       "      <th>kilometer</th>\n",
       "    </tr>\n",
       "  </thead>\n",
       "  <tbody>\n",
       "    <tr>\n",
       "      <th>count</th>\n",
       "      <td>350990.000</td>\n",
       "      <td>350990.000</td>\n",
       "      <td>350990.000</td>\n",
       "      <td>350990.000</td>\n",
       "    </tr>\n",
       "    <tr>\n",
       "      <th>mean</th>\n",
       "      <td>4410.798</td>\n",
       "      <td>2004.067</td>\n",
       "      <td>110.267</td>\n",
       "      <td>128574.518</td>\n",
       "    </tr>\n",
       "    <tr>\n",
       "      <th>std</th>\n",
       "      <td>4503.347</td>\n",
       "      <td>79.124</td>\n",
       "      <td>189.082</td>\n",
       "      <td>37470.219</td>\n",
       "    </tr>\n",
       "    <tr>\n",
       "      <th>min</th>\n",
       "      <td>0.000</td>\n",
       "      <td>1000.000</td>\n",
       "      <td>0.000</td>\n",
       "      <td>5000.000</td>\n",
       "    </tr>\n",
       "    <tr>\n",
       "      <th>25%</th>\n",
       "      <td>1099.000</td>\n",
       "      <td>1999.000</td>\n",
       "      <td>69.000</td>\n",
       "      <td>125000.000</td>\n",
       "    </tr>\n",
       "    <tr>\n",
       "      <th>50%</th>\n",
       "      <td>2700.000</td>\n",
       "      <td>2003.000</td>\n",
       "      <td>105.000</td>\n",
       "      <td>150000.000</td>\n",
       "    </tr>\n",
       "    <tr>\n",
       "      <th>75%</th>\n",
       "      <td>6399.000</td>\n",
       "      <td>2008.000</td>\n",
       "      <td>142.000</td>\n",
       "      <td>150000.000</td>\n",
       "    </tr>\n",
       "    <tr>\n",
       "      <th>max</th>\n",
       "      <td>20000.000</td>\n",
       "      <td>9999.000</td>\n",
       "      <td>20000.000</td>\n",
       "      <td>150000.000</td>\n",
       "    </tr>\n",
       "  </tbody>\n",
       "</table>\n",
       "</div>"
      ],
      "text/plain": [
       "            price  registration_year       power   kilometer\n",
       "count  350990.000         350990.000  350990.000  350990.000\n",
       "mean     4410.798           2004.067     110.267  128574.518\n",
       "std      4503.347             79.124     189.082   37470.219\n",
       "min         0.000           1000.000       0.000    5000.000\n",
       "25%      1099.000           1999.000      69.000  125000.000\n",
       "50%      2700.000           2003.000     105.000  150000.000\n",
       "75%      6399.000           2008.000     142.000  150000.000\n",
       "max     20000.000           9999.000   20000.000  150000.000"
      ]
     },
     "execution_count": 35,
     "metadata": {},
     "output_type": "execute_result"
    }
   ],
   "source": [
    "# создание списка количественных признаков\n",
    "autos_num_lst = autos_df.select_dtypes(include=[\"number\"]).columns.to_list()\n",
    "\n",
    "# вывод описательной статистики для количественных признаков датасета\n",
    "autos_df[[*autos_num_lst]].describe().round(3)"
   ]
  },
  {
   "cell_type": "markdown",
   "id": "e377a1d4-44a4-4840-9e91-42cf617194e0",
   "metadata": {},
   "source": [
    "В датафрейме присутствуют аномальные значения количественных признаков:\n",
    " - `'registration_year'` - от 1000 до 9999\n",
    " - `'power'` - до 20000\n",
    "\n",
    "Также в датафрейме присутствуют нулевые значения в признаках:\n",
    " - `'price'`\n",
    " - `'power'`"
   ]
  },
  {
   "cell_type": "markdown",
   "id": "f9aefc86-112a-4b43-bec6-f047ec342ab3",
   "metadata": {},
   "source": [
    "### Предобработка нулевых значений"
   ]
  },
  {
   "cell_type": "markdown",
   "id": "acbe27c1-bec7-405a-9173-4d103f58f404",
   "metadata": {},
   "source": [
    "Так как признак `'price'` является целевым, то нулевые значения в нём недопустимы.\\\n",
    "Найдём нулевые значения признака."
   ]
  },
  {
   "cell_type": "code",
   "execution_count": 36,
   "id": "57e5aec1-c431-4988-bc4e-da5c9c2f4fae",
   "metadata": {},
   "outputs": [
    {
     "data": {
      "text/plain": [
       "10245"
      ]
     },
     "execution_count": 36,
     "metadata": {},
     "output_type": "execute_result"
    }
   ],
   "source": [
    "# вывод количества нулевых значений признака\n",
    "autos_df[autos_df[\"price\"] == 0].shape[0]"
   ]
  },
  {
   "cell_type": "markdown",
   "id": "ec309201-7982-40ad-a643-9c160b53b53a",
   "metadata": {},
   "source": [
    "Это составляет"
   ]
  },
  {
   "cell_type": "code",
   "execution_count": 37,
   "id": "2d84749f-2554-40c4-8c7b-1c1f96c9c955",
   "metadata": {},
   "outputs": [
    {
     "name": "stdout",
     "output_type": "stream",
     "text": [
      "2.92 %\n"
     ]
    }
   ],
   "source": [
    "# вывод процентного соотношения количества нулевых значений признака\n",
    "print(\n",
    "    f'{round((autos_df[autos_df[\"price\"] == 0].shape[0] / autos_df.shape[0] * 100), 2)} %'\n",
    ")"
   ]
  },
  {
   "cell_type": "markdown",
   "id": "9d1a7f47-6b2e-4696-ba2b-8cbb7c53de53",
   "metadata": {},
   "source": [
    "Такое количество целевого признака можно удалить"
   ]
  },
  {
   "cell_type": "code",
   "execution_count": 38,
   "id": "799bb8ee-2e28-4bf9-938b-bb1c94e9ce70",
   "metadata": {},
   "outputs": [],
   "source": [
    "# удаление нулевых значений в признаке\n",
    "autos_df = autos_df.loc[autos_df[\"price\"] != 0].reset_index(drop=True)"
   ]
  },
  {
   "cell_type": "markdown",
   "id": "42739f42-cea4-4d80-a5af-edcd7fb39000",
   "metadata": {},
   "source": [
    "Посмотрим на нулевые значения признака `'power'`"
   ]
  },
  {
   "cell_type": "code",
   "execution_count": 39,
   "id": "9c1c83bd-c3f3-47c6-b647-8451f60df8d9",
   "metadata": {},
   "outputs": [
    {
     "data": {
      "text/plain": [
       "35421"
      ]
     },
     "execution_count": 39,
     "metadata": {},
     "output_type": "execute_result"
    }
   ],
   "source": [
    "# вывод количества нулевых значений признака\n",
    "autos_df[autos_df[\"power\"] == 0].shape[0]"
   ]
  },
  {
   "cell_type": "markdown",
   "id": "75e4199d-ddf2-46d0-bdac-b5eba601e758",
   "metadata": {},
   "source": [
    "Нулевых значений признака `'power'` много для удаления."
   ]
  },
  {
   "cell_type": "markdown",
   "id": "ea43f286-9fe6-4bd7-9eff-7237353aff38",
   "metadata": {},
   "source": [
    "Заполним медианой для каждой уникальной пары признаков `'brand'` и `'model'`\\\n",
    "Так как в признаке много выбросов, перед заполнением сначала обработаем выбросы."
   ]
  },
  {
   "cell_type": "markdown",
   "id": "44d85b19-f982-41ba-b34e-fbb4aa784d1b",
   "metadata": {},
   "source": [
    "***"
   ]
  },
  {
   "cell_type": "markdown",
   "id": "c7f86ed0-b6ba-4524-89de-943753e7619d",
   "metadata": {},
   "source": [
    "**ВЫВОД:**\n",
    "\n",
    "1. Нулевых значений целевого признака `'price'` - 10245, что составляет 2,92% строк датафрейма.\n",
    "2. Строки с нулевыми значениями целевого признака `'price'` были удалены.\n",
    "3. Нулевых значений целевого признака `'power'` - 35421, что много для удаления."
   ]
  },
  {
   "cell_type": "markdown",
   "id": "6921a1cb-60f9-4271-937b-d772e37ee59d",
   "metadata": {},
   "source": [
    "### Предобработка аномальных значений и выбросов"
   ]
  },
  {
   "cell_type": "markdown",
   "id": "cdba3216-1d5a-4abf-bb87-87759a8282ce",
   "metadata": {},
   "source": [
    "Для большей наглядности и выявления выбросов построим диаграммы размаха для количественных признаков датафрейма."
   ]
  },
  {
   "cell_type": "code",
   "execution_count": 40,
   "id": "a15bc9c7-75b6-4573-a194-ef9905113443",
   "metadata": {},
   "outputs": [
    {
     "data": {
      "image/png": "[encoded data removed]",
      "text/plain": [
       "<Figure size 600x300 with 1 Axes>"
      ]
     },
     "metadata": {},
     "output_type": "display_data"
    },
    {
     "data": {
      "image/png": "[encoded data removed]",
      "text/plain": [
       "<Figure size 600x300 with 1 Axes>"
      ]
     },
     "metadata": {},
     "output_type": "display_data"
    },
    {
     "data": {
      "image/png": "[encoded data removed]",
      "text/plain": [
       "<Figure size 600x300 with 1 Axes>"
      ]
     },
     "metadata": {},
     "output_type": "display_data"
    },
    {
     "data": {
      "image/png": "[encoded data removed]",
      "text/plain": [
       "<Figure size 600x300 with 1 Axes>"
      ]
     },
     "metadata": {},
     "output_type": "display_data"
    }
   ],
   "source": [
    "# функция для построения диаграммы размаха\n",
    "def get_boxplot(df, item):\n",
    "    plt.rcParams[\"figure.figsize\"] = (\n",
    "        6,\n",
    "        3,\n",
    "    )  # установка параметров графика: размер фигуры\n",
    "\n",
    "    plt.boxplot(df[item], vert=False)\n",
    "    plt.title(\n",
    "        f\"Диаграмма размаха по признаку\\n <{item}>\",\n",
    "        weight=\"bold\",\n",
    "    )\n",
    "    plt.xlabel(f\"{item}\")\n",
    "    plt.grid(color=\"grey\", axis=\"both\", alpha=0.5)\n",
    "    plt.show()\n",
    "\n",
    "\n",
    "# построение графиков\n",
    "def set_plot(df, item_lst, plot):\n",
    "    for item in item_lst:\n",
    "        plot(df, item)\n",
    "\n",
    "\n",
    "# построение диаграммы размаха для количественных признаков датасета\n",
    "set_plot(autos_df, autos_num_lst, get_boxplot)"
   ]
  },
  {
   "cell_type": "markdown",
   "id": "bae54aa6-21aa-4174-b50d-88c51a9730c5",
   "metadata": {},
   "source": [
    "На диаграммах размаха:\n",
    " - по признаку `'price'` - выше края статистически значимой выборки большое количество выбросов,\\\n",
    "    также присутствуют значения около нуля.\n",
    " - по признаку `'registration_year'` - большое количество выбросов выше и ниже края статистически значимой выборки.\n",
    " - по признаку `'power'` - выше края статистически значимой выборки большое количество выбросов,\\\n",
    "    также присутствуют значения около нуля.\n",
    " - по признаку `'kilometer'` - есть несколько выбросов ниже края статистически значимой выборки."
   ]
  },
  {
   "cell_type": "markdown",
   "id": "c8be1bb9-93b4-4351-91e7-c296b7a846e1",
   "metadata": {},
   "source": [
    "#### Признак *'power'*"
   ]
  },
  {
   "cell_type": "markdown",
   "id": "db59b2bc-361c-4b8a-b42b-f1290175d943",
   "metadata": {},
   "source": [
    "На данный момент известно о пределах мощности автомобилей:\n",
    " - Benz Patent Motorwagen - 0,75 л.с. - самый маломощный автомобиль\n",
    " - Koenigsegg Gemera - 2300 л.с. - самый мощный автомобиль.\n",
    "\n",
    "Найдём количество значений признака `'power'`, выходящее за пределы этих значений."
   ]
  },
  {
   "cell_type": "code",
   "execution_count": 41,
   "id": "2368d1bd-8f0d-4469-899d-ebaf043c87d1",
   "metadata": {},
   "outputs": [
    {
     "data": {
      "text/plain": [
       "35519"
      ]
     },
     "execution_count": 41,
     "metadata": {},
     "output_type": "execute_result"
    }
   ],
   "source": [
    "# вывод количества строк по условию\n",
    "autos_df.query(\"(power < 0.75) | (power > 2300)\").shape[0]"
   ]
  },
  {
   "cell_type": "markdown",
   "id": "cf6cfb5e-e5d1-4a68-940b-c458994b8cdb",
   "metadata": {},
   "source": [
    "Заполним значения медианой для каждой уникальной пары признаков `'brand'` и `'model'`"
   ]
  },
  {
   "cell_type": "code",
   "execution_count": 42,
   "id": "d6ab4efd-64e1-4e39-a516-b155e627756f",
   "metadata": {},
   "outputs": [],
   "source": [
    "# группировка по парам признаков\n",
    "power_grp = autos_df.pivot_table(\n",
    "    values=\"power\", index=[\"brand\", \"model\"], aggfunc=\"median\"\n",
    ")\n",
    "\n",
    "# заполнение значений признака 'power'\n",
    "for index in power_grp.index:\n",
    "    autos_df.loc[\n",
    "        (\n",
    "            (autos_df[\"brand\"] == index[0])\n",
    "            & (autos_df[\"model\"] == index[1])\n",
    "            & ((autos_df[\"power\"] < 0.75) | (autos_df[\"power\"] > 2300))\n",
    "        ),\n",
    "        \"power\",\n",
    "    ] = power_grp.loc[index].median()"
   ]
  },
  {
   "cell_type": "markdown",
   "id": "c671a32a-75b8-470f-a49d-efc3878ec1f4",
   "metadata": {},
   "source": [
    "Проверим количество нулевых значений признака `'power'` после заполнения медианными значениями"
   ]
  },
  {
   "cell_type": "code",
   "execution_count": 43,
   "id": "097f18eb-65ec-4c71-88f5-a04dbe8b0bfd",
   "metadata": {},
   "outputs": [
    {
     "data": {
      "text/plain": [
       "10"
      ]
     },
     "execution_count": 43,
     "metadata": {},
     "output_type": "execute_result"
    }
   ],
   "source": [
    "# вывод количества нулевых значений признака\n",
    "autos_df[autos_df[\"power\"] == 0].shape[0]"
   ]
  },
  {
   "cell_type": "markdown",
   "id": "38470883-379e-4657-80e0-6a4ab4426218",
   "metadata": {},
   "source": [
    "Такое количество нулевых значений признака можно удалить"
   ]
  },
  {
   "cell_type": "code",
   "execution_count": 44,
   "id": "0c22e90e-0b1f-484e-8c86-ea840020d407",
   "metadata": {},
   "outputs": [],
   "source": [
    "# Удаление нулевых значений в признаке\n",
    "autos_df = autos_df.loc[autos_df[\"power\"] != 0].reset_index(drop=True)"
   ]
  },
  {
   "cell_type": "markdown",
   "id": "b55b5548-98f0-4d0f-891b-e42b8d02d273",
   "metadata": {},
   "source": [
    "#### Признак *'registration_year'*"
   ]
  },
  {
   "cell_type": "markdown",
   "id": "940759ba-db70-49a3-84c9-b079bd588696",
   "metadata": {},
   "source": [
    "По признаку `'registration_year'` выявлено большое количество нереальных значений - от 1000 до 9999\\\n",
    "Начало серийного производства автомобилей относится к 1886 году,\\\n",
    "когда Карл Бенц представил Benz Patent-Motorwagen — первый автомобиль с двигателем внутреннего сгорания.\\\n",
    "Определим год 1886 как нижнюю границу.\\\n",
    "Верхнюю границу определим как максимальную дату из признака `'date_created'` - 2016 год.\\\n",
    "Найдём количество значений вне пределов этих границ."
   ]
  },
  {
   "cell_type": "code",
   "execution_count": 45,
   "id": "cb3f9b5a-7e36-4b99-82f5-e1726fa7c311",
   "metadata": {},
   "outputs": [
    {
     "data": {
      "text/plain": [
       "13698"
      ]
     },
     "execution_count": 45,
     "metadata": {},
     "output_type": "execute_result"
    }
   ],
   "source": [
    "# вывод количества строк по условию\n",
    "autos_df.query(\"(registration_year < 1886) | (registration_year > 2016)\").shape[0]"
   ]
  },
  {
   "cell_type": "markdown",
   "id": "4d3470f3-9003-4dc5-8105-8df308333e2a",
   "metadata": {},
   "source": [
    "Количество значений вне пределов границ составляет:"
   ]
  },
  {
   "cell_type": "code",
   "execution_count": 46,
   "id": "77f96057-35e0-4809-bd56-89440842c6f1",
   "metadata": {},
   "outputs": [
    {
     "name": "stdout",
     "output_type": "stream",
     "text": [
      "3.87 %\n"
     ]
    }
   ],
   "source": [
    "# вывод процентного соотношения количества нулевых значений признака к первоначальному размеру датафрейма\n",
    "print(\n",
    "    f'{round(((autos_df.query(\"(registration_year<1886) | (registration_year>2016)\").shape[0]/autos_rows_before)*100), 2)} %'\n",
    ")"
   ]
  },
  {
   "cell_type": "markdown",
   "id": "bcd322d6-1f0b-49e8-a71f-8bb26e202b12",
   "metadata": {},
   "source": [
    "Такое количество строк можно удалить."
   ]
  },
  {
   "cell_type": "code",
   "execution_count": 47,
   "id": "c789b214-9183-4de5-9e0f-10a6bdcb10c2",
   "metadata": {},
   "outputs": [],
   "source": [
    "# перезапись датафрейма по условию\n",
    "autos_df = autos_df.query(\"(registration_year >= 1886) & (registration_year <= 2016)\")"
   ]
  },
  {
   "cell_type": "markdown",
   "id": "99011322",
   "metadata": {},
   "source": [
    "#### Признак *'price'*"
   ]
  },
  {
   "cell_type": "markdown",
   "id": "878b66d8",
   "metadata": {},
   "source": [
    "В целевом признаке присутствуют значения около нуля.\\\n",
    "Проверим, сколько значений приходятся на 1 % значений с нижнего края датафрейма."
   ]
  },
  {
   "cell_type": "code",
   "execution_count": 48,
   "id": "345a2a28",
   "metadata": {},
   "outputs": [
    {
     "data": {
      "text/plain": [
       "2298"
      ]
     },
     "execution_count": 48,
     "metadata": {},
     "output_type": "execute_result"
    }
   ],
   "source": [
    "# объявление нижней границы выборки\n",
    "autos_low = autos_df[\"price\"].quantile(0.01)\n",
    "\n",
    "# запись в новый датафрейм среза данных между объявленных границ\n",
    "autos_df.query(\"price < @autos_low\").shape[0]"
   ]
  },
  {
   "cell_type": "markdown",
   "id": "326501b5",
   "metadata": {},
   "source": [
    "Эти значения также можно удалить"
   ]
  },
  {
   "cell_type": "code",
   "execution_count": 49,
   "id": "cd548aac",
   "metadata": {},
   "outputs": [],
   "source": [
    "# перезапись датафрейма по условию\n",
    "autos_df = autos_df.query(\"price >= @autos_low\")"
   ]
  },
  {
   "cell_type": "markdown",
   "id": "96d57f21",
   "metadata": {},
   "source": [
    "После предобработки данных ещё раз проверим данные на явные дубликаты"
   ]
  },
  {
   "cell_type": "code",
   "execution_count": 50,
   "id": "8d371f15",
   "metadata": {},
   "outputs": [
    {
     "name": "stdout",
     "output_type": "stream",
     "text": [
      "56794\n"
     ]
    }
   ],
   "source": [
    "# вывод количества явных дубликатов датафрейма\n",
    "print(autos_df.duplicated().sum())"
   ]
  },
  {
   "cell_type": "markdown",
   "id": "218814cc",
   "metadata": {},
   "source": [
    "Удалим явные дубликаты"
   ]
  },
  {
   "cell_type": "code",
   "execution_count": 51,
   "id": "f0decfa8",
   "metadata": {},
   "outputs": [],
   "source": [
    "# удаление явных дубликатов\n",
    "autos_df = autos_df.drop_duplicates().reset_index(drop=True)"
   ]
  },
  {
   "cell_type": "markdown",
   "id": "7d60cdeb-416b-4f0d-96b9-8a2cf540ab58",
   "metadata": {},
   "source": [
    "Выведем результат преобработки значений"
   ]
  },
  {
   "cell_type": "code",
   "execution_count": 52,
   "id": "da40962b-23a7-4c8c-b34f-73841d7cbb43",
   "metadata": {},
   "outputs": [
    {
     "name": "stdout",
     "output_type": "stream",
     "text": [
      "Датафрейм содержит 267945 строк.\n",
      "Первоначальный датафрейм содержал 354369 строк.\n",
      "Удалено 86424 строк.\n",
      "Это примерно 24.39% от первоначального размера датафрейма.\n"
     ]
    }
   ],
   "source": [
    "print(f\"Датафрейм содержит {autos_df.shape[0]} строк.\")\n",
    "print(f\"Первоначальный датафрейм содержал {autos_rows_before} строк.\")\n",
    "print(f\"Удалено {autos_rows_before-autos_df.shape[0]} строк.\")\n",
    "print(\n",
    "    f\"Это примерно {round(((1-autos_df.shape[0]/autos_rows_before)*100), 2)}% от первоначального размера датафрейма.\"\n",
    ")"
   ]
  },
  {
   "cell_type": "markdown",
   "id": "b2f6718a-dbd3-426e-9d28-86894a6c588c",
   "metadata": {},
   "source": [
    "Ещё раз выведем описательную статистику для количественных признаков датафрейма"
   ]
  },
  {
   "cell_type": "code",
   "execution_count": 53,
   "id": "99a37122-6fff-48db-9db7-e7a22e2140f3",
   "metadata": {},
   "outputs": [
    {
     "data": {
      "text/html": [
       "<div>\n",
       "<style scoped>\n",
       "    .dataframe tbody tr th:only-of-type {\n",
       "        vertical-align: middle;\n",
       "    }\n",
       "\n",
       "    .dataframe tbody tr th {\n",
       "        vertical-align: top;\n",
       "    }\n",
       "\n",
       "    .dataframe thead th {\n",
       "        text-align: right;\n",
       "    }\n",
       "</style>\n",
       "<table border=\"1\" class=\"dataframe\">\n",
       "  <thead>\n",
       "    <tr style=\"text-align: right;\">\n",
       "      <th></th>\n",
       "      <th>price</th>\n",
       "      <th>registration_year</th>\n",
       "      <th>power</th>\n",
       "      <th>kilometer</th>\n",
       "    </tr>\n",
       "  </thead>\n",
       "  <tbody>\n",
       "    <tr>\n",
       "      <th>count</th>\n",
       "      <td>267945.000</td>\n",
       "      <td>267945.000</td>\n",
       "      <td>267945.000</td>\n",
       "      <td>267945.000</td>\n",
       "    </tr>\n",
       "    <tr>\n",
       "      <th>mean</th>\n",
       "      <td>4817.270</td>\n",
       "      <td>2002.791</td>\n",
       "      <td>121.714</td>\n",
       "      <td>126781.000</td>\n",
       "    </tr>\n",
       "    <tr>\n",
       "      <th>std</th>\n",
       "      <td>4625.273</td>\n",
       "      <td>6.882</td>\n",
       "      <td>64.365</td>\n",
       "      <td>38136.133</td>\n",
       "    </tr>\n",
       "    <tr>\n",
       "      <th>min</th>\n",
       "      <td>100.000</td>\n",
       "      <td>1910.000</td>\n",
       "      <td>1.000</td>\n",
       "      <td>5000.000</td>\n",
       "    </tr>\n",
       "    <tr>\n",
       "      <th>25%</th>\n",
       "      <td>1300.000</td>\n",
       "      <td>1999.000</td>\n",
       "      <td>80.000</td>\n",
       "      <td>125000.000</td>\n",
       "    </tr>\n",
       "    <tr>\n",
       "      <th>50%</th>\n",
       "      <td>3100.000</td>\n",
       "      <td>2003.000</td>\n",
       "      <td>113.000</td>\n",
       "      <td>150000.000</td>\n",
       "    </tr>\n",
       "    <tr>\n",
       "      <th>75%</th>\n",
       "      <td>6950.000</td>\n",
       "      <td>2007.000</td>\n",
       "      <td>149.000</td>\n",
       "      <td>150000.000</td>\n",
       "    </tr>\n",
       "    <tr>\n",
       "      <th>max</th>\n",
       "      <td>20000.000</td>\n",
       "      <td>2016.000</td>\n",
       "      <td>2172.000</td>\n",
       "      <td>150000.000</td>\n",
       "    </tr>\n",
       "  </tbody>\n",
       "</table>\n",
       "</div>"
      ],
      "text/plain": [
       "            price  registration_year       power   kilometer\n",
       "count  267945.000         267945.000  267945.000  267945.000\n",
       "mean     4817.270           2002.791     121.714  126781.000\n",
       "std      4625.273              6.882      64.365   38136.133\n",
       "min       100.000           1910.000       1.000    5000.000\n",
       "25%      1300.000           1999.000      80.000  125000.000\n",
       "50%      3100.000           2003.000     113.000  150000.000\n",
       "75%      6950.000           2007.000     149.000  150000.000\n",
       "max     20000.000           2016.000    2172.000  150000.000"
      ]
     },
     "execution_count": 53,
     "metadata": {},
     "output_type": "execute_result"
    }
   ],
   "source": [
    "# вывод описательной статистики для количественных признаков датасета\n",
    "autos_df[[*autos_num_lst]].describe().round(3)"
   ]
  },
  {
   "cell_type": "markdown",
   "id": "19bf9e8c-1bd9-4c6e-bb6c-0aba142d78ef",
   "metadata": {},
   "source": [
    "В датафрейме 4 количественных признака: 3 входящих и 1 целевой.\\\n",
    "По признаку `'registration_year'` (2002.8 и 2003) среднее и медиана отличаются несущественно.\\\n",
    "По признаку `'power'` (121.7 и 113) среднее и медиана отличаются существенно,\\\n",
    "и стандартное отклонение достаточно большое (64.365).\\\n",
    "По признакам `'price'` (4817.27 и 3100) и `'kilometer'` (126781 и 150000) среднее и медиана имеют существенное отличие.\\\n",
    "И стандартные отклонения по этим признакам тоже велики."
   ]
  },
  {
   "cell_type": "markdown",
   "id": "2caa1d22-c2ef-4fc0-a559-6d3366df12a4",
   "metadata": {},
   "source": [
    "Для количественных признаков датафрейма построим гистограммы распределения"
   ]
  },
  {
   "cell_type": "code",
   "execution_count": 54,
   "id": "d04f2485-81e1-4b93-9358-6089359902c5",
   "metadata": {},
   "outputs": [
    {
     "data": {
      "image/png": "[encoded data removed]",
      "text/plain": [
       "<Figure size 600x300 with 1 Axes>"
      ]
     },
     "metadata": {},
     "output_type": "display_data"
    },
    {
     "data": {
      "image/png": "[encoded data removed]",
      "text/plain": [
       "<Figure size 600x300 with 1 Axes>"
      ]
     },
     "metadata": {},
     "output_type": "display_data"
    },
    {
     "data": {
      "image/png": "[encoded data removed]",
      "text/plain": [
       "<Figure size 600x300 with 1 Axes>"
      ]
     },
     "metadata": {},
     "output_type": "display_data"
    },
    {
     "data": {
      "image/png": "[encoded data removed]",
      "text/plain": [
       "<Figure size 600x300 with 1 Axes>"
      ]
     },
     "metadata": {},
     "output_type": "display_data"
    }
   ],
   "source": [
    "# функция для построения гистограммы\n",
    "def get_hist(df, item):\n",
    "    mean_value = df[item].mean()\n",
    "    median_value = df[item].median()\n",
    "    df[item].hist(bins=30)\n",
    "    plt.title(f\"Распределение признака\\n <{item}>\", weight=\"bold\")\n",
    "    plt.xlabel(f\"Признак <{item}>\")\n",
    "    plt.ylabel(\"Количество\")\n",
    "    plt.axvline(x=mean_value, label=\"mean\", color=\"b\", linestyle=\":\")\n",
    "    plt.axvline(x=median_value, label=\"median\", color=\"r\", linestyle=\"--\")\n",
    "    plt.legend()\n",
    "    plt.show()\n",
    "\n",
    "\n",
    "# построение гистограммы\n",
    "set_plot(\n",
    "    autos_df,\n",
    "    autos_num_lst,\n",
    "    get_hist,\n",
    ")"
   ]
  },
  {
   "cell_type": "markdown",
   "id": "fb698330-8218-42c5-b4e6-b50d3a61aa18",
   "metadata": {},
   "source": [
    "На гистограммах распределения:\n",
    " - по признаку `'price'` - распределение смещённое, с большим \"хвостом\" справа\n",
    " - по признаку `'registration_year'` - распределение смещённое, с большим \"хвостом\" слева\n",
    " - по признаку `'power'` - распределение смещённое, с большим \"хвостом\" справа"
   ]
  },
  {
   "cell_type": "markdown",
   "id": "dc302c9a-a37f-453e-b105-b9eda8bb2968",
   "metadata": {},
   "source": [
    "***"
   ]
  },
  {
   "cell_type": "markdown",
   "id": "4cf9a38f-ccc5-4e92-9961-52907f296e55",
   "metadata": {},
   "source": [
    "**ВЫВОД:**\n",
    "\n",
    "1. Для большей наглядности и выявления выбросов были построены диаграммы размаха для количественных признаков датафрейма.\n",
    "2. На диаграммах размаха:\n",
    "   - по признаку `'price'` - выше края статистически значимой выборки большое количество выбросов,\\\n",
    "      также присутствуют значения около нуля.\n",
    "   - по признаку `'registration_year'` - большое количество выбросов выше и ниже края статистически значимой выборки.\n",
    "   - по признаку `'power'` - выше края статистически значимой выборки большое количество выбросов,\\\n",
    "      также присутствуют значения около нуля.\n",
    "   - по признаку `'kilometer'` - есть несколько выбросов ниже края статистически значимой выборки.\n",
    "3. Были найдены объективные пределы мощностей для признака `'power'` - 0.75 л.с. и 2300 л.с.\n",
    "4. Значения признака `'power'` вне указанных пределов были заполнены медианой для каждой уникальной пары признаков `'brand'` и `'model'`\n",
    "5. Оставшиеся нулевые значения признака `'power'` были удалены.\n",
    "6. По признаку `'registration_year'` выявлено большое количество нереальных значений - 13698,\n",
    "    что составляет 3.87 % от первоначального размера датафрейма.\n",
    "7. Строки с нереальными значениями признака `'registration_year'` были удалены.\n",
    "8. В целевом признаке `'price'` присутствуют значения около нуля.\n",
    "9. На 1 % значений с нижнего края датафрейма в признаке `'price'` приходится 2298 строк.\n",
    "10. Эти строки были удалены.\n",
    "11. После предобработки данных была проведена проверка на явные дубликаты. 56794 строк удалено.\n",
    "8. Был выведен результат предобработки:\\\n",
    "    Датафрейм содержит 267945 строк.\\\n",
    "    Первоначальный датафрейм содержал 354369 строк.\\\n",
    "    Удалено 86424 строк.\\\n",
    "    Это примерно 24.39% от первоначального размера датафрейма.\n",
    "9. После преобработки была выведена описательная статистика для количественных признаков датафрейма:\\\n",
    "    По признаку `'registration_year'` (2002.8 и 2003) среднее и медиана отличаются несущественно.\\\n",
    "    По признаку `'power'` (121.7 и 113) среднее и медиана отличаются существенно,\\\n",
    "    и стандартное отклонение достаточно большое (64.365).\\\n",
    "    По признакам `'price'` (4817.27 и 3100) и `'kilometer'` (126781 и 150000) среднее и медиана имеют существенное отличие.\\\n",
    "    И стандартные отклонения по этим признакам тоже велики.\n",
    "10. Для количественных признаков датафрейма были построены гистограммы распределения.\n",
    "11. На гистограммах распределения:\n",
    "    - по признаку `'price'` - распределение смещённое, с большим \"хвостом\" справа\n",
    "    - по признаку `'registration_year'` - распределение смещённое, с большим \"хвостом\" слева\n",
    "    - по признаку `'power'` - распределение смещённое, с большим \"хвостом\" справа"
   ]
  },
  {
   "cell_type": "markdown",
   "id": "b971679a-efce-4a48-83bb-030a6ac1f53e",
   "metadata": {},
   "source": [
    "## Анализ категориальных признаков датафрейма"
   ]
  },
  {
   "cell_type": "markdown",
   "id": "a9ccd251-934c-4d51-a98f-6e9c4f6a6a26",
   "metadata": {},
   "source": [
    "Выведем описательную статистику для категориальных признаков датасета"
   ]
  },
  {
   "cell_type": "code",
   "execution_count": 55,
   "id": "40f40931-924c-4368-a0ac-b677e9b9c5f0",
   "metadata": {},
   "outputs": [
    {
     "data": {
      "text/html": [
       "<div>\n",
       "<style scoped>\n",
       "    .dataframe tbody tr th:only-of-type {\n",
       "        vertical-align: middle;\n",
       "    }\n",
       "\n",
       "    .dataframe tbody tr th {\n",
       "        vertical-align: top;\n",
       "    }\n",
       "\n",
       "    .dataframe thead th {\n",
       "        text-align: right;\n",
       "    }\n",
       "</style>\n",
       "<table border=\"1\" class=\"dataframe\">\n",
       "  <thead>\n",
       "    <tr style=\"text-align: right;\">\n",
       "      <th></th>\n",
       "      <th>vehicle_type</th>\n",
       "      <th>gearbox</th>\n",
       "      <th>model</th>\n",
       "      <th>fuel_type</th>\n",
       "      <th>brand</th>\n",
       "      <th>repaired</th>\n",
       "    </tr>\n",
       "  </thead>\n",
       "  <tbody>\n",
       "    <tr>\n",
       "      <th>count</th>\n",
       "      <td>267945</td>\n",
       "      <td>267945</td>\n",
       "      <td>267945</td>\n",
       "      <td>267945</td>\n",
       "      <td>267945</td>\n",
       "      <td>267945</td>\n",
       "    </tr>\n",
       "    <tr>\n",
       "      <th>unique</th>\n",
       "      <td>8</td>\n",
       "      <td>3</td>\n",
       "      <td>249</td>\n",
       "      <td>7</td>\n",
       "      <td>39</td>\n",
       "      <td>2</td>\n",
       "    </tr>\n",
       "    <tr>\n",
       "      <th>top</th>\n",
       "      <td>sedan</td>\n",
       "      <td>manual</td>\n",
       "      <td>unknown</td>\n",
       "      <td>petrol</td>\n",
       "      <td>volkswagen</td>\n",
       "      <td>no</td>\n",
       "    </tr>\n",
       "    <tr>\n",
       "      <th>freq</th>\n",
       "      <td>73946</td>\n",
       "      <td>193966</td>\n",
       "      <td>23640</td>\n",
       "      <td>181215</td>\n",
       "      <td>53622</td>\n",
       "      <td>238697</td>\n",
       "    </tr>\n",
       "  </tbody>\n",
       "</table>\n",
       "</div>"
      ],
      "text/plain": [
       "       vehicle_type gearbox    model fuel_type       brand repaired\n",
       "count        267945  267945   267945    267945      267945   267945\n",
       "unique            8       3      249         7          39        2\n",
       "top           sedan  manual  unknown    petrol  volkswagen       no\n",
       "freq          73946  193966    23640    181215       53622   238697"
      ]
     },
     "execution_count": 55,
     "metadata": {},
     "output_type": "execute_result"
    }
   ],
   "source": [
    "# объявление списка категориальных признаков\n",
    "autos_cat_lst = autos_df.select_dtypes(exclude=[\"number\"]).columns.to_list()\n",
    "\n",
    "# вывод описательной статистики для категориальных признаков датасета\n",
    "autos_df[[*autos_cat_lst]].describe().round(3)"
   ]
  },
  {
   "cell_type": "markdown",
   "id": "8bd0b2ae-ff46-401e-9ab6-749f986d7b5b",
   "metadata": {},
   "source": [
    "В датафрейме 6 категориальных признаков:\\\n",
    "один из них `'repaired'` - бинарный."
   ]
  },
  {
   "cell_type": "markdown",
   "id": "3c91772d-30c6-4225-a9cb-d08e2dd7d655",
   "metadata": {},
   "source": [
    "Для категориальных признаков датасета построим столбчатые диаграммы"
   ]
  },
  {
   "cell_type": "code",
   "execution_count": 56,
   "id": "bbeed120-58df-442d-b8ed-f08e6149edfc",
   "metadata": {},
   "outputs": [
    {
     "data": {
      "image/png": "[encoded data removed]",
      "text/plain": [
       "<Figure size 600x300 with 1 Axes>"
      ]
     },
     "metadata": {},
     "output_type": "display_data"
    },
    {
     "data": {
      "image/png": "[encoded data removed]",
      "text/plain": [
       "<Figure size 600x300 with 1 Axes>"
      ]
     },
     "metadata": {},
     "output_type": "display_data"
    },
    {
     "data": {
      "image/png": "[encoded data removed]",
      "text/plain": [
       "<Figure size 600x300 with 1 Axes>"
      ]
     },
     "metadata": {},
     "output_type": "display_data"
    }
   ],
   "source": [
    "# функция для построения столбчатой диаграммы\n",
    "def get_countplot(df, item):\n",
    "    countplt, ax = plt.subplots()\n",
    "    sns.countplot(x=item, data=df)\n",
    "    plt.title(f\"Распределение признака <{item}>\", weight=\"bold\")\n",
    "    plt.xlabel(f\"Признак <{item}>\")\n",
    "    plt.ylabel(\"Количество значений\")\n",
    "    for rect in ax.patches:\n",
    "        (\n",
    "            ax.text(\n",
    "                rect.get_x() + rect.get_width() / 2,\n",
    "                rect.get_height() + 0.75,\n",
    "                rect.get_height(),\n",
    "                horizontalalignment=\"center\",\n",
    "                fontsize=11,\n",
    "            )\n",
    "        )\n",
    "    plt.show()\n",
    "\n",
    "\n",
    "# построение столбчатой диаграммы\n",
    "set_plot(autos_df, [\"vehicle_type\", \"gearbox\", \"fuel_type\"], get_countplot)"
   ]
  },
  {
   "cell_type": "markdown",
   "id": "b037cca8-5c18-4c9f-92d0-88e8ec5bd200",
   "metadata": {},
   "source": [
    "По всем признакам наблюдается дисбаланс классов."
   ]
  },
  {
   "cell_type": "markdown",
   "id": "56e01807-c9c9-443d-825d-231ca61b1319",
   "metadata": {},
   "source": [
    "***"
   ]
  },
  {
   "cell_type": "markdown",
   "id": "e9882d8b-fc56-44e4-bc21-721cde0996e2",
   "metadata": {},
   "source": [
    "**ВЫВОД:**\n",
    "\n",
    "1. В датафрейме 6 категориальных признаков:\\\n",
    "   один из них `'repaired'` - бинарный.\n",
    "2. Для категориальных признаков датасета были построены столбчатые диаграммы.\n",
    "3. По всем признакам наблюдается дисбаланс классов."
   ]
  },
  {
   "cell_type": "markdown",
   "id": "96fe3ef0",
   "metadata": {},
   "source": [
    "## Корреляционный анализ"
   ]
  },
  {
   "cell_type": "markdown",
   "id": "bdaf2f0b-9bc3-4545-9f17-466c8f251cf4",
   "metadata": {},
   "source": [
    "Построим матрицу корреляции Фи"
   ]
  },
  {
   "cell_type": "code",
   "execution_count": 57,
   "id": "e1ef2a3b-71fc-4ea5-a6d3-4b7072c4873f",
   "metadata": {},
   "outputs": [
    {
     "data": {
      "image/png": "[encoded data removed]",
      "text/plain": [
       "<Figure size 1500x1200 with 2 Axes>"
      ]
     },
     "metadata": {},
     "output_type": "display_data"
    }
   ],
   "source": [
    "# вычисление коэффициентов корреляции phi для датафрейма df\n",
    "phik_overview = autos_df.phik_matrix(interval_cols=autos_num_lst)\n",
    "\n",
    "# визуализация тепловой карты коэффициентов корреляции\n",
    "plot_correlation_matrix(\n",
    "    phik_overview.values,\n",
    "    x_labels=phik_overview.columns,\n",
    "    y_labels=phik_overview.index,\n",
    "    title=r\"correlation $\\phi_K$\",\n",
    "    fontsize_factor=1.5,\n",
    "    figsize=(15, 12),\n",
    ")"
   ]
  },
  {
   "cell_type": "markdown",
   "id": "9e1ecfed",
   "metadata": {},
   "source": [
    "Между целевым признаком `'price'` и входными наблюдается взаимозависимость согласно шкале Чеддока:\n",
    "- с признаком `'model'` - заметная\n",
    "- с признаком `'registration_year'` - заметная\n",
    "- с признаком `'repaired'` - умеренная\n",
    "- с признаком `'brand'` - умеренная\n",
    "- с признаком `'power'` - умеренная\n",
    "- с признаком `'fuel_type'` - слабая\n",
    "- с признаком `'kilometer'` - слабая\n",
    "- с признаком `'gearbox'` - слабая\n",
    "- с признаком `'vehicle_type'` - слабая\n",
    "\n",
    "Также наблюдается взаимозависимость между входными признаками:\n",
    "- `'model'` и `'brand'` - весьма высокая\n",
    "- `'model'` и `'gearbox'` - весьма высокая\n",
    "- `'model'` и `'vehicle_type'` - весьма высокая\n",
    "- `'gearbox'` и `'vehicle_type'` - высокая\n",
    "- `'brand'` и `'gearbox'` - заметная\n",
    "- `'brand'` и `'vehicle_type'` - заметная\n",
    "- `'model'` и `'registration_year'` - заметная\n",
    "- `'model'` и `'fuel_type'` - заметная\n",
    "\n",
    "Между признаками есть мультиколлинеарность:\n",
    "- `'model'` и `'brand'`\n",
    "- `'model'` и `'gearbox'`\n",
    "- `'model'` и `'vehicle_type'`"
   ]
  },
  {
   "cell_type": "markdown",
   "id": "2f27b31e-bb04-4b22-bfbf-9a0b34c6779e",
   "metadata": {},
   "source": [
    "<a id='4'></a>\n",
    "# Подготовка данных"
   ]
  },
  {
   "cell_type": "markdown",
   "id": "86cf6eba-c976-4c79-880e-0aaedc63ba31",
   "metadata": {},
   "source": [
    "Перед подготовкой удалим лишние переменные"
   ]
  },
  {
   "cell_type": "code",
   "execution_count": 58,
   "id": "30b944ef-4188-48ab-ac45-3358e4508688",
   "metadata": {},
   "outputs": [],
   "source": [
    "del autos_cat_lst\n",
    "del autos_num_lst\n",
    "del get_read_file\n",
    "del autos_rows_before\n",
    "del brand_grp\n",
    "del general_path\n",
    "del get_boxplot\n",
    "del get_countplot\n",
    "del get_hist\n",
    "del get_str_values\n",
    "del i\n",
    "del index\n",
    "del item\n",
    "del model_grp\n",
    "del power_grp\n",
    "del rename_columns\n",
    "del set_plot\n",
    "del user_path"
   ]
  },
  {
   "cell_type": "markdown",
   "id": "76f5c861-eab4-4821-b34d-f552f6b46e45",
   "metadata": {},
   "source": [
    "Так как тагрет - количественный признак, будем решать задачу регрессии."
   ]
  },
  {
   "cell_type": "markdown",
   "id": "d97ea037-c87b-4b00-be05-9e9039426f30",
   "metadata": {},
   "source": [
    "Для построения модели используем пайплайны.\\\n",
    "Для подготовки данных будем использовать ColumnTransformer.\\\n",
    "Для кодирования категориальных признаков будем использовать кодировщики:\n",
    " - OneHotEncoder()\n",
    " - OrdinalEncoder()\n",
    "\n",
    "Для масштабирования количественных признаков будем использовать скейлеры:\n",
    " - MinMaxScaler()\n",
    " - StandardScaler()\n",
    " - RobustScaler()\n",
    " - и аргумент \"passthrough\" - вариант без масштабирования."
   ]
  },
  {
   "cell_type": "markdown",
   "id": "ae5f8ca8-27bb-4771-bdb8-a62199386852",
   "metadata": {},
   "source": [
    "Разделим тренировочный датафрейм."
   ]
  },
  {
   "cell_type": "code",
   "execution_count": 59,
   "id": "7d19422a-70a4-4471-b4eb-32cca034d1c9",
   "metadata": {},
   "outputs": [],
   "source": [
    "# разделение датафрейма на целевой и входные признаки\n",
    "X = autos_df.drop(columns=\"price\")\n",
    "y = autos_df[\"price\"]"
   ]
  },
  {
   "cell_type": "code",
   "execution_count": 60,
   "id": "6c71de43-2198-4c83-9deb-56e2d4793a31",
   "metadata": {},
   "outputs": [],
   "source": [
    "# формирование тренировочной и тестовой выборок\n",
    "X_train, X_test, y_train, y_test = train_test_split(\n",
    "    X, y, test_size=0.25, random_state=RANDOM_STATE\n",
    ")"
   ]
  },
  {
   "cell_type": "markdown",
   "id": "3ee770f3-a63f-4dc1-9270-f48647b17d18",
   "metadata": {},
   "source": [
    "Проверим разделение"
   ]
  },
  {
   "cell_type": "code",
   "execution_count": 61,
   "id": "daa5512c-1746-4d5a-b812-2071b23e1e1e",
   "metadata": {},
   "outputs": [
    {
     "name": "stdout",
     "output_type": "stream",
     "text": [
      "Размер обучающей (200958, 9) и тестовой (66987, 9) выборок.\n",
      "Размер таргета обучающей (200958,) и тестовой (66987,) выборок.\n"
     ]
    }
   ],
   "source": [
    "print(f\"Размер обучающей {X_train.shape} и тестовой {X_test.shape} выборок.\")\n",
    "print(f\"Размер таргета обучающей {y_train.shape} и тестовой {y_test.shape} выборок.\")"
   ]
  },
  {
   "cell_type": "markdown",
   "id": "c9d8bb5d-4d7a-4983-b0b2-cb4a05b1ff54",
   "metadata": {},
   "source": [
    "Преобразуем таргеты тестовой и тренировочной части в массивы."
   ]
  },
  {
   "cell_type": "code",
   "execution_count": 62,
   "id": "51b55039-d69a-47f3-9f32-5b4b51f666aa",
   "metadata": {},
   "outputs": [],
   "source": [
    "# преобразование в массивы NumPy\n",
    "y_train = y_train.to_numpy()\n",
    "y_test = y_test.to_numpy()"
   ]
  },
  {
   "cell_type": "markdown",
   "id": "7260a816-566d-4ec8-95a4-7b783e22b96f",
   "metadata": {},
   "source": [
    "Создадим списки входных признаков для кодирования и масштабирования."
   ]
  },
  {
   "cell_type": "code",
   "execution_count": 63,
   "id": "38eadea8-2a64-4461-b940-f0a9c5709f47",
   "metadata": {},
   "outputs": [],
   "source": [
    "# создание списков с признаками\n",
    "ohe_columns = [\"vehicle_type\", \"gearbox\", \"model\", \"fuel_type\", \"brand\"]\n",
    "ord_columns = [\"repaired\"]\n",
    "num_columns = X.select_dtypes(include=[\"number\"]).columns.to_list()"
   ]
  },
  {
   "cell_type": "code",
   "execution_count": 64,
   "id": "69056ea1-e9df-48dc-9efe-17736001bb60",
   "metadata": {},
   "outputs": [],
   "source": [
    "# создание pipeline для подготовки признаков из списка ohe_columns\n",
    "ohe_pipe = Pipeline(\n",
    "    [\n",
    "        (\n",
    "            \"simpleImputer_ohe\",\n",
    "            SimpleImputer(missing_values=np.nan, strategy=\"most_frequent\"),\n",
    "        ),\n",
    "        (\n",
    "            \"ohe\",\n",
    "            OneHotEncoder(drop=\"first\", handle_unknown=\"ignore\", sparse_output=False),\n",
    "        ),\n",
    "    ]\n",
    ")"
   ]
  },
  {
   "cell_type": "code",
   "execution_count": 65,
   "id": "b3259f37-ccee-40b9-8df7-e04ca9246c43",
   "metadata": {},
   "outputs": [],
   "source": [
    "# создание pipeline для подготовки признаков из списка ord_columns\n",
    "ord_pipe = Pipeline(\n",
    "    [\n",
    "        (\n",
    "            \"simpleImputer_before_ord\",\n",
    "            SimpleImputer(missing_values=np.nan, strategy=\"most_frequent\"),\n",
    "        ),\n",
    "        (\n",
    "            \"ord\",\n",
    "            OrdinalEncoder(\n",
    "                categories=[\n",
    "                    [\"no\", \"yes\"],\n",
    "                ],\n",
    "                handle_unknown=\"use_encoded_value\",\n",
    "                unknown_value=np.nan,\n",
    "            ),\n",
    "        ),\n",
    "        (\n",
    "            \"simpleImputer_after_ord\",\n",
    "            SimpleImputer(missing_values=np.nan, strategy=\"most_frequent\"),\n",
    "        ),\n",
    "    ]\n",
    ")"
   ]
  },
  {
   "cell_type": "code",
   "execution_count": 66,
   "id": "324f0a8c-11ac-42be-8a92-8a22e37bff90",
   "metadata": {},
   "outputs": [],
   "source": [
    "# создание общего pipeline для подготовки данных\n",
    "data_preprocessor = ColumnTransformer(\n",
    "    [\n",
    "        (\"ohe\", ohe_pipe, ohe_columns),\n",
    "        (\"ord\", ord_pipe, ord_columns),\n",
    "        (\"num\", MinMaxScaler(), num_columns),\n",
    "    ],\n",
    "    remainder=\"passthrough\",\n",
    ")"
   ]
  },
  {
   "cell_type": "markdown",
   "id": "5bb79fd4-fe85-472e-9d22-72881a2d2246",
   "metadata": {},
   "source": [
    "***"
   ]
  },
  {
   "cell_type": "markdown",
   "id": "0ae3152f-8d31-49cb-b178-f814d493bb57",
   "metadata": {},
   "source": [
    "**ВЫВОД:**\n",
    "\n",
    "1. Для подготовки данных были выбраны кодировщики и скейлеры.\n",
    "2. Датафрейм был разделён на выборки: тренировочную и тестовую.\n",
    "3. Был создан пайплайн для подготовки данных"
   ]
  },
  {
   "cell_type": "markdown",
   "id": "c1cf8f4d-9507-4267-8d22-d9ccef0022de",
   "metadata": {},
   "source": [
    "<a id='5'></a>\n",
    "# Обучение моделей"
   ]
  },
  {
   "cell_type": "markdown",
   "id": "4887b123-93cd-468a-8bc6-6801f263002e",
   "metadata": {},
   "source": [
    "Будем обучать модели с гиперпараметрами:\n",
    " - LinearRegression() (как dummy-модель для проверки на адекватность)\n",
    " - RandomForestRegressor() с ***max_depth***, ***n_estimators***\n",
    " - LGBMRegressor() с ***max_depth***, ***num_leaves***\n",
    " - GradientBoostingRegressor() с ***max_depth***, ***min_samples_split***\n",
    "\n",
    "Для подбора лучшей модели с гиперпараметрами будем использовать\n",
    " - RandomizedSearchCV()\n",
    "\n",
    "Для оценки качества работы модели применим метрику RMSE"
   ]
  },
  {
   "cell_type": "markdown",
   "id": "5135caa4-a460-44d7-8a81-87efb4890db8",
   "metadata": {},
   "source": [
    "Создадим итоговый пайплайн"
   ]
  },
  {
   "cell_type": "code",
   "execution_count": 67,
   "id": "4eced534-6a28-4349-986e-a4acb4cbdee4",
   "metadata": {},
   "outputs": [],
   "source": [
    "# создание итогового pipeline с инициализацией модели\n",
    "pipe_final = Pipeline(\n",
    "    [\n",
    "        (\"preprocessor\", data_preprocessor),\n",
    "        (\"models\", LinearRegression()),\n",
    "    ]\n",
    ")"
   ]
  },
  {
   "cell_type": "markdown",
   "id": "aa4341d0-b7da-45ed-a6ca-eaeb55f6850a",
   "metadata": {},
   "source": [
    "Опишем модели с гиперпараметрами"
   ]
  },
  {
   "cell_type": "code",
   "execution_count": 68,
   "id": "e6124f01-033a-4be9-9f9c-668f17bdfcff",
   "metadata": {},
   "outputs": [],
   "source": [
    "param_grid = [\n",
    "    # словарь для модели LinearRegression()\n",
    "    {\n",
    "        \"models\": [LinearRegression()],\n",
    "        \"preprocessor__ord\": [OneHotEncoder(drop=\"first\", sparse_output=False)],\n",
    "        \"preprocessor__num\": [\n",
    "            StandardScaler(),\n",
    "            MinMaxScaler(),\n",
    "            RobustScaler(),\n",
    "            \"passthrough\",\n",
    "        ],\n",
    "    },\n",
    "    # словарь для модели RandomForestRegressor()\n",
    "    {\n",
    "        \"models\": [RandomForestRegressor(random_state=RANDOM_STATE)],\n",
    "        \"models__max_depth\": range(2, 20, 2),\n",
    "        \"models__n_estimators\": range(3, 20, 2),\n",
    "        \"preprocessor__num\": [\n",
    "            StandardScaler(),\n",
    "            MinMaxScaler(),\n",
    "            RobustScaler(),\n",
    "            \"passthrough\",\n",
    "        ],\n",
    "    },\n",
    "    # словарь для модели LGBMRegressor()\n",
    "    {\n",
    "        \"models\": [LGBMRegressor(random_state=RANDOM_STATE)],\n",
    "        \"models__max_depth\": range(3, 10, 3),\n",
    "        \"models__num_leaves\": range(2, 10),\n",
    "        \"preprocessor__num\": [\n",
    "            StandardScaler(),\n",
    "            MinMaxScaler(),\n",
    "            RobustScaler(),\n",
    "            \"passthrough\",\n",
    "        ],\n",
    "    },\n",
    "    # словарь для модели GradientBoostingRegressor()\n",
    "    {\n",
    "        \"models\": [GradientBoostingRegressor()],\n",
    "        \"models__max_depth\": range(3, 7, 3),\n",
    "        \"models__min_samples_split\": range(4, 11, 2),\n",
    "        \"models__n_estimators\": range(11, 20, 2),\n",
    "        \"preprocessor__num\": [\n",
    "            StandardScaler(),\n",
    "            MinMaxScaler(),\n",
    "            RobustScaler(),\n",
    "            \"passthrough\",\n",
    "        ],\n",
    "    },\n",
    "]"
   ]
  },
  {
   "cell_type": "markdown",
   "id": "85514400-5fc0-4319-8364-1fa5eb6813bc",
   "metadata": {},
   "source": [
    "## LinearRegression()"
   ]
  },
  {
   "cell_type": "markdown",
   "id": "ec39edd1-3740-4b48-8586-4b2dc2aa6b3b",
   "metadata": {},
   "source": [
    "Обучим модель **LinearRegression()**, получим её предсказания и рассчитаем метрику"
   ]
  },
  {
   "cell_type": "code",
   "execution_count": 69,
   "id": "a5b305b2-b5d3-4985-bbb4-279d60b9ae67",
   "metadata": {},
   "outputs": [
    {
     "name": "stdout",
     "output_type": "stream",
     "text": [
      "Лучшая модель и её параметры:\n",
      "\n",
      " Pipeline(steps=[('preprocessor',\n",
      "                 ColumnTransformer(remainder='passthrough',\n",
      "                                   transformers=[('ohe',\n",
      "                                                  Pipeline(steps=[('simpleImputer_ohe',\n",
      "                                                                   SimpleImputer(strategy='most_frequent')),\n",
      "                                                                  ('ohe',\n",
      "                                                                   OneHotEncoder(drop='first',\n",
      "                                                                                 handle_unknown='ignore',\n",
      "                                                                                 sparse_output=False))]),\n",
      "                                                  ['vehicle_type', 'gearbox',\n",
      "                                                   'model', 'fuel_type',\n",
      "                                                   'brand']),\n",
      "                                                 ('ord',\n",
      "                                                  OneHotEncoder(drop='first',\n",
      "                                                                sparse_output=False),\n",
      "                                                  ['repaired']),\n",
      "                                                 ('num', MinMaxScaler(),\n",
      "                                                  ['registration_year', 'power',\n",
      "                                                   'kilometer'])])),\n",
      "                ('models', LinearRegression())])\n",
      "Качество модели по метрике RMSE - 2902.686\n"
     ]
    }
   ],
   "source": [
    "# подбор лучшей модели с гиперпараметрами\n",
    "rs_LinearRegression = RandomizedSearchCV(\n",
    "    pipe_final,\n",
    "    param_grid[0],\n",
    "    scoring=\"neg_root_mean_squared_error\",\n",
    "    n_iter=2,\n",
    "    random_state=RANDOM_STATE,\n",
    "    n_jobs=-1,\n",
    ")\n",
    "rs_LinearRegression.fit(X_train, y_train)\n",
    "\n",
    "print(\"Лучшая модель и её параметры:\\n\\n\", rs_LinearRegression.best_estimator_)\n",
    "print(\n",
    "    f\"Качество модели по метрике RMSE - {round(rs_LinearRegression.best_score_, 3)*-1}\"\n",
    ")"
   ]
  },
  {
   "cell_type": "markdown",
   "id": "fc746b0d-a131-4f3f-9734-9f7451b8287f",
   "metadata": {},
   "source": [
    "Проверим скорость обучения созданной модели **LinearRegression()**"
   ]
  },
  {
   "cell_type": "code",
   "execution_count": 70,
   "id": "97bfac37-9769-42dd-b209-742a928c9704",
   "metadata": {},
   "outputs": [
    {
     "name": "stdout",
     "output_type": "stream",
     "text": [
      "1min 31s ± 335 ms per loop (mean ± std. dev. of 2 runs, 2 loops each)\n"
     ]
    }
   ],
   "source": [
    "%%timeit -n 2 -r 2\n",
    "rs_LinearRegression.fit(X_train, y_train)"
   ]
  },
  {
   "cell_type": "markdown",
   "id": "7d2312a9-18f7-4058-a0c0-608cd99a79eb",
   "metadata": {},
   "source": [
    "Проверим скорость работы созданной модели **LinearRegression()** с заданными гиперпараметрами"
   ]
  },
  {
   "cell_type": "code",
   "execution_count": 71,
   "id": "7b15f0a4-b416-43ab-8d86-d27101861e52",
   "metadata": {},
   "outputs": [
    {
     "name": "stdout",
     "output_type": "stream",
     "text": [
      "1.27 s ± 4.09 ms per loop (mean ± std. dev. of 2 runs, 2 loops each)\n"
     ]
    }
   ],
   "source": [
    "%%timeit -n 2 -r 2\n",
    "rs_LinearRegression.predict(X_train)"
   ]
  },
  {
   "cell_type": "markdown",
   "id": "4efd5aee-e4ae-4065-abfb-5d3759945d26",
   "metadata": {},
   "source": [
    "## RandomForestRegressor()"
   ]
  },
  {
   "cell_type": "markdown",
   "id": "38683246-c1a6-4544-a3cc-5ceff3cf99ad",
   "metadata": {},
   "source": [
    "Обучим модель **RandomForestRegressor()**, подберём гиперпараметры, получим её предсказания и рассчитаем метрику"
   ]
  },
  {
   "cell_type": "code",
   "execution_count": 72,
   "id": "a7668226-c7d3-42e8-8257-d8aa9f54a8a5",
   "metadata": {},
   "outputs": [
    {
     "name": "stdout",
     "output_type": "stream",
     "text": [
      "Лучшая модель и её параметры:\n",
      "\n",
      " Pipeline(steps=[('preprocessor',\n",
      "                 ColumnTransformer(remainder='passthrough',\n",
      "                                   transformers=[('ohe',\n",
      "                                                  Pipeline(steps=[('simpleImputer_ohe',\n",
      "                                                                   SimpleImputer(strategy='most_frequent')),\n",
      "                                                                  ('ohe',\n",
      "                                                                   OneHotEncoder(drop='first',\n",
      "                                                                                 handle_unknown='ignore',\n",
      "                                                                                 sparse_output=False))]),\n",
      "                                                  ['vehicle_type', 'gearbox',\n",
      "                                                   'model', 'fuel_type',\n",
      "                                                   'brand']),\n",
      "                                                 ('ord',\n",
      "                                                  Pipeline(steps=[('simpleImputer_...\n",
      "                                                                   SimpleImputer(strategy='most_frequent')),\n",
      "                                                                  ('ord',\n",
      "                                                                   OrdinalEncoder(categories=[['no',\n",
      "                                                                                               'yes']],\n",
      "                                                                                  handle_unknown='use_encoded_value',\n",
      "                                                                                  unknown_value=nan)),\n",
      "                                                                  ('simpleImputer_after_ord',\n",
      "                                                                   SimpleImputer(strategy='most_frequent'))]),\n",
      "                                                  ['repaired']),\n",
      "                                                 ('num', RobustScaler(),\n",
      "                                                  ['registration_year', 'power',\n",
      "                                                   'kilometer'])])),\n",
      "                ('models',\n",
      "                 RandomForestRegressor(max_depth=16, n_estimators=11,\n",
      "                                       random_state=42))])\n",
      "Качество модели по метрике RMSE - 1799.039\n"
     ]
    }
   ],
   "source": [
    "# подбор лучшей модели с гиперпараметрами\n",
    "rs_RandomForestRegressor = RandomizedSearchCV(\n",
    "    pipe_final,\n",
    "    param_grid[1],\n",
    "    scoring=\"neg_root_mean_squared_error\",\n",
    "    n_iter=2,\n",
    "    random_state=RANDOM_STATE,\n",
    "    n_jobs=-1,\n",
    ")\n",
    "rs_RandomForestRegressor.fit(X_train, y_train)\n",
    "\n",
    "print(\"Лучшая модель и её параметры:\\n\\n\", rs_RandomForestRegressor.best_estimator_)\n",
    "print(\n",
    "    f\"Качество модели по метрике RMSE - {round(rs_RandomForestRegressor.best_score_, 3)*-1}\"\n",
    ")"
   ]
  },
  {
   "cell_type": "markdown",
   "id": "e094f571-697d-43ed-a7c5-233244f0c908",
   "metadata": {},
   "source": [
    "Проверим скорость обучения созданной модели **RandomForestRegressor()** с заданными гиперпараметрами"
   ]
  },
  {
   "cell_type": "code",
   "execution_count": 73,
   "id": "d20a8545-10c0-44e1-ba8f-1a28b16e0474",
   "metadata": {},
   "outputs": [
    {
     "name": "stdout",
     "output_type": "stream",
     "text": [
      "11min 7s ± 2.52 s per loop (mean ± std. dev. of 2 runs, 2 loops each)\n"
     ]
    }
   ],
   "source": [
    "%%timeit -n 2 -r 2\n",
    "rs_RandomForestRegressor.fit(X_train, y_train)"
   ]
  },
  {
   "cell_type": "markdown",
   "id": "bfec3a7f-2b01-4309-bf34-b9e41b75c9ba",
   "metadata": {},
   "source": [
    "Проверим скорость работы созданной модели **RandomForestRegressor()** с заданными гиперпараметрами"
   ]
  },
  {
   "cell_type": "code",
   "execution_count": 74,
   "id": "610706b0-fab5-4de4-a612-ccfc689881bf",
   "metadata": {},
   "outputs": [
    {
     "name": "stdout",
     "output_type": "stream",
     "text": [
      "2.37 s ± 8.68 ms per loop (mean ± std. dev. of 2 runs, 2 loops each)\n"
     ]
    }
   ],
   "source": [
    "%%timeit -n 2 -r 2\n",
    "rs_RandomForestRegressor.predict(X_train)"
   ]
  },
  {
   "cell_type": "markdown",
   "id": "439d7a04-b1da-42b8-9d19-b1e49862834a",
   "metadata": {},
   "source": [
    "## LGBMRegressor()"
   ]
  },
  {
   "cell_type": "markdown",
   "id": "6d7b4c0c-fbc7-401b-9331-d88c60c3bf3f",
   "metadata": {},
   "source": [
    "Обучим модель **LGBMRegressor()**, подберём гиперпараметры, получим её предсказания и рассчитаем метрику"
   ]
  },
  {
   "cell_type": "code",
   "execution_count": 75,
   "id": "c9a465de-3282-4370-b841-60c3f856bc37",
   "metadata": {},
   "outputs": [
    {
     "name": "stdout",
     "output_type": "stream",
     "text": [
      "[LightGBM] [Info] Auto-choosing row-wise multi-threading, the overhead of testing was 0.026785 seconds.\n",
      "You can set `force_row_wise=true` to remove the overhead.\n",
      "And if memory is not enough, you can set `force_col_wise=true`.\n",
      "[LightGBM] [Info] Total Bins 916\n",
      "[LightGBM] [Info] Number of data points in the train set: 200958, number of used features: 287\n",
      "[LightGBM] [Info] Start training from score 4818.885663\n",
      "Лучшая модель и её параметры:\n",
      "\n",
      " Pipeline(steps=[('preprocessor',\n",
      "                 ColumnTransformer(remainder='passthrough',\n",
      "                                   transformers=[('ohe',\n",
      "                                                  Pipeline(steps=[('simpleImputer_ohe',\n",
      "                                                                   SimpleImputer(strategy='most_frequent')),\n",
      "                                                                  ('ohe',\n",
      "                                                                   OneHotEncoder(drop='first',\n",
      "                                                                                 handle_unknown='ignore',\n",
      "                                                                                 sparse_output=False))]),\n",
      "                                                  ['vehicle_type', 'gearbox',\n",
      "                                                   'model', 'fuel_type',\n",
      "                                                   'brand']),\n",
      "                                                 ('ord',\n",
      "                                                  Pipeline(steps=[('simpleImputer_...\n",
      "                                                                   SimpleImputer(strategy='most_frequent')),\n",
      "                                                                  ('ord',\n",
      "                                                                   OrdinalEncoder(categories=[['no',\n",
      "                                                                                               'yes']],\n",
      "                                                                                  handle_unknown='use_encoded_value',\n",
      "                                                                                  unknown_value=nan)),\n",
      "                                                                  ('simpleImputer_after_ord',\n",
      "                                                                   SimpleImputer(strategy='most_frequent'))]),\n",
      "                                                  ['repaired']),\n",
      "                                                 ('num', StandardScaler(),\n",
      "                                                  ['registration_year', 'power',\n",
      "                                                   'kilometer'])])),\n",
      "                ('models',\n",
      "                 LGBMRegressor(max_depth=9, num_leaves=6, random_state=42))])\n",
      "Качество модели по метрике RMSE - 1974.699\n"
     ]
    }
   ],
   "source": [
    "# подбор лучшей модели с гиперпараметрами\n",
    "rs_LGBMRegressor = RandomizedSearchCV(\n",
    "    pipe_final,\n",
    "    param_grid[2],\n",
    "    scoring=\"neg_root_mean_squared_error\",\n",
    "    n_iter=2,\n",
    "    random_state=RANDOM_STATE,\n",
    "    n_jobs=-1,\n",
    ")\n",
    "rs_LGBMRegressor.fit(X_train, y_train)\n",
    "\n",
    "print(\"Лучшая модель и её параметры:\\n\\n\", rs_LGBMRegressor.best_estimator_)\n",
    "print(f\"Качество модели по метрике RMSE - {round(rs_LGBMRegressor.best_score_, 3)*-1}\")"
   ]
  },
  {
   "cell_type": "markdown",
   "id": "7364b610-b2d0-43c4-8004-7c16761560ee",
   "metadata": {},
   "source": [
    "Проверим скорость обучения созданной модели **LGBMRegressor()** с заданными гиперпараметрами"
   ]
  },
  {
   "cell_type": "code",
   "execution_count": 76,
   "id": "4102587a-685c-4134-9628-e14afa88b9b7",
   "metadata": {},
   "outputs": [
    {
     "name": "stdout",
     "output_type": "stream",
     "text": [
      "[LightGBM] [Info] Auto-choosing row-wise multi-threading, the overhead of testing was 0.018725 seconds.\n",
      "You can set `force_row_wise=true` to remove the overhead.\n",
      "And if memory is not enough, you can set `force_col_wise=true`.\n",
      "[LightGBM] [Info] Total Bins 916\n",
      "[LightGBM] [Info] Number of data points in the train set: 200958, number of used features: 287\n",
      "[LightGBM] [Info] Start training from score 4818.885663\n",
      "[LightGBM] [Info] Auto-choosing row-wise multi-threading, the overhead of testing was 0.018891 seconds.\n",
      "You can set `force_row_wise=true` to remove the overhead.\n",
      "And if memory is not enough, you can set `force_col_wise=true`.\n",
      "[LightGBM] [Info] Total Bins 916\n",
      "[LightGBM] [Info] Number of data points in the train set: 200958, number of used features: 287\n",
      "[LightGBM] [Info] Start training from score 4818.885663\n",
      "[LightGBM] [Info] Auto-choosing row-wise multi-threading, the overhead of testing was 0.020191 seconds.\n",
      "You can set `force_row_wise=true` to remove the overhead.\n",
      "And if memory is not enough, you can set `force_col_wise=true`.\n",
      "[LightGBM] [Info] Total Bins 916\n",
      "[LightGBM] [Info] Number of data points in the train set: 200958, number of used features: 287\n",
      "[LightGBM] [Info] Start training from score 4818.885663\n",
      "[LightGBM] [Info] Auto-choosing row-wise multi-threading, the overhead of testing was 0.019053 seconds.\n",
      "You can set `force_row_wise=true` to remove the overhead.\n",
      "And if memory is not enough, you can set `force_col_wise=true`.\n",
      "[LightGBM] [Info] Total Bins 916\n",
      "[LightGBM] [Info] Number of data points in the train set: 200958, number of used features: 287\n",
      "[LightGBM] [Info] Start training from score 4818.885663\n",
      "19.7 s ± 259 ms per loop (mean ± std. dev. of 2 runs, 2 loops each)\n"
     ]
    }
   ],
   "source": [
    "%%timeit -n 2 -r 2\n",
    "rs_LGBMRegressor.fit(X_train, y_train);"
   ]
  },
  {
   "cell_type": "markdown",
   "id": "22e24201-870e-4fca-8b67-0ee2b77d242d",
   "metadata": {},
   "source": [
    "Проверим скорость работы созданной модели **LGBMRegressor()** с заданными гиперпараметрами"
   ]
  },
  {
   "cell_type": "code",
   "execution_count": 77,
   "id": "2a4619a5-59d8-4466-adf1-bfd9729494c3",
   "metadata": {},
   "outputs": [
    {
     "name": "stdout",
     "output_type": "stream",
     "text": [
      "1.53 s ± 20.4 ms per loop (mean ± std. dev. of 2 runs, 2 loops each)\n"
     ]
    }
   ],
   "source": [
    "%%timeit -n 2 -r 2\n",
    "rs_LGBMRegressor.predict(X_train)"
   ]
  },
  {
   "cell_type": "markdown",
   "id": "5e0d42ac-2984-4f0e-b9bc-d912d3eb281f",
   "metadata": {},
   "source": [
    "## GradientBoostingRegressor()"
   ]
  },
  {
   "cell_type": "markdown",
   "id": "c3616bcd-3cc4-405d-ab1c-a22602162690",
   "metadata": {},
   "source": [
    "Обучим модель **GradientBoostingRegressor()**, подберём гиперпараметры, получим её предсказания и рассчитаем метрику"
   ]
  },
  {
   "cell_type": "code",
   "execution_count": 78,
   "id": "a2f55df7-4c5a-404a-8e3f-f9c8e27a427d",
   "metadata": {},
   "outputs": [
    {
     "name": "stdout",
     "output_type": "stream",
     "text": [
      "Лучшая модель и её параметры:\n",
      "\n",
      " Pipeline(steps=[('preprocessor',\n",
      "                 ColumnTransformer(remainder='passthrough',\n",
      "                                   transformers=[('ohe',\n",
      "                                                  Pipeline(steps=[('simpleImputer_ohe',\n",
      "                                                                   SimpleImputer(strategy='most_frequent')),\n",
      "                                                                  ('ohe',\n",
      "                                                                   OneHotEncoder(drop='first',\n",
      "                                                                                 handle_unknown='ignore',\n",
      "                                                                                 sparse_output=False))]),\n",
      "                                                  ['vehicle_type', 'gearbox',\n",
      "                                                   'model', 'fuel_type',\n",
      "                                                   'brand']),\n",
      "                                                 ('ord',\n",
      "                                                  Pipeline(steps=[('simpleImputer_...\n",
      "                                                                   SimpleImputer(strategy='most_frequent')),\n",
      "                                                                  ('ord',\n",
      "                                                                   OrdinalEncoder(categories=[['no',\n",
      "                                                                                               'yes']],\n",
      "                                                                                  handle_unknown='use_encoded_value',\n",
      "                                                                                  unknown_value=nan)),\n",
      "                                                                  ('simpleImputer_after_ord',\n",
      "                                                                   SimpleImputer(strategy='most_frequent'))]),\n",
      "                                                  ['repaired']),\n",
      "                                                 ('num', StandardScaler(),\n",
      "                                                  ['registration_year', 'power',\n",
      "                                                   'kilometer'])])),\n",
      "                ('models',\n",
      "                 GradientBoostingRegressor(max_depth=6, min_samples_split=6,\n",
      "                                           n_estimators=15))])\n",
      "Качество модели по метрике RMSE - 2297.744\n"
     ]
    }
   ],
   "source": [
    "# подбор лучшей модели с гиперпараметрами\n",
    "rs_GradientBoostingRegressor = RandomizedSearchCV(\n",
    "    pipe_final,\n",
    "    param_grid[3],\n",
    "    scoring=\"neg_root_mean_squared_error\",\n",
    "    n_iter=2,\n",
    "    random_state=RANDOM_STATE,\n",
    "    n_jobs=-1,\n",
    ")\n",
    "rs_GradientBoostingRegressor.fit(X_train, y_train)\n",
    "\n",
    "print(\"Лучшая модель и её параметры:\\n\\n\", rs_GradientBoostingRegressor.best_estimator_)\n",
    "print(\n",
    "    f\"Качество модели по метрике RMSE - {round(rs_GradientBoostingRegressor.best_score_, 3)*-1}\"\n",
    ")"
   ]
  },
  {
   "cell_type": "markdown",
   "id": "2dcea644-3d24-4540-b993-01275e4a4bb0",
   "metadata": {},
   "source": [
    "Проверим скорость обучения созданной модели **GradientBoostingRegressor()** с заданными гиперпараметрами"
   ]
  },
  {
   "cell_type": "code",
   "execution_count": 79,
   "id": "72839136-4b4f-4af1-b2dd-4a0e4d1ad73d",
   "metadata": {},
   "outputs": [
    {
     "name": "stdout",
     "output_type": "stream",
     "text": [
      "14min 40s ± 1.5 s per loop (mean ± std. dev. of 2 runs, 2 loops each)\n"
     ]
    }
   ],
   "source": [
    "%%timeit -n 2 -r 2\n",
    "rs_GradientBoostingRegressor.fit(X_train, y_train)"
   ]
  },
  {
   "cell_type": "markdown",
   "id": "d30b5a01-24c3-4331-85c5-651acb202d02",
   "metadata": {},
   "source": [
    "Проверим скорость работы созданной модели **GradientBoostingRegressor()** с заданными гиперпараметрами"
   ]
  },
  {
   "cell_type": "code",
   "execution_count": 80,
   "id": "a19f440b-5505-4270-93d4-9fc6d1ad9943",
   "metadata": {},
   "outputs": [
    {
     "name": "stdout",
     "output_type": "stream",
     "text": [
      "1.9 s ± 2.84 ms per loop (mean ± std. dev. of 2 runs, 2 loops each)\n"
     ]
    }
   ],
   "source": [
    "%%timeit -n 2 -r 2\n",
    "rs_GradientBoostingRegressor.predict(X_train)"
   ]
  },
  {
   "cell_type": "markdown",
   "id": "ca42401c-f93c-4d15-96d1-1ac4790b5fc7",
   "metadata": {},
   "source": [
    "***"
   ]
  },
  {
   "cell_type": "markdown",
   "id": "827ac4db-e20e-455a-b896-552bc324fe94",
   "metadata": {},
   "source": [
    "**ВЫВОД:**\n",
    "\n",
    "1. Были обучены модели с гиперпараметрами:\n",
    "   - LinearRegression() (как dummy-модель для проверки на адекватность)\n",
    "   - RandomForestRegressor() с ***max_depth***, ***n_estimators***\n",
    "   - LGBMRegressor() с ***max_depth***, ***n_estimators***, ***num_leaves***\n",
    "   - GradientBoostingRegressor() с ***max_depth***, ***min_samples_split***, ***min_samples_leaf***\n",
    "2. Для подбора лучшей модели с гиперпараметрами будем использовать\n",
    "   - RandomizedSearchCV()\n",
    "3. Для оценки качества работы модели применим метрику RMSE"
   ]
  },
  {
   "cell_type": "markdown",
   "id": "0b209fe6-f507-41de-b557-04f47bd43dc4",
   "metadata": {},
   "source": [
    "<a id='6'></a>\n",
    "# Анализ моделей"
   ]
  },
  {
   "cell_type": "markdown",
   "id": "c644b1f7-3d65-4eec-ac5c-e0ac9b7a2100",
   "metadata": {},
   "source": [
    "Проанализируем время обучения, время предсказания и качество моделей."
   ]
  },
  {
   "cell_type": "markdown",
   "id": "af88f411-51e0-4683-a02a-43d3dba6d413",
   "metadata": {},
   "source": [
    "|Модель|Время обучения|Время предсказания|Качество модели|\n",
    "|-|-:|-:|-:|\n",
    "|LinearRegression()|3min 9s|539 ms|2902.686|\n",
    "|RandomForestRegressor()|8min 13s|1.95 s|1799.039|\n",
    "|LGBMRegressor()|3min 5s|2.55 s|1974.699|\n",
    "|GradientBoostingRegressor()|20min 16s|1.77 s|2297.735|"
   ]
  },
  {
   "cell_type": "markdown",
   "id": "3634731d",
   "metadata": {},
   "source": [
    "Все модели прошли проверку на адекватность: их метрики лучше, чем у модели **LinearRegression()**"
   ]
  },
  {
   "cell_type": "markdown",
   "id": "d955b3e2-9d03-4a52-9d2f-a89122749955",
   "metadata": {},
   "source": [
    "Лучшая модель по времени обучения - **LGBMRegressor()** с гиперпараметрами ***max_depth*** = 9, ***num_leaves*** = 6"
   ]
  },
  {
   "cell_type": "markdown",
   "id": "060bb9d3-b5a3-48b0-bd79-1e89f5f9e1b2",
   "metadata": {},
   "source": [
    "Лучшая модель по времени предсказания - **LinearRegression()**"
   ]
  },
  {
   "cell_type": "markdown",
   "id": "9cb42919-c4be-4b23-a182-f87c93b39bcd",
   "metadata": {},
   "source": [
    "Лучшая модель по качеству - **RandomForestRegressor()** с гиперпараметрами ***max_depth*** = 16, ***n_estimators*** = 11"
   ]
  },
  {
   "cell_type": "markdown",
   "id": "2875322b",
   "metadata": {},
   "source": [
    "Несмотря на то, что модель **RandomForestRegressor()** обучается в 2,6 раза дольше, чем **LGBMRegressor()**,\\\n",
    "признаем модель **RandomForestRegressor()** лучшей.\n",
    "\n",
    "Модель **RandomForestRegressor()** имеет лучшую метрику, и время предсказания у модели меньше,\\\n",
    "чем у **LGBMRegressor()**"
   ]
  },
  {
   "cell_type": "markdown",
   "id": "6434bbb2-f651-4e7e-9fb6-9946e1ab97f2",
   "metadata": {},
   "source": [
    "Проверим работу модели **RandomForestRegressor()** на тестовой выборке"
   ]
  },
  {
   "cell_type": "code",
   "execution_count": 81,
   "id": "059b7a11-5180-4139-ba5b-d413fb900167",
   "metadata": {},
   "outputs": [
    {
     "name": "stdout",
     "output_type": "stream",
     "text": [
      "Качество модели по метрике RMSE на тестовой выборке - 1772.151\n"
     ]
    }
   ],
   "source": [
    "# получение предсказаний на тренировочной выборке\n",
    "pred = rs_RandomForestRegressor.predict(X_test)\n",
    "# получение предсказаний модели\n",
    "print(\n",
    "    f\"Качество модели по метрике RMSE на тестовой выборке - {round(root_mean_squared_error(y_test, pred), 3)}\"\n",
    ")"
   ]
  },
  {
   "cell_type": "markdown",
   "id": "2a2941fa-04cc-451f-b1f9-ac7dd969e0cc",
   "metadata": {},
   "source": [
    "***"
   ]
  },
  {
   "cell_type": "markdown",
   "id": "85495612-3fd8-4f3f-91a2-ce7c9e502b77",
   "metadata": {},
   "source": [
    "***ВЫВОД:***\n",
    "\n",
    "1. Лучшая модель по качеству - **RandomForestRegressor()** с гиперпараметрами ***max_depth*** = 16, ***n_estimators*** = 11\n",
    "2. Так как качество модели - важная метрика модели, то лучшей моделью признается **RandomForestRegressor()**\n",
    "3. Качество модели **RandomForestRegressor()** на тестовой выборке по метрике RMSE - 1772.151"
   ]
  },
  {
   "cell_type": "markdown",
   "id": "c2ea7d13-5435-4f79-958b-61769438f90e",
   "metadata": {},
   "source": [
    "<a id='7'></a>\n",
    "# ОБЩИЙ ВЫВОД"
   ]
  },
  {
   "cell_type": "markdown",
   "id": "68f3d688-a1c7-41ae-a797-3039a1bb6b69",
   "metadata": {},
   "source": [
    "**ВХОДНЫЕ ДАННЫЕ:**\n",
    "1. Исследование проведено на базе данных сервиса по продаже автомобилей с пробегом \"Не бит, не крашен\"\n",
    "2. Данные представлены файлом autos.csv\n",
    "3. Данные получены и записаны в датафрейм ***autos_df***\n",
    "4. В результате изучения общей информации о датафрейме обнаружено некорректное наименование столбцов:\n",
    "    - сочетание прописных и строчных букв\n",
    "    - стиль написания, отличный от \"lower_case_with_underscores\"\n",
    "5. Наименования столбцов приведены к стандартам оформления данных.\n",
    "\n",
    "\n",
    "\n",
    "**НА ЭТАПЕ ПРЕДОБРАБОТКИ ДАННЫХ:**\n",
    "1. В датафрейме наблюдается большое количество пропусков:\n",
    "\n",
    "   |Пропусков|`'repaired'`|`'vehicle_type'`|`'fuel_type'`|`'gearbox'`|`'model'`|\n",
    "   |-|-:|-:|-:|-:|-:|\n",
    "   |количество|71154|37490|32895|19833|19705|\n",
    "   |процент|20.08|10.58|9.28|5.6|5.56|\n",
    "\n",
    "2. Так как пропусков большое количество, их нельзя просто удалить.\n",
    "3. Пропуски во входном признаке `'model'` были заполнены самыми часто встречающимися значениями для входного признака `'brand'`\n",
    "4. Пропуски во входных признаках:\n",
    "    - `'vehicle_type'`\n",
    "    - `'fuel_type'`\n",
    "    - `'gearbox'`\\\n",
    "     были заполнены самыми часто встречающимися значениями для входного признака `'model'`\n",
    "5. Пропуски во входном признаке `'repaired'` были заполнены значением ***'no'***\n",
    "6. В датафрейме обнаружены 5 явных дубликатов.\n",
    "7. Явные дубликаты были удалены.\n",
    "8. Тип данных входного признака `'repaired'` не соответствует данным:\\\n",
    "    тип данных в данный момент - *object*,\\\n",
    "    нужный тип данных - категориальный бинарный.\n",
    "9. Преобразование типа данных признака `'repaired'` необходимо провести в пайплайне.\n",
    "10. Данные были проверены на наличие неявных дубликатов значений.\n",
    "11. В значениях входного признака `'model'` были обнаружены неявные дубликаты в 2-х значениях:\n",
    "    *\"range_rover\"* и *\"rangerover\"*\n",
    "12. Значения приведены к единому виду - *\"range_rover\"*\n",
    "13. Был получен диапазон дат по каждому признаку с датой и временем.\n",
    "14. Входные признаки были признаны неинформативными:\n",
    "    - `'postal_code'`\n",
    "    - `'registration_month'`\n",
    "    - `'number_of_pictures'`\n",
    "    - `'date_crawled'`\n",
    "    - `'date_created'`\n",
    "    - `'last_seen'`\n",
    "15. Неинформативные признаки были удалены.\n",
    "16. Было определено количество строк датафрейма со значением признаков *\"other\"* - 27526 строк\n",
    "17. Эти значения были заменены на *\"unknown\"*\n",
    "\n",
    "\n",
    "\n",
    "**НА ЭТАПЕ ИССЛЕДОВАТЕЛЬСКОГО АНАЛИЗА ДАННЫХ:**\n",
    "\n",
    "1. Для большей наглядности и выявления выбросов были построены диаграммы размаха для количественных признаков датафрейма.\n",
    "2. На диаграммах размаха:\n",
    "   - по признаку `'price'` - выше края статистически значимой выборки большое количество выбросов,\\\n",
    "      также присутствуют значения около нуля.\n",
    "   - по признаку `'registration_year'` - большое количество выбросов выше и ниже края статистически значимой выборки.\n",
    "   - по признаку `'power'` - выше края статистически значимой выборки большое количество выбросов,\\\n",
    "      также присутствуют значения около нуля.\n",
    "   - по признаку `'kilometer'` - есть несколько выбросов ниже края статистически значимой выборки.\n",
    "3. Были найдены объективные пределы мощностей для признака `'power'` - 0.75 л.с. и 2300 л.с.\n",
    "4. Значения признака `'power'` вне указанных пределов были заполнены медианой для каждой уникальной пары признаков `'brand'` и `'model'`\n",
    "5. Оставшиеся нулевые значения признака `'power'` были удалены.\n",
    "6. По признаку `'registration_year'` выявлено большое количество нереальных значений - 13698,\n",
    "    что составляет 3.87 % от первоначального размера датафрейма.\n",
    "7. Строки с нереальными значениями признака `'registration_year'` были удалены.\n",
    "8. В целевом признаке `'price'` присутствуют значения около нуля.\n",
    "9. На 1 % значений с нижнего края датафрейма в признаке `'price'` приходится 2298 строк.\n",
    "10. Эти строки были удалены.\n",
    "11. После предобработки данных была проведена проверка на явные дубликаты. 56794 строк удалено.\n",
    "8. Был выведен результат предобработки:\\\n",
    "    Датафрейм содержит 267945 строк.\\\n",
    "    Первоначальный датафрейм содержал 354369 строк.\\\n",
    "    Удалено 86424 строк.\\\n",
    "    Это примерно 24.39% от первоначального размера датафрейма.\n",
    "9. После преобработки была выведена описательная статистика для количественных признаков датафрейма:\\\n",
    "    По признаку `'registration_year'` (2002.8 и 2003) среднее и медиана отличаются несущественно.\\\n",
    "    По признаку `'power'` (121.7 и 113) среднее и медиана отличаются существенно,\\\n",
    "    и стандартное отклонение достаточно большое (64.365).\\\n",
    "    По признакам `'price'` (4817.27 и 3100) и `'kilometer'` (126781 и 150000) среднее и медиана имеют существенное отличие.\\\n",
    "    И стандартные отклонения по этим признакам тоже велики.\n",
    "10. Для количественных признаков датафрейма были построены гистограммы распределения.\n",
    "11. На гистограммах распределения:\n",
    "    - по признаку `'price'` - распределение смещённое, с большим \"хвостом\" справа\n",
    "    - по признаку `'registration_year'` - распределение смещённое, с большим \"хвостом\" слева\n",
    "    - по признаку `'power'` - распределение смещённое, с большим \"хвостом\" справа\n",
    "12. В датафрейме 6 категориальных признаков: один из них 'repaired' - бинарный.\n",
    "13. Для категориальных признаков датасета были построены столбчатые диаграммы\n",
    "14. По всем категориальным признакам наблюдается дисбаланс классов.\n",
    "\n",
    "\n",
    "\n",
    "**НА ЭТАПЕ ПОДГОТОВКИ ДАННЫХ:**\n",
    "1. Для построения модели были использованы пайплайны.\n",
    "2. Для подготовки данных был использован ColumnTransformer.\n",
    "3. Для кодирования категориальных признаков были использованы кодировщики:\n",
    "    - OneHotEncoder()\n",
    "    - OrdinalEncoder()\n",
    "4. Для масштабирования количественных признаков были использованы скейлеры:\n",
    "    - MinMaxScaler()\n",
    "    - StandardScaler()\n",
    "    - RobustScaler()\n",
    "    - и аргумент \"passthrough\" - вариант без масштабирования.\n",
    "5. Датафрейм был разделён на выборки: тренировочную и тестовую.\n",
    "6. Был создан пайплайн для подготовки данных\n",
    "\n",
    "\n",
    "\n",
    "**НА ЭТАПЕ ОБУЧЕНИЯ МОДЕЛЕЙ:**\n",
    "1. Были обучены модели с гиперпараметрами:\n",
    "    - LinearRegression() (как dummy-модель для проверки на адекватность)\n",
    "    - RandomForestRegressor() с ***max_depth***, ***n_estimators***\n",
    "    - LGBMRegressor() с ***max_depth***, ***num_leaves***\n",
    "    - GradientBoostingRegressor() с ***max_depth***, ***min_samples_split***\n",
    "2. Для подбора лучшей модели с гиперпараметрами был использован\n",
    "    - RandomizedSearchCV()\n",
    "3. При подборе лучшей модели был использован общий пайплайн для всех моделей\\\n",
    "    и инструмент подбора гиперпараметров.\n",
    "4. Для оценки качества модели была использована метрика RMSE\n",
    "\n",
    "\n",
    "\n",
    "**НА ЭТАПЕ АНАЛИЗА МОДЕЛЕЙ:**\n",
    "1. Критерии для отбора лучшей модели собраны в таблице:\n",
    "   -|Модель|Время обучения|Время предсказания|Качество модели|\n",
    "   -|-|-:|-:|-:|\n",
    "   -|LinearRegression()|3min 9s|539 ms|2902.686|\n",
    "   -|RandomForestRegressor()|8min 13s|1.95 s|1799.039|\n",
    "   -|LGBMRegressor()|3min 5s|2.55 s|1974.699|\n",
    "   -|GradientBoostingRegressor()|20min 16s|1.77 s|2297.735|\n",
    "2. Лучшая модель по качеству - **RandomForestRegressor()** с гиперпараметрами ***max_depth*** = 16, ***n_estimators*** = 11\n",
    "3. Так как качество модели - важная метрика модели, то лучшей моделью признается **RandomForestRegressor()**\n",
    "4. Качество модели **RandomForestRegressor()** на тестовой выборке по метрике RMSE - 1772.151\n",
    "\n",
    "\n",
    "\n",
    "\n",
    "**ВЫВОД:**\n",
    "1. Заказчику можно рекомендовать использование модели **RandomForestRegressor()** с гиперпараметрами ***max_depth*** = 16, ***n_estimators*** = 11\\\n",
    "    для прогнозирования рыночной стоимости автомобилей."
   ]
  }
 ],
 "metadata": {
  "ExecuteTimeLog": [
   {
    "duration": 5802,
    "start_time": "2025-04-27T03:59:51.818Z"
   },
   {
    "duration": 7685,
    "start_time": "2025-04-27T03:59:57.637Z"
   },
   {
    "duration": 3089,
    "start_time": "2025-04-27T04:00:08.426Z"
   },
   {
    "duration": 1801,
    "start_time": "2025-04-27T04:00:12.666Z"
   },
   {
    "duration": 1197,
    "start_time": "2025-04-27T04:00:24.465Z"
   },
   {
    "duration": 21,
    "start_time": "2025-04-27T04:00:31.773Z"
   },
   {
    "duration": 111,
    "start_time": "2025-04-27T04:00:32.794Z"
   },
   {
    "duration": 7,
    "start_time": "2025-04-27T04:00:37.558Z"
   },
   {
    "duration": 93,
    "start_time": "2025-04-27T04:00:39.765Z"
   },
   {
    "duration": 105,
    "start_time": "2025-04-27T04:00:45.538Z"
   },
   {
    "duration": 111,
    "start_time": "2025-04-27T04:00:46.562Z"
   },
   {
    "duration": 584,
    "start_time": "2025-04-27T04:00:49.981Z"
   },
   {
    "duration": 635,
    "start_time": "2025-04-27T04:00:59.053Z"
   },
   {
    "duration": 183,
    "start_time": "2025-04-27T04:01:02.400Z"
   },
   {
    "duration": 791,
    "start_time": "2025-04-27T04:01:06.529Z"
   },
   {
    "duration": 2707,
    "start_time": "2025-04-27T04:03:20.237Z"
   },
   {
    "duration": 3334,
    "start_time": "2025-04-27T04:03:22.946Z"
   },
   {
    "duration": 2619,
    "start_time": "2025-04-27T04:03:26.283Z"
   },
   {
    "duration": 1634,
    "start_time": "2025-04-27T04:03:28.905Z"
   },
   {
    "duration": 1137,
    "start_time": "2025-04-27T04:03:30.541Z"
   },
   {
    "duration": 28,
    "start_time": "2025-04-27T04:03:31.679Z"
   },
   {
    "duration": 115,
    "start_time": "2025-04-27T04:03:31.709Z"
   },
   {
    "duration": 7,
    "start_time": "2025-04-27T04:03:31.826Z"
   },
   {
    "duration": 107,
    "start_time": "2025-04-27T04:03:31.834Z"
   },
   {
    "duration": 113,
    "start_time": "2025-04-27T04:03:31.943Z"
   },
   {
    "duration": 115,
    "start_time": "2025-04-27T04:03:32.058Z"
   },
   {
    "duration": 536,
    "start_time": "2025-04-27T04:03:32.175Z"
   },
   {
    "duration": 650,
    "start_time": "2025-04-27T04:03:32.713Z"
   },
   {
    "duration": 178,
    "start_time": "2025-04-27T04:03:33.364Z"
   },
   {
    "duration": 779,
    "start_time": "2025-04-27T04:05:48.132Z"
   },
   {
    "duration": 663,
    "start_time": "2025-04-27T04:08:16.637Z"
   },
   {
    "duration": 358,
    "start_time": "2025-04-27T04:10:49.264Z"
   },
   {
    "duration": 294,
    "start_time": "2025-04-27T04:11:00.903Z"
   },
   {
    "duration": 286,
    "start_time": "2025-04-27T04:11:07.940Z"
   },
   {
    "duration": 109,
    "start_time": "2025-04-27T04:11:12.503Z"
   },
   {
    "duration": 27,
    "start_time": "2025-04-27T04:11:18.956Z"
   },
   {
    "duration": 106,
    "start_time": "2025-04-27T04:11:21.472Z"
   },
   {
    "duration": 184,
    "start_time": "2025-04-27T04:11:27.903Z"
   },
   {
    "duration": 4,
    "start_time": "2025-04-27T04:13:43.659Z"
   },
   {
    "duration": 83,
    "start_time": "2025-04-27T04:15:41.727Z"
   },
   {
    "duration": 145,
    "start_time": "2025-04-27T04:15:49.904Z"
   },
   {
    "duration": 108,
    "start_time": "2025-04-27T04:15:51.763Z"
   },
   {
    "duration": 294,
    "start_time": "2025-04-27T04:15:58.686Z"
   },
   {
    "duration": 370,
    "start_time": "2025-04-27T04:16:01.839Z"
   },
   {
    "duration": 6,
    "start_time": "2025-04-27T04:16:06.659Z"
   },
   {
    "duration": 290,
    "start_time": "2025-04-27T04:16:11.291Z"
   },
   {
    "duration": 11883,
    "start_time": "2025-04-27T04:16:13.883Z"
   },
   {
    "duration": 27,
    "start_time": "2025-04-27T04:16:25.769Z"
   },
   {
    "duration": 18,
    "start_time": "2025-04-27T04:16:25.805Z"
   },
   {
    "duration": 76,
    "start_time": "2025-04-27T04:16:25.825Z"
   },
   {
    "duration": 36,
    "start_time": "2025-04-27T04:19:46.890Z"
   },
   {
    "duration": 87,
    "start_time": "2025-04-27T04:19:49.151Z"
   },
   {
    "duration": 72,
    "start_time": "2025-04-27T04:19:54.479Z"
   },
   {
    "duration": 12,
    "start_time": "2025-04-27T04:19:57.898Z"
   },
   {
    "duration": 13,
    "start_time": "2025-04-27T04:20:14.470Z"
   },
   {
    "duration": 60,
    "start_time": "2025-04-27T04:20:15.767Z"
   },
   {
    "duration": 14,
    "start_time": "2025-04-27T04:20:19.518Z"
   },
   {
    "duration": 577,
    "start_time": "2025-04-27T04:20:28.403Z"
   },
   {
    "duration": 18,
    "start_time": "2025-04-27T04:20:41.254Z"
   },
   {
    "duration": 13049,
    "start_time": "2025-04-27T04:20:43.630Z"
   },
   {
    "duration": 8,
    "start_time": "2025-04-27T04:20:56.681Z"
   },
   {
    "duration": 51,
    "start_time": "2025-04-27T04:20:56.691Z"
   },
   {
    "duration": 9,
    "start_time": "2025-04-27T04:22:05.662Z"
   },
   {
    "duration": 48,
    "start_time": "2025-04-27T04:22:17.841Z"
   },
   {
    "duration": 115,
    "start_time": "2025-04-27T04:22:33.430Z"
   },
   {
    "duration": 16,
    "start_time": "2025-04-27T04:22:52.650Z"
   },
   {
    "duration": 17,
    "start_time": "2025-04-27T04:22:53.970Z"
   },
   {
    "duration": 33,
    "start_time": "2025-04-27T04:22:55.694Z"
   },
   {
    "duration": 12,
    "start_time": "2025-04-27T04:23:03.689Z"
   },
   {
    "duration": 153,
    "start_time": "2025-04-27T04:25:24.785Z"
   },
   {
    "duration": 50,
    "start_time": "2025-04-27T04:38:49.976Z"
   },
   {
    "duration": 51,
    "start_time": "2025-04-27T04:38:58.864Z"
   },
   {
    "duration": 23,
    "start_time": "2025-04-27T04:41:33.311Z"
   },
   {
    "duration": 188,
    "start_time": "2025-04-27T04:41:54.816Z"
   },
   {
    "duration": 99,
    "start_time": "2025-04-27T04:42:33.687Z"
   },
   {
    "duration": 23,
    "start_time": "2025-04-27T04:42:49.707Z"
   },
   {
    "duration": 24,
    "start_time": "2025-04-27T04:42:59.618Z"
   },
   {
    "duration": 9,
    "start_time": "2025-04-27T04:43:37.346Z"
   },
   {
    "duration": 22,
    "start_time": "2025-04-27T04:44:43.034Z"
   },
   {
    "duration": 24,
    "start_time": "2025-04-27T04:45:09.540Z"
   },
   {
    "duration": 26,
    "start_time": "2025-04-27T04:45:47.895Z"
   },
   {
    "duration": 14,
    "start_time": "2025-04-27T04:46:39.787Z"
   },
   {
    "duration": 98,
    "start_time": "2025-04-27T04:46:45.899Z"
   },
   {
    "duration": 14,
    "start_time": "2025-04-27T04:46:48.850Z"
   },
   {
    "duration": 26,
    "start_time": "2025-04-27T04:47:12.042Z"
   },
   {
    "duration": 42,
    "start_time": "2025-04-27T04:47:25.698Z"
   },
   {
    "duration": 38,
    "start_time": "2025-04-27T04:47:36.387Z"
   },
   {
    "duration": 38,
    "start_time": "2025-04-27T04:48:23.894Z"
   },
   {
    "duration": 30,
    "start_time": "2025-04-27T04:52:10.931Z"
   },
   {
    "duration": 17,
    "start_time": "2025-04-27T04:52:31.157Z"
   },
   {
    "duration": 32,
    "start_time": "2025-04-27T04:53:50.597Z"
   },
   {
    "duration": 155,
    "start_time": "2025-04-27T04:53:54.094Z"
   },
   {
    "duration": 184,
    "start_time": "2025-04-27T04:54:36.550Z"
   },
   {
    "duration": 12,
    "start_time": "2025-04-27T04:54:39.150Z"
   },
   {
    "duration": 60,
    "start_time": "2025-04-27T04:55:19.806Z"
   },
   {
    "duration": 1454,
    "start_time": "2025-04-27T04:58:35.414Z"
   },
   {
    "duration": 271,
    "start_time": "2025-04-27T04:59:20.586Z"
   },
   {
    "duration": 137,
    "start_time": "2025-04-27T04:59:23.823Z"
   },
   {
    "duration": 18,
    "start_time": "2025-04-27T05:00:11.575Z"
   },
   {
    "duration": 924,
    "start_time": "2025-04-27T05:00:18.699Z"
   },
   {
    "duration": 19,
    "start_time": "2025-04-27T05:03:46.990Z"
   },
   {
    "duration": 26,
    "start_time": "2025-04-27T05:04:39.507Z"
   },
   {
    "duration": 3436,
    "start_time": "2025-04-27T05:05:02.331Z"
   },
   {
    "duration": 77,
    "start_time": "2025-04-27T05:05:09.634Z"
   },
   {
    "duration": 6023,
    "start_time": "2025-04-27T05:05:15.583Z"
   },
   {
    "duration": 11,
    "start_time": "2025-04-27T05:23:37.153Z"
   },
   {
    "duration": 19,
    "start_time": "2025-04-27T05:23:43.885Z"
   },
   {
    "duration": 61,
    "start_time": "2025-04-27T05:23:44.526Z"
   },
   {
    "duration": 8,
    "start_time": "2025-04-27T05:23:58.186Z"
   },
   {
    "duration": 5,
    "start_time": "2025-04-27T05:24:05.854Z"
   },
   {
    "duration": 14,
    "start_time": "2025-04-27T05:24:07.589Z"
   },
   {
    "duration": 11,
    "start_time": "2025-04-27T05:24:08.299Z"
   },
   {
    "duration": 16,
    "start_time": "2025-04-27T05:24:10.647Z"
   },
   {
    "duration": 9,
    "start_time": "2025-04-27T05:24:12.186Z"
   },
   {
    "duration": 7,
    "start_time": "2025-04-27T05:24:21.014Z"
   },
   {
    "duration": 33,
    "start_time": "2025-04-27T05:24:22.181Z"
   },
   {
    "duration": 176441,
    "start_time": "2025-04-27T05:25:36.189Z"
   },
   {
    "duration": 6042,
    "start_time": "2025-04-27T11:07:54.012Z"
   },
   {
    "duration": 7371,
    "start_time": "2025-04-27T11:08:00.057Z"
   },
   {
    "duration": 3452,
    "start_time": "2025-04-27T11:08:07.430Z"
   },
   {
    "duration": 2927,
    "start_time": "2025-04-27T11:08:10.885Z"
   },
   {
    "duration": 2288,
    "start_time": "2025-04-27T11:08:13.814Z"
   },
   {
    "duration": 1183,
    "start_time": "2025-04-27T11:08:16.104Z"
   },
   {
    "duration": 29,
    "start_time": "2025-04-27T11:08:17.289Z"
   },
   {
    "duration": 119,
    "start_time": "2025-04-27T11:08:17.320Z"
   },
   {
    "duration": 98,
    "start_time": "2025-04-27T11:08:17.441Z"
   },
   {
    "duration": 16,
    "start_time": "2025-04-27T11:08:17.543Z"
   },
   {
    "duration": 129,
    "start_time": "2025-04-27T11:08:17.562Z"
   },
   {
    "duration": 121,
    "start_time": "2025-04-27T11:08:17.693Z"
   },
   {
    "duration": 670,
    "start_time": "2025-04-27T11:08:17.816Z"
   },
   {
    "duration": 617,
    "start_time": "2025-04-27T11:08:18.487Z"
   },
   {
    "duration": 189,
    "start_time": "2025-04-27T11:08:19.106Z"
   },
   {
    "duration": 340,
    "start_time": "2025-04-27T11:08:19.297Z"
   },
   {
    "duration": 309,
    "start_time": "2025-04-27T11:08:19.639Z"
   },
   {
    "duration": 281,
    "start_time": "2025-04-27T11:08:19.950Z"
   },
   {
    "duration": 106,
    "start_time": "2025-04-27T11:08:20.233Z"
   },
   {
    "duration": 26,
    "start_time": "2025-04-27T11:08:20.341Z"
   },
   {
    "duration": 121,
    "start_time": "2025-04-27T11:08:20.369Z"
   },
   {
    "duration": 90,
    "start_time": "2025-04-27T11:08:20.492Z"
   },
   {
    "duration": 160,
    "start_time": "2025-04-27T11:08:20.584Z"
   },
   {
    "duration": 111,
    "start_time": "2025-04-27T11:08:20.746Z"
   },
   {
    "duration": 309,
    "start_time": "2025-04-27T11:08:20.859Z"
   },
   {
    "duration": 361,
    "start_time": "2025-04-27T11:08:21.170Z"
   },
   {
    "duration": 6,
    "start_time": "2025-04-27T11:08:21.533Z"
   },
   {
    "duration": 300,
    "start_time": "2025-04-27T11:08:21.543Z"
   },
   {
    "duration": 11881,
    "start_time": "2025-04-27T11:08:21.844Z"
   },
   {
    "duration": 27,
    "start_time": "2025-04-27T11:08:33.727Z"
   },
   {
    "duration": 19,
    "start_time": "2025-04-27T11:08:33.755Z"
   },
   {
    "duration": 55,
    "start_time": "2025-04-27T11:08:33.776Z"
   },
   {
    "duration": 38,
    "start_time": "2025-04-27T11:08:33.833Z"
   },
   {
    "duration": 96,
    "start_time": "2025-04-27T11:08:33.873Z"
   },
   {
    "duration": 115,
    "start_time": "2025-04-27T11:08:33.971Z"
   },
   {
    "duration": 12,
    "start_time": "2025-04-27T11:08:34.088Z"
   },
   {
    "duration": 12,
    "start_time": "2025-04-27T11:08:34.101Z"
   },
   {
    "duration": 59,
    "start_time": "2025-04-27T11:08:34.115Z"
   },
   {
    "duration": 30,
    "start_time": "2025-04-27T11:08:34.176Z"
   },
   {
    "duration": 572,
    "start_time": "2025-04-27T11:08:34.208Z"
   },
   {
    "duration": 23,
    "start_time": "2025-04-27T11:08:34.782Z"
   },
   {
    "duration": 12852,
    "start_time": "2025-04-27T11:08:34.806Z"
   },
   {
    "duration": 7,
    "start_time": "2025-04-27T11:08:47.660Z"
   },
   {
    "duration": 53,
    "start_time": "2025-04-27T11:08:47.669Z"
   },
   {
    "duration": 15,
    "start_time": "2025-04-27T11:08:47.724Z"
   },
   {
    "duration": 17,
    "start_time": "2025-04-27T11:08:47.741Z"
   },
   {
    "duration": 47,
    "start_time": "2025-04-27T11:08:47.760Z"
   },
   {
    "duration": 17,
    "start_time": "2025-04-27T11:08:47.809Z"
   },
   {
    "duration": 34,
    "start_time": "2025-04-27T11:08:47.828Z"
   },
   {
    "duration": 178,
    "start_time": "2025-04-27T11:08:47.864Z"
   },
   {
    "duration": 201,
    "start_time": "2025-04-27T11:08:48.044Z"
   },
   {
    "duration": 12,
    "start_time": "2025-04-27T11:08:48.247Z"
   },
   {
    "duration": 101,
    "start_time": "2025-04-27T11:08:48.261Z"
   },
   {
    "duration": 1494,
    "start_time": "2025-04-27T11:08:48.365Z"
   },
   {
    "duration": 283,
    "start_time": "2025-04-27T11:08:49.861Z"
   },
   {
    "duration": 918,
    "start_time": "2025-04-27T11:08:50.146Z"
   },
   {
    "duration": 5683,
    "start_time": "2025-04-27T11:08:51.066Z"
   },
   {
    "duration": 12,
    "start_time": "2025-04-27T11:08:56.751Z"
   },
   {
    "duration": 21,
    "start_time": "2025-04-27T11:08:56.765Z"
   },
   {
    "duration": 145,
    "start_time": "2025-04-27T11:08:56.788Z"
   },
   {
    "duration": 8,
    "start_time": "2025-04-27T11:08:56.935Z"
   },
   {
    "duration": 7,
    "start_time": "2025-04-27T11:08:56.944Z"
   },
   {
    "duration": 12,
    "start_time": "2025-04-27T11:08:56.952Z"
   },
   {
    "duration": 12,
    "start_time": "2025-04-27T11:08:56.965Z"
   },
   {
    "duration": 35,
    "start_time": "2025-04-27T11:08:56.979Z"
   },
   {
    "duration": 18,
    "start_time": "2025-04-27T11:08:57.016Z"
   },
   {
    "duration": 17,
    "start_time": "2025-04-27T11:08:57.036Z"
   },
   {
    "duration": 33,
    "start_time": "2025-04-27T11:08:57.055Z"
   },
   {
    "duration": 186642,
    "start_time": "2025-04-27T11:09:47.480Z"
   },
   {
    "duration": 189822,
    "start_time": "2025-04-27T11:16:43.501Z"
   },
   {
    "duration": 758352,
    "start_time": "2025-04-27T11:20:43.657Z"
   },
   {
    "duration": 497901,
    "start_time": "2025-04-27T11:45:14.894Z"
   },
   {
    "duration": 1976006,
    "start_time": "2025-04-27T11:59:38.417Z"
   },
   {
    "duration": 7854,
    "start_time": "2025-04-27T12:32:40.529Z"
   },
   {
    "duration": 251362,
    "start_time": "2025-04-27T12:34:56.669Z"
   },
   {
    "duration": 207479,
    "start_time": "2025-04-27T12:55:44.237Z"
   },
   {
    "duration": 742490,
    "start_time": "2025-04-27T13:02:09.821Z"
   },
   {
    "duration": 10241,
    "start_time": "2025-04-27T13:15:39.679Z"
   },
   {
    "duration": 693958,
    "start_time": "2025-04-27T13:17:04.198Z"
   },
   {
    "duration": 699407,
    "start_time": "2025-04-27T13:28:45.116Z"
   },
   {
    "duration": 2815481,
    "start_time": "2025-04-27T13:41:10.538Z"
   },
   {
    "duration": 7154,
    "start_time": "2025-04-27T15:09:48.420Z"
   },
   {
    "duration": 996,
    "start_time": "2025-04-27T15:42:20.809Z"
   },
   {
    "duration": 737,
    "start_time": "2025-04-27T16:00:37.102Z"
   }
  ],
  "kernelspec": {
   "display_name": "Python 3 (ipykernel)",
   "language": "python",
   "name": "python3"
  },
  "language_info": {
   "codemirror_mode": {
    "name": "ipython",
    "version": 3
   },
   "file_extension": ".py",
   "mimetype": "text/x-python",
   "name": "python",
   "nbconvert_exporter": "python",
   "pygments_lexer": "ipython3",
   "version": "3.13.1"
  },
  "toc": {
   "base_numbering": 1,
   "nav_menu": {},
   "number_sections": true,
   "sideBar": true,
   "skip_h1_title": false,
   "title_cell": "Table of Contents",
   "title_sidebar": "Contents",
   "toc_cell": false,
   "toc_position": {
    "height": "calc(100% - 180px)",
    "left": "10px",
    "top": "150px",
    "width": "371.188px"
   },
   "toc_section_display": true,
   "toc_window_display": true
  }
 },
 "nbformat": 4,
 "nbformat_minor": 5
}
