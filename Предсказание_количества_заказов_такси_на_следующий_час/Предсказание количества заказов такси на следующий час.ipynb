{
 "cells": [
  {
   "cell_type": "markdown",
   "id": "dff12cb9-89cf-4fad-9119-52b2a60828d1",
   "metadata": {},
   "source": [
    "## ПРОЕКТ: ВРЕМЕННЫЕ РЯДЫ"
   ]
  },
  {
   "cell_type": "markdown",
   "id": "18783f97-6072-48cb-9cc5-66f4fa1e4cdf",
   "metadata": {},
   "source": [
    "### ОПИСАНИЕ ПРОЕКТА"
   ]
  },
  {
   "cell_type": "markdown",
   "id": "966272d7-7b6c-441e-a044-2c61160c2440",
   "metadata": {},
   "source": [
    "Компания «Чётенькое такси» собрала исторические данные о заказах такси в аэропортах.\\\n",
    "Чтобы привлекать больше водителей в период пиковой нагрузки, нужно спрогнозировать количество заказов такси на следующий час."
   ]
  },
  {
   "cell_type": "markdown",
   "id": "6ffb584b-5f1d-473f-a00b-7086915c97c1",
   "metadata": {},
   "source": [
    "### ЗАДАЧА ПРОЕКТА"
   ]
  },
  {
   "cell_type": "markdown",
   "id": "a0dee4f7-82e1-4ec5-ab20-696c2aa77994",
   "metadata": {},
   "source": [
    "Нужно построить модель для предсказания количества заказов такси на следующий час.\n",
    "Значение метрики RMSE на тестовой выборке должно быть не больше 48."
   ]
  },
  {
   "cell_type": "markdown",
   "id": "6c0daa43-5ce2-420e-9a5c-790afaacb94e",
   "metadata": {},
   "source": [
    "### ПЛАН ПРОЕКТА"
   ]
  },
  {
   "cell_type": "markdown",
   "id": "7f0a1997-ffca-4d05-9226-5c1086879573",
   "metadata": {},
   "source": [
    "1. [Загрузка и изучение данных](#1)\n",
    "2. [Предобработка данных](#process)\n",
    "3. [Исследовательский анализ данных](#research)\n",
    "4. [Составление портрета пользователя каждого региона](#portrait)\n",
    "5. [Общий вывод по проекту](#conclusion)"
   ]
  },
  {
   "cell_type": "markdown",
   "id": "02b4668f-14c3-4ee8-b296-621570892f1b",
   "metadata": {},
   "source": [
    "<a id=\"1\"></a>\n",
    "# Загрузка и изучение данных"
   ]
  },
  {
   "cell_type": "markdown",
   "id": "6909cbe0-ff84-4d1d-ac62-a53bf301a0ff",
   "metadata": {},
   "source": [
    "## Получение данных из файлов, запись в датафреймы"
   ]
  },
  {
   "cell_type": "code",
   "execution_count": 1,
   "id": "cc5620a6-83c3-454b-b322-136fecc05d82",
   "metadata": {},
   "outputs": [],
   "source": [
    "!pip install jupyter_black -q"
   ]
  },
  {
   "cell_type": "code",
   "execution_count": 2,
   "id": "cbce52cf-a173-477c-a103-2b8e27753e37",
   "metadata": {},
   "outputs": [],
   "source": [
    "!pip install -Uq scikit-learn"
   ]
  },
  {
   "cell_type": "markdown",
   "id": "a1a5eb1c-0e7a-4973-812a-35ba18aef061",
   "metadata": {},
   "source": [
    "Импортируем необходимые библиотеки"
   ]
  },
  {
   "cell_type": "code",
   "execution_count": 3,
   "id": "a3696482-ae36-4e51-bf0b-771a8edc1278",
   "metadata": {},
   "outputs": [],
   "source": [
    "# импорт pandas и необходимых библиотек\n",
    "import jupyter_black\n",
    "import matplotlib\n",
    "import matplotlib.pyplot as plt\n",
    "import numpy as np\n",
    "import os\n",
    "import pandas as pd\n",
    "import warnings\n",
    "\n",
    "from sklearn.ensemble import GradientBoostingRegressor, RandomForestRegressor\n",
    "from sklearn.linear_model import LinearRegression\n",
    "from sklearn.metrics import root_mean_squared_error\n",
    "from sklearn.model_selection import (\n",
    "    train_test_split,\n",
    "    RandomizedSearchCV,\n",
    "    TimeSeriesSplit,\n",
    ")\n",
    "from sklearn.pipeline import Pipeline\n",
    "from sklearn.tree import DecisionTreeRegressor\n",
    "from statsmodels.tsa.seasonal import seasonal_decompose\n",
    "\n",
    "warnings.filterwarnings(\"ignore\")\n",
    "\n",
    "jupyter_black.load()\n",
    "\n",
    "RANDOM_STATE = 42"
   ]
  },
  {
   "cell_type": "markdown",
   "id": "3759f2f6-a120-453a-a309-27c0c829f263",
   "metadata": {},
   "source": [
    "Откроем файл, прочтем и запишем в переменную."
   ]
  },
  {
   "cell_type": "code",
   "execution_count": 4,
   "id": "21bd12b9-8e5b-44e8-b60c-7e37f37d02d9",
   "metadata": {},
   "outputs": [],
   "source": [
    "# объявление переменных\n",
    "taxi_file = \"dataset.csv\"\n",
    "user_path = \"...\"\n",
    "general_path = \"...\"\n",
    "\n",
    "\n",
    "# функция для чтения файлов\n",
    "def get_read_file(general_path, user_path, file):\n",
    "    path1 = os.path.join(general_path, file)\n",
    "    path2 = os.path.join(user_path, file)\n",
    "\n",
    "    try:\n",
    "        if os.path.exists(os.path.join(path1)):\n",
    "            return pd.read_csv(\n",
    "                path1,\n",
    "                index_col=[\"datetime\"],\n",
    "                parse_dates=[\"datetime\"],\n",
    "            )\n",
    "        elif os.path.exists(os.path.join(path2)):\n",
    "            return pd.read_csv(\n",
    "                path2,\n",
    "                index_col=[\"datetime\"],\n",
    "                parse_dates=[\"datetime\"],\n",
    "            )\n",
    "    except Exception as err:\n",
    "        print(\"Путь к файлу не найден!\", err)\n",
    "\n",
    "\n",
    "# чтение csv-файла в датафрейм с сохранением в переменную train_job_df\n",
    "taxi_df = get_read_file(general_path, user_path, taxi_file)"
   ]
  },
  {
   "cell_type": "markdown",
   "id": "946ac141-631d-4c03-a56e-f4d4da9dccfe",
   "metadata": {},
   "source": [
    "***"
   ]
  },
  {
   "cell_type": "markdown",
   "id": "63d76fff-b1cd-4e23-8db5-3b8c8685a29a",
   "metadata": {},
   "source": [
    "**ВЫВОД:**\n",
    "\n",
    "1. Данные получены в файле ***\"dataset.csv\"*** и записаны в датафрейм ***\"taxi_df\"***"
   ]
  },
  {
   "cell_type": "markdown",
   "id": "150c03d3-e2c3-45fa-89d5-3e95472583e9",
   "metadata": {},
   "source": [
    "## Изучение данных"
   ]
  },
  {
   "cell_type": "markdown",
   "id": "d1ca1444-f67e-4ebb-9f14-3846c9df67f0",
   "metadata": {},
   "source": [
    "Изучим общую информацию о полученном датафрейме"
   ]
  },
  {
   "cell_type": "code",
   "execution_count": 5,
   "id": "138aa4a7-f141-49f3-8464-f896b4598c10",
   "metadata": {},
   "outputs": [
    {
     "data": {
      "text/html": [
       "<div>\n",
       "<style scoped>\n",
       "    .dataframe tbody tr th:only-of-type {\n",
       "        vertical-align: middle;\n",
       "    }\n",
       "\n",
       "    .dataframe tbody tr th {\n",
       "        vertical-align: top;\n",
       "    }\n",
       "\n",
       "    .dataframe thead th {\n",
       "        text-align: right;\n",
       "    }\n",
       "</style>\n",
       "<table border=\"1\" class=\"dataframe\">\n",
       "  <thead>\n",
       "    <tr style=\"text-align: right;\">\n",
       "      <th></th>\n",
       "      <th>num_orders</th>\n",
       "    </tr>\n",
       "    <tr>\n",
       "      <th>datetime</th>\n",
       "      <th></th>\n",
       "    </tr>\n",
       "  </thead>\n",
       "  <tbody>\n",
       "    <tr>\n",
       "      <th>2018-03-01 00:00:00</th>\n",
       "      <td>9</td>\n",
       "    </tr>\n",
       "    <tr>\n",
       "      <th>2018-03-01 00:10:00</th>\n",
       "      <td>14</td>\n",
       "    </tr>\n",
       "    <tr>\n",
       "      <th>2018-03-01 00:20:00</th>\n",
       "      <td>28</td>\n",
       "    </tr>\n",
       "    <tr>\n",
       "      <th>2018-03-01 00:30:00</th>\n",
       "      <td>20</td>\n",
       "    </tr>\n",
       "    <tr>\n",
       "      <th>2018-03-01 00:40:00</th>\n",
       "      <td>32</td>\n",
       "    </tr>\n",
       "  </tbody>\n",
       "</table>\n",
       "</div>"
      ],
      "text/plain": [
       "                     num_orders\n",
       "datetime                       \n",
       "2018-03-01 00:00:00           9\n",
       "2018-03-01 00:10:00          14\n",
       "2018-03-01 00:20:00          28\n",
       "2018-03-01 00:30:00          20\n",
       "2018-03-01 00:40:00          32"
      ]
     },
     "execution_count": 5,
     "metadata": {},
     "output_type": "execute_result"
    }
   ],
   "source": [
    "# вывод первых 5-ти строчек датафрейма\n",
    "taxi_df.head()"
   ]
  },
  {
   "cell_type": "code",
   "execution_count": 6,
   "id": "7a89c427-a464-4d32-9b1b-8fb57b76204a",
   "metadata": {},
   "outputs": [
    {
     "name": "stdout",
     "output_type": "stream",
     "text": [
      "<class 'pandas.core.frame.DataFrame'>\n",
      "DatetimeIndex: 26496 entries, 2018-03-01 00:00:00 to 2018-08-31 23:50:00\n",
      "Data columns (total 1 columns):\n",
      " #   Column      Non-Null Count  Dtype\n",
      "---  ------      --------------  -----\n",
      " 0   num_orders  26496 non-null  int64\n",
      "dtypes: int64(1)\n",
      "memory usage: 414.0 KB\n"
     ]
    }
   ],
   "source": [
    "# вывод основной информации о датафрейме\n",
    "taxi_df.info()"
   ]
  },
  {
   "cell_type": "markdown",
   "id": "7aa44154-39bd-49c5-a753-22e2616d5a58",
   "metadata": {},
   "source": [
    "Отсортируем индексы датафрейма.\n",
    "Проверим, в хронологическом ли порядке расположены даты и время в датафрейме."
   ]
  },
  {
   "cell_type": "code",
   "execution_count": 7,
   "id": "98e97850-2ba3-4d0e-ad5f-39426c3cdf02",
   "metadata": {},
   "outputs": [
    {
     "name": "stdout",
     "output_type": "stream",
     "text": [
      "True\n"
     ]
    }
   ],
   "source": [
    "# сортировка индекса\n",
    "taxi_df.sort_index(inplace=True)\n",
    "# проверка на монотонность\n",
    "print(taxi_df.index.is_monotonic_increasing)"
   ]
  },
  {
   "cell_type": "markdown",
   "id": "3f438874-d506-4a00-af92-df547b94c554",
   "metadata": {},
   "source": [
    "Ресемплируем данные по одному часу."
   ]
  },
  {
   "cell_type": "code",
   "execution_count": 8,
   "id": "550b0abe-0011-4d6e-bad2-17cfd2bd58e9",
   "metadata": {},
   "outputs": [],
   "source": [
    "# ресемплирование датафрейма\n",
    "taxi_df = taxi_df.resample(\"1H\").sum()"
   ]
  },
  {
   "cell_type": "markdown",
   "id": "093ee757-f791-4ad5-a40e-d458ed5a32d8",
   "metadata": {},
   "source": [
    "***"
   ]
  },
  {
   "cell_type": "markdown",
   "id": "63a8d0b2-a4bb-4311-9a1f-0f7976925f35",
   "metadata": {},
   "source": [
    "**ВЫВОД:**\n",
    "\n",
    "1. Данные были отсортированы по индексу и проверены на монотонность.\n",
    "2. Было выполнено ресемплирование по одному часу."
   ]
  },
  {
   "cell_type": "markdown",
   "id": "b4813e81-45e1-4698-8e90-4e0b59664bae",
   "metadata": {},
   "source": [
    "# Анализ данных"
   ]
  },
  {
   "cell_type": "markdown",
   "id": "13d54c86-e0db-4a3c-8f98-ed1d01278658",
   "metadata": {},
   "source": [
    "Посмотрим, как применилось ресемплирование к датафрейму"
   ]
  },
  {
   "cell_type": "code",
   "execution_count": 9,
   "id": "f1a1c0ee-a2e0-4ef3-8615-391fc931ab66",
   "metadata": {},
   "outputs": [
    {
     "data": {
      "text/html": [
       "<div>\n",
       "<style scoped>\n",
       "    .dataframe tbody tr th:only-of-type {\n",
       "        vertical-align: middle;\n",
       "    }\n",
       "\n",
       "    .dataframe tbody tr th {\n",
       "        vertical-align: top;\n",
       "    }\n",
       "\n",
       "    .dataframe thead th {\n",
       "        text-align: right;\n",
       "    }\n",
       "</style>\n",
       "<table border=\"1\" class=\"dataframe\">\n",
       "  <thead>\n",
       "    <tr style=\"text-align: right;\">\n",
       "      <th></th>\n",
       "      <th>num_orders</th>\n",
       "    </tr>\n",
       "    <tr>\n",
       "      <th>datetime</th>\n",
       "      <th></th>\n",
       "    </tr>\n",
       "  </thead>\n",
       "  <tbody>\n",
       "    <tr>\n",
       "      <th>2018-03-01 00:00:00</th>\n",
       "      <td>124</td>\n",
       "    </tr>\n",
       "    <tr>\n",
       "      <th>2018-03-01 01:00:00</th>\n",
       "      <td>85</td>\n",
       "    </tr>\n",
       "    <tr>\n",
       "      <th>2018-03-01 02:00:00</th>\n",
       "      <td>71</td>\n",
       "    </tr>\n",
       "    <tr>\n",
       "      <th>2018-03-01 03:00:00</th>\n",
       "      <td>66</td>\n",
       "    </tr>\n",
       "    <tr>\n",
       "      <th>2018-03-01 04:00:00</th>\n",
       "      <td>43</td>\n",
       "    </tr>\n",
       "  </tbody>\n",
       "</table>\n",
       "</div>"
      ],
      "text/plain": [
       "                     num_orders\n",
       "datetime                       \n",
       "2018-03-01 00:00:00         124\n",
       "2018-03-01 01:00:00          85\n",
       "2018-03-01 02:00:00          71\n",
       "2018-03-01 03:00:00          66\n",
       "2018-03-01 04:00:00          43"
      ]
     },
     "execution_count": 9,
     "metadata": {},
     "output_type": "execute_result"
    }
   ],
   "source": [
    "# вывод первых 5-ти строчек датафрейма\n",
    "taxi_df.head()"
   ]
  },
  {
   "cell_type": "markdown",
   "id": "9ff94fcf-d339-43e2-a81d-594ba89e41ef",
   "metadata": {},
   "source": [
    "Выведем описательную статистику датафрейма"
   ]
  },
  {
   "cell_type": "code",
   "execution_count": 10,
   "id": "302bc905-e82e-4d5e-887c-0a1ad929a306",
   "metadata": {},
   "outputs": [
    {
     "data": {
      "text/html": [
       "<div>\n",
       "<style scoped>\n",
       "    .dataframe tbody tr th:only-of-type {\n",
       "        vertical-align: middle;\n",
       "    }\n",
       "\n",
       "    .dataframe tbody tr th {\n",
       "        vertical-align: top;\n",
       "    }\n",
       "\n",
       "    .dataframe thead th {\n",
       "        text-align: right;\n",
       "    }\n",
       "</style>\n",
       "<table border=\"1\" class=\"dataframe\">\n",
       "  <thead>\n",
       "    <tr style=\"text-align: right;\">\n",
       "      <th></th>\n",
       "      <th>num_orders</th>\n",
       "    </tr>\n",
       "  </thead>\n",
       "  <tbody>\n",
       "    <tr>\n",
       "      <th>count</th>\n",
       "      <td>4416.000000</td>\n",
       "    </tr>\n",
       "    <tr>\n",
       "      <th>mean</th>\n",
       "      <td>84.422781</td>\n",
       "    </tr>\n",
       "    <tr>\n",
       "      <th>std</th>\n",
       "      <td>45.023853</td>\n",
       "    </tr>\n",
       "    <tr>\n",
       "      <th>min</th>\n",
       "      <td>0.000000</td>\n",
       "    </tr>\n",
       "    <tr>\n",
       "      <th>25%</th>\n",
       "      <td>54.000000</td>\n",
       "    </tr>\n",
       "    <tr>\n",
       "      <th>50%</th>\n",
       "      <td>78.000000</td>\n",
       "    </tr>\n",
       "    <tr>\n",
       "      <th>75%</th>\n",
       "      <td>107.000000</td>\n",
       "    </tr>\n",
       "    <tr>\n",
       "      <th>max</th>\n",
       "      <td>462.000000</td>\n",
       "    </tr>\n",
       "  </tbody>\n",
       "</table>\n",
       "</div>"
      ],
      "text/plain": [
       "        num_orders\n",
       "count  4416.000000\n",
       "mean     84.422781\n",
       "std      45.023853\n",
       "min       0.000000\n",
       "25%      54.000000\n",
       "50%      78.000000\n",
       "75%     107.000000\n",
       "max     462.000000"
      ]
     },
     "execution_count": 10,
     "metadata": {},
     "output_type": "execute_result"
    }
   ],
   "source": [
    "# вывод описательной статистики\n",
    "taxi_df.describe()"
   ]
  },
  {
   "cell_type": "markdown",
   "id": "e1495d1a-a0d7-4f08-9231-d45f42abffac",
   "metadata": {},
   "source": [
    "В датафрейме 4416 строк со значениями от 0 до 462 и средним 84,42"
   ]
  },
  {
   "cell_type": "markdown",
   "id": "1910aa8f",
   "metadata": {},
   "source": [
    "Проведём разложение на тренды и сезонность"
   ]
  },
  {
   "cell_type": "markdown",
   "id": "6b2f4de2",
   "metadata": {},
   "source": [
    "Применим ресемплирование по одному дню и проверим тренды и сезонность по дням недели"
   ]
  },
  {
   "cell_type": "code",
   "execution_count": 11,
   "id": "3687f843",
   "metadata": {},
   "outputs": [],
   "source": [
    "# применение функции разложения\n",
    "decomposed = seasonal_decompose(taxi_df[\"2018-03\":\"2018-04\"].resample(\"1D\").sum())"
   ]
  },
  {
   "cell_type": "code",
   "execution_count": 12,
   "id": "c5673bf2",
   "metadata": {},
   "outputs": [
    {
     "data": {
      "image/png": "[encoded data removed]",
      "text/plain": [
       "<Figure size 600x800 with 3 Axes>"
      ]
     },
     "metadata": {},
     "output_type": "display_data"
    }
   ],
   "source": [
    "# построение графиков\n",
    "plt.figure(figsize=(6, 8))\n",
    "plt.subplot(311)\n",
    "decomposed.trend.plot(ax=plt.gca())\n",
    "plt.title(\"Trend\")\n",
    "plt.subplot(312)\n",
    "decomposed.seasonal.plot(ax=plt.gca())\n",
    "plt.title(\"Seasonality\")\n",
    "plt.subplot(313)\n",
    "decomposed.resid.plot(ax=plt.gca())\n",
    "plt.title(\"Residuals\")\n",
    "plt.tight_layout()"
   ]
  },
  {
   "cell_type": "markdown",
   "id": "8ef84c84",
   "metadata": {},
   "source": [
    "Тренд: заметно увеличение значений.\n",
    "Сезонность: чёткие периоды сезонности.\n",
    "Остатки: неравномерные."
   ]
  },
  {
   "cell_type": "markdown",
   "id": "87d9e5da",
   "metadata": {},
   "source": [
    "Обратим внимание на сезонность"
   ]
  },
  {
   "cell_type": "code",
   "execution_count": 13,
   "id": "05361151",
   "metadata": {},
   "outputs": [
    {
     "data": {
      "image/png": "[encoded data removed]",
      "text/plain": [
       "<Figure size 1400x800 with 1 Axes>"
      ]
     },
     "metadata": {},
     "output_type": "display_data"
    }
   ],
   "source": [
    "# визуализация сезонности\n",
    "plt.figure(figsize=(14, 8))\n",
    "decomposed.seasonal.plot()\n",
    "plt.title(\"Сезонность\")\n",
    "plt.xlabel(\"Дата\")\n",
    "plt.xticks()\n",
    "plt.ylabel(\"Количество заказов\")\n",
    "plt.grid(True)\n",
    "plt.show()"
   ]
  },
  {
   "cell_type": "markdown",
   "id": "8faef472",
   "metadata": {},
   "source": [
    "На графике явно видны сезонные колебания с периодичностью в 7 дней."
   ]
  },
  {
   "cell_type": "markdown",
   "id": "e21382b8",
   "metadata": {},
   "source": [
    "Посмотрим на сезонные колебания на примере одной недели"
   ]
  },
  {
   "cell_type": "code",
   "execution_count": 14,
   "id": "d482ea77",
   "metadata": {},
   "outputs": [],
   "source": [
    "# запись во вспомогательный датафрейм\n",
    "dow_df = taxi_df[\"2018-03-05\":\"2018-03-11\"].resample(\"1D\").sum()\n",
    "dow_df[\"date\"] = dow_df.index\n",
    "dow_df[\"day_of_week\"] = dow_df[\"date\"].dt.day_name()"
   ]
  },
  {
   "cell_type": "code",
   "execution_count": 15,
   "id": "df9863ec",
   "metadata": {},
   "outputs": [
    {
     "data": {
      "image/png": "[encoded data removed]",
      "text/plain": [
       "<Figure size 1200x600 with 1 Axes>"
      ]
     },
     "metadata": {},
     "output_type": "display_data"
    }
   ],
   "source": [
    "# построение графика\n",
    "plt.figure(figsize=(12, 6))\n",
    "plt.plot(\n",
    "    dow_df[\"day_of_week\"],\n",
    "    dow_df[\"num_orders\"],\n",
    "    linestyle=\"-\",\n",
    ")\n",
    "plt.title(\"Количество заказов по дням недели\")\n",
    "plt.xlabel(\"День недели\")\n",
    "plt.ylabel(\"Количество заказов\")\n",
    "plt.grid(True)\n",
    "plt.show()"
   ]
  },
  {
   "cell_type": "markdown",
   "id": "7bfa761c",
   "metadata": {},
   "source": [
    "В сезонности отмечаются 2 пика значений: в четверг и воскресенье.\n",
    "Также видны 2 минимума: во вторник и пятницу."
   ]
  },
  {
   "cell_type": "markdown",
   "id": "7634aa28",
   "metadata": {},
   "source": [
    "Проверим тренды и сезонность по времени суток"
   ]
  },
  {
   "cell_type": "code",
   "execution_count": 16,
   "id": "4952981b",
   "metadata": {},
   "outputs": [],
   "source": [
    "# применение функции разложения\n",
    "decomposed = seasonal_decompose(taxi_df[\"2018-03-01\":\"2018-03-03\"])"
   ]
  },
  {
   "cell_type": "code",
   "execution_count": 17,
   "id": "fffd32c0",
   "metadata": {},
   "outputs": [
    {
     "data": {
      "image/png": "[encoded data removed]",
      "text/plain": [
       "<Figure size 600x800 with 3 Axes>"
      ]
     },
     "metadata": {},
     "output_type": "display_data"
    }
   ],
   "source": [
    "# построение графиков\n",
    "plt.figure(figsize=(6, 8))\n",
    "plt.subplot(311)\n",
    "decomposed.trend.plot(ax=plt.gca())\n",
    "plt.title(\"Trend\")\n",
    "plt.subplot(312)\n",
    "decomposed.seasonal.plot(ax=plt.gca())\n",
    "plt.title(\"Seasonality\")\n",
    "plt.subplot(313)\n",
    "decomposed.resid.plot(ax=plt.gca())\n",
    "plt.title(\"Residuals\")\n",
    "plt.tight_layout()"
   ]
  },
  {
   "cell_type": "markdown",
   "id": "f8d83b5f",
   "metadata": {},
   "source": [
    "Тренд: нет выраженного.\n",
    "Сезонность: чёткие периоды сезонности.\n",
    "Остатки: равномерно распределены около нуля."
   ]
  },
  {
   "cell_type": "markdown",
   "id": "274576d6",
   "metadata": {},
   "source": [
    "На графике явно видны сезонные колебания с периодичностью в сутки."
   ]
  },
  {
   "cell_type": "markdown",
   "id": "56a74d5d",
   "metadata": {},
   "source": [
    "Посмотрим на сезонные колебания на примере одних суток"
   ]
  },
  {
   "cell_type": "code",
   "execution_count": 18,
   "id": "6c838d1f",
   "metadata": {},
   "outputs": [],
   "source": [
    "# запись во вспомогательный датафрейм\n",
    "day_df = taxi_df[\"2018-03-01\":\"2018-03-01\"]"
   ]
  },
  {
   "cell_type": "code",
   "execution_count": 19,
   "id": "edd1485d",
   "metadata": {},
   "outputs": [
    {
     "data": {
      "image/png": "[encoded data removed]",
      "text/plain": [
       "<Figure size 1200x600 with 1 Axes>"
      ]
     },
     "metadata": {},
     "output_type": "display_data"
    }
   ],
   "source": [
    "# построение графика\n",
    "plt.figure(figsize=(12, 6))\n",
    "plt.plot(\n",
    "    day_df.index,\n",
    "    day_df[\"num_orders\"],\n",
    "    linestyle=\"-\",\n",
    ")\n",
    "plt.title(\"Количество заказов по часам\")\n",
    "plt.xlabel(\"Время\")\n",
    "plt.ylabel(\"Количество заказов\")\n",
    "plt.grid(True)\n",
    "plt.show()"
   ]
  },
  {
   "cell_type": "markdown",
   "id": "7d0bfdb8",
   "metadata": {},
   "source": [
    "Сезонность в течении суток имеет 3 пика значений: в полночь, в 11 часов и в 22 часа.\n",
    "Также есть 2 минимума: в 5 часов утра и полдень."
   ]
  },
  {
   "cell_type": "markdown",
   "id": "99075c42",
   "metadata": {},
   "source": [
    "***"
   ]
  },
  {
   "cell_type": "markdown",
   "id": "713368cd",
   "metadata": {},
   "source": [
    "**ВЫВОД:**\n",
    "\n",
    "1. В датафрейме 4416 строк со значениями от 0 до 462 и средним 84,42\n",
    "2. Было применено ресемплирование по одному дню и проверены тренды и сезонность по дням недели\n",
    "3. По дням недели:\n",
    "   - Тренд: заметно увеличение значений.\n",
    "   - Сезонность: чёткие периоды сезонности.\n",
    "   - Остатки: неравномерные.\n",
    "4. На графике явно видны сезонные колебания с периодичностью в 7 дней.\n",
    "5. В сезонности отмечаются 2 пика значений: в четверг и воскресенье.\n",
    "   Также видны 2 минимума: во вторник и пятницу.\n",
    "6. Были проверены тренды и сезонность по времени суток\n",
    "7. По времени суток:\n",
    "   - Тренд: нет выраженного.\n",
    "   - Сезонность: чёткие периоды сезонности.\n",
    "   - Остатки: равномерно распределены около нуля.\n",
    "8. На графике явно видны сезонные колебания с периодичностью в сутки.\n",
    "9. Сезонность в течении суток имеет 3 пика значений: в полночь, в 11 часов и в 22 часа.\n",
    "   Также есть 2 минимума: в 5 часов утра и полдень."
   ]
  },
  {
   "cell_type": "markdown",
   "id": "e1b6e459-8ae6-4b3c-b6fe-f6f037a9ebbb",
   "metadata": {},
   "source": [
    "# Обучение моделей"
   ]
  },
  {
   "cell_type": "markdown",
   "id": "9d26644d-7dd8-4e94-b5e2-28afa13a5046",
   "metadata": {},
   "source": [
    "## Создание признаков"
   ]
  },
  {
   "cell_type": "markdown",
   "id": "c4e3bc97-af8f-470f-a591-ab468eede191",
   "metadata": {},
   "source": [
    "Создадим признаки для прогнозирования:\n",
    "- календарные: `'month'`, `'day'`, `'dayofweek'`, `'hour'`\n",
    "- отстающие значения: `'lag_1'`,\t`'lag_2'`,\t`'lag_3'`,\t`'lag_4'`\n",
    "- скользящее среднее: `'rolling_mean'`"
   ]
  },
  {
   "cell_type": "code",
   "execution_count": 20,
   "id": "57ada569-38d8-4fb6-8d0a-5e2bb1a2744c",
   "metadata": {},
   "outputs": [],
   "source": [
    "# объявление функции для создания признаков\n",
    "def make_features(df, max_lag, rolling_mean_size):\n",
    "    df = df.copy()\n",
    "    df[\"month\"] = df.index.month\n",
    "    df[\"day\"] = df.index.day\n",
    "    df[\"dayofweek\"] = df.index.dayofweek\n",
    "    df[\"hour\"] = df.index.hour\n",
    "\n",
    "    for lag in range(1, max_lag + 1):\n",
    "        df[\"lag_{}\".format(lag)] = df[\"num_orders\"].shift(lag)\n",
    "\n",
    "    df[\"rolling_mean\"] = df[\"num_orders\"].shift().rolling(rolling_mean_size).mean()\n",
    "    return df\n",
    "\n",
    "\n",
    "# вызов функции\n",
    "df = make_features(taxi_df, 24, 24)"
   ]
  },
  {
   "cell_type": "markdown",
   "id": "4a79c8bc-1518-4518-b980-fce62697c802",
   "metadata": {},
   "source": [
    "Проверим создание признаков"
   ]
  },
  {
   "cell_type": "code",
   "execution_count": 21,
   "id": "04d9e9fa-2bc6-46e5-b0cf-11f276e5a1d5",
   "metadata": {},
   "outputs": [
    {
     "data": {
      "text/html": [
       "<div>\n",
       "<style scoped>\n",
       "    .dataframe tbody tr th:only-of-type {\n",
       "        vertical-align: middle;\n",
       "    }\n",
       "\n",
       "    .dataframe tbody tr th {\n",
       "        vertical-align: top;\n",
       "    }\n",
       "\n",
       "    .dataframe thead th {\n",
       "        text-align: right;\n",
       "    }\n",
       "</style>\n",
       "<table border=\"1\" class=\"dataframe\">\n",
       "  <thead>\n",
       "    <tr style=\"text-align: right;\">\n",
       "      <th></th>\n",
       "      <th>num_orders</th>\n",
       "      <th>month</th>\n",
       "      <th>day</th>\n",
       "      <th>dayofweek</th>\n",
       "      <th>hour</th>\n",
       "      <th>lag_1</th>\n",
       "      <th>lag_2</th>\n",
       "      <th>lag_3</th>\n",
       "      <th>lag_4</th>\n",
       "      <th>lag_5</th>\n",
       "      <th>...</th>\n",
       "      <th>lag_16</th>\n",
       "      <th>lag_17</th>\n",
       "      <th>lag_18</th>\n",
       "      <th>lag_19</th>\n",
       "      <th>lag_20</th>\n",
       "      <th>lag_21</th>\n",
       "      <th>lag_22</th>\n",
       "      <th>lag_23</th>\n",
       "      <th>lag_24</th>\n",
       "      <th>rolling_mean</th>\n",
       "    </tr>\n",
       "    <tr>\n",
       "      <th>datetime</th>\n",
       "      <th></th>\n",
       "      <th></th>\n",
       "      <th></th>\n",
       "      <th></th>\n",
       "      <th></th>\n",
       "      <th></th>\n",
       "      <th></th>\n",
       "      <th></th>\n",
       "      <th></th>\n",
       "      <th></th>\n",
       "      <th></th>\n",
       "      <th></th>\n",
       "      <th></th>\n",
       "      <th></th>\n",
       "      <th></th>\n",
       "      <th></th>\n",
       "      <th></th>\n",
       "      <th></th>\n",
       "      <th></th>\n",
       "      <th></th>\n",
       "      <th></th>\n",
       "    </tr>\n",
       "  </thead>\n",
       "  <tbody>\n",
       "    <tr>\n",
       "      <th>2018-03-01 00:00:00</th>\n",
       "      <td>124</td>\n",
       "      <td>3</td>\n",
       "      <td>1</td>\n",
       "      <td>3</td>\n",
       "      <td>0</td>\n",
       "      <td>NaN</td>\n",
       "      <td>NaN</td>\n",
       "      <td>NaN</td>\n",
       "      <td>NaN</td>\n",
       "      <td>NaN</td>\n",
       "      <td>...</td>\n",
       "      <td>NaN</td>\n",
       "      <td>NaN</td>\n",
       "      <td>NaN</td>\n",
       "      <td>NaN</td>\n",
       "      <td>NaN</td>\n",
       "      <td>NaN</td>\n",
       "      <td>NaN</td>\n",
       "      <td>NaN</td>\n",
       "      <td>NaN</td>\n",
       "      <td>NaN</td>\n",
       "    </tr>\n",
       "    <tr>\n",
       "      <th>2018-03-01 01:00:00</th>\n",
       "      <td>85</td>\n",
       "      <td>3</td>\n",
       "      <td>1</td>\n",
       "      <td>3</td>\n",
       "      <td>1</td>\n",
       "      <td>124.0</td>\n",
       "      <td>NaN</td>\n",
       "      <td>NaN</td>\n",
       "      <td>NaN</td>\n",
       "      <td>NaN</td>\n",
       "      <td>...</td>\n",
       "      <td>NaN</td>\n",
       "      <td>NaN</td>\n",
       "      <td>NaN</td>\n",
       "      <td>NaN</td>\n",
       "      <td>NaN</td>\n",
       "      <td>NaN</td>\n",
       "      <td>NaN</td>\n",
       "      <td>NaN</td>\n",
       "      <td>NaN</td>\n",
       "      <td>NaN</td>\n",
       "    </tr>\n",
       "    <tr>\n",
       "      <th>2018-03-01 02:00:00</th>\n",
       "      <td>71</td>\n",
       "      <td>3</td>\n",
       "      <td>1</td>\n",
       "      <td>3</td>\n",
       "      <td>2</td>\n",
       "      <td>85.0</td>\n",
       "      <td>124.0</td>\n",
       "      <td>NaN</td>\n",
       "      <td>NaN</td>\n",
       "      <td>NaN</td>\n",
       "      <td>...</td>\n",
       "      <td>NaN</td>\n",
       "      <td>NaN</td>\n",
       "      <td>NaN</td>\n",
       "      <td>NaN</td>\n",
       "      <td>NaN</td>\n",
       "      <td>NaN</td>\n",
       "      <td>NaN</td>\n",
       "      <td>NaN</td>\n",
       "      <td>NaN</td>\n",
       "      <td>NaN</td>\n",
       "    </tr>\n",
       "    <tr>\n",
       "      <th>2018-03-01 03:00:00</th>\n",
       "      <td>66</td>\n",
       "      <td>3</td>\n",
       "      <td>1</td>\n",
       "      <td>3</td>\n",
       "      <td>3</td>\n",
       "      <td>71.0</td>\n",
       "      <td>85.0</td>\n",
       "      <td>124.0</td>\n",
       "      <td>NaN</td>\n",
       "      <td>NaN</td>\n",
       "      <td>...</td>\n",
       "      <td>NaN</td>\n",
       "      <td>NaN</td>\n",
       "      <td>NaN</td>\n",
       "      <td>NaN</td>\n",
       "      <td>NaN</td>\n",
       "      <td>NaN</td>\n",
       "      <td>NaN</td>\n",
       "      <td>NaN</td>\n",
       "      <td>NaN</td>\n",
       "      <td>NaN</td>\n",
       "    </tr>\n",
       "    <tr>\n",
       "      <th>2018-03-01 04:00:00</th>\n",
       "      <td>43</td>\n",
       "      <td>3</td>\n",
       "      <td>1</td>\n",
       "      <td>3</td>\n",
       "      <td>4</td>\n",
       "      <td>66.0</td>\n",
       "      <td>71.0</td>\n",
       "      <td>85.0</td>\n",
       "      <td>124.0</td>\n",
       "      <td>NaN</td>\n",
       "      <td>...</td>\n",
       "      <td>NaN</td>\n",
       "      <td>NaN</td>\n",
       "      <td>NaN</td>\n",
       "      <td>NaN</td>\n",
       "      <td>NaN</td>\n",
       "      <td>NaN</td>\n",
       "      <td>NaN</td>\n",
       "      <td>NaN</td>\n",
       "      <td>NaN</td>\n",
       "      <td>NaN</td>\n",
       "    </tr>\n",
       "  </tbody>\n",
       "</table>\n",
       "<p>5 rows × 30 columns</p>\n",
       "</div>"
      ],
      "text/plain": [
       "                     num_orders  month  day  dayofweek  hour  lag_1  lag_2  \\\n",
       "datetime                                                                     \n",
       "2018-03-01 00:00:00         124      3    1          3     0    NaN    NaN   \n",
       "2018-03-01 01:00:00          85      3    1          3     1  124.0    NaN   \n",
       "2018-03-01 02:00:00          71      3    1          3     2   85.0  124.0   \n",
       "2018-03-01 03:00:00          66      3    1          3     3   71.0   85.0   \n",
       "2018-03-01 04:00:00          43      3    1          3     4   66.0   71.0   \n",
       "\n",
       "                     lag_3  lag_4  lag_5  ...  lag_16  lag_17  lag_18  lag_19  \\\n",
       "datetime                                  ...                                   \n",
       "2018-03-01 00:00:00    NaN    NaN    NaN  ...     NaN     NaN     NaN     NaN   \n",
       "2018-03-01 01:00:00    NaN    NaN    NaN  ...     NaN     NaN     NaN     NaN   \n",
       "2018-03-01 02:00:00    NaN    NaN    NaN  ...     NaN     NaN     NaN     NaN   \n",
       "2018-03-01 03:00:00  124.0    NaN    NaN  ...     NaN     NaN     NaN     NaN   \n",
       "2018-03-01 04:00:00   85.0  124.0    NaN  ...     NaN     NaN     NaN     NaN   \n",
       "\n",
       "                     lag_20  lag_21  lag_22  lag_23  lag_24  rolling_mean  \n",
       "datetime                                                                   \n",
       "2018-03-01 00:00:00     NaN     NaN     NaN     NaN     NaN           NaN  \n",
       "2018-03-01 01:00:00     NaN     NaN     NaN     NaN     NaN           NaN  \n",
       "2018-03-01 02:00:00     NaN     NaN     NaN     NaN     NaN           NaN  \n",
       "2018-03-01 03:00:00     NaN     NaN     NaN     NaN     NaN           NaN  \n",
       "2018-03-01 04:00:00     NaN     NaN     NaN     NaN     NaN           NaN  \n",
       "\n",
       "[5 rows x 30 columns]"
      ]
     },
     "execution_count": 21,
     "metadata": {},
     "output_type": "execute_result"
    }
   ],
   "source": [
    "# вывод первых строк датафрейма\n",
    "df.head()"
   ]
  },
  {
   "cell_type": "markdown",
   "id": "968b24f6-a8db-4abb-947c-ce77a26e3d4e",
   "metadata": {},
   "source": [
    "## Подготовка данных"
   ]
  },
  {
   "cell_type": "markdown",
   "id": "9a208fd2-4b0a-46b7-b61d-69b4b56cbd8f",
   "metadata": {},
   "source": [
    "Так как тагрет - количественный признак, будем решать задачу регрессии."
   ]
  },
  {
   "cell_type": "markdown",
   "id": "aff219da-47dc-497b-8cf4-75920085c4f9",
   "metadata": {},
   "source": [
    "Сформируем тренировочную и тестовую выборки."
   ]
  },
  {
   "cell_type": "code",
   "execution_count": 22,
   "id": "3b249578-8da2-488a-99d9-1c4e853a8614",
   "metadata": {},
   "outputs": [],
   "source": [
    "# формирование тренировочной и тестовой выборок\n",
    "train, test = train_test_split(df, shuffle=False, test_size=0.1)\n",
    "train = train.dropna()"
   ]
  },
  {
   "cell_type": "markdown",
   "id": "a546dafd-ef77-401d-a33e-35e6414434fb",
   "metadata": {},
   "source": [
    "Проверим разделение."
   ]
  },
  {
   "cell_type": "code",
   "execution_count": 23,
   "id": "f558f579-2c04-4b0b-856a-bec7d3a71c9c",
   "metadata": {},
   "outputs": [
    {
     "name": "stdout",
     "output_type": "stream",
     "text": [
      "2018-03-02 00:00:00 2018-08-13 13:00:00\n",
      "2018-08-13 14:00:00 2018-08-31 23:00:00\n"
     ]
    }
   ],
   "source": [
    "print(train.index.min(), train.index.max())\n",
    "print(test.index.min(), test.index.max())"
   ]
  },
  {
   "cell_type": "code",
   "execution_count": 24,
   "id": "67324548-484d-4a75-9b14-59e2dca621ad",
   "metadata": {},
   "outputs": [
    {
     "data": {
      "text/plain": [
       "((3950, 30), (442, 30))"
      ]
     },
     "execution_count": 24,
     "metadata": {},
     "output_type": "execute_result"
    }
   ],
   "source": [
    "# вывод размеров выборок\n",
    "train.shape, test.shape"
   ]
  },
  {
   "cell_type": "markdown",
   "id": "e44501bf-368d-4ee9-bb04-40a25f7db190",
   "metadata": {},
   "source": [
    "В выборках выделим входные признаки и таргет. "
   ]
  },
  {
   "cell_type": "code",
   "execution_count": 25,
   "id": "21aabad3-7d47-47f5-a94e-8dbc673e44ba",
   "metadata": {},
   "outputs": [],
   "source": [
    "# разделение на входные признаки и таргет\n",
    "X_train = train.drop(columns=\"num_orders\")\n",
    "y_train = train[\"num_orders\"]\n",
    "X_test = test.drop(columns=\"num_orders\")\n",
    "y_test = test[\"num_orders\"]"
   ]
  },
  {
   "cell_type": "markdown",
   "id": "25198319-345d-4a08-9df1-e589e9612468",
   "metadata": {},
   "source": [
    "Создадим пайплайн"
   ]
  },
  {
   "cell_type": "code",
   "execution_count": 26,
   "id": "2f99fd04-1a3f-4ab1-ac10-70e34037e70a",
   "metadata": {},
   "outputs": [],
   "source": [
    "# создание pipeline с инициализацией модели\n",
    "pipe_final = Pipeline(\n",
    "    [\n",
    "        (\"models\", LinearRegression()),\n",
    "    ]\n",
    ")"
   ]
  },
  {
   "cell_type": "markdown",
   "id": "81689f21-af37-4faa-87cc-6ca80b0f7587",
   "metadata": {},
   "source": [
    "## Выбор модели и расчёт метрики"
   ]
  },
  {
   "cell_type": "markdown",
   "id": "64b907a0-2e24-4a90-9c89-66409d506c4b",
   "metadata": {},
   "source": [
    "Будем обучать модели с гиперпараметрами:\n",
    " - LinearRegression()\n",
    " - DecisionTreeRegressor() с ***max_depth***, ***min_samples_split***, ***min_samples_leaf***\n",
    " - RandomForestRegressor() с ***max_depth***, ***n_estimators***\n",
    " - GradientBoostingRegressor() с ***max_depth***, ***min_samples_split***, ***min_samples_leaf***\n",
    "\n",
    "Для подбора лучшей модели с гиперпараметрами будем использовать\n",
    " - RandomizedSearchCV()\n",
    "\n",
    "Для оценки качества работы модели применим метрику RMSE"
   ]
  },
  {
   "cell_type": "markdown",
   "id": "57d7f284-3612-4080-902e-4350df5e4538",
   "metadata": {},
   "source": [
    "Опишем модели с гиперпараметрами"
   ]
  },
  {
   "cell_type": "code",
   "execution_count": 27,
   "id": "2485e693-6af7-4871-b37b-7ff10ee06b7d",
   "metadata": {},
   "outputs": [],
   "source": [
    "param_grid = [\n",
    "    # словарь для модели LinearRegression()\n",
    "    {\n",
    "        \"models\": [LinearRegression()],\n",
    "    },\n",
    "    # словарь для модели DecisionTreeRegressor()\n",
    "    {\n",
    "        \"models\": [DecisionTreeRegressor(random_state=RANDOM_STATE)],\n",
    "        \"models__max_depth\": range(3, 10),\n",
    "        \"models__min_samples_split\": range(2, 10),\n",
    "        \"models__min_samples_leaf\": range(2, 10),\n",
    "    },\n",
    "    # словарь для модели RandomForestRegressor()\n",
    "    {\n",
    "        \"models\": [RandomForestRegressor(random_state=RANDOM_STATE)],\n",
    "        \"models__max_depth\": range(2, 20, 2),\n",
    "        \"models__n_estimators\": range(3, 20, 2),\n",
    "    },\n",
    "    # словарь для модели GradientBoostingRegressor()\n",
    "    {\n",
    "        \"models\": [GradientBoostingRegressor()],\n",
    "        \"models__max_depth\": range(3, 10),\n",
    "        \"models__min_samples_split\": range(2, 10),\n",
    "        \"models__min_samples_leaf\": range(2, 10),\n",
    "    },\n",
    "]"
   ]
  },
  {
   "cell_type": "markdown",
   "id": "8bf5611b-dee1-445e-ab3a-2436292cbe7a",
   "metadata": {},
   "source": [
    "Выберем лучшую модель с гиперпараметрами с помощью GridSearchCV()"
   ]
  },
  {
   "cell_type": "code",
   "execution_count": 28,
   "id": "d0907b86-404c-492f-91e6-83a3f4b81516",
   "metadata": {},
   "outputs": [
    {
     "name": "stdout",
     "output_type": "stream",
     "text": [
      "Лучшая модель и её параметры:\n",
      "\n",
      " Pipeline(steps=[('models',\n",
      "                 GradientBoostingRegressor(max_depth=4, min_samples_leaf=6))])\n",
      "Качество модели на кросс-валидации по метрике RMSE - 24.734\n"
     ]
    }
   ],
   "source": [
    "# подбор лучшей модели с гиперпараметрами\n",
    "rs = RandomizedSearchCV(\n",
    "    pipe_final,\n",
    "    param_grid,\n",
    "    cv=TimeSeriesSplit(n_splits=5),\n",
    "    scoring=\"neg_root_mean_squared_error\",\n",
    "    n_iter=200,\n",
    "    random_state=RANDOM_STATE,\n",
    "    n_jobs=-1,\n",
    ")\n",
    "rs.fit(X_train, y_train)\n",
    "\n",
    "print(\"Лучшая модель и её параметры:\\n\\n\", rs.best_estimator_)\n",
    "print(\n",
    "    f\"Качество модели на кросс-валидации по метрике RMSE - {round(rs.best_score_, 3)*-1}\"\n",
    ")"
   ]
  },
  {
   "cell_type": "markdown",
   "id": "9b5b3cd0-2142-4262-89f9-1d4e5ee8eb9e",
   "metadata": {},
   "source": [
    "***"
   ]
  },
  {
   "cell_type": "markdown",
   "id": "8d95e426-7938-45b9-9eb8-a49b4b3c9811",
   "metadata": {},
   "source": [
    "**ВЫВОД:**\n",
    "\n",
    "1. Были созданы новые признаки для прогнозирования:\n",
    "   - календарные: `'month'`, `'day'`, `'dayofweek'`, `'hour'`\n",
    "   - отстающие значения: `'lag_1'`,\t`'lag_2'`,\tи т.д. до `'lag_24'`\n",
    "   - скользящее среднее: `'rolling_mean'`\n",
    "2. Так как тагрет - количественный признак, будем решать задачу регрессии.\n",
    "3. Были обучены модели с гиперпараметрами:\n",
    "   - LinearRegression()\n",
    "   - DecisionTreeRegressor() с ***max_depth***, ***min_samples_split***, ***min_samples_leaf***\n",
    "   - RandomForestRegressor() с ***max_depth***, ***n_estimators***\n",
    "   - GradientBoostingRegressor() с ***max_depth***, ***min_samples_split***, ***min_samples_leaf***\n",
    "4. Для подбора лучшей модели с гиперпараметрами была использована\n",
    "   - RandomizedSearchCV()\n",
    "5. Для оценки качества работы модели была применена метрику RMSE\n",
    "6. Лучшая модель - **GradientBoostingRegressor()** с гиперпараметрами ***max_depth*** =4, ***min_samples_leaf*** =6, ***min_samples_split*** =7        \n",
    "7. Метрика RMSE модели **GradientBoostingRegressor()** на кросс-валидации 24.734"
   ]
  },
  {
   "cell_type": "markdown",
   "id": "b71f3193-563e-446f-8697-672ba2b939c7",
   "metadata": {},
   "source": [
    "# Проверка данных на тестовой выборке"
   ]
  },
  {
   "cell_type": "markdown",
   "id": "93e0d75a-3cd3-4bcd-8a4c-5acf3f1b2708",
   "metadata": {},
   "source": [
    "Проверим качество обученной модели **GradientBoostingRegressor()** с гиперпараметрами на тестовой выборке"
   ]
  },
  {
   "cell_type": "code",
   "execution_count": 29,
   "id": "78870eea-c4ac-4f3a-bf39-be7d6f467137",
   "metadata": {},
   "outputs": [
    {
     "name": "stdout",
     "output_type": "stream",
     "text": [
      "Качество модели на тестовой выборке по метрике RMSE - 41.701\n"
     ]
    }
   ],
   "source": [
    "# рассчёт метрики\n",
    "result_rs = root_mean_squared_error(y_test, rs.predict(X_test))\n",
    "print(f\"Качество модели на тестовой выборке по метрике RMSE - {round(result_rs, 3)}\")"
   ]
  },
  {
   "cell_type": "markdown",
   "id": "dbec35c6-208e-49cc-9038-49a704adf0e5",
   "metadata": {},
   "source": [
    "***"
   ]
  },
  {
   "cell_type": "markdown",
   "id": "9a9aeedd-5c8e-48aa-83b5-ca04f1fcf63d",
   "metadata": {},
   "source": [
    "**ВЫВОД:**\n",
    "\n",
    "1. Модель **GradientBoostingRegressor()** имеет качество по метрике RMSE на тестовой выборке - 41.701"
   ]
  },
  {
   "cell_type": "markdown",
   "id": "d2929f38-91dc-4bc3-b225-9091b66e8e55",
   "metadata": {},
   "source": [
    "# ОБЩИЙ ВЫВОД"
   ]
  },
  {
   "cell_type": "markdown",
   "id": "f5e4768f-83d0-45e5-9ed8-6aa0c4e8e047",
   "metadata": {},
   "source": [
    "**ВХОДНЫЕ ДАННЫЕ:**\n",
    "1. Исследование проведено на базе данных компании \"Чётенькое такси\"\n",
    "2. Данные представлены файлом taxi.csv\n",
    "3. Данные получены и записаны в датафрейм ***taxi_df***\n",
    "4. Данные были отсортированы по индексу и проверены на монотонность.\n",
    "5. Было выполнено ресемплирование по одному часу.\n",
    "\n",
    "\n",
    "\n",
    "**НА ЭТАПЕ АНАЛИЗА ДАННЫХ:**\n",
    "\n",
    "1. В датафрейме 4416 строк со значениями от 0 до 462 и средним 84,42\n",
    "2. Было применено ресемплирование по одному дню и проверены тренды и сезонность по дням недели\n",
    "3. По дням недели:\n",
    "   - Тренд: заметно увеличение значений.\n",
    "   - Сезонность: чёткие периоды сезонности.\n",
    "   - Остатки: неравномерные.\n",
    "4. На графике явно видны сезонные колебания с периодичностью в 7 дней.\n",
    "5. В сезонности отмечаются 2 пика значений: в четверг и воскресенье.\n",
    "   Также видны 2 минимума: во вторник и пятницу.\n",
    "6. Были проверены тренды и сезонность по времени суток\n",
    "7. По времени суток:\n",
    "   - Тренд: нет выраженного.\n",
    "   - Сезонность: чёткие периоды сезонности.\n",
    "   - Остатки: равномерно распределены около нуля.\n",
    "8. На графике явно видны сезонные колебания с периодичностью в сутки.\n",
    "9. Сезонность в течении суток имеет 3 пика значений: в полночь, в 11 часов и в 22 часа.\n",
    "   Также есть 2 минимума: в 5 часов утра и полдень.\n",
    "\n",
    "\n",
    "**НА ЭТАПЕ ОБУЧЕНИЯ МОДЕЛЕЙ:**\n",
    "1. Были созданы новые признаки для прогнозирования:\n",
    "   - календарные: `'month'`, `'day'`, `'dayofweek'`, `'hour'`\n",
    "   - отстающие значения: `'lag_1'`,\t`'lag_2'`,\t`'lag_3'`,\t`'lag_4'`\n",
    "   - скользящее среднее: `'rolling_mean'`\n",
    "2. Так как тагрет - количественный признак, будем решать задачу регрессии.\n",
    "3. Были обучены модели с гиперпараметрами:\n",
    "   - LinearRegression()\n",
    "   - DecisionTreeRegressor() с ***max_depth***, ***min_samples_split***, ***min_samples_leaf***\n",
    "   - RandomForestRegressor() с ***max_depth***, ***n_estimators***\n",
    "   - GradientBoostingRegressor() с ***max_depth***, ***min_samples_split***, ***min_samples_leaf***\n",
    "4. Для подбора лучшей модели с гиперпараметрами была использована\n",
    "   - RandomizedSearchCV()\n",
    "5. Для оценки качества работы модели была применена метрику RMSE\n",
    "6. Лучшая модель - **GradientBoostingRegressor()** с гиперпараметрами ***max_depth*** =6, ***min_samples_leaf*** =5, ***min_samples_split*** =9         \n",
    "7. Метрика RMSE модели **GradientBoostingRegressor()** на кросс-валидации 23.842\n",
    "\n",
    "\n",
    "\n",
    "**НА ЭТАПЕ ПРОВЕРКИ ДАННЫХ:**\n",
    "1. Модель **GradientBoostingRegressor()** имеет качество по метрике RMSE на тестовой выборке - 45.105\n",
    "\n",
    "\n",
    "\n",
    "**ВЫВОД:**\n",
    "1. Качество обученной модели достаточное."
   ]
  }
 ],
 "metadata": {
  "ExecuteTimeLog": [
   {
    "duration": 50,
    "start_time": "2025-04-28T18:24:59.659Z"
   },
   {
    "duration": 7,
    "start_time": "2025-04-28T18:26:05.222Z"
   },
   {
    "duration": 6507,
    "start_time": "2025-04-28T18:26:32.506Z"
   },
   {
    "duration": 7067,
    "start_time": "2025-04-28T18:26:39.016Z"
   },
   {
    "duration": 1363,
    "start_time": "2025-04-28T18:26:46.085Z"
   },
   {
    "duration": 70,
    "start_time": "2025-04-28T18:26:47.451Z"
   },
   {
    "duration": 15,
    "start_time": "2025-04-28T18:26:47.523Z"
   },
   {
    "duration": 12,
    "start_time": "2025-04-28T18:26:47.540Z"
   },
   {
    "duration": 6,
    "start_time": "2025-04-28T18:26:47.554Z"
   },
   {
    "duration": 20,
    "start_time": "2025-04-28T18:26:47.562Z"
   },
   {
    "duration": 8,
    "start_time": "2025-04-28T18:26:47.584Z"
   },
   {
    "duration": 15,
    "start_time": "2025-04-28T18:26:47.594Z"
   },
   {
    "duration": 9,
    "start_time": "2025-04-28T18:26:55.178Z"
   },
   {
    "duration": 123,
    "start_time": "2025-04-28T18:27:02.454Z"
   },
   {
    "duration": 20,
    "start_time": "2025-04-28T18:28:43.114Z"
   },
   {
    "duration": 429,
    "start_time": "2025-04-28T18:29:14.690Z"
   },
   {
    "duration": 892,
    "start_time": "2025-04-28T18:29:22.114Z"
   },
   {
    "duration": 36,
    "start_time": "2025-04-28T18:33:34.285Z"
   },
   {
    "duration": 23,
    "start_time": "2025-04-28T18:33:43.590Z"
   },
   {
    "duration": 14,
    "start_time": "2025-04-28T18:34:02.097Z"
   },
   {
    "duration": 881,
    "start_time": "2025-04-28T18:34:05.645Z"
   },
   {
    "duration": 52,
    "start_time": "2025-04-29T12:19:02.826Z"
   },
   {
    "duration": 5852,
    "start_time": "2025-04-29T12:20:07.581Z"
   },
   {
    "duration": 7235,
    "start_time": "2025-04-29T12:20:13.435Z"
   },
   {
    "duration": 1675,
    "start_time": "2025-04-29T12:20:20.672Z"
   },
   {
    "duration": 75,
    "start_time": "2025-04-29T12:20:22.349Z"
   },
   {
    "duration": 13,
    "start_time": "2025-04-29T12:20:22.425Z"
   },
   {
    "duration": 28,
    "start_time": "2025-04-29T12:20:22.440Z"
   },
   {
    "duration": 31,
    "start_time": "2025-04-29T12:20:22.470Z"
   },
   {
    "duration": 51,
    "start_time": "2025-04-29T12:20:22.503Z"
   },
   {
    "duration": 19,
    "start_time": "2025-04-29T12:20:22.556Z"
   },
   {
    "duration": 15,
    "start_time": "2025-04-29T12:20:22.578Z"
   },
   {
    "duration": 16,
    "start_time": "2025-04-29T12:21:09.262Z"
   },
   {
    "duration": 1056,
    "start_time": "2025-04-29T12:21:12.042Z"
   },
   {
    "duration": 310,
    "start_time": "2025-04-29T12:21:15.953Z"
   },
   {
    "duration": 313,
    "start_time": "2025-04-29T12:27:44.601Z"
   },
   {
    "duration": 215,
    "start_time": "2025-04-29T12:27:49.025Z"
   },
   {
    "duration": 302,
    "start_time": "2025-04-29T12:28:51.895Z"
   },
   {
    "duration": 183,
    "start_time": "2025-04-29T12:28:55.145Z"
   },
   {
    "duration": 183,
    "start_time": "2025-04-29T12:29:09.741Z"
   },
   {
    "duration": 179,
    "start_time": "2025-04-29T12:29:12.217Z"
   },
   {
    "duration": 251,
    "start_time": "2025-04-29T12:29:25.389Z"
   },
   {
    "duration": 253,
    "start_time": "2025-04-29T12:30:04.721Z"
   },
   {
    "duration": 210,
    "start_time": "2025-04-29T12:30:59.033Z"
   },
   {
    "duration": 213,
    "start_time": "2025-04-29T12:31:02.253Z"
   },
   {
    "duration": 305,
    "start_time": "2025-04-29T12:32:29.633Z"
   },
   {
    "duration": 313,
    "start_time": "2025-04-29T12:34:10.804Z"
   },
   {
    "duration": 321,
    "start_time": "2025-04-29T12:34:13.901Z"
   },
   {
    "duration": 345,
    "start_time": "2025-04-29T12:35:06.211Z"
   },
   {
    "duration": 481,
    "start_time": "2025-04-29T12:35:14.899Z"
   },
   {
    "duration": 357,
    "start_time": "2025-04-29T12:35:27.903Z"
   },
   {
    "duration": 1601,
    "start_time": "2025-04-29T12:37:55.463Z"
   },
   {
    "duration": 6,
    "start_time": "2025-04-29T12:42:34.878Z"
   },
   {
    "duration": 1583,
    "start_time": "2025-04-29T12:44:33.791Z"
   },
   {
    "duration": 1515,
    "start_time": "2025-04-29T12:44:52.077Z"
   },
   {
    "duration": 21,
    "start_time": "2025-04-29T12:49:33.932Z"
   },
   {
    "duration": 21,
    "start_time": "2025-04-29T12:50:03.953Z"
   },
   {
    "duration": 21,
    "start_time": "2025-04-29T12:50:12.004Z"
   },
   {
    "duration": 18,
    "start_time": "2025-04-29T12:52:01.419Z"
   },
   {
    "duration": 17,
    "start_time": "2025-04-29T12:52:04.791Z"
   },
   {
    "duration": 17,
    "start_time": "2025-04-29T12:52:12.347Z"
   },
   {
    "duration": 21,
    "start_time": "2025-04-29T12:52:57.518Z"
   },
   {
    "duration": 22,
    "start_time": "2025-04-29T12:53:00.858Z"
   },
   {
    "duration": 911,
    "start_time": "2025-04-29T13:10:54.645Z"
   },
   {
    "duration": 358,
    "start_time": "2025-04-29T13:11:15.169Z"
   },
   {
    "duration": 353,
    "start_time": "2025-04-29T13:11:25.334Z"
   },
   {
    "duration": 15,
    "start_time": "2025-04-29T13:13:45.266Z"
   },
   {
    "duration": 19,
    "start_time": "2025-04-29T13:13:47.938Z"
   },
   {
    "duration": 21,
    "start_time": "2025-04-29T13:14:05.067Z"
   },
   {
    "duration": 237,
    "start_time": "2025-04-29T13:14:15.042Z"
   },
   {
    "duration": 16,
    "start_time": "2025-04-29T13:18:13.351Z"
   },
   {
    "duration": 15,
    "start_time": "2025-04-29T13:18:16.524Z"
   },
   {
    "duration": 17,
    "start_time": "2025-04-29T13:18:30.847Z"
   },
   {
    "duration": 1234,
    "start_time": "2025-04-29T13:18:54.632Z"
   },
   {
    "duration": 1515,
    "start_time": "2025-04-29T13:18:57.672Z"
   },
   {
    "duration": 12,
    "start_time": "2025-04-29T13:20:00.224Z"
   },
   {
    "duration": 13,
    "start_time": "2025-04-29T13:20:03.244Z"
   },
   {
    "duration": 16,
    "start_time": "2025-04-29T13:20:43.027Z"
   },
   {
    "duration": 15,
    "start_time": "2025-04-29T13:20:55.432Z"
   },
   {
    "duration": 340,
    "start_time": "2025-04-29T13:20:58.967Z"
   },
   {
    "duration": 231,
    "start_time": "2025-04-29T13:21:26.232Z"
   },
   {
    "duration": 15,
    "start_time": "2025-04-29T13:21:30.951Z"
   },
   {
    "duration": 11,
    "start_time": "2025-04-29T13:21:49.763Z"
   },
   {
    "duration": 12,
    "start_time": "2025-04-29T13:22:58.535Z"
   },
   {
    "duration": 17,
    "start_time": "2025-04-29T13:23:01.199Z"
   },
   {
    "duration": 10,
    "start_time": "2025-04-29T13:23:19.191Z"
   },
   {
    "duration": 8,
    "start_time": "2025-04-29T13:23:45.583Z"
   },
   {
    "duration": 8,
    "start_time": "2025-04-29T13:23:48.555Z"
   },
   {
    "duration": 237,
    "start_time": "2025-04-29T13:23:51.703Z"
   },
   {
    "duration": 164,
    "start_time": "2025-04-29T13:25:36.567Z"
   },
   {
    "duration": 209,
    "start_time": "2025-04-29T13:25:46.106Z"
   },
   {
    "duration": 189,
    "start_time": "2025-04-29T13:25:48.746Z"
   },
   {
    "duration": 173,
    "start_time": "2025-04-29T13:27:09.235Z"
   },
   {
    "duration": 166,
    "start_time": "2025-04-29T13:27:11.711Z"
   },
   {
    "duration": 16,
    "start_time": "2025-04-29T13:27:57.367Z"
   },
   {
    "duration": 11,
    "start_time": "2025-04-29T13:28:00.578Z"
   },
   {
    "duration": 166,
    "start_time": "2025-04-29T13:28:07.142Z"
   },
   {
    "duration": 168,
    "start_time": "2025-04-29T13:30:34.150Z"
   },
   {
    "duration": 13,
    "start_time": "2025-04-29T13:32:52.174Z"
   },
   {
    "duration": 500,
    "start_time": "2025-04-29T13:33:10.069Z"
   },
   {
    "duration": 8,
    "start_time": "2025-04-29T13:35:35.401Z"
   },
   {
    "duration": 205,
    "start_time": "2025-04-29T13:36:12.669Z"
   },
   {
    "duration": 286,
    "start_time": "2025-04-29T13:37:03.933Z"
   },
   {
    "duration": 279,
    "start_time": "2025-04-29T13:37:56.902Z"
   },
   {
    "duration": 407,
    "start_time": "2025-04-29T13:38:00.518Z"
   },
   {
    "duration": 16,
    "start_time": "2025-04-29T13:39:15.301Z"
   },
   {
    "duration": 10,
    "start_time": "2025-04-29T13:44:54.462Z"
   },
   {
    "duration": 289,
    "start_time": "2025-04-29T13:45:00.006Z"
   },
   {
    "duration": 9,
    "start_time": "2025-04-29T13:45:13.246Z"
   },
   {
    "duration": 9,
    "start_time": "2025-04-29T13:45:29.310Z"
   },
   {
    "duration": 148,
    "start_time": "2025-04-29T13:45:34.228Z"
   },
   {
    "duration": 150,
    "start_time": "2025-04-29T13:45:54.708Z"
   },
   {
    "duration": 9,
    "start_time": "2025-04-29T13:46:07.619Z"
   },
   {
    "duration": 17,
    "start_time": "2025-04-29T13:46:46.884Z"
   },
   {
    "duration": 10,
    "start_time": "2025-04-29T13:47:08.533Z"
   },
   {
    "duration": 9,
    "start_time": "2025-04-29T13:47:10.289Z"
   },
   {
    "duration": 214,
    "start_time": "2025-04-29T13:47:28.701Z"
   },
   {
    "duration": 213,
    "start_time": "2025-04-29T13:47:31.345Z"
   },
   {
    "duration": 223,
    "start_time": "2025-04-29T13:48:04.250Z"
   },
   {
    "duration": 150,
    "start_time": "2025-04-29T13:48:21.213Z"
   },
   {
    "duration": 156,
    "start_time": "2025-04-29T13:48:24.182Z"
   },
   {
    "duration": 221,
    "start_time": "2025-04-29T13:48:34.701Z"
   },
   {
    "duration": 15,
    "start_time": "2025-04-29T16:43:44.162Z"
   },
   {
    "duration": 20,
    "start_time": "2025-04-29T16:43:53.570Z"
   },
   {
    "duration": 609,
    "start_time": "2025-04-29T16:44:26.719Z"
   },
   {
    "duration": 20,
    "start_time": "2025-04-29T16:45:35.695Z"
   },
   {
    "duration": 21,
    "start_time": "2025-04-29T16:45:42.159Z"
   },
   {
    "duration": 21,
    "start_time": "2025-04-29T16:46:36.259Z"
   },
   {
    "duration": 19,
    "start_time": "2025-04-29T16:46:38.793Z"
   },
   {
    "duration": 23,
    "start_time": "2025-04-29T16:46:49.338Z"
   },
   {
    "duration": 759,
    "start_time": "2025-04-29T16:47:18.403Z"
   },
   {
    "duration": 645,
    "start_time": "2025-04-29T16:47:21.119Z"
   },
   {
    "duration": 21,
    "start_time": "2025-04-29T16:51:12.167Z"
   },
   {
    "duration": 2819,
    "start_time": "2025-04-29T16:51:23.642Z"
   },
   {
    "duration": 3262,
    "start_time": "2025-04-29T16:51:26.463Z"
   },
   {
    "duration": 15,
    "start_time": "2025-04-29T16:51:29.727Z"
   },
   {
    "duration": 63,
    "start_time": "2025-04-29T16:51:29.744Z"
   },
   {
    "duration": 12,
    "start_time": "2025-04-29T16:51:29.809Z"
   },
   {
    "duration": 14,
    "start_time": "2025-04-29T16:51:29.823Z"
   },
   {
    "duration": 7,
    "start_time": "2025-04-29T16:51:29.838Z"
   },
   {
    "duration": 25,
    "start_time": "2025-04-29T16:51:29.846Z"
   },
   {
    "duration": 15,
    "start_time": "2025-04-29T16:51:29.873Z"
   },
   {
    "duration": 15,
    "start_time": "2025-04-29T16:51:29.906Z"
   },
   {
    "duration": 239,
    "start_time": "2025-04-29T16:51:29.922Z"
   },
   {
    "duration": 21,
    "start_time": "2025-04-29T16:51:30.163Z"
   },
   {
    "duration": 722,
    "start_time": "2025-04-29T16:51:30.186Z"
   },
   {
    "duration": 14,
    "start_time": "2025-04-29T16:51:30.911Z"
   },
   {
    "duration": 1099,
    "start_time": "2025-04-29T16:51:30.926Z"
   },
   {
    "duration": 364,
    "start_time": "2025-04-29T16:51:32.026Z"
   },
   {
    "duration": 22,
    "start_time": "2025-04-29T16:51:32.392Z"
   },
   {
    "duration": 243,
    "start_time": "2025-04-29T16:51:32.416Z"
   },
   {
    "duration": 13,
    "start_time": "2025-04-29T16:51:32.662Z"
   },
   {
    "duration": 514,
    "start_time": "2025-04-29T16:51:32.677Z"
   },
   {
    "duration": 14,
    "start_time": "2025-04-29T16:51:33.193Z"
   },
   {
    "duration": 261,
    "start_time": "2025-04-29T16:51:33.209Z"
   },
   {
    "duration": 73,
    "start_time": "2025-04-29T16:51:33.472Z"
   },
   {
    "duration": 14,
    "start_time": "2025-04-29T16:51:33.547Z"
   },
   {
    "duration": 0,
    "start_time": "2025-04-29T16:51:33.563Z"
   },
   {
    "duration": 0,
    "start_time": "2025-04-29T16:51:33.565Z"
   },
   {
    "duration": 0,
    "start_time": "2025-04-29T16:51:33.566Z"
   },
   {
    "duration": 0,
    "start_time": "2025-04-29T16:51:33.567Z"
   },
   {
    "duration": 0,
    "start_time": "2025-04-29T16:51:33.568Z"
   },
   {
    "duration": 0,
    "start_time": "2025-04-29T16:51:33.570Z"
   },
   {
    "duration": 21,
    "start_time": "2025-04-29T16:51:52.047Z"
   },
   {
    "duration": 69,
    "start_time": "2025-04-29T16:52:10.026Z"
   },
   {
    "duration": 11,
    "start_time": "2025-04-29T16:52:20.511Z"
   },
   {
    "duration": 39,
    "start_time": "2025-04-29T16:52:37.406Z"
   },
   {
    "duration": 33,
    "start_time": "2025-04-29T16:52:40.979Z"
   },
   {
    "duration": 13,
    "start_time": "2025-04-29T16:53:40.114Z"
   },
   {
    "duration": 7,
    "start_time": "2025-04-29T16:53:44.070Z"
   },
   {
    "duration": 6,
    "start_time": "2025-04-29T16:53:45.566Z"
   },
   {
    "duration": 11,
    "start_time": "2025-04-29T16:53:47.642Z"
   },
   {
    "duration": 9,
    "start_time": "2025-04-29T16:53:53.955Z"
   },
   {
    "duration": 22,
    "start_time": "2025-04-29T16:53:57.622Z"
   },
   {
    "duration": 20,
    "start_time": "2025-04-29T16:54:00.922Z"
   },
   {
    "duration": 14,
    "start_time": "2025-04-29T16:54:37.571Z"
   },
   {
    "duration": 15,
    "start_time": "2025-04-29T16:54:40.030Z"
   },
   {
    "duration": 1023717,
    "start_time": "2025-04-29T16:54:46.978Z"
   },
   {
    "duration": 14,
    "start_time": "2025-04-29T17:13:22.568Z"
   },
   {
    "duration": 9,
    "start_time": "2025-04-29T17:19:21.630Z"
   },
   {
    "duration": 13,
    "start_time": "2025-04-29T17:19:53.998Z"
   },
   {
    "duration": 14,
    "start_time": "2025-04-29T17:19:59.594Z"
   },
   {
    "duration": 13,
    "start_time": "2025-04-29T17:20:38.526Z"
   },
   {
    "duration": 2714,
    "start_time": "2025-04-29T17:34:08.613Z"
   },
   {
    "duration": 3346,
    "start_time": "2025-04-29T17:34:11.330Z"
   },
   {
    "duration": 1633,
    "start_time": "2025-04-29T17:34:14.678Z"
   },
   {
    "duration": 68,
    "start_time": "2025-04-29T17:34:16.314Z"
   },
   {
    "duration": 12,
    "start_time": "2025-04-29T17:34:16.384Z"
   },
   {
    "duration": 29,
    "start_time": "2025-04-29T17:34:16.398Z"
   },
   {
    "duration": 23,
    "start_time": "2025-04-29T17:34:16.429Z"
   },
   {
    "duration": 17,
    "start_time": "2025-04-29T17:34:16.453Z"
   },
   {
    "duration": 9,
    "start_time": "2025-04-29T17:34:16.472Z"
   },
   {
    "duration": 19,
    "start_time": "2025-04-29T17:34:16.484Z"
   },
   {
    "duration": 94,
    "start_time": "2025-04-29T17:34:16.505Z"
   },
   {
    "duration": 1077,
    "start_time": "2025-04-29T17:34:16.601Z"
   },
   {
    "duration": 426,
    "start_time": "2025-04-29T17:34:17.680Z"
   },
   {
    "duration": 17,
    "start_time": "2025-04-29T17:34:18.108Z"
   },
   {
    "duration": 233,
    "start_time": "2025-04-29T17:34:18.127Z"
   },
   {
    "duration": 13,
    "start_time": "2025-04-29T17:34:18.361Z"
   },
   {
    "duration": 520,
    "start_time": "2025-04-29T17:34:18.376Z"
   },
   {
    "duration": 13,
    "start_time": "2025-04-29T17:34:18.898Z"
   },
   {
    "duration": 324,
    "start_time": "2025-04-29T17:34:18.913Z"
   },
   {
    "duration": 38,
    "start_time": "2025-04-29T17:34:19.239Z"
   },
   {
    "duration": 89,
    "start_time": "2025-04-29T17:34:19.278Z"
   },
   {
    "duration": 24,
    "start_time": "2025-04-29T17:34:19.369Z"
   },
   {
    "duration": 13,
    "start_time": "2025-04-29T17:34:19.395Z"
   },
   {
    "duration": 8,
    "start_time": "2025-04-29T17:34:19.411Z"
   },
   {
    "duration": 40,
    "start_time": "2025-04-29T17:34:19.421Z"
   },
   {
    "duration": 20,
    "start_time": "2025-04-29T17:34:19.463Z"
   },
   {
    "duration": 148,
    "start_time": "2025-04-29T17:34:19.485Z"
   },
   {
    "duration": 1030018,
    "start_time": "2025-04-29T17:34:19.637Z"
   },
   {
    "duration": 15,
    "start_time": "2025-04-29T17:51:29.656Z"
   }
  ],
  "kernelspec": {
   "display_name": "Python 3 (ipykernel)",
   "language": "python",
   "name": "python3"
  },
  "language_info": {
   "codemirror_mode": {
    "name": "ipython",
    "version": 3
   },
   "file_extension": ".py",
   "mimetype": "text/x-python",
   "name": "python",
   "nbconvert_exporter": "python",
   "pygments_lexer": "ipython3",
   "version": "3.13.1"
  },
  "toc": {
   "base_numbering": 1,
   "nav_menu": {},
   "number_sections": true,
   "sideBar": true,
   "skip_h1_title": false,
   "title_cell": "Table of Contents",
   "title_sidebar": "Contents",
   "toc_cell": false,
   "toc_position": {
    "height": "calc(100% - 180px)",
    "left": "10px",
    "top": "150px",
    "width": "211px"
   },
   "toc_section_display": true,
   "toc_window_display": true
  }
 },
 "nbformat": 4,
 "nbformat_minor": 5
}
